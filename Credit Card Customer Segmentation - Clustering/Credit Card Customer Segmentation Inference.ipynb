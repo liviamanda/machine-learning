{
 "cells": [
  {
   "cell_type": "markdown",
   "metadata": {},
   "source": [
    "## **Credit Card Customer Segmentation**"
   ]
  },
  {
   "cell_type": "markdown",
   "metadata": {},
   "source": [
    "### **A. Introduction**"
   ]
  },
  {
   "cell_type": "markdown",
   "metadata": {},
   "source": [
    "- **Name**  : Livia Amanda Annafiah\n",
    "- **Dataset** : Credit Card Information"
   ]
  },
  {
   "cell_type": "markdown",
   "metadata": {},
   "source": [
    "---------------------\n",
    "\n",
    "**Problem Statement**\n",
    "\n",
    "A bank company struggles to effectively target and understand its diverse customer base due to a lack of insights into their specific needs and preferences. Therefore, they wanted to do Customer Segmentation from a data credit information. This data contains information about the credit card user from the last 6 months, including balance, spending patterns, credit limits, payment behavior, and other details.\n",
    "\n",
    " To overcome this challenge, the company requires a model capable of clustering customers based on their credit-related activities and characteristics."
   ]
  },
  {
   "cell_type": "markdown",
   "metadata": {},
   "source": [
    "**Objective**\n",
    "\n",
    "This project aims to develop a clustering model using `K-Means` and `K-Prototypes` algorithms to segment customers based on their credit-related activities and characteristics. The goal is to identify distinct customer groups with similar behaviors and preferences, enabling the bank company to tailor their services and marketing strategies more effectively.\n",
    "\n",
    "This notebook focuses on clustering inference data."
   ]
  },
  {
   "cell_type": "markdown",
   "metadata": {},
   "source": [
    "### **B. Libraries**"
   ]
  },
  {
   "cell_type": "markdown",
   "metadata": {},
   "source": [
    "The libraries used to test the model are as follows:"
   ]
  },
  {
   "cell_type": "code",
   "execution_count": 1,
   "metadata": {},
   "outputs": [],
   "source": [
    "# Import Library\n",
    "import pandas as pd\n",
    "import pickle\n",
    "import json"
   ]
  },
  {
   "cell_type": "markdown",
   "metadata": {},
   "source": [
    "**Libraries Function**\n",
    "- pandas: data manipulation\n",
    "- pickle: loading model\n",
    "- json: reading json files"
   ]
  },
  {
   "cell_type": "markdown",
   "metadata": {},
   "source": [
    "### **C. Data Loading**"
   ]
  },
  {
   "cell_type": "markdown",
   "metadata": {},
   "source": [
    "The initial step involves loading the model and the inference data, which have been previously separated from the model training file."
   ]
  },
  {
   "cell_type": "code",
   "execution_count": 2,
   "metadata": {},
   "outputs": [],
   "source": [
    "# Load model and related files\n",
    "with open('km.pkl', 'rb') as model_file:\n",
    "    km = pickle.load(model_file)\n",
    "\n",
    "with open('scaler.pkl', 'rb') as minmax_file:\n",
    "    scaler = pickle.load(minmax_file)\n",
    "\n",
    "with open('pca.pkl', 'rb') as pca_file:\n",
    "    pca = pickle.load(pca_file)\n",
    "\n",
    "with open('num.json', 'r') as num_std_file:\n",
    "    num = json.load(num_std_file)"
   ]
  },
  {
   "cell_type": "code",
   "execution_count": 3,
   "metadata": {},
   "outputs": [
    {
     "data": {
      "text/html": [
       "<div>\n",
       "<style scoped>\n",
       "    .dataframe tbody tr th:only-of-type {\n",
       "        vertical-align: middle;\n",
       "    }\n",
       "\n",
       "    .dataframe tbody tr th {\n",
       "        vertical-align: top;\n",
       "    }\n",
       "\n",
       "    .dataframe thead th {\n",
       "        text-align: right;\n",
       "    }\n",
       "</style>\n",
       "<table border=\"1\" class=\"dataframe\">\n",
       "  <thead>\n",
       "    <tr style=\"text-align: right;\">\n",
       "      <th></th>\n",
       "      <th>CUST_ID</th>\n",
       "      <th>BALANCE</th>\n",
       "      <th>BALANCE_FREQUENCY</th>\n",
       "      <th>PURCHASES</th>\n",
       "      <th>ONEOFF_PURCHASES</th>\n",
       "      <th>INSTALLMENTS_PURCHASES</th>\n",
       "      <th>CASH_ADVANCE</th>\n",
       "      <th>PURCHASES_FREQUENCY</th>\n",
       "      <th>ONEOFF_PURCHASES_FREQUENCY</th>\n",
       "      <th>PURCHASES_INSTALLMENTS_FREQUENCY</th>\n",
       "      <th>CASH_ADVANCE_FREQUENCY</th>\n",
       "      <th>CASH_ADVANCE_TRX</th>\n",
       "      <th>PURCHASES_TRX</th>\n",
       "      <th>CREDIT_LIMIT</th>\n",
       "      <th>PAYMENTS</th>\n",
       "      <th>MINIMUM_PAYMENTS</th>\n",
       "      <th>PRC_FULL_PAYMENT</th>\n",
       "      <th>TENURE</th>\n",
       "    </tr>\n",
       "  </thead>\n",
       "  <tbody>\n",
       "    <tr>\n",
       "      <th>0</th>\n",
       "      <td>1</td>\n",
       "      <td>5000</td>\n",
       "      <td>0.95</td>\n",
       "      <td>1200</td>\n",
       "      <td>800</td>\n",
       "      <td>400</td>\n",
       "      <td>300</td>\n",
       "      <td>0.6</td>\n",
       "      <td>0.4</td>\n",
       "      <td>0.2</td>\n",
       "      <td>0.1</td>\n",
       "      <td>1</td>\n",
       "      <td>12</td>\n",
       "      <td>3000</td>\n",
       "      <td>1500</td>\n",
       "      <td>1000</td>\n",
       "      <td>0.3</td>\n",
       "      <td>8</td>\n",
       "    </tr>\n",
       "  </tbody>\n",
       "</table>\n",
       "</div>"
      ],
      "text/plain": [
       "   CUST_ID  BALANCE  BALANCE_FREQUENCY  PURCHASES  ONEOFF_PURCHASES  \\\n",
       "0        1     5000               0.95       1200               800   \n",
       "\n",
       "   INSTALLMENTS_PURCHASES  CASH_ADVANCE  PURCHASES_FREQUENCY  \\\n",
       "0                     400           300                  0.6   \n",
       "\n",
       "   ONEOFF_PURCHASES_FREQUENCY  PURCHASES_INSTALLMENTS_FREQUENCY  \\\n",
       "0                         0.4                               0.2   \n",
       "\n",
       "   CASH_ADVANCE_FREQUENCY  CASH_ADVANCE_TRX  PURCHASES_TRX  CREDIT_LIMIT  \\\n",
       "0                     0.1                 1             12          3000   \n",
       "\n",
       "   PAYMENTS  MINIMUM_PAYMENTS  PRC_FULL_PAYMENT  TENURE  \n",
       "0      1500              1000               0.3       8  "
      ]
     },
     "execution_count": 3,
     "metadata": {},
     "output_type": "execute_result"
    }
   ],
   "source": [
    "# Create a dictionary with the data\n",
    "data = {'CUST_ID': [1],\n",
    "        'BALANCE': [5000],\n",
    "        'BALANCE_FREQUENCY': [0.95],\n",
    "        'PURCHASES': [1200],\n",
    "        'ONEOFF_PURCHASES': [800],\n",
    "        'INSTALLMENTS_PURCHASES': [400],\n",
    "        'CASH_ADVANCE': [300],\n",
    "        'PURCHASES_FREQUENCY': [0.6],\n",
    "        'ONEOFF_PURCHASES_FREQUENCY': [0.4],\n",
    "        'PURCHASES_INSTALLMENTS_FREQUENCY': [0.2],\n",
    "        'CASH_ADVANCE_FREQUENCY': [0.1],\n",
    "        'CASH_ADVANCE_TRX': [1],\n",
    "        'PURCHASES_TRX': [12],\n",
    "        'CREDIT_LIMIT': [3000],\n",
    "        'PAYMENTS': [1500],\n",
    "        'MINIMUM_PAYMENTS': [1000],\n",
    "        'PRC_FULL_PAYMENT': [0.3],\n",
    "        'TENURE': [8]}\n",
    "\n",
    "# Create the DataFrame\n",
    "df_inf = pd.DataFrame(data)\n",
    "\n",
    "# Print the DataFrame\n",
    "df_inf"
   ]
  },
  {
   "cell_type": "markdown",
   "metadata": {},
   "source": [
    "### **D. Data Splitting**"
   ]
  },
  {
   "cell_type": "markdown",
   "metadata": {},
   "source": [
    "After loading the data, only the numerical columns are extracted and saved to a variable since K-Means only processes numerical data."
   ]
  },
  {
   "cell_type": "code",
   "execution_count": 4,
   "metadata": {},
   "outputs": [
    {
     "data": {
      "text/html": [
       "<div>\n",
       "<style scoped>\n",
       "    .dataframe tbody tr th:only-of-type {\n",
       "        vertical-align: middle;\n",
       "    }\n",
       "\n",
       "    .dataframe tbody tr th {\n",
       "        vertical-align: top;\n",
       "    }\n",
       "\n",
       "    .dataframe thead th {\n",
       "        text-align: right;\n",
       "    }\n",
       "</style>\n",
       "<table border=\"1\" class=\"dataframe\">\n",
       "  <thead>\n",
       "    <tr style=\"text-align: right;\">\n",
       "      <th></th>\n",
       "      <th>BALANCE</th>\n",
       "      <th>PURCHASES</th>\n",
       "      <th>ONEOFF_PURCHASES</th>\n",
       "      <th>INSTALLMENTS_PURCHASES</th>\n",
       "      <th>CASH_ADVANCE</th>\n",
       "      <th>CASH_ADVANCE_TRX</th>\n",
       "      <th>PURCHASES_TRX</th>\n",
       "      <th>CREDIT_LIMIT</th>\n",
       "      <th>PAYMENTS</th>\n",
       "      <th>MINIMUM_PAYMENTS</th>\n",
       "      <th>PRC_FULL_PAYMENT</th>\n",
       "      <th>TENURE</th>\n",
       "    </tr>\n",
       "  </thead>\n",
       "  <tbody>\n",
       "    <tr>\n",
       "      <th>0</th>\n",
       "      <td>5000</td>\n",
       "      <td>1200</td>\n",
       "      <td>800</td>\n",
       "      <td>400</td>\n",
       "      <td>300</td>\n",
       "      <td>1</td>\n",
       "      <td>12</td>\n",
       "      <td>3000</td>\n",
       "      <td>1500</td>\n",
       "      <td>1000</td>\n",
       "      <td>0.3</td>\n",
       "      <td>8</td>\n",
       "    </tr>\n",
       "  </tbody>\n",
       "</table>\n",
       "</div>"
      ],
      "text/plain": [
       "   BALANCE  PURCHASES  ONEOFF_PURCHASES  INSTALLMENTS_PURCHASES  CASH_ADVANCE  \\\n",
       "0     5000       1200               800                     400           300   \n",
       "\n",
       "   CASH_ADVANCE_TRX  PURCHASES_TRX  CREDIT_LIMIT  PAYMENTS  MINIMUM_PAYMENTS  \\\n",
       "0                 1             12          3000      1500              1000   \n",
       "\n",
       "   PRC_FULL_PAYMENT  TENURE  \n",
       "0               0.3       8  "
      ]
     },
     "execution_count": 4,
     "metadata": {},
     "output_type": "execute_result"
    }
   ],
   "source": [
    "# Split between numerical and categorical column\n",
    "df_inf_num = df_inf[num]\n",
    "df_inf_num"
   ]
  },
  {
   "cell_type": "markdown",
   "metadata": {},
   "source": [
    "### **E. Feature Engineering**"
   ]
  },
  {
   "cell_type": "markdown",
   "metadata": {},
   "source": [
    "Before predicting the cluster, the data needs to be preprocessed, which includes scaling to standardize the values and applying PCA to reduce dimensions."
   ]
  },
  {
   "cell_type": "code",
   "execution_count": 5,
   "metadata": {},
   "outputs": [
    {
     "data": {
      "text/plain": [
       "array([[0.63963283, 0.27965509, 0.34769306, 0.21935357, 0.06585372,\n",
       "        0.0625    , 0.18461538, 0.13947991, 0.23021505, 0.12792657,\n",
       "        0.6       , 0.33333333]])"
      ]
     },
     "execution_count": 5,
     "metadata": {},
     "output_type": "execute_result"
    }
   ],
   "source": [
    "# Feature scaling\n",
    "df_inf_scaled = scaler.transform(df_inf_num)\n",
    "df_inf_scaled"
   ]
  },
  {
   "cell_type": "code",
   "execution_count": 6,
   "metadata": {},
   "outputs": [
    {
     "data": {
      "text/plain": [
       "array([[ 0.21598301, -0.0891054 ,  0.23058979, -0.10808656,  0.2235182 ,\n",
       "         0.63001161]])"
      ]
     },
     "execution_count": 6,
     "metadata": {},
     "output_type": "execute_result"
    }
   ],
   "source": [
    "## Dimensionality reduction using PCA\n",
    "data_inf_scaled_pca = pca.transform(df_inf_scaled)\n",
    "data_inf_scaled_pca"
   ]
  },
  {
   "cell_type": "markdown",
   "metadata": {},
   "source": [
    "### **F. Cluster Prediction**"
   ]
  },
  {
   "cell_type": "markdown",
   "metadata": {},
   "source": [
    "Finally, the prepared model can be applied to the processed inference data to generate predictions."
   ]
  },
  {
   "cell_type": "code",
   "execution_count": 7,
   "metadata": {},
   "outputs": [
    {
     "name": "stdout",
     "output_type": "stream",
     "text": [
      "Cluster: Financially Disciplined Users\n"
     ]
    }
   ],
   "source": [
    "# Predict cluster\n",
    "cluster_df_inf = km.predict(data_inf_scaled_pca)\n",
    "\n",
    "if cluster_df_inf == 0:\n",
    "    cluster_df_inf = 'Credit-Reliant Users'\n",
    "elif cluster_df_inf == 1:\n",
    "    cluster_df_inf = 'Minimalist Users'\n",
    "elif cluster_df_inf == 2:\n",
    "    cluster_df_inf = 'High Rollers Users'\n",
    "elif cluster_df_inf == 3:\n",
    "    cluster_df_inf = 'Financially Disciplined Users'\n",
    "    \n",
    "# Show result\n",
    "print('Cluster:', cluster_df_inf)"
   ]
  },
  {
   "cell_type": "markdown",
   "metadata": {},
   "source": [
    "### **G. Conclusion**"
   ]
  },
  {
   "cell_type": "markdown",
   "metadata": {},
   "source": [
    "It can be inferred that the customer is part of Cluster 3, representing customer who exhibit financial discipline, paying off balances quickly or using credit cards sparingly to avoid debt. This demonstrates the successful prediction of the customer's cluster by the model."
   ]
  }
 ],
 "metadata": {
  "kernelspec": {
   "display_name": "hacktive",
   "language": "python",
   "name": "python3"
  },
  "language_info": {
   "codemirror_mode": {
    "name": "ipython",
    "version": 3
   },
   "file_extension": ".py",
   "mimetype": "text/x-python",
   "name": "python",
   "nbconvert_exporter": "python",
   "pygments_lexer": "ipython3",
   "version": "3.9.18"
  }
 },
 "nbformat": 4,
 "nbformat_minor": 2
}
