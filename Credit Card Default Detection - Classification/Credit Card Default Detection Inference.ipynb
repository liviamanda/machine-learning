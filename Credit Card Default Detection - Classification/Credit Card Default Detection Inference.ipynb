{
 "cells": [
  {
   "cell_type": "markdown",
   "metadata": {},
   "source": [
    "## **Graded Challenge 5**"
   ]
  },
  {
   "cell_type": "markdown",
   "metadata": {},
   "source": [
    "### **A. Introduction**"
   ]
  },
  {
   "cell_type": "markdown",
   "metadata": {},
   "source": [
    "- **Name**  : Livia Amanda Annafiah\n",
    "- **Batch** : BSD-005\n",
    "- **Dataset** : [Credit Card Default](https://console.cloud.google.com/bigquery?p=bigquery-public-data&d=ml_datasets&t=credit_card_default&page=table&project=hacktiv8-sql-417802&ws=!1m9!1m3!3m2!1sbigquery-public-data!2sml_datasets!1m4!4m3!1sbigquery-public-data!2sml_datasets!3scredit_card_default)"
   ]
  },
  {
   "cell_type": "markdown",
   "metadata": {},
   "source": [
    "---------------------\n",
    "\n",
    "**Problem Statement**\n",
    "\n",
    "The company struggles to assess credit risks accurately, requiring an advanced model to **predict default probabilities** in upcoming periods. Default occurs when borrowers fail to meet credit card payments, leading to financial losses, increased costs for recovery efforts, and can hurt company's reputation.\n",
    "\n",
    "To address these challenges, the company needs an advanced predictive model that can forecast default probabilities for borrowers in the upcoming periods. By accurately predicting default risks, the company can take proactive measures to minimize losses, manage risks effectively, and improve overall financial stability and performance."
   ]
  },
  {
   "cell_type": "markdown",
   "metadata": {},
   "source": [
    "**Objective**\n",
    "\n",
    "This project aims to to develop a classification model using `K-Nearest Neighbors (KNN)`, `Support Vector Machine (SVM)`, and `Logistic Regression` algorithms to forecast credit card defaults for the next month. The evaluation metric employed for model performance assessment is the `Recall` to calculate each model's performance.\n",
    "\n",
    "This notebook is to test the model's inference capabilities using the model that has been developed."
   ]
  },
  {
   "cell_type": "markdown",
   "metadata": {},
   "source": [
    "### **B. Libraries**"
   ]
  },
  {
   "cell_type": "markdown",
   "metadata": {},
   "source": [
    "The libraries used to test the model are as follows:"
   ]
  },
  {
   "cell_type": "code",
   "execution_count": 1,
   "metadata": {},
   "outputs": [],
   "source": [
    "# Import Library\n",
    "import pandas as pd\n",
    "import pickle"
   ]
  },
  {
   "cell_type": "markdown",
   "metadata": {},
   "source": [
    "**Libraries Function**\n",
    "- pandas: data manipulation\n",
    "- pickle: loading model"
   ]
  },
  {
   "cell_type": "markdown",
   "metadata": {},
   "source": [
    "### **C. Data Loading**"
   ]
  },
  {
   "cell_type": "markdown",
   "metadata": {},
   "source": [
    "The initial step involves loading the model and the inference data, which have been previously separated from the model training file."
   ]
  },
  {
   "cell_type": "code",
   "execution_count": 2,
   "metadata": {},
   "outputs": [],
   "source": [
    "# Load model\n",
    "with open('best_svm_model.pkl', 'rb') as model_file:\n",
    "    model = pickle.load(model_file)"
   ]
  },
  {
   "cell_type": "code",
   "execution_count": 3,
   "metadata": {},
   "outputs": [
    {
     "data": {
      "text/html": [
       "<div>\n",
       "<style scoped>\n",
       "    .dataframe tbody tr th:only-of-type {\n",
       "        vertical-align: middle;\n",
       "    }\n",
       "\n",
       "    .dataframe tbody tr th {\n",
       "        vertical-align: top;\n",
       "    }\n",
       "\n",
       "    .dataframe thead th {\n",
       "        text-align: right;\n",
       "    }\n",
       "</style>\n",
       "<table border=\"1\" class=\"dataframe\">\n",
       "  <thead>\n",
       "    <tr style=\"text-align: right;\">\n",
       "      <th></th>\n",
       "      <th>Unnamed: 0</th>\n",
       "      <th>limit_balance</th>\n",
       "      <th>sex</th>\n",
       "      <th>education_level</th>\n",
       "      <th>marital_status</th>\n",
       "      <th>age</th>\n",
       "      <th>pay_0</th>\n",
       "      <th>pay_2</th>\n",
       "      <th>pay_3</th>\n",
       "      <th>pay_4</th>\n",
       "      <th>...</th>\n",
       "      <th>bill_amt_3</th>\n",
       "      <th>bill_amt_4</th>\n",
       "      <th>bill_amt_5</th>\n",
       "      <th>bill_amt_6</th>\n",
       "      <th>pay_amt_1</th>\n",
       "      <th>pay_amt_2</th>\n",
       "      <th>pay_amt_3</th>\n",
       "      <th>pay_amt_4</th>\n",
       "      <th>pay_amt_5</th>\n",
       "      <th>pay_amt_6</th>\n",
       "    </tr>\n",
       "  </thead>\n",
       "  <tbody>\n",
       "    <tr>\n",
       "      <th>0</th>\n",
       "      <td>0</td>\n",
       "      <td>160000.0</td>\n",
       "      <td>2</td>\n",
       "      <td>2</td>\n",
       "      <td>1</td>\n",
       "      <td>29.0</td>\n",
       "      <td>-1.0</td>\n",
       "      <td>-1.0</td>\n",
       "      <td>-1.0</td>\n",
       "      <td>-1.0</td>\n",
       "      <td>...</td>\n",
       "      <td>5816.0</td>\n",
       "      <td>5414.0</td>\n",
       "      <td>615.0</td>\n",
       "      <td>25072.0</td>\n",
       "      <td>2122.0</td>\n",
       "      <td>5822.0</td>\n",
       "      <td>5524.0</td>\n",
       "      <td>615.0</td>\n",
       "      <td>25139.0</td>\n",
       "      <td>2100.0</td>\n",
       "    </tr>\n",
       "  </tbody>\n",
       "</table>\n",
       "<p>1 rows × 24 columns</p>\n",
       "</div>"
      ],
      "text/plain": [
       "   Unnamed: 0  limit_balance  sex  education_level  marital_status   age  \\\n",
       "0           0       160000.0    2                2               1  29.0   \n",
       "\n",
       "   pay_0  pay_2  pay_3  pay_4  ...  bill_amt_3  bill_amt_4  bill_amt_5  \\\n",
       "0   -1.0   -1.0   -1.0   -1.0  ...      5816.0      5414.0       615.0   \n",
       "\n",
       "   bill_amt_6  pay_amt_1  pay_amt_2  pay_amt_3  pay_amt_4  pay_amt_5  \\\n",
       "0     25072.0     2122.0     5822.0     5524.0      615.0    25139.0   \n",
       "\n",
       "   pay_amt_6  \n",
       "0     2100.0  \n",
       "\n",
       "[1 rows x 24 columns]"
      ]
     },
     "execution_count": 3,
     "metadata": {},
     "output_type": "execute_result"
    }
   ],
   "source": [
    "# Load data inference\n",
    "df_inf = pd.read_csv('data_inf.csv')\n",
    "\n",
    "df_inf"
   ]
  },
  {
   "cell_type": "markdown",
   "metadata": {},
   "source": [
    "### **D. Model Prediction**"
   ]
  },
  {
   "cell_type": "markdown",
   "metadata": {},
   "source": [
    "Since the model handles preprocessing within the pipeline, there's no need to separately preprocess the data. The next step is simply using the saved model for making predictions."
   ]
  },
  {
   "cell_type": "code",
   "execution_count": 6,
   "metadata": {},
   "outputs": [
    {
     "name": "stdout",
     "output_type": "stream",
     "text": [
      "Default Prediction: Non-Default\n"
     ]
    }
   ],
   "source": [
    "# Predict using best SVM\n",
    "y_pred_inf = model.predict(df_inf)\n",
    "\n",
    "if y_pred_inf == 0:\n",
    "    print('Default Prediction: Non-Default')\n",
    "elif y_pred_inf == 1:\n",
    "    print('Default Prediction: Default')"
   ]
  },
  {
   "cell_type": "markdown",
   "metadata": {},
   "source": [
    "### **E. Conclusion**"
   ]
  },
  {
   "cell_type": "markdown",
   "metadata": {},
   "source": [
    "The model accurately predicts the default status of the raw data, as demonstrated by the example showing that the data is non-default."
   ]
  }
 ],
 "metadata": {
  "kernelspec": {
   "display_name": "hacktive",
   "language": "python",
   "name": "python3"
  },
  "language_info": {
   "codemirror_mode": {
    "name": "ipython",
    "version": 3
   },
   "file_extension": ".py",
   "mimetype": "text/x-python",
   "name": "python",
   "nbconvert_exporter": "python",
   "pygments_lexer": "ipython3",
   "version": "3.9.18"
  }
 },
 "nbformat": 4,
 "nbformat_minor": 2
}
