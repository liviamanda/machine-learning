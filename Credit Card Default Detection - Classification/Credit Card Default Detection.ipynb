{
 "cells": [
  {
   "cell_type": "markdown",
   "metadata": {},
   "source": [
    "## **Credit Card Default Detection**"
   ]
  },
  {
   "cell_type": "markdown",
   "metadata": {},
   "source": [
    "### **A. Introduction**"
   ]
  },
  {
   "cell_type": "markdown",
   "metadata": {},
   "source": [
    "- **Name**  : Livia Amanda Annafiah\n",
    "- **Dataset** : [Credit Card Default](https://console.cloud.google.com/bigquery?p=bigquery-public-data&d=ml_datasets&t=credit_card_default&page=table&project=hacktiv8-sql-417802&ws=!1m9!1m3!3m2!1sbigquery-public-data!2sml_datasets!1m4!4m3!1sbigquery-public-data!2sml_datasets!3scredit_card_default)"
   ]
  },
  {
   "cell_type": "markdown",
   "metadata": {},
   "source": [
    "---------------------\n",
    "\n",
    "**Problem Statement**\n",
    "\n",
    "The company struggles to assess credit risks accurately, requiring an advanced model to **predict default probabilities** in upcoming periods. Default occurs when borrowers fail to meet credit card payments, leading to financial losses, increased costs for recovery efforts, and can hurt company's reputation.\n",
    "\n",
    "To address these challenges, the company needs an advanced predictive model that can forecast default probabilities for borrowers in the upcoming periods. By accurately predicting default risks, the company can take proactive measures to minimize losses, manage risks effectively, and improve overall financial stability and performance."
   ]
  },
  {
   "cell_type": "markdown",
   "metadata": {},
   "source": [
    "**Objective**\n",
    "\n",
    "This project aims to to develop a classification model using `K-Nearest Neighbors (KNN)`, `Support Vector Machine (SVM)`, and `Logistic Regression` algorithms to forecast credit card defaults for the next month. The evaluation metric employed for model performance assessment is the `Recall` to calculate each model's performance."
   ]
  },
  {
   "cell_type": "markdown",
   "metadata": {},
   "source": [
    "### **B. Query SQL**"
   ]
  },
  {
   "cell_type": "markdown",
   "metadata": {},
   "source": [
    "These are the query used to load the dataset from Big Query and is converted to .csv to create the model in Visual Studio Code."
   ]
  },
  {
   "cell_type": "markdown",
   "metadata": {},
   "source": [
    "```sql\n",
    "from google.colab import auth\n",
    "from google.cloud import bigquery\n",
    "import pandas as pd\n",
    "\n",
    "auth.authenticate_user()\n",
    "print('Authenticated')\n",
    "\n",
    "project_id = \"hacktiv8-sql-417802\"\n",
    "client = bigquery.Client(project=project_id)\n",
    "\n",
    "df = client.query('''\n",
    "SELECT limit_balance, \n",
    "    CAST(sex AS INT64) AS sex,\n",
    "    CAST(education_level AS INT64) AS education_level,\n",
    "    CAST(marital_status AS INT64) AS marital_status,\n",
    "    age,\n",
    "    pay_0,\n",
    "    pay_2,\n",
    "    pay_3,\n",
    "    pay_4,\n",
    "    CAST(pay_5 AS FLOAT64) AS pay_5,\n",
    "    CAST(pay_6 AS FLOAT64) AS pay_6,\n",
    "    bill_amt_1,\n",
    "    bill_amt_2,\n",
    "    bill_amt_3,\n",
    "    bill_amt_4,\n",
    "    bill_amt_5,\n",
    "    bill_amt_6,\n",
    "    pay_amt_1,\n",
    "    pay_amt_2,\n",
    "    pay_amt_3,\n",
    "    pay_amt_4,\n",
    "    pay_amt_5,\n",
    "    pay_amt_6,\n",
    "    CAST(default_payment_next_month AS INT64) AS default_payment_next_month\n",
    "FROM `bigquery-public-data.ml_datasets.credit_card_default`\n",
    "LIMIT 10010\n",
    "''').to_dataframe()\n",
    "\n",
    "df.to_csv('P1G5_Set_1_livia_amanda.csv')\n",
    "```"
   ]
  },
  {
   "cell_type": "markdown",
   "metadata": {},
   "source": [
    "### **C. Libraries**"
   ]
  },
  {
   "cell_type": "markdown",
   "metadata": {},
   "source": [
    "The libraries used to develop the model are as follows:"
   ]
  },
  {
   "cell_type": "code",
   "execution_count": 1,
   "metadata": {},
   "outputs": [],
   "source": [
    "# Import libraries\n",
    "import pandas as pd\n",
    "import matplotlib.pyplot as plt\n",
    "import seaborn as sns\n",
    "import phik\n",
    "import pickle\n",
    "\n",
    "# Import libraries for data preprocessing\n",
    "from sklearn.model_selection import train_test_split\n",
    "from feature_engine.outliers import Winsorizer\n",
    "\n",
    "# Import libraries for model creation and evaluation\n",
    "from sklearn.neighbors import KNeighborsClassifier\n",
    "from sklearn.svm import SVC\n",
    "from sklearn.linear_model import LogisticRegression\n",
    "from sklearn.pipeline import make_pipeline\n",
    "from sklearn.compose import ColumnTransformer\n",
    "from sklearn.model_selection import GridSearchCV, cross_val_score\n",
    "from sklearn.metrics import recall_score, confusion_matrix, ConfusionMatrixDisplay"
   ]
  },
  {
   "cell_type": "markdown",
   "metadata": {},
   "source": [
    "**Libraries Function**\n",
    "- pandas: data manipulation and analysis\n",
    "- matplotlib : data visualization and statistical plotting\n",
    "- seaborn: data visualization and statistical plotting\n",
    "- phik: feature selection\n",
    "- pickle: saving model\n",
    "- sklearn: machine learning algorithms, model creation, feature engineering, and evaluation\n",
    "- feature engine: handling outliers"
   ]
  },
  {
   "cell_type": "markdown",
   "metadata": {},
   "source": [
    "### **D. Data Loading & Cleaning**"
   ]
  },
  {
   "cell_type": "markdown",
   "metadata": {},
   "source": [
    "In this section, the data is loaded and cleaned to make sure the analysis is based on accurate and reliable information."
   ]
  },
  {
   "cell_type": "markdown",
   "metadata": {},
   "source": [
    "#### **i. Data Loading**"
   ]
  },
  {
   "cell_type": "markdown",
   "metadata": {},
   "source": [
    "This part will concentrate on loading and exploring the data. Initially, the process starts with loading the data and taking a brief glance at its contents."
   ]
  },
  {
   "cell_type": "code",
   "execution_count": 2,
   "metadata": {},
   "outputs": [
    {
     "data": {
      "text/html": [
       "<div>\n",
       "<style scoped>\n",
       "    .dataframe tbody tr th:only-of-type {\n",
       "        vertical-align: middle;\n",
       "    }\n",
       "\n",
       "    .dataframe tbody tr th {\n",
       "        vertical-align: top;\n",
       "    }\n",
       "\n",
       "    .dataframe thead th {\n",
       "        text-align: right;\n",
       "    }\n",
       "</style>\n",
       "<table border=\"1\" class=\"dataframe\">\n",
       "  <thead>\n",
       "    <tr style=\"text-align: right;\">\n",
       "      <th></th>\n",
       "      <th>Unnamed: 0</th>\n",
       "      <th>limit_balance</th>\n",
       "      <th>sex</th>\n",
       "      <th>education_level</th>\n",
       "      <th>marital_status</th>\n",
       "      <th>age</th>\n",
       "      <th>pay_0</th>\n",
       "      <th>pay_2</th>\n",
       "      <th>pay_3</th>\n",
       "      <th>pay_4</th>\n",
       "      <th>...</th>\n",
       "      <th>bill_amt_4</th>\n",
       "      <th>bill_amt_5</th>\n",
       "      <th>bill_amt_6</th>\n",
       "      <th>pay_amt_1</th>\n",
       "      <th>pay_amt_2</th>\n",
       "      <th>pay_amt_3</th>\n",
       "      <th>pay_amt_4</th>\n",
       "      <th>pay_amt_5</th>\n",
       "      <th>pay_amt_6</th>\n",
       "      <th>default_payment_next_month</th>\n",
       "    </tr>\n",
       "  </thead>\n",
       "  <tbody>\n",
       "    <tr>\n",
       "      <th>0</th>\n",
       "      <td>0</td>\n",
       "      <td>80000.0</td>\n",
       "      <td>1</td>\n",
       "      <td>6</td>\n",
       "      <td>1</td>\n",
       "      <td>54.0</td>\n",
       "      <td>0.0</td>\n",
       "      <td>0.0</td>\n",
       "      <td>0.0</td>\n",
       "      <td>0.0</td>\n",
       "      <td>...</td>\n",
       "      <td>29296.0</td>\n",
       "      <td>26210.0</td>\n",
       "      <td>17643.0</td>\n",
       "      <td>2545.0</td>\n",
       "      <td>2208.0</td>\n",
       "      <td>1336.0</td>\n",
       "      <td>2232.0</td>\n",
       "      <td>542.0</td>\n",
       "      <td>348.0</td>\n",
       "      <td>1</td>\n",
       "    </tr>\n",
       "    <tr>\n",
       "      <th>1</th>\n",
       "      <td>1</td>\n",
       "      <td>200000.0</td>\n",
       "      <td>1</td>\n",
       "      <td>4</td>\n",
       "      <td>1</td>\n",
       "      <td>49.0</td>\n",
       "      <td>0.0</td>\n",
       "      <td>0.0</td>\n",
       "      <td>0.0</td>\n",
       "      <td>0.0</td>\n",
       "      <td>...</td>\n",
       "      <td>50146.0</td>\n",
       "      <td>50235.0</td>\n",
       "      <td>48984.0</td>\n",
       "      <td>1689.0</td>\n",
       "      <td>2164.0</td>\n",
       "      <td>2500.0</td>\n",
       "      <td>3480.0</td>\n",
       "      <td>2500.0</td>\n",
       "      <td>3000.0</td>\n",
       "      <td>0</td>\n",
       "    </tr>\n",
       "    <tr>\n",
       "      <th>2</th>\n",
       "      <td>2</td>\n",
       "      <td>20000.0</td>\n",
       "      <td>2</td>\n",
       "      <td>6</td>\n",
       "      <td>2</td>\n",
       "      <td>22.0</td>\n",
       "      <td>0.0</td>\n",
       "      <td>0.0</td>\n",
       "      <td>0.0</td>\n",
       "      <td>0.0</td>\n",
       "      <td>...</td>\n",
       "      <td>1434.0</td>\n",
       "      <td>500.0</td>\n",
       "      <td>0.0</td>\n",
       "      <td>4641.0</td>\n",
       "      <td>1019.0</td>\n",
       "      <td>900.0</td>\n",
       "      <td>0.0</td>\n",
       "      <td>1500.0</td>\n",
       "      <td>0.0</td>\n",
       "      <td>1</td>\n",
       "    </tr>\n",
       "    <tr>\n",
       "      <th>3</th>\n",
       "      <td>3</td>\n",
       "      <td>260000.0</td>\n",
       "      <td>2</td>\n",
       "      <td>4</td>\n",
       "      <td>2</td>\n",
       "      <td>33.0</td>\n",
       "      <td>0.0</td>\n",
       "      <td>0.0</td>\n",
       "      <td>0.0</td>\n",
       "      <td>0.0</td>\n",
       "      <td>...</td>\n",
       "      <td>27821.0</td>\n",
       "      <td>30767.0</td>\n",
       "      <td>29890.0</td>\n",
       "      <td>5000.0</td>\n",
       "      <td>5000.0</td>\n",
       "      <td>1137.0</td>\n",
       "      <td>5000.0</td>\n",
       "      <td>1085.0</td>\n",
       "      <td>5000.0</td>\n",
       "      <td>0</td>\n",
       "    </tr>\n",
       "    <tr>\n",
       "      <th>4</th>\n",
       "      <td>4</td>\n",
       "      <td>150000.0</td>\n",
       "      <td>1</td>\n",
       "      <td>4</td>\n",
       "      <td>2</td>\n",
       "      <td>32.0</td>\n",
       "      <td>0.0</td>\n",
       "      <td>0.0</td>\n",
       "      <td>0.0</td>\n",
       "      <td>-1.0</td>\n",
       "      <td>...</td>\n",
       "      <td>150464.0</td>\n",
       "      <td>143375.0</td>\n",
       "      <td>146411.0</td>\n",
       "      <td>4019.0</td>\n",
       "      <td>146896.0</td>\n",
       "      <td>157436.0</td>\n",
       "      <td>4600.0</td>\n",
       "      <td>4709.0</td>\n",
       "      <td>5600.0</td>\n",
       "      <td>0</td>\n",
       "    </tr>\n",
       "    <tr>\n",
       "      <th>5</th>\n",
       "      <td>5</td>\n",
       "      <td>300000.0</td>\n",
       "      <td>2</td>\n",
       "      <td>4</td>\n",
       "      <td>2</td>\n",
       "      <td>32.0</td>\n",
       "      <td>0.0</td>\n",
       "      <td>0.0</td>\n",
       "      <td>0.0</td>\n",
       "      <td>0.0</td>\n",
       "      <td>...</td>\n",
       "      <td>65150.0</td>\n",
       "      <td>-450.0</td>\n",
       "      <td>700.0</td>\n",
       "      <td>15235.0</td>\n",
       "      <td>1491.0</td>\n",
       "      <td>1303.0</td>\n",
       "      <td>0.0</td>\n",
       "      <td>2000.0</td>\n",
       "      <td>1400.0</td>\n",
       "      <td>0</td>\n",
       "    </tr>\n",
       "    <tr>\n",
       "      <th>6</th>\n",
       "      <td>6</td>\n",
       "      <td>130000.0</td>\n",
       "      <td>1</td>\n",
       "      <td>1</td>\n",
       "      <td>1</td>\n",
       "      <td>45.0</td>\n",
       "      <td>0.0</td>\n",
       "      <td>0.0</td>\n",
       "      <td>0.0</td>\n",
       "      <td>0.0</td>\n",
       "      <td>...</td>\n",
       "      <td>62377.0</td>\n",
       "      <td>63832.0</td>\n",
       "      <td>65099.0</td>\n",
       "      <td>2886.0</td>\n",
       "      <td>2908.0</td>\n",
       "      <td>2129.0</td>\n",
       "      <td>2354.0</td>\n",
       "      <td>2366.0</td>\n",
       "      <td>2291.0</td>\n",
       "      <td>0</td>\n",
       "    </tr>\n",
       "    <tr>\n",
       "      <th>7</th>\n",
       "      <td>7</td>\n",
       "      <td>200000.0</td>\n",
       "      <td>1</td>\n",
       "      <td>1</td>\n",
       "      <td>1</td>\n",
       "      <td>58.0</td>\n",
       "      <td>0.0</td>\n",
       "      <td>0.0</td>\n",
       "      <td>0.0</td>\n",
       "      <td>0.0</td>\n",
       "      <td>...</td>\n",
       "      <td>124647.0</td>\n",
       "      <td>126921.0</td>\n",
       "      <td>129167.0</td>\n",
       "      <td>7822.0</td>\n",
       "      <td>4417.0</td>\n",
       "      <td>4446.0</td>\n",
       "      <td>4597.0</td>\n",
       "      <td>4677.0</td>\n",
       "      <td>4698.0</td>\n",
       "      <td>0</td>\n",
       "    </tr>\n",
       "    <tr>\n",
       "      <th>8</th>\n",
       "      <td>8</td>\n",
       "      <td>500000.0</td>\n",
       "      <td>1</td>\n",
       "      <td>1</td>\n",
       "      <td>1</td>\n",
       "      <td>39.0</td>\n",
       "      <td>0.0</td>\n",
       "      <td>0.0</td>\n",
       "      <td>0.0</td>\n",
       "      <td>0.0</td>\n",
       "      <td>...</td>\n",
       "      <td>174500.0</td>\n",
       "      <td>137406.0</td>\n",
       "      <td>204975.0</td>\n",
       "      <td>54209.0</td>\n",
       "      <td>4607.0</td>\n",
       "      <td>4603.0</td>\n",
       "      <td>5224.0</td>\n",
       "      <td>207440.0</td>\n",
       "      <td>7509.0</td>\n",
       "      <td>0</td>\n",
       "    </tr>\n",
       "    <tr>\n",
       "      <th>9</th>\n",
       "      <td>9</td>\n",
       "      <td>230000.0</td>\n",
       "      <td>1</td>\n",
       "      <td>1</td>\n",
       "      <td>1</td>\n",
       "      <td>48.0</td>\n",
       "      <td>0.0</td>\n",
       "      <td>0.0</td>\n",
       "      <td>0.0</td>\n",
       "      <td>0.0</td>\n",
       "      <td>...</td>\n",
       "      <td>105508.0</td>\n",
       "      <td>108101.0</td>\n",
       "      <td>110094.0</td>\n",
       "      <td>7000.0</td>\n",
       "      <td>6607.0</td>\n",
       "      <td>3773.0</td>\n",
       "      <td>4290.0</td>\n",
       "      <td>4164.0</td>\n",
       "      <td>2000.0</td>\n",
       "      <td>0</td>\n",
       "    </tr>\n",
       "  </tbody>\n",
       "</table>\n",
       "<p>10 rows × 25 columns</p>\n",
       "</div>"
      ],
      "text/plain": [
       "   Unnamed: 0  limit_balance  sex  education_level  marital_status   age  \\\n",
       "0           0        80000.0    1                6               1  54.0   \n",
       "1           1       200000.0    1                4               1  49.0   \n",
       "2           2        20000.0    2                6               2  22.0   \n",
       "3           3       260000.0    2                4               2  33.0   \n",
       "4           4       150000.0    1                4               2  32.0   \n",
       "5           5       300000.0    2                4               2  32.0   \n",
       "6           6       130000.0    1                1               1  45.0   \n",
       "7           7       200000.0    1                1               1  58.0   \n",
       "8           8       500000.0    1                1               1  39.0   \n",
       "9           9       230000.0    1                1               1  48.0   \n",
       "\n",
       "   pay_0  pay_2  pay_3  pay_4  ...  bill_amt_4  bill_amt_5  bill_amt_6  \\\n",
       "0    0.0    0.0    0.0    0.0  ...     29296.0     26210.0     17643.0   \n",
       "1    0.0    0.0    0.0    0.0  ...     50146.0     50235.0     48984.0   \n",
       "2    0.0    0.0    0.0    0.0  ...      1434.0       500.0         0.0   \n",
       "3    0.0    0.0    0.0    0.0  ...     27821.0     30767.0     29890.0   \n",
       "4    0.0    0.0    0.0   -1.0  ...    150464.0    143375.0    146411.0   \n",
       "5    0.0    0.0    0.0    0.0  ...     65150.0      -450.0       700.0   \n",
       "6    0.0    0.0    0.0    0.0  ...     62377.0     63832.0     65099.0   \n",
       "7    0.0    0.0    0.0    0.0  ...    124647.0    126921.0    129167.0   \n",
       "8    0.0    0.0    0.0    0.0  ...    174500.0    137406.0    204975.0   \n",
       "9    0.0    0.0    0.0    0.0  ...    105508.0    108101.0    110094.0   \n",
       "\n",
       "   pay_amt_1  pay_amt_2  pay_amt_3  pay_amt_4  pay_amt_5  pay_amt_6  \\\n",
       "0     2545.0     2208.0     1336.0     2232.0      542.0      348.0   \n",
       "1     1689.0     2164.0     2500.0     3480.0     2500.0     3000.0   \n",
       "2     4641.0     1019.0      900.0        0.0     1500.0        0.0   \n",
       "3     5000.0     5000.0     1137.0     5000.0     1085.0     5000.0   \n",
       "4     4019.0   146896.0   157436.0     4600.0     4709.0     5600.0   \n",
       "5    15235.0     1491.0     1303.0        0.0     2000.0     1400.0   \n",
       "6     2886.0     2908.0     2129.0     2354.0     2366.0     2291.0   \n",
       "7     7822.0     4417.0     4446.0     4597.0     4677.0     4698.0   \n",
       "8    54209.0     4607.0     4603.0     5224.0   207440.0     7509.0   \n",
       "9     7000.0     6607.0     3773.0     4290.0     4164.0     2000.0   \n",
       "\n",
       "   default_payment_next_month  \n",
       "0                           1  \n",
       "1                           0  \n",
       "2                           1  \n",
       "3                           0  \n",
       "4                           0  \n",
       "5                           0  \n",
       "6                           0  \n",
       "7                           0  \n",
       "8                           0  \n",
       "9                           0  \n",
       "\n",
       "[10 rows x 25 columns]"
      ]
     },
     "execution_count": 2,
     "metadata": {},
     "output_type": "execute_result"
    }
   ],
   "source": [
    "# Load dataset\n",
    "df_ori = pd.read_csv('P1G5_Set_1_livia_amanda.csv')\n",
    "\n",
    "# Duplicate dataset\n",
    "df = df_ori.copy()\n",
    "\n",
    "# Show the first 10 data\n",
    "df.head(10)"
   ]
  },
  {
   "cell_type": "markdown",
   "metadata": {},
   "source": [
    "The result displays the initial 10 entries from the dataset, which includes details about each client such as age, gender, education level, as well as information regarding their payments, bills, and whether they defaulted on their payment the following month. The next step is to display the last 10 entries from the dataset."
   ]
  },
  {
   "cell_type": "code",
   "execution_count": 3,
   "metadata": {},
   "outputs": [
    {
     "data": {
      "text/html": [
       "<div>\n",
       "<style scoped>\n",
       "    .dataframe tbody tr th:only-of-type {\n",
       "        vertical-align: middle;\n",
       "    }\n",
       "\n",
       "    .dataframe tbody tr th {\n",
       "        vertical-align: top;\n",
       "    }\n",
       "\n",
       "    .dataframe thead th {\n",
       "        text-align: right;\n",
       "    }\n",
       "</style>\n",
       "<table border=\"1\" class=\"dataframe\">\n",
       "  <thead>\n",
       "    <tr style=\"text-align: right;\">\n",
       "      <th></th>\n",
       "      <th>Unnamed: 0</th>\n",
       "      <th>limit_balance</th>\n",
       "      <th>sex</th>\n",
       "      <th>education_level</th>\n",
       "      <th>marital_status</th>\n",
       "      <th>age</th>\n",
       "      <th>pay_0</th>\n",
       "      <th>pay_2</th>\n",
       "      <th>pay_3</th>\n",
       "      <th>pay_4</th>\n",
       "      <th>...</th>\n",
       "      <th>bill_amt_4</th>\n",
       "      <th>bill_amt_5</th>\n",
       "      <th>bill_amt_6</th>\n",
       "      <th>pay_amt_1</th>\n",
       "      <th>pay_amt_2</th>\n",
       "      <th>pay_amt_3</th>\n",
       "      <th>pay_amt_4</th>\n",
       "      <th>pay_amt_5</th>\n",
       "      <th>pay_amt_6</th>\n",
       "      <th>default_payment_next_month</th>\n",
       "    </tr>\n",
       "  </thead>\n",
       "  <tbody>\n",
       "    <tr>\n",
       "      <th>2955</th>\n",
       "      <td>2955</td>\n",
       "      <td>360000.0</td>\n",
       "      <td>2</td>\n",
       "      <td>2</td>\n",
       "      <td>2</td>\n",
       "      <td>26.0</td>\n",
       "      <td>-1.0</td>\n",
       "      <td>-1.0</td>\n",
       "      <td>-1.0</td>\n",
       "      <td>-1.0</td>\n",
       "      <td>...</td>\n",
       "      <td>0.0</td>\n",
       "      <td>0.0</td>\n",
       "      <td>0.0</td>\n",
       "      <td>463.0</td>\n",
       "      <td>2500.0</td>\n",
       "      <td>0.0</td>\n",
       "      <td>0.0</td>\n",
       "      <td>0.0</td>\n",
       "      <td>0.0</td>\n",
       "      <td>0</td>\n",
       "    </tr>\n",
       "    <tr>\n",
       "      <th>2956</th>\n",
       "      <td>2956</td>\n",
       "      <td>100000.0</td>\n",
       "      <td>1</td>\n",
       "      <td>3</td>\n",
       "      <td>1</td>\n",
       "      <td>40.0</td>\n",
       "      <td>0.0</td>\n",
       "      <td>0.0</td>\n",
       "      <td>-1.0</td>\n",
       "      <td>-1.0</td>\n",
       "      <td>...</td>\n",
       "      <td>0.0</td>\n",
       "      <td>0.0</td>\n",
       "      <td>0.0</td>\n",
       "      <td>2000.0</td>\n",
       "      <td>2377.0</td>\n",
       "      <td>40000.0</td>\n",
       "      <td>0.0</td>\n",
       "      <td>0.0</td>\n",
       "      <td>0.0</td>\n",
       "      <td>0</td>\n",
       "    </tr>\n",
       "    <tr>\n",
       "      <th>2957</th>\n",
       "      <td>2957</td>\n",
       "      <td>30000.0</td>\n",
       "      <td>2</td>\n",
       "      <td>3</td>\n",
       "      <td>1</td>\n",
       "      <td>48.0</td>\n",
       "      <td>1.0</td>\n",
       "      <td>-1.0</td>\n",
       "      <td>-1.0</td>\n",
       "      <td>-2.0</td>\n",
       "      <td>...</td>\n",
       "      <td>0.0</td>\n",
       "      <td>0.0</td>\n",
       "      <td>0.0</td>\n",
       "      <td>200.0</td>\n",
       "      <td>0.0</td>\n",
       "      <td>0.0</td>\n",
       "      <td>0.0</td>\n",
       "      <td>0.0</td>\n",
       "      <td>0.0</td>\n",
       "      <td>0</td>\n",
       "    </tr>\n",
       "    <tr>\n",
       "      <th>2958</th>\n",
       "      <td>2958</td>\n",
       "      <td>80000.0</td>\n",
       "      <td>2</td>\n",
       "      <td>3</td>\n",
       "      <td>1</td>\n",
       "      <td>39.0</td>\n",
       "      <td>-1.0</td>\n",
       "      <td>-1.0</td>\n",
       "      <td>-1.0</td>\n",
       "      <td>-1.0</td>\n",
       "      <td>...</td>\n",
       "      <td>0.0</td>\n",
       "      <td>0.0</td>\n",
       "      <td>5000.0</td>\n",
       "      <td>5000.0</td>\n",
       "      <td>5000.0</td>\n",
       "      <td>0.0</td>\n",
       "      <td>5000.0</td>\n",
       "      <td>5000.0</td>\n",
       "      <td>470.0</td>\n",
       "      <td>0</td>\n",
       "    </tr>\n",
       "    <tr>\n",
       "      <th>2959</th>\n",
       "      <td>2959</td>\n",
       "      <td>20000.0</td>\n",
       "      <td>1</td>\n",
       "      <td>3</td>\n",
       "      <td>2</td>\n",
       "      <td>26.0</td>\n",
       "      <td>-1.0</td>\n",
       "      <td>-1.0</td>\n",
       "      <td>-1.0</td>\n",
       "      <td>-2.0</td>\n",
       "      <td>...</td>\n",
       "      <td>0.0</td>\n",
       "      <td>0.0</td>\n",
       "      <td>0.0</td>\n",
       "      <td>1560.0</td>\n",
       "      <td>0.0</td>\n",
       "      <td>0.0</td>\n",
       "      <td>0.0</td>\n",
       "      <td>0.0</td>\n",
       "      <td>0.0</td>\n",
       "      <td>0</td>\n",
       "    </tr>\n",
       "    <tr>\n",
       "      <th>2960</th>\n",
       "      <td>2960</td>\n",
       "      <td>80000.0</td>\n",
       "      <td>2</td>\n",
       "      <td>3</td>\n",
       "      <td>2</td>\n",
       "      <td>28.0</td>\n",
       "      <td>-1.0</td>\n",
       "      <td>-1.0</td>\n",
       "      <td>-1.0</td>\n",
       "      <td>-2.0</td>\n",
       "      <td>...</td>\n",
       "      <td>0.0</td>\n",
       "      <td>0.0</td>\n",
       "      <td>0.0</td>\n",
       "      <td>2800.0</td>\n",
       "      <td>0.0</td>\n",
       "      <td>0.0</td>\n",
       "      <td>0.0</td>\n",
       "      <td>0.0</td>\n",
       "      <td>0.0</td>\n",
       "      <td>0</td>\n",
       "    </tr>\n",
       "    <tr>\n",
       "      <th>2961</th>\n",
       "      <td>2961</td>\n",
       "      <td>50000.0</td>\n",
       "      <td>2</td>\n",
       "      <td>3</td>\n",
       "      <td>1</td>\n",
       "      <td>51.0</td>\n",
       "      <td>-1.0</td>\n",
       "      <td>-1.0</td>\n",
       "      <td>-1.0</td>\n",
       "      <td>-1.0</td>\n",
       "      <td>...</td>\n",
       "      <td>0.0</td>\n",
       "      <td>0.0</td>\n",
       "      <td>0.0</td>\n",
       "      <td>300.0</td>\n",
       "      <td>5880.0</td>\n",
       "      <td>0.0</td>\n",
       "      <td>0.0</td>\n",
       "      <td>0.0</td>\n",
       "      <td>0.0</td>\n",
       "      <td>1</td>\n",
       "    </tr>\n",
       "    <tr>\n",
       "      <th>2962</th>\n",
       "      <td>2962</td>\n",
       "      <td>450000.0</td>\n",
       "      <td>2</td>\n",
       "      <td>2</td>\n",
       "      <td>1</td>\n",
       "      <td>38.0</td>\n",
       "      <td>-2.0</td>\n",
       "      <td>-2.0</td>\n",
       "      <td>-2.0</td>\n",
       "      <td>-2.0</td>\n",
       "      <td>...</td>\n",
       "      <td>390.0</td>\n",
       "      <td>390.0</td>\n",
       "      <td>390.0</td>\n",
       "      <td>390.0</td>\n",
       "      <td>780.0</td>\n",
       "      <td>390.0</td>\n",
       "      <td>390.0</td>\n",
       "      <td>390.0</td>\n",
       "      <td>390.0</td>\n",
       "      <td>1</td>\n",
       "    </tr>\n",
       "    <tr>\n",
       "      <th>2963</th>\n",
       "      <td>2963</td>\n",
       "      <td>50000.0</td>\n",
       "      <td>2</td>\n",
       "      <td>2</td>\n",
       "      <td>1</td>\n",
       "      <td>44.0</td>\n",
       "      <td>-2.0</td>\n",
       "      <td>-2.0</td>\n",
       "      <td>-2.0</td>\n",
       "      <td>-2.0</td>\n",
       "      <td>...</td>\n",
       "      <td>390.0</td>\n",
       "      <td>390.0</td>\n",
       "      <td>0.0</td>\n",
       "      <td>390.0</td>\n",
       "      <td>390.0</td>\n",
       "      <td>390.0</td>\n",
       "      <td>390.0</td>\n",
       "      <td>0.0</td>\n",
       "      <td>780.0</td>\n",
       "      <td>0</td>\n",
       "    </tr>\n",
       "    <tr>\n",
       "      <th>2964</th>\n",
       "      <td>2964</td>\n",
       "      <td>290000.0</td>\n",
       "      <td>2</td>\n",
       "      <td>2</td>\n",
       "      <td>1</td>\n",
       "      <td>39.0</td>\n",
       "      <td>1.0</td>\n",
       "      <td>-2.0</td>\n",
       "      <td>-2.0</td>\n",
       "      <td>-2.0</td>\n",
       "      <td>...</td>\n",
       "      <td>3184.0</td>\n",
       "      <td>390.0</td>\n",
       "      <td>390.0</td>\n",
       "      <td>10000.0</td>\n",
       "      <td>800.0</td>\n",
       "      <td>3184.0</td>\n",
       "      <td>390.0</td>\n",
       "      <td>390.0</td>\n",
       "      <td>6617.0</td>\n",
       "      <td>0</td>\n",
       "    </tr>\n",
       "  </tbody>\n",
       "</table>\n",
       "<p>10 rows × 25 columns</p>\n",
       "</div>"
      ],
      "text/plain": [
       "      Unnamed: 0  limit_balance  sex  education_level  marital_status   age  \\\n",
       "2955        2955       360000.0    2                2               2  26.0   \n",
       "2956        2956       100000.0    1                3               1  40.0   \n",
       "2957        2957        30000.0    2                3               1  48.0   \n",
       "2958        2958        80000.0    2                3               1  39.0   \n",
       "2959        2959        20000.0    1                3               2  26.0   \n",
       "2960        2960        80000.0    2                3               2  28.0   \n",
       "2961        2961        50000.0    2                3               1  51.0   \n",
       "2962        2962       450000.0    2                2               1  38.0   \n",
       "2963        2963        50000.0    2                2               1  44.0   \n",
       "2964        2964       290000.0    2                2               1  39.0   \n",
       "\n",
       "      pay_0  pay_2  pay_3  pay_4  ...  bill_amt_4  bill_amt_5  bill_amt_6  \\\n",
       "2955   -1.0   -1.0   -1.0   -1.0  ...         0.0         0.0         0.0   \n",
       "2956    0.0    0.0   -1.0   -1.0  ...         0.0         0.0         0.0   \n",
       "2957    1.0   -1.0   -1.0   -2.0  ...         0.0         0.0         0.0   \n",
       "2958   -1.0   -1.0   -1.0   -1.0  ...         0.0         0.0      5000.0   \n",
       "2959   -1.0   -1.0   -1.0   -2.0  ...         0.0         0.0         0.0   \n",
       "2960   -1.0   -1.0   -1.0   -2.0  ...         0.0         0.0         0.0   \n",
       "2961   -1.0   -1.0   -1.0   -1.0  ...         0.0         0.0         0.0   \n",
       "2962   -2.0   -2.0   -2.0   -2.0  ...       390.0       390.0       390.0   \n",
       "2963   -2.0   -2.0   -2.0   -2.0  ...       390.0       390.0         0.0   \n",
       "2964    1.0   -2.0   -2.0   -2.0  ...      3184.0       390.0       390.0   \n",
       "\n",
       "      pay_amt_1  pay_amt_2  pay_amt_3  pay_amt_4  pay_amt_5  pay_amt_6  \\\n",
       "2955      463.0     2500.0        0.0        0.0        0.0        0.0   \n",
       "2956     2000.0     2377.0    40000.0        0.0        0.0        0.0   \n",
       "2957      200.0        0.0        0.0        0.0        0.0        0.0   \n",
       "2958     5000.0     5000.0        0.0     5000.0     5000.0      470.0   \n",
       "2959     1560.0        0.0        0.0        0.0        0.0        0.0   \n",
       "2960     2800.0        0.0        0.0        0.0        0.0        0.0   \n",
       "2961      300.0     5880.0        0.0        0.0        0.0        0.0   \n",
       "2962      390.0      780.0      390.0      390.0      390.0      390.0   \n",
       "2963      390.0      390.0      390.0      390.0        0.0      780.0   \n",
       "2964    10000.0      800.0     3184.0      390.0      390.0     6617.0   \n",
       "\n",
       "      default_payment_next_month  \n",
       "2955                           0  \n",
       "2956                           0  \n",
       "2957                           0  \n",
       "2958                           0  \n",
       "2959                           0  \n",
       "2960                           0  \n",
       "2961                           1  \n",
       "2962                           1  \n",
       "2963                           0  \n",
       "2964                           0  \n",
       "\n",
       "[10 rows x 25 columns]"
      ]
     },
     "execution_count": 3,
     "metadata": {},
     "output_type": "execute_result"
    }
   ],
   "source": [
    "# Show the last 10 data\n",
    "df.tail(10)"
   ]
  },
  {
   "cell_type": "markdown",
   "metadata": {},
   "source": [
    "The output reveals the dataset's last 10 entries. Observing both the beginning and end of the dataset suggests that certain categorical columns are already numerically encoded. To gain a deeper understanding of each column's unique values, here's a table presenting the information for each column."
   ]
  },
  {
   "cell_type": "markdown",
   "metadata": {},
   "source": [
    "<center>\n",
    "\n",
    "| Column Name                     | Brief Description                                  | Encoded Categorical Meanings                                                            |\n",
    "|---------------------------------|-----------------------------------------------------|-----------------------------------------------------------------------------------------|\n",
    "| Unnamed:0                            | Client identifier                                   |                                                                                      |\n",
    "| limit_balance                   | Credit limit amount in New Taiwan dollars (NTD)     |                                                                                     |\n",
    "| sex                             | Gender of the client                                | 1=male, 2=female                                                                        |\n",
    "| education_level                 | Level of education attained by the client            | 0=unknown, 1=graduate school, 2=university, 3=high school, 4=others, 5=unknown, 6=unknown           |\n",
    "| marital_status                  | Marital status of the client                         | 0=unknown, 1=married, 2=single, 3=others                                                           |\n",
    "| age                             | Age of the client                                   |                                                                                     |\n",
    "| pay_0                           | Repayment status in September 2005                  | -1=pay duly, 1=delayed payment (1 month), 2=delayed payment (2 months), ... 8=delayed payment (8 months), 9=delayed payment (>= 9 months)|\n",
    "| pay_2                           | Repayment status in August 2005                     | Same encoding as pay_0                                                                   |\n",
    "| pay_3                           | Repayment status in July 2005                       | Same encoding as pay_0                                                                   |\n",
    "| pay_4                           | Repayment status in June 2005                       | Same encoding as pay_0                                                                   |\n",
    "| pay_5                           | Repayment status in May 2005                        | Same encoding as pay_0                                                                   |\n",
    "| pay_6                           | Repayment status in April 2005                      | Same encoding as pay_0                                                                   |\n",
    "| bill_amt_1                      | Bill statement amount in September 2005             |                                                                                      |\n",
    "| bill_amt_2                      | Bill statement amount in August 2005                |                                                                                      |\n",
    "| bill_amt_3                      | Bill statement amount in July 2005                  |                                                                                      |\n",
    "| bill_amt_4                      | Bill statement amount in June 2005                  |                                                                                      |\n",
    "| bill_amt_5                      | Bill statement amount in May 2005                   |                                                                                      |\n",
    "| bill_amt_6                      | Bill statement amount in April 2005                 |                                                                                      |\n",
    "| pay_amt_1                       | Previous payment amount in September 2005           |                                                                                      |\n",
    "| pay_amt_2                       | Previous payment amount in August 2005              |                                                                                      |\n",
    "| pay_amt_3                       | Previous payment amount in July 2005                |                                                                                      |\n",
    "| pay_amt_4                       | Previous payment amount in June 2005                |                                                                                      |\n",
    "| pay_amt_5                       | Previous payment amount in May 2005                 |                                                                                      |\n",
    "| pay_amt_6                       | Previous payment amount in April 2005               |                                                                                      |\n",
    "| default_payment_next_month      | Indicates if the client defaulted the next month     | 1=yes, 0=no                                                                             |"
   ]
  },
  {
   "cell_type": "markdown",
   "metadata": {},
   "source": [
    "For deeper insights into the data, the `info` method is used to check the summary information of the dataset."
   ]
  },
  {
   "cell_type": "code",
   "execution_count": 4,
   "metadata": {},
   "outputs": [
    {
     "name": "stdout",
     "output_type": "stream",
     "text": [
      "<class 'pandas.core.frame.DataFrame'>\n",
      "RangeIndex: 2965 entries, 0 to 2964\n",
      "Data columns (total 25 columns):\n",
      " #   Column                      Non-Null Count  Dtype  \n",
      "---  ------                      --------------  -----  \n",
      " 0   Unnamed: 0                  2965 non-null   int64  \n",
      " 1   limit_balance               2965 non-null   float64\n",
      " 2   sex                         2965 non-null   int64  \n",
      " 3   education_level             2965 non-null   int64  \n",
      " 4   marital_status              2965 non-null   int64  \n",
      " 5   age                         2965 non-null   float64\n",
      " 6   pay_0                       2965 non-null   float64\n",
      " 7   pay_2                       2965 non-null   float64\n",
      " 8   pay_3                       2965 non-null   float64\n",
      " 9   pay_4                       2965 non-null   float64\n",
      " 10  pay_5                       2965 non-null   float64\n",
      " 11  pay_6                       2965 non-null   float64\n",
      " 12  bill_amt_1                  2965 non-null   float64\n",
      " 13  bill_amt_2                  2965 non-null   float64\n",
      " 14  bill_amt_3                  2965 non-null   float64\n",
      " 15  bill_amt_4                  2965 non-null   float64\n",
      " 16  bill_amt_5                  2965 non-null   float64\n",
      " 17  bill_amt_6                  2965 non-null   float64\n",
      " 18  pay_amt_1                   2965 non-null   float64\n",
      " 19  pay_amt_2                   2965 non-null   float64\n",
      " 20  pay_amt_3                   2965 non-null   float64\n",
      " 21  pay_amt_4                   2965 non-null   float64\n",
      " 22  pay_amt_5                   2965 non-null   float64\n",
      " 23  pay_amt_6                   2965 non-null   float64\n",
      " 24  default_payment_next_month  2965 non-null   int64  \n",
      "dtypes: float64(20), int64(5)\n",
      "memory usage: 579.2 KB\n"
     ]
    }
   ],
   "source": [
    "# Check data summary\n",
    "df.info()"
   ]
  },
  {
   "cell_type": "markdown",
   "metadata": {},
   "source": [
    "The dataset contains **2965 entries** and **25 columns**. The results indicate that there are no missing values in any column, and the data types have been converted to numerical format in Google Colab previously. As a result, there is no need to address missing values or modify any data types.\n",
    "\n",
    "These columns will be categorized based on their types for easier handling in future processes."
   ]
  },
  {
   "cell_type": "markdown",
   "metadata": {},
   "source": [
    "<center>\n",
    "\n",
    "| **Category**  | **Type**     | **Column Names**                                           |\n",
    "|---------------|--------------|------------------------------------------------------------|\n",
    "| **Categorical** | **Ordinal Encoded**   | `educational_level`, `age`, `pay_0`, `pay_2`, `pay_3`,|               \n",
    "|                 |                        | `pay_4`, `pay_5`, `pay_6`                                         |\n",
    "|               | **Nominal Encoded**  | `sex`, `marital_status`         |\n",
    "| **Numerical**   | **Discrete**  | `Unnamed: 0`, `limit_balance`, `age`            |\n",
    "|               | **Continuous**| `bill_amt_1`, `bill_amt_2`, `bill_amt_3`, `bill_amt_4`,       |\n",
    "|               |              | `bill_amt_5`, `bill_amt_6`, `pay_amt_1`, `pay_amt_2`,        |\n",
    "|               |              | `pay_amt_3`, `pay_amt_4`, `pay_amt_5`, `pay_amt_6`  |"
   ]
  },
  {
   "cell_type": "markdown",
   "metadata": {},
   "source": [
    "Next, the statistical summary of the data can be obtained using the `describe` method."
   ]
  },
  {
   "cell_type": "code",
   "execution_count": 5,
   "metadata": {},
   "outputs": [
    {
     "data": {
      "text/html": [
       "<div>\n",
       "<style scoped>\n",
       "    .dataframe tbody tr th:only-of-type {\n",
       "        vertical-align: middle;\n",
       "    }\n",
       "\n",
       "    .dataframe tbody tr th {\n",
       "        vertical-align: top;\n",
       "    }\n",
       "\n",
       "    .dataframe thead th {\n",
       "        text-align: right;\n",
       "    }\n",
       "</style>\n",
       "<table border=\"1\" class=\"dataframe\">\n",
       "  <thead>\n",
       "    <tr style=\"text-align: right;\">\n",
       "      <th></th>\n",
       "      <th>Unnamed: 0</th>\n",
       "      <th>limit_balance</th>\n",
       "      <th>sex</th>\n",
       "      <th>education_level</th>\n",
       "      <th>marital_status</th>\n",
       "      <th>age</th>\n",
       "      <th>pay_0</th>\n",
       "      <th>pay_2</th>\n",
       "      <th>pay_3</th>\n",
       "      <th>pay_4</th>\n",
       "      <th>...</th>\n",
       "      <th>bill_amt_4</th>\n",
       "      <th>bill_amt_5</th>\n",
       "      <th>bill_amt_6</th>\n",
       "      <th>pay_amt_1</th>\n",
       "      <th>pay_amt_2</th>\n",
       "      <th>pay_amt_3</th>\n",
       "      <th>pay_amt_4</th>\n",
       "      <th>pay_amt_5</th>\n",
       "      <th>pay_amt_6</th>\n",
       "      <th>default_payment_next_month</th>\n",
       "    </tr>\n",
       "  </thead>\n",
       "  <tbody>\n",
       "    <tr>\n",
       "      <th>count</th>\n",
       "      <td>2965.000000</td>\n",
       "      <td>2965.000000</td>\n",
       "      <td>2965.000000</td>\n",
       "      <td>2965.000000</td>\n",
       "      <td>2965.000000</td>\n",
       "      <td>2965.000000</td>\n",
       "      <td>2965.000000</td>\n",
       "      <td>2965.000000</td>\n",
       "      <td>2965.000000</td>\n",
       "      <td>2965.000000</td>\n",
       "      <td>...</td>\n",
       "      <td>2965.000000</td>\n",
       "      <td>2965.000000</td>\n",
       "      <td>2965.000000</td>\n",
       "      <td>2965.000000</td>\n",
       "      <td>2.965000e+03</td>\n",
       "      <td>2965.000000</td>\n",
       "      <td>2965.000000</td>\n",
       "      <td>2965.000000</td>\n",
       "      <td>2965.000000</td>\n",
       "      <td>2965.000000</td>\n",
       "    </tr>\n",
       "    <tr>\n",
       "      <th>mean</th>\n",
       "      <td>1482.000000</td>\n",
       "      <td>163369.308600</td>\n",
       "      <td>1.607757</td>\n",
       "      <td>1.849578</td>\n",
       "      <td>1.559865</td>\n",
       "      <td>35.193255</td>\n",
       "      <td>0.005059</td>\n",
       "      <td>-0.122428</td>\n",
       "      <td>-0.141653</td>\n",
       "      <td>-0.185160</td>\n",
       "      <td>...</td>\n",
       "      <td>44089.683305</td>\n",
       "      <td>40956.080607</td>\n",
       "      <td>39773.072513</td>\n",
       "      <td>6348.902867</td>\n",
       "      <td>6.272494e+03</td>\n",
       "      <td>5150.497133</td>\n",
       "      <td>4561.376054</td>\n",
       "      <td>4913.286678</td>\n",
       "      <td>5382.701518</td>\n",
       "      <td>0.214165</td>\n",
       "    </tr>\n",
       "    <tr>\n",
       "      <th>std</th>\n",
       "      <td>856.066099</td>\n",
       "      <td>125030.415472</td>\n",
       "      <td>0.488333</td>\n",
       "      <td>0.778184</td>\n",
       "      <td>0.522317</td>\n",
       "      <td>9.109439</td>\n",
       "      <td>1.114395</td>\n",
       "      <td>1.180784</td>\n",
       "      <td>1.183630</td>\n",
       "      <td>1.178322</td>\n",
       "      <td>...</td>\n",
       "      <td>61907.454056</td>\n",
       "      <td>58271.904751</td>\n",
       "      <td>57303.488981</td>\n",
       "      <td>20885.735336</td>\n",
       "      <td>2.887967e+04</td>\n",
       "      <td>14287.079982</td>\n",
       "      <td>13281.499599</td>\n",
       "      <td>16734.340778</td>\n",
       "      <td>17275.953029</td>\n",
       "      <td>0.410311</td>\n",
       "    </tr>\n",
       "    <tr>\n",
       "      <th>min</th>\n",
       "      <td>0.000000</td>\n",
       "      <td>10000.000000</td>\n",
       "      <td>1.000000</td>\n",
       "      <td>0.000000</td>\n",
       "      <td>0.000000</td>\n",
       "      <td>21.000000</td>\n",
       "      <td>-2.000000</td>\n",
       "      <td>-2.000000</td>\n",
       "      <td>-2.000000</td>\n",
       "      <td>-2.000000</td>\n",
       "      <td>...</td>\n",
       "      <td>-46627.000000</td>\n",
       "      <td>-46627.000000</td>\n",
       "      <td>-73895.000000</td>\n",
       "      <td>0.000000</td>\n",
       "      <td>0.000000e+00</td>\n",
       "      <td>0.000000</td>\n",
       "      <td>0.000000</td>\n",
       "      <td>0.000000</td>\n",
       "      <td>0.000000</td>\n",
       "      <td>0.000000</td>\n",
       "    </tr>\n",
       "    <tr>\n",
       "      <th>25%</th>\n",
       "      <td>741.000000</td>\n",
       "      <td>50000.000000</td>\n",
       "      <td>1.000000</td>\n",
       "      <td>1.000000</td>\n",
       "      <td>1.000000</td>\n",
       "      <td>28.000000</td>\n",
       "      <td>-1.000000</td>\n",
       "      <td>-1.000000</td>\n",
       "      <td>-1.000000</td>\n",
       "      <td>-1.000000</td>\n",
       "      <td>...</td>\n",
       "      <td>2582.000000</td>\n",
       "      <td>1958.000000</td>\n",
       "      <td>1430.000000</td>\n",
       "      <td>1013.000000</td>\n",
       "      <td>9.900000e+02</td>\n",
       "      <td>477.000000</td>\n",
       "      <td>313.000000</td>\n",
       "      <td>323.000000</td>\n",
       "      <td>173.000000</td>\n",
       "      <td>0.000000</td>\n",
       "    </tr>\n",
       "    <tr>\n",
       "      <th>50%</th>\n",
       "      <td>1482.000000</td>\n",
       "      <td>140000.000000</td>\n",
       "      <td>2.000000</td>\n",
       "      <td>2.000000</td>\n",
       "      <td>2.000000</td>\n",
       "      <td>34.000000</td>\n",
       "      <td>0.000000</td>\n",
       "      <td>0.000000</td>\n",
       "      <td>0.000000</td>\n",
       "      <td>0.000000</td>\n",
       "      <td>...</td>\n",
       "      <td>19894.000000</td>\n",
       "      <td>18814.000000</td>\n",
       "      <td>18508.000000</td>\n",
       "      <td>2234.000000</td>\n",
       "      <td>2.175000e+03</td>\n",
       "      <td>1994.000000</td>\n",
       "      <td>1600.000000</td>\n",
       "      <td>1646.000000</td>\n",
       "      <td>1615.000000</td>\n",
       "      <td>0.000000</td>\n",
       "    </tr>\n",
       "    <tr>\n",
       "      <th>75%</th>\n",
       "      <td>2223.000000</td>\n",
       "      <td>230000.000000</td>\n",
       "      <td>2.000000</td>\n",
       "      <td>2.000000</td>\n",
       "      <td>2.000000</td>\n",
       "      <td>41.000000</td>\n",
       "      <td>0.000000</td>\n",
       "      <td>0.000000</td>\n",
       "      <td>0.000000</td>\n",
       "      <td>0.000000</td>\n",
       "      <td>...</td>\n",
       "      <td>58622.000000</td>\n",
       "      <td>53373.000000</td>\n",
       "      <td>52287.000000</td>\n",
       "      <td>5087.000000</td>\n",
       "      <td>5.000000e+03</td>\n",
       "      <td>4500.000000</td>\n",
       "      <td>4000.000000</td>\n",
       "      <td>4021.000000</td>\n",
       "      <td>4081.000000</td>\n",
       "      <td>0.000000</td>\n",
       "    </tr>\n",
       "    <tr>\n",
       "      <th>max</th>\n",
       "      <td>2964.000000</td>\n",
       "      <td>800000.000000</td>\n",
       "      <td>2.000000</td>\n",
       "      <td>6.000000</td>\n",
       "      <td>3.000000</td>\n",
       "      <td>69.000000</td>\n",
       "      <td>8.000000</td>\n",
       "      <td>7.000000</td>\n",
       "      <td>7.000000</td>\n",
       "      <td>8.000000</td>\n",
       "      <td>...</td>\n",
       "      <td>488808.000000</td>\n",
       "      <td>441981.000000</td>\n",
       "      <td>436172.000000</td>\n",
       "      <td>493358.000000</td>\n",
       "      <td>1.227082e+06</td>\n",
       "      <td>199209.000000</td>\n",
       "      <td>202076.000000</td>\n",
       "      <td>388071.000000</td>\n",
       "      <td>403500.000000</td>\n",
       "      <td>1.000000</td>\n",
       "    </tr>\n",
       "  </tbody>\n",
       "</table>\n",
       "<p>8 rows × 25 columns</p>\n",
       "</div>"
      ],
      "text/plain": [
       "        Unnamed: 0  limit_balance          sex  education_level  \\\n",
       "count  2965.000000    2965.000000  2965.000000      2965.000000   \n",
       "mean   1482.000000  163369.308600     1.607757         1.849578   \n",
       "std     856.066099  125030.415472     0.488333         0.778184   \n",
       "min       0.000000   10000.000000     1.000000         0.000000   \n",
       "25%     741.000000   50000.000000     1.000000         1.000000   \n",
       "50%    1482.000000  140000.000000     2.000000         2.000000   \n",
       "75%    2223.000000  230000.000000     2.000000         2.000000   \n",
       "max    2964.000000  800000.000000     2.000000         6.000000   \n",
       "\n",
       "       marital_status          age        pay_0        pay_2        pay_3  \\\n",
       "count     2965.000000  2965.000000  2965.000000  2965.000000  2965.000000   \n",
       "mean         1.559865    35.193255     0.005059    -0.122428    -0.141653   \n",
       "std          0.522317     9.109439     1.114395     1.180784     1.183630   \n",
       "min          0.000000    21.000000    -2.000000    -2.000000    -2.000000   \n",
       "25%          1.000000    28.000000    -1.000000    -1.000000    -1.000000   \n",
       "50%          2.000000    34.000000     0.000000     0.000000     0.000000   \n",
       "75%          2.000000    41.000000     0.000000     0.000000     0.000000   \n",
       "max          3.000000    69.000000     8.000000     7.000000     7.000000   \n",
       "\n",
       "             pay_4  ...     bill_amt_4     bill_amt_5     bill_amt_6  \\\n",
       "count  2965.000000  ...    2965.000000    2965.000000    2965.000000   \n",
       "mean     -0.185160  ...   44089.683305   40956.080607   39773.072513   \n",
       "std       1.178322  ...   61907.454056   58271.904751   57303.488981   \n",
       "min      -2.000000  ...  -46627.000000  -46627.000000  -73895.000000   \n",
       "25%      -1.000000  ...    2582.000000    1958.000000    1430.000000   \n",
       "50%       0.000000  ...   19894.000000   18814.000000   18508.000000   \n",
       "75%       0.000000  ...   58622.000000   53373.000000   52287.000000   \n",
       "max       8.000000  ...  488808.000000  441981.000000  436172.000000   \n",
       "\n",
       "           pay_amt_1     pay_amt_2      pay_amt_3      pay_amt_4  \\\n",
       "count    2965.000000  2.965000e+03    2965.000000    2965.000000   \n",
       "mean     6348.902867  6.272494e+03    5150.497133    4561.376054   \n",
       "std     20885.735336  2.887967e+04   14287.079982   13281.499599   \n",
       "min         0.000000  0.000000e+00       0.000000       0.000000   \n",
       "25%      1013.000000  9.900000e+02     477.000000     313.000000   \n",
       "50%      2234.000000  2.175000e+03    1994.000000    1600.000000   \n",
       "75%      5087.000000  5.000000e+03    4500.000000    4000.000000   \n",
       "max    493358.000000  1.227082e+06  199209.000000  202076.000000   \n",
       "\n",
       "           pay_amt_5      pay_amt_6  default_payment_next_month  \n",
       "count    2965.000000    2965.000000                 2965.000000  \n",
       "mean     4913.286678    5382.701518                    0.214165  \n",
       "std     16734.340778   17275.953029                    0.410311  \n",
       "min         0.000000       0.000000                    0.000000  \n",
       "25%       323.000000     173.000000                    0.000000  \n",
       "50%      1646.000000    1615.000000                    0.000000  \n",
       "75%      4021.000000    4081.000000                    0.000000  \n",
       "max    388071.000000  403500.000000                    1.000000  \n",
       "\n",
       "[8 rows x 25 columns]"
      ]
     },
     "execution_count": 5,
     "metadata": {},
     "output_type": "execute_result"
    }
   ],
   "source": [
    "# Check descriptive statistictis\n",
    "df.describe()"
   ]
  },
  {
   "cell_type": "markdown",
   "metadata": {},
   "source": [
    "The  result shows a statistical summary of the dataset. Across several columns, such as `age`, the mean values are relatively close to the median values. This suggests a symmetric distribution for these variables. However, there are differences in certain columns like `limit_balance`, where the mean is higher than the median, indicating a right-skewed distribution with some higher-value outliers. It indicates that some columns have **outliers** that needs handling."
   ]
  },
  {
   "cell_type": "markdown",
   "metadata": {},
   "source": [
    "The `nunique` method is used to check the total of unique values in each column to determine the handling process."
   ]
  },
  {
   "cell_type": "code",
   "execution_count": 6,
   "metadata": {},
   "outputs": [
    {
     "data": {
      "text/plain": [
       "Unnamed: 0                    2965\n",
       "limit_balance                   59\n",
       "sex                              2\n",
       "education_level                  7\n",
       "marital_status                   4\n",
       "age                             49\n",
       "pay_0                           11\n",
       "pay_2                           10\n",
       "pay_3                            9\n",
       "pay_4                           10\n",
       "pay_5                            9\n",
       "pay_6                            8\n",
       "bill_amt_1                    2643\n",
       "bill_amt_2                    2592\n",
       "bill_amt_3                    2549\n",
       "bill_amt_4                    2504\n",
       "bill_amt_5                    2482\n",
       "bill_amt_6                    2461\n",
       "pay_amt_1                     1415\n",
       "pay_amt_2                     1372\n",
       "pay_amt_3                     1302\n",
       "pay_amt_4                     1214\n",
       "pay_amt_5                     1194\n",
       "pay_amt_6                     1189\n",
       "default_payment_next_month       2\n",
       "dtype: int64"
      ]
     },
     "execution_count": 6,
     "metadata": {},
     "output_type": "execute_result"
    }
   ],
   "source": [
    "# Check total unique values\n",
    "df.nunique()"
   ]
  },
  {
   "cell_type": "markdown",
   "metadata": {},
   "source": [
    "There are some columns, such as `sex`, `educational_level`, `marital_status`, etc. that only have limited unique values."
   ]
  },
  {
   "cell_type": "markdown",
   "metadata": {},
   "source": [
    "The next exploration is to check whether the dataset have any duplicated rows using a method called `duplicated()`."
   ]
  },
  {
   "cell_type": "code",
   "execution_count": 7,
   "metadata": {},
   "outputs": [
    {
     "data": {
      "text/plain": [
       "0"
      ]
     },
     "execution_count": 7,
     "metadata": {},
     "output_type": "execute_result"
    }
   ],
   "source": [
    "# Check total of duplicated rows\n",
    "df.duplicated().sum()"
   ]
  },
  {
   "cell_type": "markdown",
   "metadata": {},
   "source": [
    "The `sum()` method shows the total number of the duplicated rows. In this case, there are no duplicated rows which means each rows are unique and there is no need to drop any row.\n",
    "\n",
    "Lastly, the missing values from each columns are checked using method `isnull()`."
   ]
  },
  {
   "cell_type": "code",
   "execution_count": 8,
   "metadata": {},
   "outputs": [
    {
     "data": {
      "text/plain": [
       "Unnamed: 0                    0\n",
       "limit_balance                 0\n",
       "sex                           0\n",
       "education_level               0\n",
       "marital_status                0\n",
       "age                           0\n",
       "pay_0                         0\n",
       "pay_2                         0\n",
       "pay_3                         0\n",
       "pay_4                         0\n",
       "pay_5                         0\n",
       "pay_6                         0\n",
       "bill_amt_1                    0\n",
       "bill_amt_2                    0\n",
       "bill_amt_3                    0\n",
       "bill_amt_4                    0\n",
       "bill_amt_5                    0\n",
       "bill_amt_6                    0\n",
       "pay_amt_1                     0\n",
       "pay_amt_2                     0\n",
       "pay_amt_3                     0\n",
       "pay_amt_4                     0\n",
       "pay_amt_5                     0\n",
       "pay_amt_6                     0\n",
       "default_payment_next_month    0\n",
       "dtype: int64"
      ]
     },
     "execution_count": 8,
     "metadata": {},
     "output_type": "execute_result"
    }
   ],
   "source": [
    "# Check missing values\n",
    "df.isnull().sum()"
   ]
  },
  {
   "cell_type": "markdown",
   "metadata": {},
   "source": [
    "Fortunately, there are no missing values in the dataset, eliminating the need to handle missing values."
   ]
  },
  {
   "cell_type": "markdown",
   "metadata": {},
   "source": [
    "#### **ii. Data Cleaning**"
   ]
  },
  {
   "cell_type": "markdown",
   "metadata": {},
   "source": [
    "After exploring the dataset, it's clear that most data is already cleaned and requires no further handling. However, the column `Unnamed: 0` will be dropped as it serves as a unique identifier and does not correlate with the `default_payment_next_month` variable."
   ]
  },
  {
   "cell_type": "code",
   "execution_count": 9,
   "metadata": {},
   "outputs": [],
   "source": [
    "# Drop column\n",
    "df = df.drop(columns=['Unnamed: 0'])"
   ]
  },
  {
   "cell_type": "markdown",
   "metadata": {},
   "source": [
    "#### **iii. Data Checking**"
   ]
  },
  {
   "cell_type": "markdown",
   "metadata": {},
   "source": [
    "To verify that the cleaning processes are complete, the `info` method is used again to check the summary data after cleaning."
   ]
  },
  {
   "cell_type": "code",
   "execution_count": 10,
   "metadata": {},
   "outputs": [
    {
     "name": "stdout",
     "output_type": "stream",
     "text": [
      "<class 'pandas.core.frame.DataFrame'>\n",
      "RangeIndex: 2965 entries, 0 to 2964\n",
      "Data columns (total 24 columns):\n",
      " #   Column                      Non-Null Count  Dtype  \n",
      "---  ------                      --------------  -----  \n",
      " 0   limit_balance               2965 non-null   float64\n",
      " 1   sex                         2965 non-null   int64  \n",
      " 2   education_level             2965 non-null   int64  \n",
      " 3   marital_status              2965 non-null   int64  \n",
      " 4   age                         2965 non-null   float64\n",
      " 5   pay_0                       2965 non-null   float64\n",
      " 6   pay_2                       2965 non-null   float64\n",
      " 7   pay_3                       2965 non-null   float64\n",
      " 8   pay_4                       2965 non-null   float64\n",
      " 9   pay_5                       2965 non-null   float64\n",
      " 10  pay_6                       2965 non-null   float64\n",
      " 11  bill_amt_1                  2965 non-null   float64\n",
      " 12  bill_amt_2                  2965 non-null   float64\n",
      " 13  bill_amt_3                  2965 non-null   float64\n",
      " 14  bill_amt_4                  2965 non-null   float64\n",
      " 15  bill_amt_5                  2965 non-null   float64\n",
      " 16  bill_amt_6                  2965 non-null   float64\n",
      " 17  pay_amt_1                   2965 non-null   float64\n",
      " 18  pay_amt_2                   2965 non-null   float64\n",
      " 19  pay_amt_3                   2965 non-null   float64\n",
      " 20  pay_amt_4                   2965 non-null   float64\n",
      " 21  pay_amt_5                   2965 non-null   float64\n",
      " 22  pay_amt_6                   2965 non-null   float64\n",
      " 23  default_payment_next_month  2965 non-null   int64  \n",
      "dtypes: float64(20), int64(4)\n",
      "memory usage: 556.1 KB\n"
     ]
    }
   ],
   "source": [
    "df.info()"
   ]
  },
  {
   "cell_type": "markdown",
   "metadata": {},
   "source": [
    "The dataset now contains 24 columns and the `Unnamed: 0` column has been successfully removed, indicating that the cleaning process has been completed correctly."
   ]
  },
  {
   "cell_type": "markdown",
   "metadata": {},
   "source": [
    "### **E. Exploratory Data Analysis (EDA)**"
   ]
  },
  {
   "cell_type": "markdown",
   "metadata": {},
   "source": [
    "After completing the data cleaning process, the next step is to explore the data distribution using visualization tools like bar charts, pie charts, and so forth."
   ]
  },
  {
   "cell_type": "markdown",
   "metadata": {},
   "source": [
    "##### **i. Gender Percentages**"
   ]
  },
  {
   "cell_type": "markdown",
   "metadata": {},
   "source": [
    "The initial step is to assess the composition of clients based on their gender (male or female)."
   ]
  },
  {
   "cell_type": "code",
   "execution_count": 11,
   "metadata": {},
   "outputs": [
    {
     "data": {
      "image/png": "[encoded data removed]",
      "text/plain": [
       "<Figure size 1000x600 with 1 Axes>"
      ]
     },
     "metadata": {},
     "output_type": "display_data"
    }
   ],
   "source": [
    "# Replace numerical labels with its name\n",
    "sex_category = df['sex'].replace({1: 'Male',\n",
    "                                  2: 'Female'})\n",
    "\n",
    "# Count the occurrences of sex categories\n",
    "sex_counts = sex_category.value_counts()\n",
    "\n",
    "# Calculate the percentage for each sex category\n",
    "sex_percentages = (sex_counts / sex_counts.sum()) * 100\n",
    "\n",
    "# Plotting the pie chart\n",
    "plt.figure(figsize=(10, 6))\n",
    "plt.pie(sex_percentages, labels=sex_percentages.index, autopct='%1.1f%%', startangle=140, colors=sns.color_palette('Spectral'))\n",
    "plt.title('Gender Category Percentages')\n",
    "plt.show()\n"
   ]
  },
  {
   "cell_type": "markdown",
   "metadata": {},
   "source": [
    "The dataset indicates a dominance of females, accounting for 60.8% of the clients, while males make up 39.2%. This suggests a higher representation of females in this company's client base."
   ]
  },
  {
   "cell_type": "markdown",
   "metadata": {},
   "source": [
    "##### **ii. Educational Level**"
   ]
  },
  {
   "cell_type": "markdown",
   "metadata": {},
   "source": [
    "The next step involves exploring the educational levels of all clients."
   ]
  },
  {
   "cell_type": "code",
   "execution_count": 12,
   "metadata": {},
   "outputs": [
    {
     "data": {
      "image/png": "[encoded data removed]",
      "text/plain": [
       "<Figure size 800x600 with 1 Axes>"
      ]
     },
     "metadata": {},
     "output_type": "display_data"
    }
   ],
   "source": [
    "# Replace numerical labels with its name\n",
    "edu_category = df['education_level'].replace({0: 'Unknown',\n",
    "                                              1: 'Graduate School',\n",
    "                                              2: 'University',\n",
    "                                              3: 'High School',\n",
    "                                              4: 'Others',\n",
    "                                              5: 'Unknown',\n",
    "                                              6: 'Unknown'})\n",
    "\n",
    "# Count the occurrences of each education category\n",
    "edu_level_counts = edu_category.value_counts().sort_values(ascending=False)\n",
    "\n",
    "# Convert index labels to strings for plotting\n",
    "x_labels = edu_level_counts.index.astype(str)\n",
    "y_values = edu_level_counts.values\n",
    "\n",
    "# Plotting the bar graph\n",
    "plt.figure(figsize=(8, 6))\n",
    "bars = plt.bar(x_labels, y_values, edgecolor='black')\n",
    "plt.bar(x_labels, y_values)\n",
    "plt.xlabel('Education Level')\n",
    "plt.ylabel('Total Clients')\n",
    "plt.title('Total Clients by Education Level')\n",
    "plt.xticks(rotation=45, ha='right')\n",
    "\n",
    "# Adding the text labels above the bars\n",
    "for bar in bars:\n",
    "    yval = bar.get_height()\n",
    "    plt.text(bar.get_x() + bar.get_width()/2, yval, round(yval, 1), ha='center', va='bottom')\n",
    "\n",
    "plt.tight_layout()\n",
    "plt.show()\n"
   ]
  },
  {
   "cell_type": "markdown",
   "metadata": {},
   "source": [
    "The bar chart shows the total number of clients categorized by their educational levels, with X representing the education level and Y representing the total number of clients. The highest number of clients are from the university level (1400 people), followed by graduate school (1039) and high school (483). However, there are also 30 clients with an unknown education level, along with 13 others whose education level is not specified.\n",
    "\n",
    "Based on the data presented in the bar chart, it can be concluded that the majority of clients fall into higher education categories, specifically university and graduate school levels. This indicates that a significant portion of clients seeking services or products likely have advanced educational backgrounds."
   ]
  },
  {
   "cell_type": "markdown",
   "metadata": {},
   "source": [
    "#### **iii. Marital Status**"
   ]
  },
  {
   "cell_type": "markdown",
   "metadata": {},
   "source": [
    "The next step is to explore the marital status of clients."
   ]
  },
  {
   "cell_type": "code",
   "execution_count": 13,
   "metadata": {},
   "outputs": [
    {
     "data": {
      "image/png": "[encoded data removed]",
      "text/plain": [
       "<Figure size 800x600 with 1 Axes>"
      ]
     },
     "metadata": {},
     "output_type": "display_data"
    }
   ],
   "source": [
    "# Replace numerical labels with its name\n",
    "marital_category = df['marital_status'].replace({\n",
    "    0: 'Others',\n",
    "    1: 'Married',\n",
    "    2: 'Single',\n",
    "    3: 'Others'\n",
    "})\n",
    "\n",
    "# Count the occurrences of each marital category\n",
    "marital_counts = marital_category.value_counts().sort_values(ascending=False)\n",
    "\n",
    "# Convert index labels to strings for plotting\n",
    "x_labels = marital_counts.index.astype(str)\n",
    "y_values = marital_counts.values\n",
    "\n",
    "# Plotting the bar graph\n",
    "plt.figure(figsize=(8, 6))\n",
    "bars = plt.bar(x_labels, y_values, edgecolor='black')\n",
    "plt.xlabel('Marital Status')\n",
    "plt.ylabel('Total Clients')\n",
    "plt.title('Total Clients by Marital Status')\n",
    "plt.xticks(rotation=45, ha='right')\n",
    "\n",
    "# Adding the text labels above the bars\n",
    "for bar in bars:\n",
    "    yval = bar.get_height()\n",
    "    plt.text(bar.get_x() + bar.get_width()/2, yval, round(yval, 1), ha='center', va='bottom')\n",
    "\n",
    "plt.tight_layout()\n",
    "plt.show()\n"
   ]
  },
  {
   "cell_type": "markdown",
   "metadata": {},
   "source": [
    "The bar chart shows the total number of clients according to their marital status, with X representing the marital status and Y representing the total number of clients. The highest number of clients are single (1594 people), followed by married (1332) and others (39).\n",
    "\n",
    "From this analysis, it's evident that the majority of clients are unmarried, with singles making up a significant proportion of the company's client base."
   ]
  },
  {
   "cell_type": "markdown",
   "metadata": {},
   "source": [
    "#### **iv. Distribution of Age**"
   ]
  },
  {
   "cell_type": "markdown",
   "metadata": {},
   "source": [
    "Exploring the age distribution of all clients is the next task at hand."
   ]
  },
  {
   "cell_type": "code",
   "execution_count": 14,
   "metadata": {},
   "outputs": [
    {
     "data": {
      "image/png": "[encoded data removed]",
      "text/plain": [
       "<Figure size 1000x600 with 1 Axes>"
      ]
     },
     "metadata": {},
     "output_type": "display_data"
    }
   ],
   "source": [
    "# Plot graph\n",
    "plt.figure(figsize=(10, 6))\n",
    "plt.hist(df['age'], bins=range(int(df['age'].min()), int(df['age'].max()) + 1, 5), edgecolor='black')\n",
    "plt.title('Distribution of Age')\n",
    "plt.xlabel('Age (years)')\n",
    "plt.ylabel('Total Clients')\n",
    "plt.show()\n"
   ]
  },
  {
   "cell_type": "markdown",
   "metadata": {},
   "source": [
    "The histogram shows the distribution of clients' age where X represents the age and Y represensts the total clients. It indicates that in the credit default payment dataset, the younger demographic, particularly those between 20 and 30 years old, has the highest frequency of all clients. "
   ]
  },
  {
   "cell_type": "markdown",
   "metadata": {},
   "source": [
    "#### **v. Bill Amounts over 6 Months**"
   ]
  },
  {
   "cell_type": "markdown",
   "metadata": {},
   "source": [
    "Given the columns representing bill amounts from April to September, the next step involves visualizing the trend."
   ]
  },
  {
   "cell_type": "code",
   "execution_count": 15,
   "metadata": {},
   "outputs": [
    {
     "data": {
      "image/png": "[encoded data removed]",
      "text/plain": [
       "<Figure size 1000x600 with 1 Axes>"
      ]
     },
     "metadata": {},
     "output_type": "display_data"
    }
   ],
   "source": [
    "# Rename columns\n",
    "bill_amount = df.rename(columns={'bill_amt_1': 'September',\n",
    "                                 'bill_amt_2': 'August',\n",
    "                                 'bill_amt_3': 'July',\n",
    "                                 'bill_amt_4': 'June',\n",
    "                                 'bill_amt_5': 'May',\n",
    "                                 'bill_amt_6': 'April'})\n",
    "\n",
    "# Calculate the average of payment status for each month\n",
    "bill_amounts_avg = bill_amount[['September', 'August', 'July', 'June', 'May', 'April']].mean()\n",
    "\n",
    "month_label = ['April', 'May', 'June','July', 'August', 'September']\n",
    "bill_amounts_avg = bill_amounts_avg.reindex(month_label)\n",
    "\n",
    "# Plotting the line graph\n",
    "plt.figure(figsize=(10, 6))\n",
    "plt.plot(bill_amounts_avg.index, bill_amounts_avg.values, marker='o', linestyle='-', color='coral')\n",
    "plt.title('Average Monthly Bill Amounts in 2005')\n",
    "plt.xlabel('Month')\n",
    "plt.ylabel('Average Bill Amount (NTD)')\n",
    "plt.xticks(ticks=range(len(bill_amounts_avg.index)), labels=bill_amounts_avg.index)\n",
    "plt.grid(True)\n",
    "plt.tight_layout()\n",
    "plt.show()"
   ]
  },
  {
   "cell_type": "markdown",
   "metadata": {},
   "source": [
    "The line graph shows a clear upward trend in average monthly bill amounts in New Taiwan Dollars (NTD) from April to September in 2005. Starting from a low in April, there is a consistent increase each month, with the highest average bill amount in September. This could suggest a seasonal pattern in spending or bill accumulation, where individuals may have higher expenses towards the end of the year. "
   ]
  },
  {
   "cell_type": "markdown",
   "metadata": {},
   "source": [
    "#### **vi. Payment Amounts over 6 Months**"
   ]
  },
  {
   "cell_type": "markdown",
   "metadata": {},
   "source": [
    "Following the bill amount analysis, the next step is to examine how clients make payments."
   ]
  },
  {
   "cell_type": "code",
   "execution_count": 16,
   "metadata": {},
   "outputs": [
    {
     "data": {
      "image/png": "[encoded data removed]",
      "text/plain": [
       "<Figure size 1000x600 with 1 Axes>"
      ]
     },
     "metadata": {},
     "output_type": "display_data"
    }
   ],
   "source": [
    "# Define the columns to plot and rename labels\n",
    "payment = ['pay_amt_6', 'pay_amt_5', 'pay_amt_4', 'pay_amt_3', 'pay_amt_2', 'pay_amt_1']\n",
    "\n",
    "# Calculate the average payment for each month\n",
    "monthly_payments = df[payment].mean()\n",
    "\n",
    "# Create a line plot\n",
    "plt.figure(figsize=(10, 6))\n",
    "plt.plot(month_label, monthly_payments, marker='o', linestyle='-', color='coral')\n",
    "plt.title('Average Monthly Payment Amounts in 2005')\n",
    "plt.xlabel('Month')\n",
    "plt.ylabel('Average Payment Amount (NTD)')\n",
    "plt.grid(True)\n",
    "plt.show()"
   ]
  },
  {
   "cell_type": "markdown",
   "metadata": {},
   "source": [
    "The line graph presents a trend in average monthly payment amounts in New Taiwan Dollars (NTD) for the year 2005, which have a little contrasts with the bill amounts trend shared earlier. It started off lower in April, then decreasing further in May and June, before climbing steadily to a peak in September. This pattern may suggest a trend where payments bottom out mid-year and then increase toward the end of the year, possibly as individuals begin to settle accumulated debts or due to an uptick in spending."
   ]
  },
  {
   "cell_type": "markdown",
   "metadata": {},
   "source": [
    "#### **vii. Default Payment Percentages**"
   ]
  },
  {
   "cell_type": "markdown",
   "metadata": {},
   "source": [
    "Lastly, let's take a look at the composition of default and non-default payments."
   ]
  },
  {
   "cell_type": "code",
   "execution_count": 17,
   "metadata": {},
   "outputs": [
    {
     "data": {
      "image/png": "[encoded data removed]",
      "text/plain": [
       "<Figure size 1000x600 with 1 Axes>"
      ]
     },
     "metadata": {},
     "output_type": "display_data"
    }
   ],
   "source": [
    "# Replace numerical labels with its name\n",
    "default_status = df['default_payment_next_month'].replace({1: 'Default',\n",
    "                                                           0: 'Non-Default'})\n",
    "\n",
    "# Count the occurrences of default categories\n",
    "default_counts = default_status.value_counts()\n",
    "\n",
    "# Calculate the percentage for each default category\n",
    "default_percentages = (default_counts / default_counts.sum()) * 100\n",
    "\n",
    "# Plotting the pie chart\n",
    "plt.figure(figsize=(10, 6))\n",
    "plt.pie(default_percentages, labels=default_percentages.index, autopct='%1.1f%%', startangle=140, colors=sns.color_palette('Spectral'))\n",
    "plt.title('Default Payment Next Month Percentages')\n",
    "\n",
    "plt.show()"
   ]
  },
  {
   "cell_type": "markdown",
   "metadata": {},
   "source": [
    "The pie chart shows how many clients make their payments on time and how many don't. Most clients, about 78.6%, pay on time (non-default). However, around 21.4% don't pay on time (default). This smaller group needs more attention from credit institutions to figure out why they struggle with payments. Learning more about these clients can help improve risk assessment and credit scoring methods."
   ]
  },
  {
   "cell_type": "markdown",
   "metadata": {},
   "source": [
    "### **F. Feature Engineering**"
   ]
  },
  {
   "cell_type": "markdown",
   "metadata": {},
   "source": [
    "Before moving on to model development, the features need to be selected to ensure that only correlated features are used and any irrelevant or redundant features are removed. Additionally, the selected features should be pre-processed to enhance the overall analysis."
   ]
  },
  {
   "cell_type": "markdown",
   "metadata": {},
   "source": [
    "#### **i. Split Inference Set**"
   ]
  },
  {
   "cell_type": "markdown",
   "metadata": {},
   "source": [
    "For model testing or inference purposes, 1 row is taken out of the dataset and saved as a separate CSV file."
   ]
  },
  {
   "cell_type": "code",
   "execution_count": 18,
   "metadata": {},
   "outputs": [],
   "source": [
    "# Select 1 row to test as inference set and save it to a variable\n",
    "data_inf = df.sample(1, random_state=50)\n",
    "\n",
    "# Delete selected row from dataframe\n",
    "df.drop(data_inf.index, inplace=True)\n",
    "\n",
    "# Reset index for both dataframe\n",
    "df.reset_index(drop=True, inplace=True)\n",
    "data_inf.reset_index(drop=True, inplace=True)\n",
    "\n",
    "# Remove target in data_inf\n",
    "data_inf.drop(['default_payment_next_month'], axis=1, inplace=True)\n",
    "\n",
    "# Save data_inf to csv\n",
    "data_inf.to_csv('data_inf.csv')"
   ]
  },
  {
   "cell_type": "markdown",
   "metadata": {},
   "source": [
    "In the dataset used to develop the model, the row that was extracted is removed to ensure the model isn't trained on that specific data. When preparing the inference dataset, the `default_payment_next_month` column, which is the target variable, is removed to enable accurate model predictions."
   ]
  },
  {
   "cell_type": "markdown",
   "metadata": {},
   "source": [
    "#### **ii. Split X (Features) and y (Target)**"
   ]
  },
  {
   "cell_type": "markdown",
   "metadata": {},
   "source": [
    "Following the separation of the inference set, the remaining dataset is splitted into features and target variables. In this analysis, X represents the features, while y represents the target variable."
   ]
  },
  {
   "cell_type": "code",
   "execution_count": 19,
   "metadata": {},
   "outputs": [],
   "source": [
    "# Split between X and y\n",
    "X = df.drop(['default_payment_next_month'], axis=1)\n",
    "y = df.default_payment_next_month"
   ]
  },
  {
   "cell_type": "markdown",
   "metadata": {},
   "source": [
    "X excludes the `default_payment_next_month` column from the dataset, whereas y only includes the `default_payment_next_month` column."
   ]
  },
  {
   "cell_type": "markdown",
   "metadata": {},
   "source": [
    "#### **iii. Split Train-Set and Test-Set**"
   ]
  },
  {
   "cell_type": "markdown",
   "metadata": {},
   "source": [
    "After splitting into X and y, both datasets must now be split again into **training sets** and **testing sets**. The training set will be used to train the model, while the testing set will be used to evaluate the model's performance on unseen data."
   ]
  },
  {
   "cell_type": "code",
   "execution_count": 20,
   "metadata": {},
   "outputs": [
    {
     "name": "stdout",
     "output_type": "stream",
     "text": [
      "Train Size : (2074, 23)\n",
      "Test Size : (890, 23)\n"
     ]
    },
    {
     "data": {
      "text/html": [
       "<div>\n",
       "<style scoped>\n",
       "    .dataframe tbody tr th:only-of-type {\n",
       "        vertical-align: middle;\n",
       "    }\n",
       "\n",
       "    .dataframe tbody tr th {\n",
       "        vertical-align: top;\n",
       "    }\n",
       "\n",
       "    .dataframe thead th {\n",
       "        text-align: right;\n",
       "    }\n",
       "</style>\n",
       "<table border=\"1\" class=\"dataframe\">\n",
       "  <thead>\n",
       "    <tr style=\"text-align: right;\">\n",
       "      <th></th>\n",
       "      <th>limit_balance</th>\n",
       "      <th>sex</th>\n",
       "      <th>education_level</th>\n",
       "      <th>marital_status</th>\n",
       "      <th>age</th>\n",
       "      <th>pay_0</th>\n",
       "      <th>pay_2</th>\n",
       "      <th>pay_3</th>\n",
       "      <th>pay_4</th>\n",
       "      <th>pay_5</th>\n",
       "      <th>...</th>\n",
       "      <th>bill_amt_3</th>\n",
       "      <th>bill_amt_4</th>\n",
       "      <th>bill_amt_5</th>\n",
       "      <th>bill_amt_6</th>\n",
       "      <th>pay_amt_1</th>\n",
       "      <th>pay_amt_2</th>\n",
       "      <th>pay_amt_3</th>\n",
       "      <th>pay_amt_4</th>\n",
       "      <th>pay_amt_5</th>\n",
       "      <th>pay_amt_6</th>\n",
       "    </tr>\n",
       "  </thead>\n",
       "  <tbody>\n",
       "    <tr>\n",
       "      <th>1290</th>\n",
       "      <td>130000.0</td>\n",
       "      <td>2</td>\n",
       "      <td>3</td>\n",
       "      <td>1</td>\n",
       "      <td>42.0</td>\n",
       "      <td>2.0</td>\n",
       "      <td>2.0</td>\n",
       "      <td>0.0</td>\n",
       "      <td>0.0</td>\n",
       "      <td>0.0</td>\n",
       "      <td>...</td>\n",
       "      <td>95477.0</td>\n",
       "      <td>95334.0</td>\n",
       "      <td>96066.0</td>\n",
       "      <td>97413.0</td>\n",
       "      <td>0.0</td>\n",
       "      <td>4500.0</td>\n",
       "      <td>3500.0</td>\n",
       "      <td>3400.0</td>\n",
       "      <td>4000.0</td>\n",
       "      <td>4000.0</td>\n",
       "    </tr>\n",
       "    <tr>\n",
       "      <th>1911</th>\n",
       "      <td>90000.0</td>\n",
       "      <td>2</td>\n",
       "      <td>2</td>\n",
       "      <td>2</td>\n",
       "      <td>26.0</td>\n",
       "      <td>1.0</td>\n",
       "      <td>2.0</td>\n",
       "      <td>2.0</td>\n",
       "      <td>2.0</td>\n",
       "      <td>2.0</td>\n",
       "      <td>...</td>\n",
       "      <td>53295.0</td>\n",
       "      <td>53826.0</td>\n",
       "      <td>54548.0</td>\n",
       "      <td>55525.0</td>\n",
       "      <td>0.0</td>\n",
       "      <td>5000.0</td>\n",
       "      <td>2000.0</td>\n",
       "      <td>2200.0</td>\n",
       "      <td>2000.0</td>\n",
       "      <td>2500.0</td>\n",
       "    </tr>\n",
       "    <tr>\n",
       "      <th>1837</th>\n",
       "      <td>110000.0</td>\n",
       "      <td>1</td>\n",
       "      <td>1</td>\n",
       "      <td>2</td>\n",
       "      <td>30.0</td>\n",
       "      <td>1.0</td>\n",
       "      <td>2.0</td>\n",
       "      <td>2.0</td>\n",
       "      <td>2.0</td>\n",
       "      <td>2.0</td>\n",
       "      <td>...</td>\n",
       "      <td>92035.0</td>\n",
       "      <td>93231.0</td>\n",
       "      <td>94309.0</td>\n",
       "      <td>96258.0</td>\n",
       "      <td>4200.0</td>\n",
       "      <td>4200.0</td>\n",
       "      <td>3600.0</td>\n",
       "      <td>3500.0</td>\n",
       "      <td>3600.0</td>\n",
       "      <td>0.0</td>\n",
       "    </tr>\n",
       "    <tr>\n",
       "      <th>2424</th>\n",
       "      <td>160000.0</td>\n",
       "      <td>2</td>\n",
       "      <td>2</td>\n",
       "      <td>2</td>\n",
       "      <td>34.0</td>\n",
       "      <td>-1.0</td>\n",
       "      <td>-1.0</td>\n",
       "      <td>-1.0</td>\n",
       "      <td>-1.0</td>\n",
       "      <td>-1.0</td>\n",
       "      <td>...</td>\n",
       "      <td>7918.0</td>\n",
       "      <td>13780.0</td>\n",
       "      <td>12297.0</td>\n",
       "      <td>12752.0</td>\n",
       "      <td>24000.0</td>\n",
       "      <td>8000.0</td>\n",
       "      <td>13780.0</td>\n",
       "      <td>12300.0</td>\n",
       "      <td>12752.0</td>\n",
       "      <td>6000.0</td>\n",
       "    </tr>\n",
       "    <tr>\n",
       "      <th>2405</th>\n",
       "      <td>20000.0</td>\n",
       "      <td>2</td>\n",
       "      <td>2</td>\n",
       "      <td>1</td>\n",
       "      <td>43.0</td>\n",
       "      <td>-1.0</td>\n",
       "      <td>-1.0</td>\n",
       "      <td>-1.0</td>\n",
       "      <td>-1.0</td>\n",
       "      <td>-1.0</td>\n",
       "      <td>...</td>\n",
       "      <td>3898.0</td>\n",
       "      <td>1681.0</td>\n",
       "      <td>901.0</td>\n",
       "      <td>0.0</td>\n",
       "      <td>1291.0</td>\n",
       "      <td>3898.0</td>\n",
       "      <td>1681.0</td>\n",
       "      <td>901.0</td>\n",
       "      <td>0.0</td>\n",
       "      <td>0.0</td>\n",
       "    </tr>\n",
       "  </tbody>\n",
       "</table>\n",
       "<p>5 rows × 23 columns</p>\n",
       "</div>"
      ],
      "text/plain": [
       "      limit_balance  sex  education_level  marital_status   age  pay_0  pay_2  \\\n",
       "1290       130000.0    2                3               1  42.0    2.0    2.0   \n",
       "1911        90000.0    2                2               2  26.0    1.0    2.0   \n",
       "1837       110000.0    1                1               2  30.0    1.0    2.0   \n",
       "2424       160000.0    2                2               2  34.0   -1.0   -1.0   \n",
       "2405        20000.0    2                2               1  43.0   -1.0   -1.0   \n",
       "\n",
       "      pay_3  pay_4  pay_5  ...  bill_amt_3  bill_amt_4  bill_amt_5  \\\n",
       "1290    0.0    0.0    0.0  ...     95477.0     95334.0     96066.0   \n",
       "1911    2.0    2.0    2.0  ...     53295.0     53826.0     54548.0   \n",
       "1837    2.0    2.0    2.0  ...     92035.0     93231.0     94309.0   \n",
       "2424   -1.0   -1.0   -1.0  ...      7918.0     13780.0     12297.0   \n",
       "2405   -1.0   -1.0   -1.0  ...      3898.0      1681.0       901.0   \n",
       "\n",
       "      bill_amt_6  pay_amt_1  pay_amt_2  pay_amt_3  pay_amt_4  pay_amt_5  \\\n",
       "1290     97413.0        0.0     4500.0     3500.0     3400.0     4000.0   \n",
       "1911     55525.0        0.0     5000.0     2000.0     2200.0     2000.0   \n",
       "1837     96258.0     4200.0     4200.0     3600.0     3500.0     3600.0   \n",
       "2424     12752.0    24000.0     8000.0    13780.0    12300.0    12752.0   \n",
       "2405         0.0     1291.0     3898.0     1681.0      901.0        0.0   \n",
       "\n",
       "      pay_amt_6  \n",
       "1290     4000.0  \n",
       "1911     2500.0  \n",
       "1837        0.0  \n",
       "2424     6000.0  \n",
       "2405        0.0  \n",
       "\n",
       "[5 rows x 23 columns]"
      ]
     },
     "execution_count": 20,
     "metadata": {},
     "output_type": "execute_result"
    }
   ],
   "source": [
    "# Splitting train-set and test-set using 'Train_test_split'\n",
    "X_train, X_test, y_train, y_test = train_test_split(X, y, test_size=0.3, random_state=5, stratify=y)\n",
    "\n",
    "# Print train and test shape\n",
    "print('Train Size :', X_train.shape)\n",
    "print('Test Size :', X_test.shape)\n",
    "\n",
    "# Show one of the variable \n",
    "X_train.head()"
   ]
  },
  {
   "cell_type": "markdown",
   "metadata": {},
   "source": [
    "The training set now consists of **2074** rows, while the test set consists of **890** rows. The splitting method uses `stratify` to ensure that the proportion of 'yes' and 'no' default payments in the target variable (y) is maintained in both the training and testing sets. This helps in creating representative subsets of data for training and evaluation, especially in cases where the target variable is **imbalanced**."
   ]
  },
  {
   "cell_type": "markdown",
   "metadata": {},
   "source": [
    "#### **iv. Missing Value Handling**"
   ]
  },
  {
   "cell_type": "markdown",
   "metadata": {},
   "source": [
    "In the previous exploration, it was concluded that there are no missing values in the dataset. Therefore, this section will simply double check from the 4 variables split before, there are indeed no missing values."
   ]
  },
  {
   "cell_type": "code",
   "execution_count": 21,
   "metadata": {},
   "outputs": [
    {
     "data": {
      "text/plain": [
       "limit_balance      0\n",
       "sex                0\n",
       "education_level    0\n",
       "marital_status     0\n",
       "age                0\n",
       "pay_0              0\n",
       "pay_2              0\n",
       "pay_3              0\n",
       "pay_4              0\n",
       "pay_5              0\n",
       "pay_6              0\n",
       "bill_amt_1         0\n",
       "bill_amt_2         0\n",
       "bill_amt_3         0\n",
       "bill_amt_4         0\n",
       "bill_amt_5         0\n",
       "bill_amt_6         0\n",
       "pay_amt_1          0\n",
       "pay_amt_2          0\n",
       "pay_amt_3          0\n",
       "pay_amt_4          0\n",
       "pay_amt_5          0\n",
       "pay_amt_6          0\n",
       "dtype: int64"
      ]
     },
     "execution_count": 21,
     "metadata": {},
     "output_type": "execute_result"
    }
   ],
   "source": [
    "# Check missing value in X_train\n",
    "X_train.isnull().sum()"
   ]
  },
  {
   "cell_type": "code",
   "execution_count": 22,
   "metadata": {},
   "outputs": [
    {
     "data": {
      "text/plain": [
       "limit_balance      0\n",
       "sex                0\n",
       "education_level    0\n",
       "marital_status     0\n",
       "age                0\n",
       "pay_0              0\n",
       "pay_2              0\n",
       "pay_3              0\n",
       "pay_4              0\n",
       "pay_5              0\n",
       "pay_6              0\n",
       "bill_amt_1         0\n",
       "bill_amt_2         0\n",
       "bill_amt_3         0\n",
       "bill_amt_4         0\n",
       "bill_amt_5         0\n",
       "bill_amt_6         0\n",
       "pay_amt_1          0\n",
       "pay_amt_2          0\n",
       "pay_amt_3          0\n",
       "pay_amt_4          0\n",
       "pay_amt_5          0\n",
       "pay_amt_6          0\n",
       "dtype: int64"
      ]
     },
     "execution_count": 22,
     "metadata": {},
     "output_type": "execute_result"
    }
   ],
   "source": [
    "# Check missing value in X_test\n",
    "X_test.isnull().sum()"
   ]
  },
  {
   "cell_type": "code",
   "execution_count": 23,
   "metadata": {},
   "outputs": [
    {
     "data": {
      "text/plain": [
       "0"
      ]
     },
     "execution_count": 23,
     "metadata": {},
     "output_type": "execute_result"
    }
   ],
   "source": [
    "# Check missing value in y_train\n",
    "y_train.isnull().sum()"
   ]
  },
  {
   "cell_type": "code",
   "execution_count": 24,
   "metadata": {},
   "outputs": [
    {
     "data": {
      "text/plain": [
       "0"
      ]
     },
     "execution_count": 24,
     "metadata": {},
     "output_type": "execute_result"
    }
   ],
   "source": [
    "# Check missing value in y_test\n",
    "y_test.isnull().sum()"
   ]
  },
  {
   "cell_type": "markdown",
   "metadata": {},
   "source": [
    "It can be seen that among the four variables: **X_train, y_train, X_test, and y_test**, there are no missing values. Hence, moving forward to the next task can be done without any worries regarding missing data."
   ]
  },
  {
   "cell_type": "markdown",
   "metadata": {},
   "source": [
    "#### **v. Outlier Handling**"
   ]
  },
  {
   "cell_type": "markdown",
   "metadata": {},
   "source": [
    "After checking missing values, the outliers need to be checked and handled too. Outliers are data points that differs significantly from the rest of the data, often indicating errors, anomalies, or rare events. Therefore, removing outliers is important to make sure that statistical analyses are not influenced by extreme values, and that the results accurately reflect the patterns in the data.\n",
    "\n",
    "However, columns with minimal unique values will not be included in this outlier handling process because they may contain important information. Removing such columns could lead to the loss of significant data. Also, categorical columns are not handled in this section (including the encoded). The excluded columns are:\n",
    "- `sex`\n",
    "- `educational_level`\n",
    "- `marital_status`\n",
    "- `pay_0`\n",
    "- `pay_2`\n",
    "- `pay_3`\n",
    "- `pay_4`\n",
    "- `pay_5`\n",
    "- `pay_6` \n",
    "\n",
    "Skewness can be an initial indicator of potential outliers, as it reveals the asymmetry in a dataset. The initial step is to calculate the skewness of each column."
   ]
  },
  {
   "cell_type": "code",
   "execution_count": 25,
   "metadata": {},
   "outputs": [
    {
     "name": "stdout",
     "output_type": "stream",
     "text": [
      "limit_balance: 0.9767322252536402\n",
      "age: 0.7555371953398131\n",
      "bill_amt_1: 2.4515052150872694\n",
      "bill_amt_2: 2.413709814532329\n",
      "bill_amt_3: 2.4462014596449535\n",
      "bill_amt_4: 2.418609886734928\n",
      "bill_amt_5: 2.329953330080685\n",
      "bill_amt_6: 2.3633792584650233\n",
      "pay_amt_1: 13.589196995565095\n",
      "pay_amt_2: 32.120888714040916\n",
      "pay_amt_3: 8.1320349997833\n",
      "pay_amt_4: 8.224303711378116\n",
      "pay_amt_5: 12.070223721755609\n",
      "pay_amt_6: 10.401367170191051\n"
     ]
    }
   ],
   "source": [
    "# Create function to check skewness\n",
    "def check_skewness(df, *column_names):\n",
    "    return {col: df[col].skew() for col in column_names if col in df.columns}\n",
    "\n",
    "# Calculate skewness of all numeric columns\n",
    "skewness_results = check_skewness(X_train, 'limit_balance', 'age', 'bill_amt_1', 'bill_amt_2', 'bill_amt_3', 'bill_amt_4', 'bill_amt_5',\n",
    "                                  'bill_amt_6', 'pay_amt_1', 'pay_amt_2', 'pay_amt_3', 'pay_amt_4', 'pay_amt_5', 'pay_amt_6')\n",
    "\n",
    "# Print skewness\n",
    "for col, skewness in skewness_results.items():\n",
    "    print(f\"{col}: {skewness}\")"
   ]
  },
  {
   "cell_type": "markdown",
   "metadata": {},
   "source": [
    "After calculating the skewness for each column, they will be categorized based on their values as follows:\n",
    "\n",
    "- `Normal columns`: Columns with skewness between -0.5 and 0.5.\n",
    "- `Skewed columns`: Columns with skewness less than or equal to -1 or greater than or equal to 1.\n",
    "- `Extremely skewed columns`: Columns with skewness less than -1 or greater than 1.\n",
    "\n",
    "This categorization helps identify the degree of asymmetry in each column's distribution, allowing for targeted outlier detection and handling strategies."
   ]
  },
  {
   "cell_type": "code",
   "execution_count": 26,
   "metadata": {},
   "outputs": [
    {
     "name": "stdout",
     "output_type": "stream",
     "text": [
      "Normal: []\n",
      "Skewed: ['limit_balance', 'age']\n",
      "Extreme Skewed: ['bill_amt_1', 'bill_amt_2', 'bill_amt_3', 'bill_amt_4', 'bill_amt_5', 'bill_amt_6', 'pay_amt_1', 'pay_amt_2', 'pay_amt_3', 'pay_amt_4', 'pay_amt_5', 'pay_amt_6']\n"
     ]
    }
   ],
   "source": [
    "# Initialize empty lists for each skewness category\n",
    "normal_columns = []\n",
    "skewed_columns = []\n",
    "extreme_skewed_columns = []\n",
    "\n",
    "# Loop through the skewness values and categorize the columns\n",
    "for col, skewness in skewness_results.items():\n",
    "    if skewness < -1.0 or skewness > 1.0:\n",
    "        extreme_skewed_columns.append(col)\n",
    "    elif abs(skewness) <= 0.5:\n",
    "        normal_columns.append(col)\n",
    "    else:\n",
    "        skewed_columns.append(col)\n",
    "\n",
    "# Print the columns in each category\n",
    "print(f\"Normal: {normal_columns}\\nSkewed: {skewed_columns}\\nExtreme Skewed: {extreme_skewed_columns}\")"
   ]
  },
  {
   "cell_type": "markdown",
   "metadata": {},
   "source": [
    "The columns have been categorized based on their skewness, and no normal columns were found. To calculate the percentages of outliers more efficiently, a function will be used. Since only skewed and extremely skewed columns remain, outliers will be counted using the Interquartile Range (IQR) method."
   ]
  },
  {
   "cell_type": "code",
   "execution_count": 27,
   "metadata": {},
   "outputs": [
    {
     "name": "stdout",
     "output_type": "stream",
     "text": [
      "Percentage of outliers in limit_balance: 0.39%\n",
      "Percentage of outliers in age: 0.92%\n",
      "Percentage of outliers in bill_amt_1: 2.56%\n",
      "Percentage of outliers in bill_amt_2: 2.41%\n",
      "Percentage of outliers in bill_amt_3: 2.70%\n",
      "Percentage of outliers in bill_amt_4: 2.41%\n",
      "Percentage of outliers in bill_amt_5: 2.36%\n",
      "Percentage of outliers in bill_amt_6: 2.17%\n",
      "Percentage of outliers in pay_amt_1: 4.97%\n",
      "Percentage of outliers in pay_amt_2: 5.88%\n",
      "Percentage of outliers in pay_amt_3: 5.45%\n",
      "Percentage of outliers in pay_amt_4: 4.68%\n",
      "Percentage of outliers in pay_amt_5: 4.77%\n",
      "Percentage of outliers in pay_amt_6: 5.98%\n"
     ]
    }
   ],
   "source": [
    "# Create function to calculate outlier percentages\n",
    "def calculate_outlier_percentages(df, columns, distance):\n",
    "    for variable in columns:\n",
    "        IQR = df[variable].quantile(0.75) - df[variable].quantile(0.25)\n",
    "        lower_boundary = df[variable].quantile(0.25) - (IQR * distance)\n",
    "        upper_boundary = df[variable].quantile(0.75) + (IQR * distance)\n",
    "\n",
    "        outliers = df[(df[variable] < lower_boundary) | (df[variable] > upper_boundary)]\n",
    "        outlier_percentage = len(outliers) / len(df) * 100\n",
    "        \n",
    "        print('Percentage of outliers in {}: {:.2f}%'.format(variable, outlier_percentage))\n",
    "\n",
    "# Calcuate outlier percentages before handling\n",
    "calculate_outlier_percentages(X_train, skewed_columns, 1.5)\n",
    "calculate_outlier_percentages(X_train, extreme_skewed_columns, 3)"
   ]
  },
  {
   "cell_type": "code",
   "execution_count": 28,
   "metadata": {},
   "outputs": [
    {
     "data": {
      "image/png": "[encoded data removed]",
      "text/plain": [
       "<Figure size 1600x600 with 2 Axes>"
      ]
     },
     "metadata": {},
     "output_type": "display_data"
    }
   ],
   "source": [
    "# Create a figure and two subplots side by side\n",
    "fig, axes = plt.subplots(1, 2, figsize=(16, 6))\n",
    "\n",
    "# Boxplot for skewed columns\n",
    "sns.boxplot(data=X_train[skewed_columns], orient=\"h\", ax=axes[0])\n",
    "axes[0].set_title(\"Boxplot for Skewed Columns\")\n",
    "axes[0].set_xlabel(\"Values\")\n",
    "axes[0].set_ylabel(\"Columns\")\n",
    "\n",
    "# Boxplot for extreme skewed columns\n",
    "sns.boxplot(data=X_train[extreme_skewed_columns], orient=\"h\", ax=axes[1])\n",
    "axes[1].set_title(\"Boxplot for Extreme Skewed Columns\")\n",
    "axes[1].set_xlabel(\"Values\")\n",
    "axes[1].set_ylabel(\"Columns\")\n",
    "\n",
    "# Display the plot\n",
    "plt.tight_layout()\n",
    "plt.show()"
   ]
  },
  {
   "cell_type": "markdown",
   "metadata": {},
   "source": [
    "It's concluded that each column still contains outliers, ranging from approximately 0.10% to 6.12%. It also displayed in the boxplot above that there are still some outliers in each column, represented by the circles outside of range. Therefore, it's necessary to handle these outliers. \n",
    "\n",
    "The chosen method for handling outliers is **capping** using the **Winsorization** method. This approach avoids dropping rows since the dataset has **limited entries**, and each data point is valuable. Additionally, the outliers are not a result of input errors but rather reflect real data.\n",
    "\n",
    "[Ref](https://towardsdatascience.com/dont-throw-away-your-outliers-c37e1ab0ce19)"
   ]
  },
  {
   "cell_type": "code",
   "execution_count": 29,
   "metadata": {},
   "outputs": [],
   "source": [
    "# Create function to apply winsorization\n",
    "def apply_winsorization(train, variables, capping_method='iqr', tail='both', fold=3):\n",
    "    winsoriser = Winsorizer(capping_method=capping_method, tail=tail, fold=fold, variables=variables)\n",
    "    train_capped = winsoriser.fit_transform(train)\n",
    "    return train_capped\n",
    "\n",
    "# Apply to X_train column\n",
    "X_train = apply_winsorization(X_train, skewed_columns, fold=1.5)\n",
    "X_train = apply_winsorization(X_train, extreme_skewed_columns)"
   ]
  },
  {
   "cell_type": "markdown",
   "metadata": {},
   "source": [
    "Winsorization is being applied to the `X_train` dataset, taking into account the skewness of its columns. Skewed columns are adjusted using a fold of 1.5, while extremely skewed columns are adjusted using a fold of 3. This approach ensures that outliers are appropriately handled based on the level of skewness observed in each column."
   ]
  },
  {
   "cell_type": "code",
   "execution_count": 30,
   "metadata": {},
   "outputs": [
    {
     "name": "stdout",
     "output_type": "stream",
     "text": [
      "Percentage of outliers in limit_balance: 0.00%\n",
      "Percentage of outliers in age: 0.00%\n",
      "Percentage of outliers in bill_amt_1: 0.00%\n",
      "Percentage of outliers in bill_amt_2: 0.00%\n",
      "Percentage of outliers in bill_amt_3: 0.00%\n",
      "Percentage of outliers in bill_amt_4: 0.00%\n",
      "Percentage of outliers in bill_amt_5: 0.00%\n",
      "Percentage of outliers in bill_amt_6: 0.00%\n",
      "Percentage of outliers in pay_amt_1: 0.00%\n",
      "Percentage of outliers in pay_amt_2: 0.00%\n",
      "Percentage of outliers in pay_amt_3: 0.00%\n",
      "Percentage of outliers in pay_amt_4: 0.00%\n",
      "Percentage of outliers in pay_amt_5: 0.00%\n",
      "Percentage of outliers in pay_amt_6: 0.00%\n"
     ]
    }
   ],
   "source": [
    "# Check the outliers after handling\n",
    "calculate_outlier_percentages(X_train, skewed_columns, 1.5)\n",
    "calculate_outlier_percentages(X_train, extreme_skewed_columns, 3)"
   ]
  },
  {
   "cell_type": "code",
   "execution_count": 31,
   "metadata": {},
   "outputs": [
    {
     "data": {
      "image/png": "[encoded data removed]",
      "text/plain": [
       "<Figure size 1600x600 with 2 Axes>"
      ]
     },
     "metadata": {},
     "output_type": "display_data"
    }
   ],
   "source": [
    "# Create a figure and two subplots side by side\n",
    "fig, axes = plt.subplots(1, 2, figsize=(16, 6))\n",
    "\n",
    "# Boxplot for skewed columns\n",
    "sns.boxplot(data=X_train[skewed_columns], orient=\"h\", ax=axes[0])\n",
    "axes[0].set_title(\"Boxplot for Skewed Columns\")\n",
    "axes[0].set_xlabel(\"Values\")\n",
    "axes[0].set_ylabel(\"Columns\")\n",
    "\n",
    "# Boxplot for extreme skewed columns\n",
    "sns.boxplot(data=X_train[extreme_skewed_columns], orient=\"h\", whis=3, ax=axes[1])\n",
    "axes[1].set_title(\"Boxplot for Extreme Skewed Columns\")\n",
    "axes[1].set_xlabel(\"Values\")\n",
    "axes[1].set_ylabel(\"Columns\")\n",
    "\n",
    "# Display the plot\n",
    "plt.tight_layout()\n",
    "plt.show()\n"
   ]
  },
  {
   "cell_type": "markdown",
   "metadata": {},
   "source": [
    "After handling the outliers, the percentages are recalculated to ensure that the outliers have indeed been addressed. The updated results show that the percentages of outliers are now all **0**, indicating that the outliers have been effectively handled. The boxplot above strengthens this observation by illustrating that there are no outliers present in the data anymore. This confirms that the outlier handling process was successful."
   ]
  },
  {
   "cell_type": "markdown",
   "metadata": {},
   "source": [
    "#### **vi. Feature Selection**"
   ]
  },
  {
   "cell_type": "markdown",
   "metadata": {},
   "source": [
    "Handling outliers is followed by the feature selection process, which involves exploring variables that correlate with the target variables. This step aims to identify the most relevant features for predicting or understanding the target variables, streamlining the model by focusing on impactful features and removes the less influential ones."
   ]
  },
  {
   "cell_type": "markdown",
   "metadata": {},
   "source": [
    "The first step is to concatenate `X_train` and `y_train`, enabling the determination of correlation between the target variables and the features."
   ]
  },
  {
   "cell_type": "code",
   "execution_count": 32,
   "metadata": {},
   "outputs": [
    {
     "data": {
      "text/html": [
       "<div>\n",
       "<style scoped>\n",
       "    .dataframe tbody tr th:only-of-type {\n",
       "        vertical-align: middle;\n",
       "    }\n",
       "\n",
       "    .dataframe tbody tr th {\n",
       "        vertical-align: top;\n",
       "    }\n",
       "\n",
       "    .dataframe thead th {\n",
       "        text-align: right;\n",
       "    }\n",
       "</style>\n",
       "<table border=\"1\" class=\"dataframe\">\n",
       "  <thead>\n",
       "    <tr style=\"text-align: right;\">\n",
       "      <th></th>\n",
       "      <th>limit_balance</th>\n",
       "      <th>sex</th>\n",
       "      <th>education_level</th>\n",
       "      <th>marital_status</th>\n",
       "      <th>age</th>\n",
       "      <th>pay_0</th>\n",
       "      <th>pay_2</th>\n",
       "      <th>pay_3</th>\n",
       "      <th>pay_4</th>\n",
       "      <th>pay_5</th>\n",
       "      <th>...</th>\n",
       "      <th>bill_amt_4</th>\n",
       "      <th>bill_amt_5</th>\n",
       "      <th>bill_amt_6</th>\n",
       "      <th>pay_amt_1</th>\n",
       "      <th>pay_amt_2</th>\n",
       "      <th>pay_amt_3</th>\n",
       "      <th>pay_amt_4</th>\n",
       "      <th>pay_amt_5</th>\n",
       "      <th>pay_amt_6</th>\n",
       "      <th>default_payment_next_month</th>\n",
       "    </tr>\n",
       "  </thead>\n",
       "  <tbody>\n",
       "    <tr>\n",
       "      <th>1290</th>\n",
       "      <td>130000.0</td>\n",
       "      <td>2</td>\n",
       "      <td>3</td>\n",
       "      <td>1</td>\n",
       "      <td>42.0</td>\n",
       "      <td>2.0</td>\n",
       "      <td>2.0</td>\n",
       "      <td>0.0</td>\n",
       "      <td>0.0</td>\n",
       "      <td>0.0</td>\n",
       "      <td>...</td>\n",
       "      <td>95334.0</td>\n",
       "      <td>96066.0</td>\n",
       "      <td>97413.0</td>\n",
       "      <td>0.0</td>\n",
       "      <td>4500.0</td>\n",
       "      <td>3500.0</td>\n",
       "      <td>3400.0</td>\n",
       "      <td>4000.0</td>\n",
       "      <td>4000.0</td>\n",
       "      <td>1</td>\n",
       "    </tr>\n",
       "    <tr>\n",
       "      <th>1911</th>\n",
       "      <td>90000.0</td>\n",
       "      <td>2</td>\n",
       "      <td>2</td>\n",
       "      <td>2</td>\n",
       "      <td>26.0</td>\n",
       "      <td>1.0</td>\n",
       "      <td>2.0</td>\n",
       "      <td>2.0</td>\n",
       "      <td>2.0</td>\n",
       "      <td>2.0</td>\n",
       "      <td>...</td>\n",
       "      <td>53826.0</td>\n",
       "      <td>54548.0</td>\n",
       "      <td>55525.0</td>\n",
       "      <td>0.0</td>\n",
       "      <td>5000.0</td>\n",
       "      <td>2000.0</td>\n",
       "      <td>2200.0</td>\n",
       "      <td>2000.0</td>\n",
       "      <td>2500.0</td>\n",
       "      <td>0</td>\n",
       "    </tr>\n",
       "    <tr>\n",
       "      <th>1837</th>\n",
       "      <td>110000.0</td>\n",
       "      <td>1</td>\n",
       "      <td>1</td>\n",
       "      <td>2</td>\n",
       "      <td>30.0</td>\n",
       "      <td>1.0</td>\n",
       "      <td>2.0</td>\n",
       "      <td>2.0</td>\n",
       "      <td>2.0</td>\n",
       "      <td>2.0</td>\n",
       "      <td>...</td>\n",
       "      <td>93231.0</td>\n",
       "      <td>94309.0</td>\n",
       "      <td>96258.0</td>\n",
       "      <td>4200.0</td>\n",
       "      <td>4200.0</td>\n",
       "      <td>3600.0</td>\n",
       "      <td>3500.0</td>\n",
       "      <td>3600.0</td>\n",
       "      <td>0.0</td>\n",
       "      <td>0</td>\n",
       "    </tr>\n",
       "    <tr>\n",
       "      <th>2424</th>\n",
       "      <td>160000.0</td>\n",
       "      <td>2</td>\n",
       "      <td>2</td>\n",
       "      <td>2</td>\n",
       "      <td>34.0</td>\n",
       "      <td>-1.0</td>\n",
       "      <td>-1.0</td>\n",
       "      <td>-1.0</td>\n",
       "      <td>-1.0</td>\n",
       "      <td>-1.0</td>\n",
       "      <td>...</td>\n",
       "      <td>13780.0</td>\n",
       "      <td>12297.0</td>\n",
       "      <td>12752.0</td>\n",
       "      <td>17663.5</td>\n",
       "      <td>8000.0</td>\n",
       "      <td>13780.0</td>\n",
       "      <td>12300.0</td>\n",
       "      <td>12752.0</td>\n",
       "      <td>6000.0</td>\n",
       "      <td>0</td>\n",
       "    </tr>\n",
       "    <tr>\n",
       "      <th>2405</th>\n",
       "      <td>20000.0</td>\n",
       "      <td>2</td>\n",
       "      <td>2</td>\n",
       "      <td>1</td>\n",
       "      <td>43.0</td>\n",
       "      <td>-1.0</td>\n",
       "      <td>-1.0</td>\n",
       "      <td>-1.0</td>\n",
       "      <td>-1.0</td>\n",
       "      <td>-1.0</td>\n",
       "      <td>...</td>\n",
       "      <td>1681.0</td>\n",
       "      <td>901.0</td>\n",
       "      <td>0.0</td>\n",
       "      <td>1291.0</td>\n",
       "      <td>3898.0</td>\n",
       "      <td>1681.0</td>\n",
       "      <td>901.0</td>\n",
       "      <td>0.0</td>\n",
       "      <td>0.0</td>\n",
       "      <td>0</td>\n",
       "    </tr>\n",
       "  </tbody>\n",
       "</table>\n",
       "<p>5 rows × 24 columns</p>\n",
       "</div>"
      ],
      "text/plain": [
       "      limit_balance  sex  education_level  marital_status   age  pay_0  pay_2  \\\n",
       "1290       130000.0    2                3               1  42.0    2.0    2.0   \n",
       "1911        90000.0    2                2               2  26.0    1.0    2.0   \n",
       "1837       110000.0    1                1               2  30.0    1.0    2.0   \n",
       "2424       160000.0    2                2               2  34.0   -1.0   -1.0   \n",
       "2405        20000.0    2                2               1  43.0   -1.0   -1.0   \n",
       "\n",
       "      pay_3  pay_4  pay_5  ...  bill_amt_4  bill_amt_5  bill_amt_6  pay_amt_1  \\\n",
       "1290    0.0    0.0    0.0  ...     95334.0     96066.0     97413.0        0.0   \n",
       "1911    2.0    2.0    2.0  ...     53826.0     54548.0     55525.0        0.0   \n",
       "1837    2.0    2.0    2.0  ...     93231.0     94309.0     96258.0     4200.0   \n",
       "2424   -1.0   -1.0   -1.0  ...     13780.0     12297.0     12752.0    17663.5   \n",
       "2405   -1.0   -1.0   -1.0  ...      1681.0       901.0         0.0     1291.0   \n",
       "\n",
       "      pay_amt_2  pay_amt_3  pay_amt_4  pay_amt_5  pay_amt_6  \\\n",
       "1290     4500.0     3500.0     3400.0     4000.0     4000.0   \n",
       "1911     5000.0     2000.0     2200.0     2000.0     2500.0   \n",
       "1837     4200.0     3600.0     3500.0     3600.0        0.0   \n",
       "2424     8000.0    13780.0    12300.0    12752.0     6000.0   \n",
       "2405     3898.0     1681.0      901.0        0.0        0.0   \n",
       "\n",
       "      default_payment_next_month  \n",
       "1290                           1  \n",
       "1911                           0  \n",
       "1837                           0  \n",
       "2424                           0  \n",
       "2405                           0  \n",
       "\n",
       "[5 rows x 24 columns]"
      ]
     },
     "execution_count": 32,
     "metadata": {},
     "output_type": "execute_result"
    }
   ],
   "source": [
    "# Concatenate X_train and y_train\n",
    "concat_train = pd.concat([X_train, y_train], axis=1)\n",
    "\n",
    "# Show X_train\n",
    "concat_train.head()"
   ]
  },
  {
   "cell_type": "markdown",
   "metadata": {},
   "source": [
    "The `concat_train` now contains both the features and the target variables. Next, a function is created to calculate the Phi-K correlation of all features with `default_payment_next_month`. The Phi-K Matrix is chosen as it's capable of detemining correlations for both numerical and categorical columns."
   ]
  },
  {
   "cell_type": "code",
   "execution_count": 33,
   "metadata": {},
   "outputs": [
    {
     "name": "stdout",
     "output_type": "stream",
     "text": [
      "interval columns not set, guessing: ['default_payment_next_month', 'limit_balance', 'sex', 'education_level', 'marital_status', 'age', 'pay_0', 'pay_2', 'pay_3', 'pay_4', 'pay_5', 'pay_6', 'bill_amt_1', 'bill_amt_2', 'bill_amt_3', 'bill_amt_4', 'bill_amt_5', 'bill_amt_6', 'pay_amt_1', 'pay_amt_2', 'pay_amt_3', 'pay_amt_4', 'pay_amt_5', 'pay_amt_6']\n",
      "default_payment_next_month    1.000000\n",
      "limit_balance                 0.205996\n",
      "sex                           0.000000\n",
      "education_level               0.072701\n",
      "marital_status                0.000000\n",
      "age                           0.000000\n",
      "pay_0                         0.479321\n",
      "pay_2                         0.472448\n",
      "pay_3                         0.330615\n",
      "pay_4                         0.401105\n",
      "pay_5                         0.380475\n",
      "pay_6                         0.350769\n",
      "bill_amt_1                    0.062714\n",
      "bill_amt_2                    0.049165\n",
      "bill_amt_3                    0.000000\n",
      "bill_amt_4                    0.000000\n",
      "bill_amt_5                    0.000000\n",
      "bill_amt_6                    0.000000\n",
      "pay_amt_1                     0.159131\n",
      "pay_amt_2                     0.183975\n",
      "pay_amt_3                     0.135757\n",
      "pay_amt_4                     0.115805\n",
      "pay_amt_5                     0.128946\n",
      "pay_amt_6                     0.136852\n",
      "Name: default_payment_next_month, dtype: float64\n"
     ]
    }
   ],
   "source": [
    "# Create function to correlate variables with default\n",
    "def compute_phik_correlation(dataframe, columns):\n",
    "    subset = dataframe[columns]\n",
    "    correlation_matrix = subset.phik_matrix()\n",
    "    return correlation_matrix['default_payment_next_month']\n",
    "\n",
    "# Define the list of columns for each subset\n",
    "columns = ['default_payment_next_month', 'limit_balance', 'sex', 'education_level', 'marital_status', 'age', 'pay_0', 'pay_2', 'pay_3',\n",
    "           'pay_4', 'pay_5', 'pay_6', 'bill_amt_1', 'bill_amt_2', 'bill_amt_3', 'bill_amt_4', 'bill_amt_5', 'bill_amt_6', 'pay_amt_1',\n",
    "           'pay_amt_2', 'pay_amt_3', 'pay_amt_4', 'pay_amt_5', 'pay_amt_6']\n",
    "\n",
    "# Compute Phi-K correlation for each set of columns and print\n",
    "correlation = compute_phik_correlation(concat_train, columns)\n",
    "\n",
    "# Print result\n",
    "print(correlation)"
   ]
  },
  {
   "cell_type": "markdown",
   "metadata": {},
   "source": [
    "The results display the correlation between all features and `default_payment_next_month`, with values ranging from 0 to 1. A value of 1 indicates a strong correlation, while 0 indicates no correlation. The chosen threshold for this analysis is **0.3**. Therefore, only variables with correlation values greater than 0.3 are considered to have a meaningful correlation with the target variable. Based on the result, the features that exhibit correlation are:\n",
    "\n",
    "- `pay_0`\n",
    "- `pay_2`\n",
    "- `pay_3`\n",
    "- `pay_4`\n",
    "- `pay_5`\n",
    "- `pay_6`\n",
    "\n",
    "These features show some level of association with `default_payment_next_month` and may be considered important for predicting or understanding the target variable."
   ]
  },
  {
   "cell_type": "code",
   "execution_count": 34,
   "metadata": {},
   "outputs": [],
   "source": [
    "# Drop unnecessary columns in X_train\n",
    "X_train.drop(['limit_balance', 'sex', 'education_level', 'marital_status', 'age', 'bill_amt_1', 'bill_amt_2', 'bill_amt_3', 'bill_amt_4',\n",
    "              'bill_amt_5', 'bill_amt_6', 'pay_amt_1', 'pay_amt_2', 'pay_amt_3', 'pay_amt_4', 'pay_amt_5', 'pay_amt_6'], axis=1,  inplace=True)\n",
    "\n",
    "# # Drop unnecessary columns in X_test\n",
    "X_test.drop(['limit_balance', 'sex', 'education_level', 'marital_status', 'age', 'bill_amt_1', 'bill_amt_2', 'bill_amt_3', 'bill_amt_4',\n",
    "             'bill_amt_5', 'bill_amt_6', 'pay_amt_1', 'pay_amt_2', 'pay_amt_3', 'pay_amt_4', 'pay_amt_5', 'pay_amt_6'], axis=1,  inplace=True)"
   ]
  },
  {
   "cell_type": "markdown",
   "metadata": {},
   "source": [
    "The columns with no correlation is dropped from both `X_train` and `X_test`."
   ]
  },
  {
   "cell_type": "code",
   "execution_count": 35,
   "metadata": {},
   "outputs": [
    {
     "name": "stdout",
     "output_type": "stream",
     "text": [
      "Index(['pay_0', 'pay_2', 'pay_3', 'pay_4', 'pay_5', 'pay_6'], dtype='object')\n",
      "Index(['pay_0', 'pay_2', 'pay_3', 'pay_4', 'pay_5', 'pay_6'], dtype='object')\n"
     ]
    }
   ],
   "source": [
    "# Show columns\n",
    "print(X_train.columns)\n",
    "print(X_test.columns)"
   ]
  },
  {
   "cell_type": "markdown",
   "metadata": {},
   "source": [
    "The `X_train` and `X_test` variables are now consist of the columns with correlation to `default_payment_next_month`."
   ]
  },
  {
   "cell_type": "markdown",
   "metadata": {},
   "source": [
    "#### **vii. Split Numerical and Categorical Columns**"
   ]
  },
  {
   "cell_type": "markdown",
   "metadata": {},
   "source": [
    "The selected features are split into their data categorizations as defined in the previous section."
   ]
  },
  {
   "cell_type": "code",
   "execution_count": 36,
   "metadata": {},
   "outputs": [
    {
     "name": "stdout",
     "output_type": "stream",
     "text": [
      "Categorical ordinal columns:\n",
      "['pay_0', 'pay_2', 'pay_3', 'pay_4', 'pay_5', 'pay_6']\n"
     ]
    }
   ],
   "source": [
    "# Split numerical and categorical columns\n",
    "\n",
    "cat_encoded_ordinal = ['pay_0', 'pay_2', 'pay_3', 'pay_4', 'pay_5', 'pay_6']\n",
    "\n",
    "print(f'Categorical ordinal columns:\\n{cat_encoded_ordinal}')"
   ]
  },
  {
   "cell_type": "markdown",
   "metadata": {},
   "source": [
    "There is only one type of data which is categorical encoded ordinal."
   ]
  },
  {
   "cell_type": "markdown",
   "metadata": {},
   "source": [
    "#### **vii. Cardinality Check**"
   ]
  },
  {
   "cell_type": "markdown",
   "metadata": {},
   "source": [
    "The cardinality check is performed to determine whether the categorical columns have low or high cardinality. High cardinality columns need to be handled by splitting them into smaller groups to avoid bias in the Machine Learning process."
   ]
  },
  {
   "cell_type": "code",
   "execution_count": 37,
   "metadata": {},
   "outputs": [
    {
     "name": "stdout",
     "output_type": "stream",
     "text": [
      "Number of categories in the variable Pay 0  : 10\n",
      "Number of categories in the variable Pay 2  : 10\n",
      "Number of categories in the variable Pay 3  : 9\n",
      "Number of categories in the variable Pay 4  : 9\n",
      "Number of categories in the variable Pay 5  : 8\n",
      "Number of categories in the variable Pay 6  : 8\n"
     ]
    }
   ],
   "source": [
    "# Check number of unique values in categorical columns\n",
    "\n",
    "print('Number of categories in the variable Pay 0  : {}'.format((X_train.pay_0.nunique())))\n",
    "print('Number of categories in the variable Pay 2  : {}'.format((X_train.pay_2.nunique())))\n",
    "print('Number of categories in the variable Pay 3  : {}'.format((X_train.pay_3.nunique())))\n",
    "print('Number of categories in the variable Pay 4  : {}'.format((X_train.pay_4.nunique())))\n",
    "print('Number of categories in the variable Pay 5  : {}'.format((X_train.pay_5.nunique())))\n",
    "print('Number of categories in the variable Pay 6  : {}'.format((X_train.pay_6.nunique())))"
   ]
  },
  {
   "cell_type": "markdown",
   "metadata": {},
   "source": [
    "However, all the columns have **low cardinality** (<11), indicating that there's no need to categorize them into smaller groups."
   ]
  },
  {
   "cell_type": "markdown",
   "metadata": {},
   "source": [
    "#### **viii. Feature Scaling and Encoding**"
   ]
  },
  {
   "cell_type": "markdown",
   "metadata": {},
   "source": [
    "Since the categorical columns are already encoded, there's **no need** to perform encoding in this step and since there are no numerical columns in the selected features, there's also **no need** to perform scaling in this step."
   ]
  },
  {
   "cell_type": "code",
   "execution_count": 38,
   "metadata": {},
   "outputs": [],
   "source": [
    "# Preprocessing using ColumnTransformer\n",
    "\n",
    "preprocess = ColumnTransformer(transformers=[],\n",
    "                               remainder='passthrough')"
   ]
  },
  {
   "cell_type": "markdown",
   "metadata": {},
   "source": [
    "The code above uses `ColumnTransformer` to perform transformations on the dataset. However, because scalers and encoders are not utilized in this analysis, the transformers are left empty. The categorical encoded columns are passed through the preprocessing stage using the `remainder='passthrough'` parameter."
   ]
  },
  {
   "cell_type": "markdown",
   "metadata": {},
   "source": [
    "### **G. Model Definition**"
   ]
  },
  {
   "cell_type": "markdown",
   "metadata": {},
   "source": [
    "After completing the pre-processing steps, the next task is to define the models that will be used for training. For this analysis, the chosen models are `K-Nearest Neighbors (KNN)`, `Support Vector Machine (SVM)`, and `Logistic Regression`.\n",
    "\n",
    "1. **K-Nearest Neighbors (KNN):**\n",
    "   - KNN is effective when there are clear clusters or patterns in the data. For credit card default prediction, it can be useful because customers who default may share similarities in spending habits, payment history, or other financial behaviors. KNN works by assigning a new data point to the class most common among its k nearest neighbors, making it potentially suitable for identifying similar credit card users who are likely to default.\n",
    "\n",
    "2. **Support Vector Machine (SVM):**\n",
    "   - SVMs are good at handling complex data relationships and can work well even when the data is not linearly separable. In the context of credit card default prediction, SVMs can be beneficial because they can capture non-linear relationships between features like sex, age,  limit balance, and default probability. SVMs aim to find the optimal hyperplane that separates different classes with the maximum margin, making them robust for classification tasks with intricate decision boundaries.\n",
    "\n",
    "3. **Logistic Regression:**\n",
    "   - Logistic Regression is a popular choice for binary classification problems like credit card default prediction. It's straightforward to interpret, provides probabilities of class membership, and is less prone to overfitting, especially with a large number of features. In credit risk analysis, logistic regression can be advantageous for modeling the probability of default based on various factors like limit balance, payment history, etc. Its simplicity and interpretability make it a valuable tool in understanding the factors influencing credit card defaults."
   ]
  },
  {
   "cell_type": "markdown",
   "metadata": {},
   "source": [
    "For this analysis, the scoring primarily focuses on **Recall**. This decision is driven by the objective of creating a model capable of predicting default payments next month. It is crucial to minimize False Negatives, i.e., cases where the model predicts non-default but the actual outcome is default. Therefore, to prioritize minimizing False Negatives, Recall is emphasized more than Precision. \n",
    "\n",
    "While aiming for a higher Recall can lead to a lower Precision due to an increase in False Positives (misclassifying non-defaulters as defaulters), this tradeoff is inherent and unavoidable. A higher False Positive rate means more individuals will be incorrectly labeled as defaulters, which may inconvenience them. However, whether this tradeoff is justifiable depends on the business goals and desired accuracy level. In this case, prioritizing a higher Recall to catch more defaulters is preferred, even if it comes at the cost of a lower Precision.\n",
    "\n",
    "[Ref](https://towardsdatascience.com/catching-a-welcher-classifying-a-credit-card-defaulter-f4b21547a618)"
   ]
  },
  {
   "cell_type": "markdown",
   "metadata": {},
   "source": [
    "During this stage, a Pipeline is used to streamline the further processes. The variables are stored in a pipeline using `make_pipeline`, which includes the preprocess step and the chosen model."
   ]
  },
  {
   "cell_type": "code",
   "execution_count": 39,
   "metadata": {},
   "outputs": [],
   "source": [
    "# Model definition using Pipeline\n",
    "pipe_knn = make_pipeline(preprocess, KNeighborsClassifier())\n",
    "pipe_svc = make_pipeline(preprocess, SVC())\n",
    "pipe_log = make_pipeline(preprocess, LogisticRegression())"
   ]
  },
  {
   "cell_type": "markdown",
   "metadata": {},
   "source": [
    "### **H. Model Training**"
   ]
  },
  {
   "cell_type": "markdown",
   "metadata": {},
   "source": [
    "The model is then trained using **Cross Validation** to help mitigate issues like data leakage. Cross-validation during training splitted the data into multiple subsets (folds). The model is trained on 𝑘 (1 fold) and validated on the remaining fold, and this process is repeated 𝑘 times (where 𝑘 is the number of folds). It helps to minimize data leakage because each fold is treated as an independent test set during one iteration of the training process. "
   ]
  },
  {
   "cell_type": "code",
   "execution_count": 40,
   "metadata": {},
   "outputs": [],
   "source": [
    "# Training using Cross Validation\n",
    "cv_knn = cross_val_score(pipe_knn, X_train, y_train, cv=5, scoring='recall', n_jobs=-1) \n",
    "cv_svc = cross_val_score(pipe_svc, X_train, y_train, cv=5, scoring='recall', n_jobs=-1) \n",
    "cv_log = cross_val_score(pipe_log, X_train, y_train, cv=5, scoring='recall', n_jobs=-1)"
   ]
  },
  {
   "cell_type": "markdown",
   "metadata": {},
   "source": [
    "In each model, Cross Validation is performed using `X_train` and `y_train` with cv=5, where CV represents Cross Validation and k denotes the number of folds. Therefore, the training dataset is divided into 5 subsets, and the training process iterates until achieving the best score."
   ]
  },
  {
   "cell_type": "markdown",
   "metadata": {},
   "source": [
    "### **I. Model Evaluation**"
   ]
  },
  {
   "cell_type": "markdown",
   "metadata": {},
   "source": [
    "This section focuses on evaluating the created model, which includes three parts:\n",
    "- **Cross Validation Evaluation**: Identifying the best model among the three models after cross validation.\n",
    "- **Best Model Evaluation**: Fitting the best model to the training and testing sets.\n",
    "- **Hyperparameter Tuning**: Determining the optimal hyperparameters for the best model."
   ]
  },
  {
   "cell_type": "markdown",
   "metadata": {},
   "source": [
    "#### **i. Cross Validation Evaluation**"
   ]
  },
  {
   "cell_type": "markdown",
   "metadata": {},
   "source": [
    "In the Cross Validation Evaluation, the performance of the three models is compared. The best model is selected based on the mean score obtained from the 5 cross-validations, where the calculated scores are averaged."
   ]
  },
  {
   "cell_type": "code",
   "execution_count": 41,
   "metadata": {},
   "outputs": [
    {
     "name": "stdout",
     "output_type": "stream",
     "text": [
      "Logistic Regression\n",
      "Recall - All - Cross Validation [0.34831461 0.35955056 0.23595506 0.24719101 0.35227273]\n",
      "Recall - Mean - Cross Validation 0.3086567926455567\n",
      "--------------------------------------------------\n",
      "SVC\n",
      "Recall - All - Cross Validation [0.39325843 0.43820225 0.33707865 0.40449438 0.36363636]\n",
      "Recall - Mean - Cross Validation 0.38733401430030645\n",
      "--------------------------------------------------\n",
      "KNN\n",
      "Recall - All - Cross Validation [0.53932584 0.33707865 0.24719101 0.42696629 0.36363636]\n",
      "Recall - Mean - Cross Validation 0.3828396322778345\n",
      "--------------------------------------------------\n",
      "Best Model: SVC\n",
      "Cross Validation Mean from Best Model: 0.38733401430030645\n"
     ]
    }
   ],
   "source": [
    "model = []\n",
    "cv_score = 0\n",
    "\n",
    "for cv, name in zip([cv_log, cv_svc, cv_knn],\n",
    "                    ['Logistic Regression', 'SVC', 'KNN']):\n",
    "    print(name)\n",
    "    print('Recall - All - Cross Validation', cv)\n",
    "    print('Recall - Mean - Cross Validation', cv.mean())\n",
    "    print('-'*50)\n",
    "    if cv.mean() > cv_score:\n",
    "        cv_score = cv.mean()\n",
    "        model = name\n",
    "    else:\n",
    "        pass\n",
    "    \n",
    "print('Best Model:', model)\n",
    "print('Cross Validation Mean from Best Model:', cv_score)"
   ]
  },
  {
   "cell_type": "markdown",
   "metadata": {},
   "source": [
    "The output displays reports for the three models. Among them, SVC has the highest mean cross-validation score of 0.38733, followed by KNN with 0.38283, and lastly Logistic Regression with 0.30865. Based on these results, the model selected for further analysis will be **SVC**."
   ]
  },
  {
   "cell_type": "markdown",
   "metadata": {},
   "source": [
    "#### **ii. Best Model Evaluation**"
   ]
  },
  {
   "cell_type": "markdown",
   "metadata": {},
   "source": [
    "The next step involves evaluating the previously selected model, which is the SVC model. This model will be trained using `X_train` and `y_train`."
   ]
  },
  {
   "cell_type": "code",
   "execution_count": 42,
   "metadata": {},
   "outputs": [
    {
     "data": {
      "text/html": [
       "<style>#sk-container-id-1 {\n",
       "  /* Definition of color scheme common for light and dark mode */\n",
       "  --sklearn-color-text: black;\n",
       "  --sklearn-color-line: gray;\n",
       "  /* Definition of color scheme for unfitted estimators */\n",
       "  --sklearn-color-unfitted-level-0: #fff5e6;\n",
       "  --sklearn-color-unfitted-level-1: #f6e4d2;\n",
       "  --sklearn-color-unfitted-level-2: #ffe0b3;\n",
       "  --sklearn-color-unfitted-level-3: chocolate;\n",
       "  /* Definition of color scheme for fitted estimators */\n",
       "  --sklearn-color-fitted-level-0: #f0f8ff;\n",
       "  --sklearn-color-fitted-level-1: #d4ebff;\n",
       "  --sklearn-color-fitted-level-2: #b3dbfd;\n",
       "  --sklearn-color-fitted-level-3: cornflowerblue;\n",
       "\n",
       "  /* Specific color for light theme */\n",
       "  --sklearn-color-text-on-default-background: var(--sg-text-color, var(--theme-code-foreground, var(--jp-content-font-color1, black)));\n",
       "  --sklearn-color-background: var(--sg-background-color, var(--theme-background, var(--jp-layout-color0, white)));\n",
       "  --sklearn-color-border-box: var(--sg-text-color, var(--theme-code-foreground, var(--jp-content-font-color1, black)));\n",
       "  --sklearn-color-icon: #696969;\n",
       "\n",
       "  @media (prefers-color-scheme: dark) {\n",
       "    /* Redefinition of color scheme for dark theme */\n",
       "    --sklearn-color-text-on-default-background: var(--sg-text-color, var(--theme-code-foreground, var(--jp-content-font-color1, white)));\n",
       "    --sklearn-color-background: var(--sg-background-color, var(--theme-background, var(--jp-layout-color0, #111)));\n",
       "    --sklearn-color-border-box: var(--sg-text-color, var(--theme-code-foreground, var(--jp-content-font-color1, white)));\n",
       "    --sklearn-color-icon: #878787;\n",
       "  }\n",
       "}\n",
       "\n",
       "#sk-container-id-1 {\n",
       "  color: var(--sklearn-color-text);\n",
       "}\n",
       "\n",
       "#sk-container-id-1 pre {\n",
       "  padding: 0;\n",
       "}\n",
       "\n",
       "#sk-container-id-1 input.sk-hidden--visually {\n",
       "  border: 0;\n",
       "  clip: rect(1px 1px 1px 1px);\n",
       "  clip: rect(1px, 1px, 1px, 1px);\n",
       "  height: 1px;\n",
       "  margin: -1px;\n",
       "  overflow: hidden;\n",
       "  padding: 0;\n",
       "  position: absolute;\n",
       "  width: 1px;\n",
       "}\n",
       "\n",
       "#sk-container-id-1 div.sk-dashed-wrapped {\n",
       "  border: 1px dashed var(--sklearn-color-line);\n",
       "  margin: 0 0.4em 0.5em 0.4em;\n",
       "  box-sizing: border-box;\n",
       "  padding-bottom: 0.4em;\n",
       "  background-color: var(--sklearn-color-background);\n",
       "}\n",
       "\n",
       "#sk-container-id-1 div.sk-container {\n",
       "  /* jupyter's `normalize.less` sets `[hidden] { display: none; }`\n",
       "     but bootstrap.min.css set `[hidden] { display: none !important; }`\n",
       "     so we also need the `!important` here to be able to override the\n",
       "     default hidden behavior on the sphinx rendered scikit-learn.org.\n",
       "     See: https://github.com/scikit-learn/scikit-learn/issues/21755 */\n",
       "  display: inline-block !important;\n",
       "  position: relative;\n",
       "}\n",
       "\n",
       "#sk-container-id-1 div.sk-text-repr-fallback {\n",
       "  display: none;\n",
       "}\n",
       "\n",
       "div.sk-parallel-item,\n",
       "div.sk-serial,\n",
       "div.sk-item {\n",
       "  /* draw centered vertical line to link estimators */\n",
       "  background-image: linear-gradient(var(--sklearn-color-text-on-default-background), var(--sklearn-color-text-on-default-background));\n",
       "  background-size: 2px 100%;\n",
       "  background-repeat: no-repeat;\n",
       "  background-position: center center;\n",
       "}\n",
       "\n",
       "/* Parallel-specific style estimator block */\n",
       "\n",
       "#sk-container-id-1 div.sk-parallel-item::after {\n",
       "  content: \"\";\n",
       "  width: 100%;\n",
       "  border-bottom: 2px solid var(--sklearn-color-text-on-default-background);\n",
       "  flex-grow: 1;\n",
       "}\n",
       "\n",
       "#sk-container-id-1 div.sk-parallel {\n",
       "  display: flex;\n",
       "  align-items: stretch;\n",
       "  justify-content: center;\n",
       "  background-color: var(--sklearn-color-background);\n",
       "  position: relative;\n",
       "}\n",
       "\n",
       "#sk-container-id-1 div.sk-parallel-item {\n",
       "  display: flex;\n",
       "  flex-direction: column;\n",
       "}\n",
       "\n",
       "#sk-container-id-1 div.sk-parallel-item:first-child::after {\n",
       "  align-self: flex-end;\n",
       "  width: 50%;\n",
       "}\n",
       "\n",
       "#sk-container-id-1 div.sk-parallel-item:last-child::after {\n",
       "  align-self: flex-start;\n",
       "  width: 50%;\n",
       "}\n",
       "\n",
       "#sk-container-id-1 div.sk-parallel-item:only-child::after {\n",
       "  width: 0;\n",
       "}\n",
       "\n",
       "/* Serial-specific style estimator block */\n",
       "\n",
       "#sk-container-id-1 div.sk-serial {\n",
       "  display: flex;\n",
       "  flex-direction: column;\n",
       "  align-items: center;\n",
       "  background-color: var(--sklearn-color-background);\n",
       "  padding-right: 1em;\n",
       "  padding-left: 1em;\n",
       "}\n",
       "\n",
       "\n",
       "/* Toggleable style: style used for estimator/Pipeline/ColumnTransformer box that is\n",
       "clickable and can be expanded/collapsed.\n",
       "- Pipeline and ColumnTransformer use this feature and define the default style\n",
       "- Estimators will overwrite some part of the style using the `sk-estimator` class\n",
       "*/\n",
       "\n",
       "/* Pipeline and ColumnTransformer style (default) */\n",
       "\n",
       "#sk-container-id-1 div.sk-toggleable {\n",
       "  /* Default theme specific background. It is overwritten whether we have a\n",
       "  specific estimator or a Pipeline/ColumnTransformer */\n",
       "  background-color: var(--sklearn-color-background);\n",
       "}\n",
       "\n",
       "/* Toggleable label */\n",
       "#sk-container-id-1 label.sk-toggleable__label {\n",
       "  cursor: pointer;\n",
       "  display: block;\n",
       "  width: 100%;\n",
       "  margin-bottom: 0;\n",
       "  padding: 0.5em;\n",
       "  box-sizing: border-box;\n",
       "  text-align: center;\n",
       "}\n",
       "\n",
       "#sk-container-id-1 label.sk-toggleable__label-arrow:before {\n",
       "  /* Arrow on the left of the label */\n",
       "  content: \"▸\";\n",
       "  float: left;\n",
       "  margin-right: 0.25em;\n",
       "  color: var(--sklearn-color-icon);\n",
       "}\n",
       "\n",
       "#sk-container-id-1 label.sk-toggleable__label-arrow:hover:before {\n",
       "  color: var(--sklearn-color-text);\n",
       "}\n",
       "\n",
       "/* Toggleable content - dropdown */\n",
       "\n",
       "#sk-container-id-1 div.sk-toggleable__content {\n",
       "  max-height: 0;\n",
       "  max-width: 0;\n",
       "  overflow: hidden;\n",
       "  text-align: left;\n",
       "  /* unfitted */\n",
       "  background-color: var(--sklearn-color-unfitted-level-0);\n",
       "}\n",
       "\n",
       "#sk-container-id-1 div.sk-toggleable__content.fitted {\n",
       "  /* fitted */\n",
       "  background-color: var(--sklearn-color-fitted-level-0);\n",
       "}\n",
       "\n",
       "#sk-container-id-1 div.sk-toggleable__content pre {\n",
       "  margin: 0.2em;\n",
       "  border-radius: 0.25em;\n",
       "  color: var(--sklearn-color-text);\n",
       "  /* unfitted */\n",
       "  background-color: var(--sklearn-color-unfitted-level-0);\n",
       "}\n",
       "\n",
       "#sk-container-id-1 div.sk-toggleable__content.fitted pre {\n",
       "  /* unfitted */\n",
       "  background-color: var(--sklearn-color-fitted-level-0);\n",
       "}\n",
       "\n",
       "#sk-container-id-1 input.sk-toggleable__control:checked~div.sk-toggleable__content {\n",
       "  /* Expand drop-down */\n",
       "  max-height: 200px;\n",
       "  max-width: 100%;\n",
       "  overflow: auto;\n",
       "}\n",
       "\n",
       "#sk-container-id-1 input.sk-toggleable__control:checked~label.sk-toggleable__label-arrow:before {\n",
       "  content: \"▾\";\n",
       "}\n",
       "\n",
       "/* Pipeline/ColumnTransformer-specific style */\n",
       "\n",
       "#sk-container-id-1 div.sk-label input.sk-toggleable__control:checked~label.sk-toggleable__label {\n",
       "  color: var(--sklearn-color-text);\n",
       "  background-color: var(--sklearn-color-unfitted-level-2);\n",
       "}\n",
       "\n",
       "#sk-container-id-1 div.sk-label.fitted input.sk-toggleable__control:checked~label.sk-toggleable__label {\n",
       "  background-color: var(--sklearn-color-fitted-level-2);\n",
       "}\n",
       "\n",
       "/* Estimator-specific style */\n",
       "\n",
       "/* Colorize estimator box */\n",
       "#sk-container-id-1 div.sk-estimator input.sk-toggleable__control:checked~label.sk-toggleable__label {\n",
       "  /* unfitted */\n",
       "  background-color: var(--sklearn-color-unfitted-level-2);\n",
       "}\n",
       "\n",
       "#sk-container-id-1 div.sk-estimator.fitted input.sk-toggleable__control:checked~label.sk-toggleable__label {\n",
       "  /* fitted */\n",
       "  background-color: var(--sklearn-color-fitted-level-2);\n",
       "}\n",
       "\n",
       "#sk-container-id-1 div.sk-label label.sk-toggleable__label,\n",
       "#sk-container-id-1 div.sk-label label {\n",
       "  /* The background is the default theme color */\n",
       "  color: var(--sklearn-color-text-on-default-background);\n",
       "}\n",
       "\n",
       "/* On hover, darken the color of the background */\n",
       "#sk-container-id-1 div.sk-label:hover label.sk-toggleable__label {\n",
       "  color: var(--sklearn-color-text);\n",
       "  background-color: var(--sklearn-color-unfitted-level-2);\n",
       "}\n",
       "\n",
       "/* Label box, darken color on hover, fitted */\n",
       "#sk-container-id-1 div.sk-label.fitted:hover label.sk-toggleable__label.fitted {\n",
       "  color: var(--sklearn-color-text);\n",
       "  background-color: var(--sklearn-color-fitted-level-2);\n",
       "}\n",
       "\n",
       "/* Estimator label */\n",
       "\n",
       "#sk-container-id-1 div.sk-label label {\n",
       "  font-family: monospace;\n",
       "  font-weight: bold;\n",
       "  display: inline-block;\n",
       "  line-height: 1.2em;\n",
       "}\n",
       "\n",
       "#sk-container-id-1 div.sk-label-container {\n",
       "  text-align: center;\n",
       "}\n",
       "\n",
       "/* Estimator-specific */\n",
       "#sk-container-id-1 div.sk-estimator {\n",
       "  font-family: monospace;\n",
       "  border: 1px dotted var(--sklearn-color-border-box);\n",
       "  border-radius: 0.25em;\n",
       "  box-sizing: border-box;\n",
       "  margin-bottom: 0.5em;\n",
       "  /* unfitted */\n",
       "  background-color: var(--sklearn-color-unfitted-level-0);\n",
       "}\n",
       "\n",
       "#sk-container-id-1 div.sk-estimator.fitted {\n",
       "  /* fitted */\n",
       "  background-color: var(--sklearn-color-fitted-level-0);\n",
       "}\n",
       "\n",
       "/* on hover */\n",
       "#sk-container-id-1 div.sk-estimator:hover {\n",
       "  /* unfitted */\n",
       "  background-color: var(--sklearn-color-unfitted-level-2);\n",
       "}\n",
       "\n",
       "#sk-container-id-1 div.sk-estimator.fitted:hover {\n",
       "  /* fitted */\n",
       "  background-color: var(--sklearn-color-fitted-level-2);\n",
       "}\n",
       "\n",
       "/* Specification for estimator info (e.g. \"i\" and \"?\") */\n",
       "\n",
       "/* Common style for \"i\" and \"?\" */\n",
       "\n",
       ".sk-estimator-doc-link,\n",
       "a:link.sk-estimator-doc-link,\n",
       "a:visited.sk-estimator-doc-link {\n",
       "  float: right;\n",
       "  font-size: smaller;\n",
       "  line-height: 1em;\n",
       "  font-family: monospace;\n",
       "  background-color: var(--sklearn-color-background);\n",
       "  border-radius: 1em;\n",
       "  height: 1em;\n",
       "  width: 1em;\n",
       "  text-decoration: none !important;\n",
       "  margin-left: 1ex;\n",
       "  /* unfitted */\n",
       "  border: var(--sklearn-color-unfitted-level-1) 1pt solid;\n",
       "  color: var(--sklearn-color-unfitted-level-1);\n",
       "}\n",
       "\n",
       ".sk-estimator-doc-link.fitted,\n",
       "a:link.sk-estimator-doc-link.fitted,\n",
       "a:visited.sk-estimator-doc-link.fitted {\n",
       "  /* fitted */\n",
       "  border: var(--sklearn-color-fitted-level-1) 1pt solid;\n",
       "  color: var(--sklearn-color-fitted-level-1);\n",
       "}\n",
       "\n",
       "/* On hover */\n",
       "div.sk-estimator:hover .sk-estimator-doc-link:hover,\n",
       ".sk-estimator-doc-link:hover,\n",
       "div.sk-label-container:hover .sk-estimator-doc-link:hover,\n",
       ".sk-estimator-doc-link:hover {\n",
       "  /* unfitted */\n",
       "  background-color: var(--sklearn-color-unfitted-level-3);\n",
       "  color: var(--sklearn-color-background);\n",
       "  text-decoration: none;\n",
       "}\n",
       "\n",
       "div.sk-estimator.fitted:hover .sk-estimator-doc-link.fitted:hover,\n",
       ".sk-estimator-doc-link.fitted:hover,\n",
       "div.sk-label-container:hover .sk-estimator-doc-link.fitted:hover,\n",
       ".sk-estimator-doc-link.fitted:hover {\n",
       "  /* fitted */\n",
       "  background-color: var(--sklearn-color-fitted-level-3);\n",
       "  color: var(--sklearn-color-background);\n",
       "  text-decoration: none;\n",
       "}\n",
       "\n",
       "/* Span, style for the box shown on hovering the info icon */\n",
       ".sk-estimator-doc-link span {\n",
       "  display: none;\n",
       "  z-index: 9999;\n",
       "  position: relative;\n",
       "  font-weight: normal;\n",
       "  right: .2ex;\n",
       "  padding: .5ex;\n",
       "  margin: .5ex;\n",
       "  width: min-content;\n",
       "  min-width: 20ex;\n",
       "  max-width: 50ex;\n",
       "  color: var(--sklearn-color-text);\n",
       "  box-shadow: 2pt 2pt 4pt #999;\n",
       "  /* unfitted */\n",
       "  background: var(--sklearn-color-unfitted-level-0);\n",
       "  border: .5pt solid var(--sklearn-color-unfitted-level-3);\n",
       "}\n",
       "\n",
       ".sk-estimator-doc-link.fitted span {\n",
       "  /* fitted */\n",
       "  background: var(--sklearn-color-fitted-level-0);\n",
       "  border: var(--sklearn-color-fitted-level-3);\n",
       "}\n",
       "\n",
       ".sk-estimator-doc-link:hover span {\n",
       "  display: block;\n",
       "}\n",
       "\n",
       "/* \"?\"-specific style due to the `<a>` HTML tag */\n",
       "\n",
       "#sk-container-id-1 a.estimator_doc_link {\n",
       "  float: right;\n",
       "  font-size: 1rem;\n",
       "  line-height: 1em;\n",
       "  font-family: monospace;\n",
       "  background-color: var(--sklearn-color-background);\n",
       "  border-radius: 1rem;\n",
       "  height: 1rem;\n",
       "  width: 1rem;\n",
       "  text-decoration: none;\n",
       "  /* unfitted */\n",
       "  color: var(--sklearn-color-unfitted-level-1);\n",
       "  border: var(--sklearn-color-unfitted-level-1) 1pt solid;\n",
       "}\n",
       "\n",
       "#sk-container-id-1 a.estimator_doc_link.fitted {\n",
       "  /* fitted */\n",
       "  border: var(--sklearn-color-fitted-level-1) 1pt solid;\n",
       "  color: var(--sklearn-color-fitted-level-1);\n",
       "}\n",
       "\n",
       "/* On hover */\n",
       "#sk-container-id-1 a.estimator_doc_link:hover {\n",
       "  /* unfitted */\n",
       "  background-color: var(--sklearn-color-unfitted-level-3);\n",
       "  color: var(--sklearn-color-background);\n",
       "  text-decoration: none;\n",
       "}\n",
       "\n",
       "#sk-container-id-1 a.estimator_doc_link.fitted:hover {\n",
       "  /* fitted */\n",
       "  background-color: var(--sklearn-color-fitted-level-3);\n",
       "}\n",
       "</style><div id=\"sk-container-id-1\" class=\"sk-top-container\"><div class=\"sk-text-repr-fallback\"><pre>Pipeline(steps=[(&#x27;columntransformer&#x27;,\n",
       "                 ColumnTransformer(remainder=&#x27;passthrough&#x27;, transformers=[])),\n",
       "                (&#x27;svc&#x27;, SVC())])</pre><b>In a Jupyter environment, please rerun this cell to show the HTML representation or trust the notebook. <br />On GitHub, the HTML representation is unable to render, please try loading this page with nbviewer.org.</b></div><div class=\"sk-container\" hidden><div class=\"sk-item sk-dashed-wrapped\"><div class=\"sk-label-container\"><div class=\"sk-label fitted sk-toggleable\"><input class=\"sk-toggleable__control sk-hidden--visually\" id=\"sk-estimator-id-1\" type=\"checkbox\" ><label for=\"sk-estimator-id-1\" class=\"sk-toggleable__label fitted sk-toggleable__label-arrow fitted\">&nbsp;&nbsp;Pipeline<a class=\"sk-estimator-doc-link fitted\" rel=\"noreferrer\" target=\"_blank\" href=\"https://scikit-learn.org/1.4/modules/generated/sklearn.pipeline.Pipeline.html\">?<span>Documentation for Pipeline</span></a><span class=\"sk-estimator-doc-link fitted\">i<span>Fitted</span></span></label><div class=\"sk-toggleable__content fitted\"><pre>Pipeline(steps=[(&#x27;columntransformer&#x27;,\n",
       "                 ColumnTransformer(remainder=&#x27;passthrough&#x27;, transformers=[])),\n",
       "                (&#x27;svc&#x27;, SVC())])</pre></div> </div></div><div class=\"sk-serial\"><div class=\"sk-item sk-dashed-wrapped\"><div class=\"sk-label-container\"><div class=\"sk-label fitted sk-toggleable\"><input class=\"sk-toggleable__control sk-hidden--visually\" id=\"sk-estimator-id-2\" type=\"checkbox\" ><label for=\"sk-estimator-id-2\" class=\"sk-toggleable__label fitted sk-toggleable__label-arrow fitted\">&nbsp;columntransformer: ColumnTransformer<a class=\"sk-estimator-doc-link fitted\" rel=\"noreferrer\" target=\"_blank\" href=\"https://scikit-learn.org/1.4/modules/generated/sklearn.compose.ColumnTransformer.html\">?<span>Documentation for columntransformer: ColumnTransformer</span></a></label><div class=\"sk-toggleable__content fitted\"><pre>ColumnTransformer(remainder=&#x27;passthrough&#x27;, transformers=[])</pre></div> </div></div><div class=\"sk-parallel\"><div class=\"sk-parallel-item\"><div class=\"sk-item\"><div class=\"sk-label-container\"><div class=\"sk-label fitted sk-toggleable\"><input class=\"sk-toggleable__control sk-hidden--visually\" id=\"sk-estimator-id-3\" type=\"checkbox\" ><label for=\"sk-estimator-id-3\" class=\"sk-toggleable__label fitted sk-toggleable__label-arrow fitted\">remainder</label><div class=\"sk-toggleable__content fitted\"><pre>[&#x27;pay_0&#x27;, &#x27;pay_2&#x27;, &#x27;pay_3&#x27;, &#x27;pay_4&#x27;, &#x27;pay_5&#x27;, &#x27;pay_6&#x27;]</pre></div> </div></div><div class=\"sk-serial\"><div class=\"sk-item\"><div class=\"sk-estimator fitted sk-toggleable\"><input class=\"sk-toggleable__control sk-hidden--visually\" id=\"sk-estimator-id-4\" type=\"checkbox\" ><label for=\"sk-estimator-id-4\" class=\"sk-toggleable__label fitted sk-toggleable__label-arrow fitted\">passthrough</label><div class=\"sk-toggleable__content fitted\"><pre>passthrough</pre></div> </div></div></div></div></div></div></div><div class=\"sk-item\"><div class=\"sk-estimator fitted sk-toggleable\"><input class=\"sk-toggleable__control sk-hidden--visually\" id=\"sk-estimator-id-5\" type=\"checkbox\" ><label for=\"sk-estimator-id-5\" class=\"sk-toggleable__label fitted sk-toggleable__label-arrow fitted\">&nbsp;SVC<a class=\"sk-estimator-doc-link fitted\" rel=\"noreferrer\" target=\"_blank\" href=\"https://scikit-learn.org/1.4/modules/generated/sklearn.svm.SVC.html\">?<span>Documentation for SVC</span></a></label><div class=\"sk-toggleable__content fitted\"><pre>SVC()</pre></div> </div></div></div></div></div></div>"
      ],
      "text/plain": [
       "Pipeline(steps=[('columntransformer',\n",
       "                 ColumnTransformer(remainder='passthrough', transformers=[])),\n",
       "                ('svc', SVC())])"
      ]
     },
     "execution_count": 42,
     "metadata": {},
     "output_type": "execute_result"
    }
   ],
   "source": [
    "# Fit pipeline on the training data\n",
    "pipe_svc.fit(X_train, y_train)"
   ]
  },
  {
   "cell_type": "code",
   "execution_count": 43,
   "metadata": {},
   "outputs": [],
   "source": [
    "# Get predictions for both training and test data\n",
    "y_pred_train = pipe_svc.predict(X_train)\n",
    "y_pred_test = pipe_svc.predict(X_test)"
   ]
  },
  {
   "cell_type": "code",
   "execution_count": 44,
   "metadata": {},
   "outputs": [
    {
     "name": "stdout",
     "output_type": "stream",
     "text": [
      "Recall Score - Train Set  :  0.43018018018018017\n",
      "Recall Score - Test Set   :  0.4397905759162304\n"
     ]
    }
   ],
   "source": [
    "# Print recall score\n",
    "print('Recall Score - Train Set  : ', recall_score(y_train, y_pred_train))\n",
    "print('Recall Score - Test Set   : ', recall_score(y_test, y_pred_test))"
   ]
  },
  {
   "cell_type": "markdown",
   "metadata": {},
   "source": [
    "The Recall scores for the train and test sets are **0.43018** and **0.43979**, respectively. These scores are far from the highest possible score of 1, which indicates an **under fit** for the model. However, the relatively close scores between the train set and test set suggest that the model is generalized and capable of making accurate predictions on unseen data.\n",
    "\n",
    "To evaluate further, the confusion matrix is used to display the amount of True Positive, True Negative, False Positive, and False Negative."
   ]
  },
  {
   "cell_type": "code",
   "execution_count": 45,
   "metadata": {},
   "outputs": [
    {
     "data": {
      "image/png": "[encoded data removed]",
      "text/plain": [
       "<Figure size 1200x500 with 4 Axes>"
      ]
     },
     "metadata": {},
     "output_type": "display_data"
    }
   ],
   "source": [
    "# Create subplots\n",
    "fig, axes = plt.subplots(1, 2, figsize=(12, 5))\n",
    "\n",
    "# Plot confusion matrix for training data\n",
    "train_matrix = ConfusionMatrixDisplay.from_estimator(pipe_svc, X_train, y_train, cmap='BuPu', ax=axes[0])\n",
    "train_matrix.ax_.set_title('Confusion Matrix - Training Data')\n",
    "\n",
    "# Plot confusion matrix for test data\n",
    "test_matrix = ConfusionMatrixDisplay.from_estimator(pipe_svc, X_test, y_test, cmap='BuPu', ax=axes[1])\n",
    "test_matrix.ax_.set_title('Confusion Matrix - Test Data')\n",
    "\n",
    "plt.tight_layout()\n",
    "plt.show()"
   ]
  },
  {
   "cell_type": "markdown",
   "metadata": {},
   "source": [
    "**1. Training Data Confusion Matrix:**\n",
    "- True Positives (TP): 191 - The model correctly predicted the default class (yes).\n",
    "- True Negatives (TN): 1567 - The model correctly predicted the non-default class (no).\n",
    "- False Positives (FP): 63 - The model incorrectly predicted the default class (yes) when it was actually non-default.\n",
    "- False Negatives (FN): 253 - The model incorrectly predicted the non-default class (no) when it was actually default.\n",
    "\n",
    "**2. Test Data Confusion Matrix:**\n",
    "- True Positives (TP): 84 - The model correctly predicted the default class (yes).\n",
    "- True Negatives (TN): 654 - The model correctly predicted the non-default class (no).\n",
    "- False Positives (FP): 45 - The model incorrectly predicted the default class (yes) when it was actually non-default.\n",
    "- False Negatives (FN): 107 - The model incorrectly predicted the non-default class (no) when it was actually default.\n",
    "\n",
    "The model didn't significantly reduce false negatives, as they still remain a substantial portion of the predictions, which could be risky depending on the situation. For instance, in credit risk, missing a default can be more costly than wrongly flagging a non-default. Having false positives and negatives indicates there's space for improving the model, maybe through **hyperparameter tuning**."
   ]
  },
  {
   "cell_type": "code",
   "execution_count": 46,
   "metadata": {},
   "outputs": [
    {
     "data": {
      "text/html": [
       "<div>\n",
       "<style scoped>\n",
       "    .dataframe tbody tr th:only-of-type {\n",
       "        vertical-align: middle;\n",
       "    }\n",
       "\n",
       "    .dataframe tbody tr th {\n",
       "        vertical-align: top;\n",
       "    }\n",
       "\n",
       "    .dataframe thead th {\n",
       "        text-align: right;\n",
       "    }\n",
       "</style>\n",
       "<table border=\"1\" class=\"dataframe\">\n",
       "  <thead>\n",
       "    <tr style=\"text-align: right;\">\n",
       "      <th></th>\n",
       "      <th>SVM without Tuning</th>\n",
       "    </tr>\n",
       "  </thead>\n",
       "  <tbody>\n",
       "    <tr>\n",
       "      <th>Recall Train Set</th>\n",
       "      <td>0.430180</td>\n",
       "    </tr>\n",
       "    <tr>\n",
       "      <th>Recall Test Set</th>\n",
       "      <td>0.439791</td>\n",
       "    </tr>\n",
       "    <tr>\n",
       "      <th>False Negative Train</th>\n",
       "      <td>253.000000</td>\n",
       "    </tr>\n",
       "    <tr>\n",
       "      <th>False Negative Test</th>\n",
       "      <td>107.000000</td>\n",
       "    </tr>\n",
       "  </tbody>\n",
       "</table>\n",
       "</div>"
      ],
      "text/plain": [
       "                      SVM without Tuning\n",
       "Recall Train Set                0.430180\n",
       "Recall Test Set                 0.439791\n",
       "False Negative Train          253.000000\n",
       "False Negative Test           107.000000"
      ]
     },
     "execution_count": 46,
     "metadata": {},
     "output_type": "execute_result"
    }
   ],
   "source": [
    "# Create function to create reports\n",
    "def performance_report(all_reports, y_train, y_pred_train, y_test, y_pred_test, name):\n",
    "    # Calculate recall scores\n",
    "    score_reports = {\n",
    "        'Recall Train Set': recall_score(y_train, y_pred_train),\n",
    "        'Recall Test Set': recall_score(y_test, y_pred_test),\n",
    "    }\n",
    "    \n",
    "    # Calculate confusion matrices for train and test sets\n",
    "    cm_train = confusion_matrix(y_train, y_pred_train)\n",
    "    cm_test = confusion_matrix(y_test, y_pred_test)\n",
    "    \n",
    "    # Extract false negatives from the confusion matrices and add to the report\n",
    "    score_reports['False Negative Train'] = cm_train[1, 0]\n",
    "    score_reports['False Negative Test'] = cm_test[1, 0]\n",
    "    \n",
    "    # Store the report in the dictionary with the specified model name\n",
    "    all_reports[name] = score_reports\n",
    "    return all_reports\n",
    "\n",
    "all_reports = {}\n",
    "all_reports = performance_report(all_reports, y_train, y_pred_train, y_test, y_pred_test, 'SVM without Tuning')\n",
    "\n",
    "pd.DataFrame(all_reports)"
   ]
  },
  {
   "cell_type": "markdown",
   "metadata": {},
   "source": [
    "The SVM model before tuning shows a recall of about 0.43 for both training and test sets, meaning it correctly identifies 43% of actual defaults. This low recall rate could be a problem in situations where missing defaults is serious, like in finance.\n",
    "\n",
    "Also, the model has a lot of false negatives, 253 in training and 107 in testing, meaning it predicts non-defaults when it's actually default. This shows the model tends to play it safe in predicting defaults. The similar recall and false negatives in both sets mean the model is consistent, but it could improve with tuning to better find defaults."
   ]
  },
  {
   "cell_type": "markdown",
   "metadata": {},
   "source": [
    "#### **iii. Hyperparameter Tuning**"
   ]
  },
  {
   "cell_type": "markdown",
   "metadata": {},
   "source": [
    "Since the model still needs some improvements, the next step involves hyperparameter tuning for the SVC model. Four parameters are targeted for tuning: C, gamma, kernel, and class weight, each chosen for specific reasons:\n",
    "\n",
    "- **C**: Reflects the regularization strength; lower values lead to stronger regularization, penalizing misclassifications more heavily, while higher values allow for more flexible decision boundaries but may risk overfitting.\n",
    "  \n",
    "- **Gamma**: Influences the impact of a single training example; smaller values widen the influence radius for support vectors, resulting in smoother decision boundaries, whereas larger values create more intricate boundaries.\n",
    "  \n",
    "- **Kernel**: Determines the kernel type used in the SVM algorithm, significantly affecting the decision boundary's shape and the model's capability to capture complex data relationships.\n",
    "  \n",
    "- **Class Weight**: Addresses class imbalance by assigning varying weights to different classes, crucial for datasets where one class significantly outnumbers others, ensuring better performance for minority classes.\n",
    "\n",
    "To optimize these parameters, Grid Search technique is applied, exploring different hyperparameter combinations for improved model performance."
   ]
  },
  {
   "cell_type": "code",
   "execution_count": 47,
   "metadata": {},
   "outputs": [
    {
     "name": "stdout",
     "output_type": "stream",
     "text": [
      "Fitting 5 folds for each of 48 candidates, totalling 240 fits\n",
      "Best hyperparameters: {'svc__C': 0.1, 'svc__class_weight': 'balanced', 'svc__gamma': 'auto', 'svc__kernel': 'rbf'}\n",
      "Best recall: 0.6260725229826354\n"
     ]
    }
   ],
   "source": [
    "# Set up the parameter grid\n",
    "param_grid = {\n",
    "    'svc__C': [0.1, 1], \n",
    "    'svc__gamma': [0.001, 0.0001, 'scale', 'auto'],\n",
    "    'svc__kernel': ['linear', 'rbf', 'sigmoid'],\n",
    "    'svc__class_weight': [None, 'balanced']\n",
    "}\n",
    "\n",
    "# Set up the GridSearchCV object\n",
    "grid_search = GridSearchCV(pipe_svc,\n",
    "                           param_grid=param_grid,\n",
    "                           scoring='recall',\n",
    "                           cv=5,\n",
    "                           verbose=2,\n",
    "                           n_jobs=-1)\n",
    "\n",
    "# Fit GridSearchCV\n",
    "grid_search.fit(X_train, y_train)\n",
    "\n",
    "# Best hyperparameters\n",
    "print('Best hyperparameters:', grid_search.best_params_)\n",
    "\n",
    "# Best recall\n",
    "print('Best recall:', grid_search.best_score_)\n",
    "\n",
    "# Save best model to a variale\n",
    "best_svm = grid_search.best_estimator_"
   ]
  },
  {
   "cell_type": "markdown",
   "metadata": {},
   "source": [
    "After thorough exploration of SVC parameters, the optimal settings were identified and saved as `best_svm`. These best hyperparameters are:\n",
    "- C: 0.1\n",
    "- Class Weight: balanced\n",
    "- Gamma: auto\n",
    "- Kernel: rbf\n",
    "\n",
    "This configuration resulted the best recall score of **0.62607**. This outcome suggests that the model, with these specific settings, is proficient at correctly identifying default payment next month, reducing the instances where defaults are missed (False Negatives). The 'balanced' class weight ensures fair treatment for all classes, especially crucial in scenarios with imbalanced datasets. Overall, these insights demonstrate the effectiveness of the hyperparameter tuning process in optimizing model performance for the task at hand."
   ]
  },
  {
   "cell_type": "code",
   "execution_count": 48,
   "metadata": {},
   "outputs": [],
   "source": [
    "# Get predictions for training and testing set using the hyperparameter tuned model\n",
    "y_pred_train_tuned = best_svm.predict(X_train)\n",
    "y_pred_test_tuned = best_svm.predict(X_test)"
   ]
  },
  {
   "cell_type": "code",
   "execution_count": 49,
   "metadata": {},
   "outputs": [
    {
     "name": "stdout",
     "output_type": "stream",
     "text": [
      "Recall Score - Train Set  :  0.6486486486486487\n",
      "Recall Score - Test Set   :  0.6387434554973822\n"
     ]
    }
   ],
   "source": [
    "# Show result after hyperparameter tuning\n",
    "print('Recall Score - Train Set  : ', recall_score(y_train, y_pred_train_tuned))\n",
    "print('Recall Score - Test Set   : ', recall_score(y_test, y_pred_test_tuned))"
   ]
  },
  {
   "cell_type": "markdown",
   "metadata": {},
   "source": [
    "After hyperparameter tuning, the recall score increased significantly, with the training score reaching **0.64864** and the testing score at **0.63874**. This marked improvement from the scores without tuning indicates that the hyperparameter tuning process **successfully** enhanced the model's performance. Even though the model is remained **underfit** (< 0.7), it still show improvements from the base model. \n",
    "\n",
    "Next, the confusion matrix will be displayed for both the training and testing sets to assess any reduction in False Negatives."
   ]
  },
  {
   "cell_type": "code",
   "execution_count": 50,
   "metadata": {},
   "outputs": [
    {
     "data": {
      "image/png": "[encoded data removed]",
      "text/plain": [
       "<Figure size 1200x500 with 4 Axes>"
      ]
     },
     "metadata": {},
     "output_type": "display_data"
    }
   ],
   "source": [
    "# Create subplots\n",
    "fig, axes = plt.subplots(1, 2, figsize=(12, 5))\n",
    "\n",
    "# Plot confusion matrix for training data\n",
    "train_matrix_tuned = ConfusionMatrixDisplay.from_estimator(best_svm, X_train, y_train, cmap='BuPu', ax=axes[0])\n",
    "train_matrix_tuned.ax_.set_title('Confusion Matrix - Training Data')\n",
    "\n",
    "# Plot confusion matrix for test data\n",
    "test_matrix_tuned = ConfusionMatrixDisplay.from_estimator(best_svm, X_test, y_test, cmap='BuPu', ax=axes[1])\n",
    "test_matrix_tuned.ax_.set_title('Confusion Matrix - Test Data')\n",
    "\n",
    "plt.tight_layout()\n",
    "plt.show()"
   ]
  },
  {
   "cell_type": "markdown",
   "metadata": {},
   "source": [
    "**1. Training Data Confusion Matrix:**\n",
    "- True Positives (TP): 288 - The model correctly predicted the default class (yes).\n",
    "- True Negatives (TN): 1313 - The model correctly predicted the non-default class (no).\n",
    "- False Positives (FP): 317 - The model incorrectly predicted the default class (yes) when it was actually non-default.\n",
    "- False Negatives (FN): 156 - The model incorrectly predicted the non-default class (no) when it was actually default.\n",
    "\n",
    "**2. Test Data Confusion Matrix:**\n",
    "- True Positives (TP): 122 - The model correctly predicted the default class (yes).\n",
    "- True Negatives (TN): 522 - The model correctly predicted the non-default class (no).\n",
    "- False Positives (FP): 177 - The model incorrectly predicted the default class (yes) when it was actually non-default.\n",
    "- False Negatives (FN): 69 - The model incorrectly predicted the non-default class (no) when it was actually default.\n",
    "\n",
    "The hyperparameter tuning improved the confusion matrix, with False Negatives decreasing to 156 in the training set and to 69 in the testing set. Despite an increase in precision, this improvement comes with an undeniable trade-off. However, given the analysis's emphasis on Recall, the increase in precision is acceptable and does not significantly impact the overall objective."
   ]
  },
  {
   "cell_type": "code",
   "execution_count": 51,
   "metadata": {},
   "outputs": [
    {
     "data": {
      "text/html": [
       "<div>\n",
       "<style scoped>\n",
       "    .dataframe tbody tr th:only-of-type {\n",
       "        vertical-align: middle;\n",
       "    }\n",
       "\n",
       "    .dataframe tbody tr th {\n",
       "        vertical-align: top;\n",
       "    }\n",
       "\n",
       "    .dataframe thead th {\n",
       "        text-align: right;\n",
       "    }\n",
       "</style>\n",
       "<table border=\"1\" class=\"dataframe\">\n",
       "  <thead>\n",
       "    <tr style=\"text-align: right;\">\n",
       "      <th></th>\n",
       "      <th>SVM without Tuning</th>\n",
       "      <th>SVM with Tuning</th>\n",
       "    </tr>\n",
       "  </thead>\n",
       "  <tbody>\n",
       "    <tr>\n",
       "      <th>Recall Train Set</th>\n",
       "      <td>0.430180</td>\n",
       "      <td>0.648649</td>\n",
       "    </tr>\n",
       "    <tr>\n",
       "      <th>Recall Test Set</th>\n",
       "      <td>0.439791</td>\n",
       "      <td>0.638743</td>\n",
       "    </tr>\n",
       "    <tr>\n",
       "      <th>False Negative Train</th>\n",
       "      <td>253.000000</td>\n",
       "      <td>156.000000</td>\n",
       "    </tr>\n",
       "    <tr>\n",
       "      <th>False Negative Test</th>\n",
       "      <td>107.000000</td>\n",
       "      <td>69.000000</td>\n",
       "    </tr>\n",
       "  </tbody>\n",
       "</table>\n",
       "</div>"
      ],
      "text/plain": [
       "                      SVM without Tuning  SVM with Tuning\n",
       "Recall Train Set                0.430180         0.648649\n",
       "Recall Test Set                 0.439791         0.638743\n",
       "False Negative Train          253.000000       156.000000\n",
       "False Negative Test           107.000000        69.000000"
      ]
     },
     "execution_count": 51,
     "metadata": {},
     "output_type": "execute_result"
    }
   ],
   "source": [
    "# Add results to the previous table\n",
    "all_reports = performance_report(all_reports, y_train, y_pred_train_tuned, y_test, y_pred_test_tuned, 'SVM with Tuning')\n",
    "pd.DataFrame(all_reports)"
   ]
  },
  {
   "cell_type": "markdown",
   "metadata": {},
   "source": [
    "After tuning the SVM model, it showed significant enhancement in its capability to detect false negatives, indicating a stronger ability to correctly identify positive instances. This improvement suggests that the tuned model has optimized its settings to perform well not only on the training data but also on new, unseen data, implying a reduced risk of overfitting."
   ]
  },
  {
   "cell_type": "markdown",
   "metadata": {},
   "source": [
    "### **J. Model Saving**"
   ]
  },
  {
   "cell_type": "markdown",
   "metadata": {},
   "source": [
    "Once the model is tuned, it is saved as a .pkl file, especially when using a Pipeline. This keeps everything, like preprocessing steps and the tuned model, together in one place, making it simpler to use the model."
   ]
  },
  {
   "cell_type": "code",
   "execution_count": 52,
   "metadata": {},
   "outputs": [],
   "source": [
    "# Save the best model\n",
    "with open('best_svm_model.pkl', 'wb') as model_file:\n",
    "  pickle.dump(best_svm, model_file)"
   ]
  },
  {
   "cell_type": "markdown",
   "metadata": {},
   "source": [
    "### **K. Model Inference**"
   ]
  },
  {
   "cell_type": "markdown",
   "metadata": {},
   "source": [
    "This section will be performed in a separate file named **'P1G5_Set_1_livia_amanda_inference.ipynb'**."
   ]
  },
  {
   "cell_type": "markdown",
   "metadata": {},
   "source": [
    "### **L. Conceptual Problems**"
   ]
  },
  {
   "cell_type": "markdown",
   "metadata": {},
   "source": [
    "#### **i. Coefficients in Logistic Regression**"
   ]
  },
  {
   "cell_type": "markdown",
   "metadata": {},
   "source": [
    "Coefficients in Logistic Regression represents the **weight** of each features that can influence the y or target variable. They determine the importance or contribution of each feature to the predicted outcome. Just as heavier weights in a physical balance scale tilt it more strongly in one direction, larger coefficients in logistic regression indicate a stronger influence of that feature on the predicted outcome.\n",
    "\n",
    "The main difference between coefficients in Linear and Logistic Regression is the type of dependent variable each handles. Linear regression deals with **continuous** dependent variables, while logistic regression deals with **binary or categorical** dependent variables. The coefficients in linear regression represent the change in the dependent variable, while in logistic regression, they represent the log odds of the dependent variable being in one category compared to another."
   ]
  },
  {
   "cell_type": "markdown",
   "metadata": {},
   "source": [
    "#### **ii. Kernel in SVM**"
   ]
  },
  {
   "cell_type": "markdown",
   "metadata": {},
   "source": [
    "In Support Vector Machines (SVM), the kernel is a crucial parameter that helps the algorithm handle data. It essentially transforms data into a higher dimensional space where it might be easier to separate using a linear boundary.\n",
    "\n",
    "1. **Transforming Data**: The kernel function lifts the data into a higher dimension where separating groups with a straight line or smooth curve becomes feasible, even if it’s not possible in the original space.\n",
    "\n",
    "2. **Types of Kernels**:\n",
    "\n",
    "   - **Linear Kernel**:  \n",
    "      Directly uses the original features to find a separating hyperplane. It's effective when the data is linearly separable in the original feature space.\n",
    "\n",
    "   - **Polynomial Kernel**:  \n",
    "      This kernel raises the data points to higher degrees by the specified degree of the kernel. For example, with a degree of 2, every data point of x is transformed by squaring it to \\( x^2 \\) to create a more complex feature map that can capture interactions between original features. This is beneficial for data that isn't linearly separable but can be managed with a polynomial division.\n",
    "\n",
    "   - **Radial Basis Function (RBF)**:  \n",
    "      It transforms the data points such that the influence of a single data point decreases with distance from it, forming a sort of influence map. It has infinite number of dimension. More dimension means that more chance to define better hyperlanes.\n",
    "\n",
    "   - **Sigmoid Kernel**:  \n",
    "      It transforms data into a space where separation between groups can be achieved using a logistic-like curve. It's particularly useful when the data requires a non-linear but not necessarily radial or polynomial transformation.\n",
    "\n",
    "3. **Choosing a Kernel**: The selection of a kernel depends on the nature of the data. A linear kernel is used for simpler, linearly separable data. For more intertwined data, a polynomial or RBF kernel might be more appropriate.\n",
    "\n",
    "[Ref](https://www.kaggle.com/code/gorkemgunay/understanding-parameters-of-svm)"
   ]
  },
  {
   "cell_type": "markdown",
   "metadata": {},
   "source": [
    "#### **iii. K in KNN**"
   ]
  },
  {
   "cell_type": "markdown",
   "metadata": {},
   "source": [
    "Finding the optimal value of \\( k \\) in a K-nearest neighbors (KNN) model can be obtained by:\n",
    "\n",
    "- **Cross-Validation:** This method involves splitting the data into training and validation sets multiple times (usually using techniques like k-fold), training the model with different \\( k \\) values on the training sets, and then evaluating performance on the validation sets. The \\( k \\) value that resulted the best mean performance across these iterations is typically chosen as the optimal \\( k \\).\n",
    "\n",
    "- **Elbow Method:** In this technique, plot the performance metric (e.g., error rate or accuracy) against different \\( k \\) values. There is a noticeable point where the performance starts to plateau or shows diminishing returns. This point is often referred to as the \"elbow,\" and selecting \\( k \\) around this point can be a good choice.\n",
    "\n",
    "- **Square Root of \\( N \\) Rule:** This is a simple heuristic where the \\( k \\) is set to the square root of the total number of data points in the dataset. While it's a quick starting point, it may not always resulting the best results and is more of a rule of thumb.\n",
    "\n",
    "- **Grid Search:** Grid search involves systematically testing different \\( k \\) values within a predefined range and evaluating the model's performance for each \\( k \\). This allows to identify the \\( k \\) value that optimizes the chosen performance metric.\n",
    "\n",
    "Each of these methods has its strengths and can be used alone or in combination depending on the complexity of the data and the specific requirements of the problem. Combining techniques like cross-validation with domain knowledge or using grid search along with the elbow method can often lead to more robust and reliable model selection.\n",
    "\n",
    "[Ref 1](https://medium.com/@rkbohara097/how-to-find-the-optimal-value-of-k-in-knn-2d5177430f2a)  \n",
    "[Ref 2](https://www.geeksforgeeks.org/how-to-find-the-optimal-value-of-k-in-knn/)  \n",
    "[Ref 3](https://towardsdatascience.com/how-to-find-the-optimal-value-of-k-in-knn-35d936e554eb)"
   ]
  },
  {
   "cell_type": "markdown",
   "metadata": {},
   "source": [
    "#### **iv. Metrics Evaluation**"
   ]
  },
  {
   "cell_type": "markdown",
   "metadata": {},
   "source": [
    "When evaluating classification models, there are 4 evaluation metrics to assess performance:\n",
    "\n",
    "- **Accuracy**\n",
    "  - **Description**: Measures the proportion of correct predictions (both true positives and true negatives) over all predictions. It is particularly appropriate for well-balanced datasets.\n",
    "\n",
    "  - **Formula**: \n",
    "\n",
    "    $ \\text{Accuracy} = \\frac{\\text{True Positives} + \\text{True Negatives}}{\\text{Total Predictions}} $\n",
    "\n",
    "\n",
    "- **Precision**\n",
    "  - **Description**: Measures the proportion of true positives among all positive predictions. This metric focuses on minimizing false positives, enhancing the reliability of the model.\n",
    "  \n",
    "  - **Formula**: \n",
    "  \n",
    "    $ \\text{Precision} = \\frac{\\text{True Positives}}{\\text{True Positives} + \\text{False Positives}} $\n",
    "\n",
    "- **Recall**\n",
    "  - **Description**: Measures the proportion of true positives identified among all actual positives. This metric aims to minimize false negatives, which is crucial for capturing all relevant instances.\n",
    "\n",
    "  - **Formula**:\n",
    "\n",
    "    $ \\text{Recall} = \\frac{\\text{True Positives}}{\\text{True Positives} + \\text{False Negatives}} $\n",
    "\n",
    "\n",
    "- **F1-Score**\n",
    "  - **Description**: Combines precision and recall into a single metric by taking their harmonic mean. It provides a balanced measure of the model's performance across different evaluation criteria.\n",
    "  \n",
    "  - **Formula**:\n",
    "\n",
    "    $ \\text{F1-Score} = 2 \\times \\frac{\\text{Precision} \\times \\text{Recall}}{\\text{Precision} + \\text{Recall}} $"
   ]
  },
  {
   "cell_type": "markdown",
   "metadata": {},
   "source": [
    "### **M. Analysis**"
   ]
  },
  {
   "cell_type": "markdown",
   "metadata": {},
   "source": [
    "#### **i. EDA**"
   ]
  },
  {
   "cell_type": "markdown",
   "metadata": {},
   "source": [
    "- **Client Overview:** The analysis reveals significant demographic trends among credit card clients. Females make up half of the client base, with a majority having higher education degrees, especially at the university and graduate school levels. Additionally, unmarried individuals, particularly singles, are a notable portion of the clients.\n",
    "\n",
    "- **Age Distribution:** The dataset shows a distinct age distribution, with the highest frequency of clients falling between 20 and 30 years old. This age group represents the largest segment of clients in the credit default payment dataset.\n",
    "\n",
    "- **Seasonal Spending Trends**: There's a consistent increase in bill amounts from April to September, suggesting a seasonal spending pattern with higher expenses toward year-end.\n",
    "\n",
    "- **Payment Trends**: Payments start low in April, decrease further in May and June, then steadily rise to a peak in September, possibly indicating a trend of lower mid-year payments followed by increased payments towards year-end.\n",
    "\n",
    "- **Payment Behavior:** The majority of clients, approximately 78.6%, consistently make on-time payments (non-default), while around 21.4% demonstrate delayed payment behavior (default)."
   ]
  },
  {
   "cell_type": "markdown",
   "metadata": {},
   "source": [
    "#### **ii. Bussiness Insights**"
   ]
  },
  {
   "cell_type": "markdown",
   "metadata": {},
   "source": [
    "- **Targeted Marketing Strategies:** Since females constitute a significant portion of the client base, focusing on tailored marketing strategies that appeal to this demographic, such as rewards programs, exclusive offers, or financial wellness programs, could be beneficial. Similarly, targeting unmarried individuals, especially singles, with relevant financial products or services might have positive results.\n",
    "\n",
    "- **Product Development:** Given that the highest frequency of clients falls within the 20-30 age group, there's an opportunity to develop and promote products or services that meet the financial needs and preferences of this age group. This could include features like budgeting tools, flexible payment options, or rewards designed for young professionals and students.\n",
    "\n",
    "- **Seasonal Promotions:** Offer discounts and incentives during months when spending tends to increase, like from April to September. This can encourage more purchases and engagement from your clients.\n",
    "\n",
    "- **Payment Management Solutions:**  Provide tools and reminders to help clients make their payments on time. This can include alerts for due dates and options for managing payments more effectively.\n",
    "\n",
    "- **Customer Education Initiatives:** Share resources and information about the benefits of timely payments. Educating clients on good financial habits can improve their payment behavior and overall satisfaction with your services."
   ]
  },
  {
   "cell_type": "markdown",
   "metadata": {},
   "source": [
    "#### **iii. Model Evaluation**"
   ]
  },
  {
   "cell_type": "markdown",
   "metadata": {},
   "source": [
    "- **Best Model**: The best model is SVM with a validation score of 0.38733, which suggests it performs better than other models based on the evaluation metric used.\n",
    "\n",
    "- **Metris Evaluation Testing Set:**\n",
    "  - **Recall without Tuning**: 0.439791 means the model correctly identifies 43.9% of all actual positive cases.\n",
    "  - **Recall with Tuning**: 0.638743 means the model correctly identifies 63.8% of all actual positive cases.\n",
    "  - **False Negatives without Tuning**: 107 indicates that 107 positive cases were incorrectly classified as negative.\n",
    "  - **False Negatives with Tuning**: 69 indicates that 69 positive cases were incorrectly classified as negative.\n",
    "\n",
    "  Therefore, the model shows significant improvement in recall after tuning, reducing false negatives by 38 cases.\n",
    "\n",
    "- **Model Fit**: The model demonstrates an **underfit** between the training and testing sets even after tuning, indicating that it is not capturing the complexity of the data well enough.\n",
    "\n",
    "- **Prediction Capability**: Despite the presence of errors that need further adjustment, the model can still be effectively used to predict default with some degree of accuracy.\n",
    "\n",
    "- **Model Advantages**:\n",
    "  - Higher validation score compared to other models.\n",
    "  - Effective in capturing certain patterns in the data.\n",
    "  - Can handle non linear data.\n",
    "  - Performs well with clear margin of separation between classes.\n",
    "  \n",
    "- **Model Limitations**:\n",
    "   - Demonstrates underfitting, indicating potential issues with generalization.\n",
    "   - May not perform optimally on imbalanced datasets.\n",
    "   - Requires careful selection of hyperparameters for optimal performance.\n",
    "   - Computationally intensive, especially with large datasets."
   ]
  },
  {
   "cell_type": "markdown",
   "metadata": {},
   "source": [
    "#### **iv. Model Improvement**"
   ]
  },
  {
   "cell_type": "markdown",
   "metadata": {},
   "source": [
    "- **Feature Engineering**:\n",
    "  - Explore and incorporate additional relevant features that could better represent the underlying patterns in the data.\n",
    "  - Use dimensionality reduction techniques such as Principal Component Analysis (PCA) to extract essential features.\n",
    "\n",
    "- **Addressing Imbalanced Data**:\n",
    "Apply techniques such as oversampling (e.g., SMOTE), undersampling, or using class weights to handle imbalanced classes and improve the model's ability to learn from minority class samples.\n",
    "\n",
    "- **Ensemble Methods**:\n",
    "Consider ensemble methods such as bagging (e.g., Random Forests) or boosting (e.g., Gradient Boosting Machines) to combine multiple weak models into a stronger one, which can help mitigate underfitting and improve generalization.\n",
    "\n",
    "- **Model Selection**:\n",
    "Experiment with different types of models beyond SVM, such as decision trees, to see if another model architecture performs better on the given task."
   ]
  },
  {
   "cell_type": "markdown",
   "metadata": {},
   "source": [
    "### **N. Conclusion**"
   ]
  },
  {
   "cell_type": "markdown",
   "metadata": {},
   "source": [
    "The conclusion drawn from the performance of the **SVM** model is that it demonstrates acceptable accuracy in predicting defaults, although it achieved an underfitting with a recall of 0.6. This indicates that while the model performs reasonably well, there is still room for improvement to further enhance accuracy and minimize errors."
   ]
  }
 ],
 "metadata": {
  "kernelspec": {
   "display_name": "hacktive",
   "language": "python",
   "name": "python3"
  },
  "language_info": {
   "codemirror_mode": {
    "name": "ipython",
    "version": 3
   },
   "file_extension": ".py",
   "mimetype": "text/x-python",
   "name": "python",
   "nbconvert_exporter": "python",
   "pygments_lexer": "ipython3",
   "version": "3.9.18"
  }
 },
 "nbformat": 4,
 "nbformat_minor": 2
}
