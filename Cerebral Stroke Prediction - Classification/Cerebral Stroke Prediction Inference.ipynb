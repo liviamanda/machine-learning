{
 "cells": [
  {
   "cell_type": "markdown",
   "metadata": {},
   "source": [
    "## **Milestone 2**"
   ]
  },
  {
   "cell_type": "markdown",
   "metadata": {},
   "source": [
    "### **A. Introduction**"
   ]
  },
  {
   "cell_type": "markdown",
   "metadata": {},
   "source": [
    "- **Name**  : Livia Amanda Annafiah\n",
    "- **Batch** : BSD-005\n",
    "- **Dataset** : [Cerebral Stroke Dataset](https://www.kaggle.com/datasets/shashwatwork/cerebral-stroke-predictionimbalaced-dataset/data)\n",
    "- **Hugging Face**: [Link](https://huggingface.co/spaces/liviamanda/CerebralStroke)"
   ]
  },
  {
   "cell_type": "markdown",
   "metadata": {},
   "source": [
    "---------------------\n",
    "\n",
    "**Problem Statement**\n",
    "\n",
    "A healthcare center is facing challenges in **predicting strokes in patients**. This leads to delayed interventions and puts patients lives at risk. This problem comes from the complex nature of stroke symptoms and various risk factors, including age, health condition, and lifestyle choices. Not being able to quickly spot who is at high risk of a stroke makes it hard to act fast with medical help. As a result, patients might not get the urgent care they need, which could prevent serious consequences like long-term disability or even death. This situation shows the urgent need for better tools that can predict strokes earlier and customize care to each person's needs.\n",
    "\n",
    "To address this challenges, the company wanted to develop a model capable of analyzing patient data to predict the likelihood of a stroke. By creating this algorithm, the healthcare center will be able to thoroughly analyze various aspects of patient data, such as medical history, lifestyle habits, and physiological indicators, to identify key patterns and risk factors linked to strokes.\n",
    "\n",
    "The dataset for this analysis focuses on cerebral strokes, containing information about patients' personal details, health status, lifestyle, and whether they have experienced a stroke."
   ]
  },
  {
   "cell_type": "markdown",
   "metadata": {},
   "source": [
    "**Objective**\n",
    "\n",
    "This project focuses on creating a **classification model** to predict strokes, selecting the best performer among `KNN`, `SVM`, `Logistic Regression`, `Decision Tree`, `Random Forest`, and `XGBoost`. The key evaluation metric for assessing model performance is `Recall`, which will be used to determine the effectiveness of each model in identifying stroke cases.\n",
    "\n",
    "This notebook is to test the model's inference capabilities using the model that has been developed."
   ]
  },
  {
   "cell_type": "markdown",
   "metadata": {},
   "source": [
    "### **B. Libraries**"
   ]
  },
  {
   "cell_type": "markdown",
   "metadata": {},
   "source": [
    "The libraries used to test the model are as follows:"
   ]
  },
  {
   "cell_type": "code",
   "execution_count": 1,
   "metadata": {},
   "outputs": [],
   "source": [
    "# Import Library\n",
    "import pandas as pd\n",
    "import pickle"
   ]
  },
  {
   "cell_type": "markdown",
   "metadata": {},
   "source": [
    "**Libraries Function**\n",
    "- pandas: data manipulation\n",
    "- pickle: loading model"
   ]
  },
  {
   "cell_type": "markdown",
   "metadata": {},
   "source": [
    "### **C. Data Loading**"
   ]
  },
  {
   "cell_type": "markdown",
   "metadata": {},
   "source": [
    "The initial step involves loading the model and the inference data, which have been previously separated from the model training file."
   ]
  },
  {
   "cell_type": "code",
   "execution_count": 2,
   "metadata": {},
   "outputs": [],
   "source": [
    "# Load model\n",
    "with open('best_rf_model.pkl', 'rb') as model_file:\n",
    "    model = pickle.load(model_file)"
   ]
  },
  {
   "cell_type": "code",
   "execution_count": 3,
   "metadata": {},
   "outputs": [
    {
     "data": {
      "text/html": [
       "<div>\n",
       "<style scoped>\n",
       "    .dataframe tbody tr th:only-of-type {\n",
       "        vertical-align: middle;\n",
       "    }\n",
       "\n",
       "    .dataframe tbody tr th {\n",
       "        vertical-align: top;\n",
       "    }\n",
       "\n",
       "    .dataframe thead th {\n",
       "        text-align: right;\n",
       "    }\n",
       "</style>\n",
       "<table border=\"1\" class=\"dataframe\">\n",
       "  <thead>\n",
       "    <tr style=\"text-align: right;\">\n",
       "      <th></th>\n",
       "      <th>id</th>\n",
       "      <th>gender</th>\n",
       "      <th>age</th>\n",
       "      <th>hypertension</th>\n",
       "      <th>heart_disease</th>\n",
       "      <th>ever_married</th>\n",
       "      <th>work_type</th>\n",
       "      <th>Residence_type</th>\n",
       "      <th>avg_glucose_level</th>\n",
       "      <th>bmi</th>\n",
       "      <th>smoking_status</th>\n",
       "    </tr>\n",
       "  </thead>\n",
       "  <tbody>\n",
       "    <tr>\n",
       "      <th>0</th>\n",
       "      <td>1622</td>\n",
       "      <td>Female</td>\n",
       "      <td>22</td>\n",
       "      <td>0</td>\n",
       "      <td>0</td>\n",
       "      <td>No</td>\n",
       "      <td>Private</td>\n",
       "      <td>Urban</td>\n",
       "      <td>120.57</td>\n",
       "      <td>16.32</td>\n",
       "      <td>never_smoked</td>\n",
       "    </tr>\n",
       "    <tr>\n",
       "      <th>1</th>\n",
       "      <td>8943</td>\n",
       "      <td>Male</td>\n",
       "      <td>27</td>\n",
       "      <td>1</td>\n",
       "      <td>1</td>\n",
       "      <td>Yes</td>\n",
       "      <td>Govt_job</td>\n",
       "      <td>Rural</td>\n",
       "      <td>231.45</td>\n",
       "      <td>32.88</td>\n",
       "      <td>formerly smoked</td>\n",
       "    </tr>\n",
       "    <tr>\n",
       "      <th>2</th>\n",
       "      <td>1254</td>\n",
       "      <td>Female</td>\n",
       "      <td>56</td>\n",
       "      <td>1</td>\n",
       "      <td>0</td>\n",
       "      <td>Yes</td>\n",
       "      <td>Self-employed</td>\n",
       "      <td>Urban</td>\n",
       "      <td>89.32</td>\n",
       "      <td>43.61</td>\n",
       "      <td>smokes</td>\n",
       "    </tr>\n",
       "  </tbody>\n",
       "</table>\n",
       "</div>"
      ],
      "text/plain": [
       "     id  gender  age  hypertension  heart_disease ever_married      work_type  \\\n",
       "0  1622  Female   22             0              0           No        Private   \n",
       "1  8943    Male   27             1              1          Yes       Govt_job   \n",
       "2  1254  Female   56             1              0          Yes  Self-employed   \n",
       "\n",
       "  Residence_type  avg_glucose_level    bmi   smoking_status  \n",
       "0          Urban             120.57  16.32     never_smoked  \n",
       "1          Rural             231.45  32.88  formerly smoked  \n",
       "2          Urban              89.32  43.61           smokes  "
      ]
     },
     "execution_count": 3,
     "metadata": {},
     "output_type": "execute_result"
    }
   ],
   "source": [
    "# Define new data\n",
    "data = {'id': [1622, 8943, 1254],\n",
    "        'gender': ['Female', 'Male', 'Female'],\n",
    "        'age': [22, 27, 56],\n",
    "        'hypertension': [0, 1, 1],\n",
    "        'heart_disease': [0, 1, 0],\n",
    "        'ever_married': ['No', 'Yes', 'Yes'],\n",
    "        'work_type': ['Private', 'Govt_job', 'Self-employed'],\n",
    "        'Residence_type': ['Urban', 'Rural', 'Urban'],\n",
    "        'avg_glucose_level': [120.57, 231.45, 89.32],\n",
    "        'bmi': [16.32, 32.88, 43.61],\n",
    "        'smoking_status': ['never_smoked', 'formerly smoked', 'smokes']}\n",
    "\n",
    "# Create the DataFrame\n",
    "df_inf = pd.DataFrame(data)\n",
    "\n",
    "# Print the DataFrame\n",
    "df_inf"
   ]
  },
  {
   "cell_type": "markdown",
   "metadata": {},
   "source": [
    "### **D. Model Prediction**"
   ]
  },
  {
   "cell_type": "markdown",
   "metadata": {},
   "source": [
    "Since the model handles preprocessing within the pipeline, there's no need to separately preprocess the data. The next step is simply using the saved model for making predictions."
   ]
  },
  {
   "cell_type": "code",
   "execution_count": 4,
   "metadata": {},
   "outputs": [
    {
     "data": {
      "text/plain": [
       "array([0, 0, 1], dtype=int64)"
      ]
     },
     "execution_count": 4,
     "metadata": {},
     "output_type": "execute_result"
    }
   ],
   "source": [
    "# Predict using best model\n",
    "y_pred_inf = model.predict(df_inf)\n",
    "\n",
    "y_pred_inf"
   ]
  },
  {
   "cell_type": "code",
   "execution_count": 5,
   "metadata": {},
   "outputs": [
    {
     "name": "stdout",
     "output_type": "stream",
     "text": [
      "Prediction for ID 1622: Non-Stroke\n",
      "Prediction for ID 8943: Non-Stroke\n",
      "Prediction for ID 1254: Stroke\n"
     ]
    }
   ],
   "source": [
    "# Print the predictions\n",
    "for idx, pred in enumerate(y_pred_inf):\n",
    "    if pred == 0:\n",
    "        print(f'Prediction for ID {df_inf[\"id\"].iloc[idx]}: Non-Stroke')\n",
    "    elif pred == 1:\n",
    "        print(f'Prediction for ID {df_inf[\"id\"].iloc[idx]}: Stroke')"
   ]
  },
  {
   "cell_type": "markdown",
   "metadata": {},
   "source": [
    "### **E. Conclusion**"
   ]
  },
  {
   "cell_type": "markdown",
   "metadata": {},
   "source": [
    "The model accurately predicts the stroke status of the raw unseen data, as demonstrated by the example showing that the data are 2 non-stroke and 1 stroke."
   ]
  }
 ],
 "metadata": {
  "kernelspec": {
   "display_name": "hacktive",
   "language": "python",
   "name": "python3"
  },
  "language_info": {
   "codemirror_mode": {
    "name": "ipython",
    "version": 3
   },
   "file_extension": ".py",
   "mimetype": "text/x-python",
   "name": "python",
   "nbconvert_exporter": "python",
   "pygments_lexer": "ipython3",
   "version": "3.9.18"
  }
 },
 "nbformat": 4,
 "nbformat_minor": 2
}
