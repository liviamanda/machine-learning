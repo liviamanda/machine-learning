{
 "cells": [
  {
   "cell_type": "markdown",
   "metadata": {},
   "source": [
    "## **Graded Challenge 4**"
   ]
  },
  {
   "cell_type": "markdown",
   "metadata": {},
   "source": [
    "### **A. Introduction**"
   ]
  },
  {
   "cell_type": "markdown",
   "metadata": {},
   "source": [
    "- **Name**  : Livia Amanda Annafiah\n",
    "- **Batch** : BSD-005\n",
    "- **Dataset** : [Uber and Lyft Dataset Boston, MA](https://www.kaggle.com/datasets/brllrb/uber-and-lyft-dataset-boston-ma?resource=download)"
   ]
  },
  {
   "cell_type": "markdown",
   "metadata": {},
   "source": [
    "---------------------\n",
    "\n",
    "**Problem Statement**\n",
    "\n",
    "A ride-hailing company is currently facing a significant challenge as the cost of rides tends to fluctuate unexpectedly. This unpredictability arises from a range of dynamic factors that influence pricing. Such unpredictability makes it hard for users to know how much they'll need to pay in advance, often leading to frustration and a loss of trust when the final price is higher than expected.\n",
    "\n",
    "To address this, the company aims to improve the accuracy of their price prediction algorithms. By offering more reliable price forecasts, they seek to enhance user trust and satisfaction, strengthening their position in a competitive market."
   ]
  },
  {
   "cell_type": "markdown",
   "metadata": {},
   "source": [
    "**Objective**  \n",
    "\n",
    "This project aims to develop a `Linear Regression` model designed for predicting ride-hailing prices accurately based on selected features. The evaluation metrics will include `MAE (Mean Absolute Error)`, `MSE (Mean Squared Error)`, `RMSE (Root Mean Squared Error)`, and `R2 score` to assess the model's performance and predictive accuracy."
   ]
  },
  {
   "cell_type": "markdown",
   "metadata": {},
   "source": [
    "### **B. Libraries**"
   ]
  },
  {
   "cell_type": "markdown",
   "metadata": {},
   "source": [
    "The libraries used to develop the model are as follows:"
   ]
  },
  {
   "cell_type": "code",
   "execution_count": 2,
   "metadata": {},
   "outputs": [],
   "source": [
    "# Import libraries\n",
    "import pandas as pd\n",
    "import numpy as np\n",
    "import matplotlib.pyplot as plt\n",
    "import seaborn as sns\n",
    "import pickle\n",
    "import json\n",
    "import phik\n",
    "\n",
    "# Import libraries for data preprocessing and model creation\n",
    "from sklearn.model_selection import train_test_split\n",
    "from sklearn.preprocessing import StandardScaler, MinMaxScaler, OneHotEncoder\n",
    "from sklearn.linear_model import LinearRegression, Lasso, Ridge\n",
    "from sklearn.model_selection import GridSearchCV, ShuffleSplit\n",
    "\n",
    "from sklearn.metrics import mean_absolute_error, mean_squared_error, r2_score\n",
    "\n",
    "# Import libraries for managing warnings\n",
    "import warnings"
   ]
  },
  {
   "cell_type": "markdown",
   "metadata": {},
   "source": [
    "**Libraries Function**\n",
    "- pandas: data manipulation and analysis\n",
    "- numpy: numerical computations and operations on arrays\n",
    "- matplotlib : data visualization and statistical plotting\n",
    "- seaborn: data visualization and statistical plotting\n",
    "- pickle: saving model\n",
    "- json: handling JSON data format for data interchange and storage\n",
    "- phik: feature selection\n",
    "- sklearn: machine learning algorithms, model creation, feature engineering, and evaluation\n",
    "- warnings: remove warning messages"
   ]
  },
  {
   "cell_type": "markdown",
   "metadata": {},
   "source": [
    "### **C. Data Loading & Cleaning**"
   ]
  },
  {
   "cell_type": "markdown",
   "metadata": {},
   "source": [
    "#### **i. Data Loading**"
   ]
  },
  {
   "cell_type": "markdown",
   "metadata": {},
   "source": [
    "This section will focus on loading the data and exploring its contents. The inital step involves loading the data and take a quick look of the data."
   ]
  },
  {
   "cell_type": "code",
   "execution_count": 4,
   "metadata": {},
   "outputs": [
    {
     "data": {
      "text/html": [
       "<div>\n",
       "<style scoped>\n",
       "    .dataframe tbody tr th:only-of-type {\n",
       "        vertical-align: middle;\n",
       "    }\n",
       "\n",
       "    .dataframe tbody tr th {\n",
       "        vertical-align: top;\n",
       "    }\n",
       "\n",
       "    .dataframe thead th {\n",
       "        text-align: right;\n",
       "    }\n",
       "</style>\n",
       "<table border=\"1\" class=\"dataframe\">\n",
       "  <thead>\n",
       "    <tr style=\"text-align: right;\">\n",
       "      <th></th>\n",
       "      <th>id</th>\n",
       "      <th>timestamp</th>\n",
       "      <th>hour</th>\n",
       "      <th>day</th>\n",
       "      <th>month</th>\n",
       "      <th>datetime</th>\n",
       "      <th>timezone</th>\n",
       "      <th>source</th>\n",
       "      <th>destination</th>\n",
       "      <th>cab_type</th>\n",
       "      <th>...</th>\n",
       "      <th>precipIntensityMax</th>\n",
       "      <th>uvIndexTime</th>\n",
       "      <th>temperatureMin</th>\n",
       "      <th>temperatureMinTime</th>\n",
       "      <th>temperatureMax</th>\n",
       "      <th>temperatureMaxTime</th>\n",
       "      <th>apparentTemperatureMin</th>\n",
       "      <th>apparentTemperatureMinTime</th>\n",
       "      <th>apparentTemperatureMax</th>\n",
       "      <th>apparentTemperatureMaxTime</th>\n",
       "    </tr>\n",
       "  </thead>\n",
       "  <tbody>\n",
       "    <tr>\n",
       "      <th>0</th>\n",
       "      <td>424553bb-7174-41ea-aeb4-fe06d4f4b9d7</td>\n",
       "      <td>1.544953e+09</td>\n",
       "      <td>9</td>\n",
       "      <td>16</td>\n",
       "      <td>12</td>\n",
       "      <td>2018-12-16 09:30:07</td>\n",
       "      <td>America/New_York</td>\n",
       "      <td>Haymarket Square</td>\n",
       "      <td>North Station</td>\n",
       "      <td>Lyft</td>\n",
       "      <td>...</td>\n",
       "      <td>0.1276</td>\n",
       "      <td>1544979600</td>\n",
       "      <td>39.89</td>\n",
       "      <td>1545012000</td>\n",
       "      <td>43.68</td>\n",
       "      <td>1544968800</td>\n",
       "      <td>33.73</td>\n",
       "      <td>1545012000</td>\n",
       "      <td>38.07</td>\n",
       "      <td>1544958000</td>\n",
       "    </tr>\n",
       "    <tr>\n",
       "      <th>1</th>\n",
       "      <td>4bd23055-6827-41c6-b23b-3c491f24e74d</td>\n",
       "      <td>1.543284e+09</td>\n",
       "      <td>2</td>\n",
       "      <td>27</td>\n",
       "      <td>11</td>\n",
       "      <td>2018-11-27 02:00:23</td>\n",
       "      <td>America/New_York</td>\n",
       "      <td>Haymarket Square</td>\n",
       "      <td>North Station</td>\n",
       "      <td>Lyft</td>\n",
       "      <td>...</td>\n",
       "      <td>0.1300</td>\n",
       "      <td>1543251600</td>\n",
       "      <td>40.49</td>\n",
       "      <td>1543233600</td>\n",
       "      <td>47.30</td>\n",
       "      <td>1543251600</td>\n",
       "      <td>36.20</td>\n",
       "      <td>1543291200</td>\n",
       "      <td>43.92</td>\n",
       "      <td>1543251600</td>\n",
       "    </tr>\n",
       "    <tr>\n",
       "      <th>2</th>\n",
       "      <td>981a3613-77af-4620-a42a-0c0866077d1e</td>\n",
       "      <td>1.543367e+09</td>\n",
       "      <td>1</td>\n",
       "      <td>28</td>\n",
       "      <td>11</td>\n",
       "      <td>2018-11-28 01:00:22</td>\n",
       "      <td>America/New_York</td>\n",
       "      <td>Haymarket Square</td>\n",
       "      <td>North Station</td>\n",
       "      <td>Lyft</td>\n",
       "      <td>...</td>\n",
       "      <td>0.1064</td>\n",
       "      <td>1543338000</td>\n",
       "      <td>35.36</td>\n",
       "      <td>1543377600</td>\n",
       "      <td>47.55</td>\n",
       "      <td>1543320000</td>\n",
       "      <td>31.04</td>\n",
       "      <td>1543377600</td>\n",
       "      <td>44.12</td>\n",
       "      <td>1543320000</td>\n",
       "    </tr>\n",
       "    <tr>\n",
       "      <th>3</th>\n",
       "      <td>c2d88af2-d278-4bfd-a8d0-29ca77cc5512</td>\n",
       "      <td>1.543554e+09</td>\n",
       "      <td>4</td>\n",
       "      <td>30</td>\n",
       "      <td>11</td>\n",
       "      <td>2018-11-30 04:53:02</td>\n",
       "      <td>America/New_York</td>\n",
       "      <td>Haymarket Square</td>\n",
       "      <td>North Station</td>\n",
       "      <td>Lyft</td>\n",
       "      <td>...</td>\n",
       "      <td>0.0000</td>\n",
       "      <td>1543507200</td>\n",
       "      <td>34.67</td>\n",
       "      <td>1543550400</td>\n",
       "      <td>45.03</td>\n",
       "      <td>1543510800</td>\n",
       "      <td>30.30</td>\n",
       "      <td>1543550400</td>\n",
       "      <td>38.53</td>\n",
       "      <td>1543510800</td>\n",
       "    </tr>\n",
       "    <tr>\n",
       "      <th>4</th>\n",
       "      <td>e0126e1f-8ca9-4f2e-82b3-50505a09db9a</td>\n",
       "      <td>1.543463e+09</td>\n",
       "      <td>3</td>\n",
       "      <td>29</td>\n",
       "      <td>11</td>\n",
       "      <td>2018-11-29 03:49:20</td>\n",
       "      <td>America/New_York</td>\n",
       "      <td>Haymarket Square</td>\n",
       "      <td>North Station</td>\n",
       "      <td>Lyft</td>\n",
       "      <td>...</td>\n",
       "      <td>0.0001</td>\n",
       "      <td>1543420800</td>\n",
       "      <td>33.10</td>\n",
       "      <td>1543402800</td>\n",
       "      <td>42.18</td>\n",
       "      <td>1543420800</td>\n",
       "      <td>29.11</td>\n",
       "      <td>1543392000</td>\n",
       "      <td>35.75</td>\n",
       "      <td>1543420800</td>\n",
       "    </tr>\n",
       "  </tbody>\n",
       "</table>\n",
       "<p>5 rows × 57 columns</p>\n",
       "</div>"
      ],
      "text/plain": [
       "                                     id     timestamp  hour  day  month  \\\n",
       "0  424553bb-7174-41ea-aeb4-fe06d4f4b9d7  1.544953e+09     9   16     12   \n",
       "1  4bd23055-6827-41c6-b23b-3c491f24e74d  1.543284e+09     2   27     11   \n",
       "2  981a3613-77af-4620-a42a-0c0866077d1e  1.543367e+09     1   28     11   \n",
       "3  c2d88af2-d278-4bfd-a8d0-29ca77cc5512  1.543554e+09     4   30     11   \n",
       "4  e0126e1f-8ca9-4f2e-82b3-50505a09db9a  1.543463e+09     3   29     11   \n",
       "\n",
       "              datetime          timezone            source    destination  \\\n",
       "0  2018-12-16 09:30:07  America/New_York  Haymarket Square  North Station   \n",
       "1  2018-11-27 02:00:23  America/New_York  Haymarket Square  North Station   \n",
       "2  2018-11-28 01:00:22  America/New_York  Haymarket Square  North Station   \n",
       "3  2018-11-30 04:53:02  America/New_York  Haymarket Square  North Station   \n",
       "4  2018-11-29 03:49:20  America/New_York  Haymarket Square  North Station   \n",
       "\n",
       "  cab_type  ... precipIntensityMax uvIndexTime  temperatureMin  \\\n",
       "0     Lyft  ...             0.1276  1544979600           39.89   \n",
       "1     Lyft  ...             0.1300  1543251600           40.49   \n",
       "2     Lyft  ...             0.1064  1543338000           35.36   \n",
       "3     Lyft  ...             0.0000  1543507200           34.67   \n",
       "4     Lyft  ...             0.0001  1543420800           33.10   \n",
       "\n",
       "   temperatureMinTime  temperatureMax  temperatureMaxTime  \\\n",
       "0          1545012000           43.68          1544968800   \n",
       "1          1543233600           47.30          1543251600   \n",
       "2          1543377600           47.55          1543320000   \n",
       "3          1543550400           45.03          1543510800   \n",
       "4          1543402800           42.18          1543420800   \n",
       "\n",
       "   apparentTemperatureMin  apparentTemperatureMinTime  apparentTemperatureMax  \\\n",
       "0                   33.73                  1545012000                   38.07   \n",
       "1                   36.20                  1543291200                   43.92   \n",
       "2                   31.04                  1543377600                   44.12   \n",
       "3                   30.30                  1543550400                   38.53   \n",
       "4                   29.11                  1543392000                   35.75   \n",
       "\n",
       "  apparentTemperatureMaxTime  \n",
       "0                 1544958000  \n",
       "1                 1543251600  \n",
       "2                 1543320000  \n",
       "3                 1543510800  \n",
       "4                 1543420800  \n",
       "\n",
       "[5 rows x 57 columns]"
      ]
     },
     "execution_count": 4,
     "metadata": {},
     "output_type": "execute_result"
    }
   ],
   "source": [
    "# Load dataset\n",
    "df_ori = pd.read_csv('rideshare_kaggle.csv')\n",
    "\n",
    "# Duplicate dataset\n",
    "df = df_ori.copy()\n",
    "\n",
    "# Show the first 5 data\n",
    "df.head()"
   ]
  },
  {
   "cell_type": "markdown",
   "metadata": {},
   "source": [
    "The dataset shows 57 columns containing information about customers' ride details, including details about weather conditions, sources, destinations, type of cab, and more.  Certain columns likely correlate with and impact the pricing.\n",
    "\n",
    "The table offers a brief description of each column within the dataframe, simplifying the understanding process."
   ]
  },
  {
   "cell_type": "markdown",
   "metadata": {},
   "source": [
    "<center>\n",
    "\n",
    "| Column Name                  | Description                                                  |\n",
    "|----------------------------- |--------------------------------------------------------------|\n",
    "| id                           | Unique identifier for each data entry.                        |\n",
    "| timestamp                    | Time at which the data was recorded.                          |\n",
    "| hour                         | Hour of the timestamp.                                        |\n",
    "| day                          | Day of the timestamp.                                         |\n",
    "| month                        | Month of the timestamp.                                       |\n",
    "| datetime                     | Combined date and time of the timestamp.                      |\n",
    "| timezone                     | Time zone of the recorded data.                               |\n",
    "| source                       | Starting point of the trip.                                   |\n",
    "| destination                  | Ending point of the trip.                                     |\n",
    "| cab_type                     | Category of the cab (e.g., luxury, single).                   |\n",
    "| product_id                   | Identifier for the cab type.                                  |\n",
    "| name                         | Same as cab_type, denotes the category of the cab.            |\n",
    "| price                        | Cost of the trip.                                             |\n",
    "| distance                     | Distance traveled.                                            |\n",
    "| surge_multiplier             | Multiplier applied to the fare during peak times.             |\n",
    "| latitude                     | Latitude coordinate of a location.                            |\n",
    "| longitude                    | Longitude coordinate of a location.                           |\n",
    "| temperature                  | Temperature at the time of the trip.                          |\n",
    "| apparentTemperature          | Perceived temperature.                                        |\n",
    "| short_summary                | Brief description of the weather conditions.                  |\n",
    "| long_summary                 | Detailed description of the weather conditions.               |\n",
    "| icon                         | Weather icon representing the weather conditions.             |\n",
    "| precipIntensity              | Intensity of precipitation.                                   |\n",
    "| precipProbability            | Probability of precipitation occurring.                       |\n",
    "| humidity                     | Humidity level.                                               |\n",
    "| windSpeed                    | Speed of the wind.                                            |\n",
    "| windGust                     | Gust speed of the wind.                                       |\n",
    "| windGustTime                 | Time at which the wind gust occurred.                         |\n",
    "| visibility                   | Visibility level.                                             |\n",
    "| temperatureHigh              | Highest temperature of the day.                               |\n",
    "| temperatureHighTime          | Time at which the highest temperature occurred.               |\n",
    "| temperatureLow               | Lowest temperature of the day.                                |\n",
    "| temperatureLowTime           | Time at which the lowest temperature occurred.                |\n",
    "| apparentTemperatureHigh      | Highest perceived temperature.                                |\n",
    "| apparentTemperatureHighTime  | Time at which the highest perceived temperature occurred.      |\n",
    "| apparentTemperatureLow       | Lowest perceived temperature.                                 |\n",
    "| apparentTemperatureLowTime   | Time at which the lowest perceived temperature occurred.       |\n",
    "| dewPoint                     | Dew point temperature.                                        |\n",
    "| pressure                     | Atmospheric pressure.                                         |\n",
    "| windBearing                  | Wind direction in degrees.                                    |\n",
    "| cloudCover                   | Percentage of sky covered by clouds.                          |\n",
    "| uvIndex                      | UV index level.                                               |\n",
    "| visibility.1                 | Another measure of visibility.                                |\n",
    "| ozone                        | Ozone level.                                                  |\n",
    "| sunriseTime                  | Time of sunrise.                                              |\n",
    "| sunsetTime                   | Time of sunset.                                               |\n",
    "| moonPhase                    | Phase of the moon.                                            |\n",
    "| precipIntensityMax           | Maximum precipitation intensity.                              |\n",
    "| uvIndexTime                  | Time at which the UV index was recorded.                      |\n",
    "| temperatureMin               | Minimum temperature of the day.                               |\n",
    "| temperatureMinTime           | Time at which the minimum temperature occurred.               |\n",
    "| temperatureMax               | Maximum temperature of the day.                               |\n",
    "| temperatureMaxTime           | Time at which the maximum temperature occurred.               |\n",
    "| apparentTemperatureMin       | Minimum perceived temperature.                                |\n",
    "| apparentTemperatureMinTime   | Time at which the minimum perceived temperature occurred.     |\n",
    "| apparentTemperatureMax       | Maximum perceived temperature.                                |\n",
    "| apparentTemperatureMaxTime   | Time at which the maximum perceived temperature occurred.     |\n"
   ]
  },
  {
   "cell_type": "markdown",
   "metadata": {},
   "source": [
    "To gain more insights into the dataframe's information, method `info()` is used."
   ]
  },
  {
   "cell_type": "code",
   "execution_count": 3,
   "metadata": {},
   "outputs": [
    {
     "name": "stdout",
     "output_type": "stream",
     "text": [
      "<class 'pandas.core.frame.DataFrame'>\n",
      "RangeIndex: 693071 entries, 0 to 693070\n",
      "Data columns (total 57 columns):\n",
      " #   Column                       Non-Null Count   Dtype  \n",
      "---  ------                       --------------   -----  \n",
      " 0   id                           693071 non-null  object \n",
      " 1   timestamp                    693071 non-null  float64\n",
      " 2   hour                         693071 non-null  int64  \n",
      " 3   day                          693071 non-null  int64  \n",
      " 4   month                        693071 non-null  int64  \n",
      " 5   datetime                     693071 non-null  object \n",
      " 6   timezone                     693071 non-null  object \n",
      " 7   source                       693071 non-null  object \n",
      " 8   destination                  693071 non-null  object \n",
      " 9   cab_type                     693071 non-null  object \n",
      " 10  product_id                   693071 non-null  object \n",
      " 11  name                         693071 non-null  object \n",
      " 12  price                        637976 non-null  float64\n",
      " 13  distance                     693071 non-null  float64\n",
      " 14  surge_multiplier             693071 non-null  float64\n",
      " 15  latitude                     693071 non-null  float64\n",
      " 16  longitude                    693071 non-null  float64\n",
      " 17  temperature                  693071 non-null  float64\n",
      " 18  apparentTemperature          693071 non-null  float64\n",
      " 19  short_summary                693071 non-null  object \n",
      " 20  long_summary                 693071 non-null  object \n",
      " 21  precipIntensity              693071 non-null  float64\n",
      " 22  precipProbability            693071 non-null  float64\n",
      " 23  humidity                     693071 non-null  float64\n",
      " 24  windSpeed                    693071 non-null  float64\n",
      " 25  windGust                     693071 non-null  float64\n",
      " 26  windGustTime                 693071 non-null  int64  \n",
      " 27  visibility                   693071 non-null  float64\n",
      " 28  temperatureHigh              693071 non-null  float64\n",
      " 29  temperatureHighTime          693071 non-null  int64  \n",
      " 30  temperatureLow               693071 non-null  float64\n",
      " 31  temperatureLowTime           693071 non-null  int64  \n",
      " 32  apparentTemperatureHigh      693071 non-null  float64\n",
      " 33  apparentTemperatureHighTime  693071 non-null  int64  \n",
      " 34  apparentTemperatureLow       693071 non-null  float64\n",
      " 35  apparentTemperatureLowTime   693071 non-null  int64  \n",
      " 36  icon                         693071 non-null  object \n",
      " 37  dewPoint                     693071 non-null  float64\n",
      " 38  pressure                     693071 non-null  float64\n",
      " 39  windBearing                  693071 non-null  int64  \n",
      " 40  cloudCover                   693071 non-null  float64\n",
      " 41  uvIndex                      693071 non-null  int64  \n",
      " 42  visibility.1                 693071 non-null  float64\n",
      " 43  ozone                        693071 non-null  float64\n",
      " 44  sunriseTime                  693071 non-null  int64  \n",
      " 45  sunsetTime                   693071 non-null  int64  \n",
      " 46  moonPhase                    693071 non-null  float64\n",
      " 47  precipIntensityMax           693071 non-null  float64\n",
      " 48  uvIndexTime                  693071 non-null  int64  \n",
      " 49  temperatureMin               693071 non-null  float64\n",
      " 50  temperatureMinTime           693071 non-null  int64  \n",
      " 51  temperatureMax               693071 non-null  float64\n",
      " 52  temperatureMaxTime           693071 non-null  int64  \n",
      " 53  apparentTemperatureMin       693071 non-null  float64\n",
      " 54  apparentTemperatureMinTime   693071 non-null  int64  \n",
      " 55  apparentTemperatureMax       693071 non-null  float64\n",
      " 56  apparentTemperatureMaxTime   693071 non-null  int64  \n",
      "dtypes: float64(29), int64(17), object(11)\n",
      "memory usage: 301.4+ MB\n"
     ]
    }
   ],
   "source": [
    "# Check data summary\n",
    "df.info()"
   ]
  },
  {
   "cell_type": "markdown",
   "metadata": {},
   "source": [
    "The dataset has **693,071 rows** and **57 columns**. Most columns are complete, except for the `price` column, which is missing 55,095 values. Fortunately, there's no need to change any data types since they're already correct."
   ]
  },
  {
   "cell_type": "markdown",
   "metadata": {},
   "source": [
    "To streamline future processes, these columns will be separated according to their types."
   ]
  },
  {
   "cell_type": "markdown",
   "metadata": {},
   "source": [
    "<center>\n",
    "\n",
    "| **Category**  | **Type**     | **Column Names**                                           |\n",
    "|---------------|--------------|------------------------------------------------------------|\n",
    "| **Categorical** | **Ordinal**   | `surge_multiplier`                                         |\n",
    "|               | **Nominal**   | `id`, `timestamp`, `datetime`, `timezone`, `product_id`,  |\n",
    "|               |              | `name`, `short_summary`, `long_summary`, `icon`,           |\n",
    "|               |              | `source`, `destination`, `cab_type`, `windGustTime`        |\n",
    "| **Numerical**   | **Discrete**  | `hour`, `day`, `month`, `price`                            |\n",
    "|               | **Continuous**| `distance`, `latitude`, `longitude`, `temperature`,       |\n",
    "|               |              | `apparentTemperature`, `precipIntensity`,                 |\n",
    "|               |              | `precipProbability`, `humidity`, `windSpeed`, `windGust`,  |\n",
    "|               |              | `visibility`, `pressure`, `temperatureHigh`,               |\n",
    "|               |              | `temperatureHighTime`, `temperatureLow`,                   |\n",
    "|               |              | `temperatureLowTime`, `apparentTemperatureHigh`,           |\n",
    "|               |              | `apparentTemperatureHighTime`, `apparentTemperatureLow`,   |\n",
    "|               |              | `apparentTemperatureLowTime`, `dewPoint`, `windBearing`,    |\n",
    "|               |              | `cloudCover`, `uvIndex`, `ozone`, `sunriseTime`,            |\n",
    "|               |              | `sunsetTime`, `moonPhase`, `precipIntensityMax`,           |\n",
    "|               |              | `uvIndexTime`, `temperatureMin`, `temperatureMinTime`,     |\n",
    "|               |              | `temperatureMax`, `temperatureMaxTime`,                    |\n",
    "|               |              | `apparentTemperatureMin`, `apparentTemperatureMinTime`,    |\n",
    "|               |              | `apparentTemperatureMax`, `apparentTemperatureMaxTime`     |\n",
    "\n"
   ]
  },
  {
   "cell_type": "markdown",
   "metadata": {},
   "source": [
    "The method `describe` is then used to provide a summary of the statistical attributes such as mean, standard deviation, minimum, maximum, and quartile values for each column in a dataset."
   ]
  },
  {
   "cell_type": "code",
   "execution_count": 4,
   "metadata": {},
   "outputs": [
    {
     "data": {
      "text/html": [
       "<div>\n",
       "<style scoped>\n",
       "    .dataframe tbody tr th:only-of-type {\n",
       "        vertical-align: middle;\n",
       "    }\n",
       "\n",
       "    .dataframe tbody tr th {\n",
       "        vertical-align: top;\n",
       "    }\n",
       "\n",
       "    .dataframe thead th {\n",
       "        text-align: right;\n",
       "    }\n",
       "</style>\n",
       "<table border=\"1\" class=\"dataframe\">\n",
       "  <thead>\n",
       "    <tr style=\"text-align: right;\">\n",
       "      <th></th>\n",
       "      <th>timestamp</th>\n",
       "      <th>hour</th>\n",
       "      <th>day</th>\n",
       "      <th>month</th>\n",
       "      <th>price</th>\n",
       "      <th>distance</th>\n",
       "      <th>surge_multiplier</th>\n",
       "      <th>latitude</th>\n",
       "      <th>longitude</th>\n",
       "      <th>temperature</th>\n",
       "      <th>...</th>\n",
       "      <th>precipIntensityMax</th>\n",
       "      <th>uvIndexTime</th>\n",
       "      <th>temperatureMin</th>\n",
       "      <th>temperatureMinTime</th>\n",
       "      <th>temperatureMax</th>\n",
       "      <th>temperatureMaxTime</th>\n",
       "      <th>apparentTemperatureMin</th>\n",
       "      <th>apparentTemperatureMinTime</th>\n",
       "      <th>apparentTemperatureMax</th>\n",
       "      <th>apparentTemperatureMaxTime</th>\n",
       "    </tr>\n",
       "  </thead>\n",
       "  <tbody>\n",
       "    <tr>\n",
       "      <th>count</th>\n",
       "      <td>6.930710e+05</td>\n",
       "      <td>693071.000000</td>\n",
       "      <td>693071.000000</td>\n",
       "      <td>693071.000000</td>\n",
       "      <td>637976.000000</td>\n",
       "      <td>693071.000000</td>\n",
       "      <td>693071.000000</td>\n",
       "      <td>693071.000000</td>\n",
       "      <td>693071.000000</td>\n",
       "      <td>693071.000000</td>\n",
       "      <td>...</td>\n",
       "      <td>693071.000000</td>\n",
       "      <td>6.930710e+05</td>\n",
       "      <td>693071.000000</td>\n",
       "      <td>6.930710e+05</td>\n",
       "      <td>693071.000000</td>\n",
       "      <td>6.930710e+05</td>\n",
       "      <td>693071.000000</td>\n",
       "      <td>6.930710e+05</td>\n",
       "      <td>693071.000000</td>\n",
       "      <td>6.930710e+05</td>\n",
       "    </tr>\n",
       "    <tr>\n",
       "      <th>mean</th>\n",
       "      <td>1.544046e+09</td>\n",
       "      <td>11.619137</td>\n",
       "      <td>17.794365</td>\n",
       "      <td>11.586684</td>\n",
       "      <td>16.545125</td>\n",
       "      <td>2.189430</td>\n",
       "      <td>1.013870</td>\n",
       "      <td>42.338172</td>\n",
       "      <td>-71.066151</td>\n",
       "      <td>39.584388</td>\n",
       "      <td>...</td>\n",
       "      <td>0.037374</td>\n",
       "      <td>1.544044e+09</td>\n",
       "      <td>33.457774</td>\n",
       "      <td>1.544042e+09</td>\n",
       "      <td>45.261313</td>\n",
       "      <td>1.544047e+09</td>\n",
       "      <td>29.731002</td>\n",
       "      <td>1.544048e+09</td>\n",
       "      <td>41.997343</td>\n",
       "      <td>1.544048e+09</td>\n",
       "    </tr>\n",
       "    <tr>\n",
       "      <th>std</th>\n",
       "      <td>6.891925e+05</td>\n",
       "      <td>6.948114</td>\n",
       "      <td>9.982286</td>\n",
       "      <td>0.492429</td>\n",
       "      <td>9.324359</td>\n",
       "      <td>1.138937</td>\n",
       "      <td>0.091641</td>\n",
       "      <td>0.047840</td>\n",
       "      <td>0.020302</td>\n",
       "      <td>6.726084</td>\n",
       "      <td>...</td>\n",
       "      <td>0.055214</td>\n",
       "      <td>6.912028e+05</td>\n",
       "      <td>6.467224</td>\n",
       "      <td>6.901954e+05</td>\n",
       "      <td>5.645046</td>\n",
       "      <td>6.901353e+05</td>\n",
       "      <td>7.110494</td>\n",
       "      <td>6.871862e+05</td>\n",
       "      <td>6.936841</td>\n",
       "      <td>6.910777e+05</td>\n",
       "    </tr>\n",
       "    <tr>\n",
       "      <th>min</th>\n",
       "      <td>1.543204e+09</td>\n",
       "      <td>0.000000</td>\n",
       "      <td>1.000000</td>\n",
       "      <td>11.000000</td>\n",
       "      <td>2.500000</td>\n",
       "      <td>0.020000</td>\n",
       "      <td>1.000000</td>\n",
       "      <td>42.214800</td>\n",
       "      <td>-71.105400</td>\n",
       "      <td>18.910000</td>\n",
       "      <td>...</td>\n",
       "      <td>0.000000</td>\n",
       "      <td>1.543162e+09</td>\n",
       "      <td>15.630000</td>\n",
       "      <td>1.543122e+09</td>\n",
       "      <td>33.510000</td>\n",
       "      <td>1.543154e+09</td>\n",
       "      <td>11.810000</td>\n",
       "      <td>1.543136e+09</td>\n",
       "      <td>28.950000</td>\n",
       "      <td>1.543187e+09</td>\n",
       "    </tr>\n",
       "    <tr>\n",
       "      <th>25%</th>\n",
       "      <td>1.543444e+09</td>\n",
       "      <td>6.000000</td>\n",
       "      <td>13.000000</td>\n",
       "      <td>11.000000</td>\n",
       "      <td>9.000000</td>\n",
       "      <td>1.280000</td>\n",
       "      <td>1.000000</td>\n",
       "      <td>42.350300</td>\n",
       "      <td>-71.081000</td>\n",
       "      <td>36.450000</td>\n",
       "      <td>...</td>\n",
       "      <td>0.000000</td>\n",
       "      <td>1.543421e+09</td>\n",
       "      <td>30.170000</td>\n",
       "      <td>1.543399e+09</td>\n",
       "      <td>42.570000</td>\n",
       "      <td>1.543439e+09</td>\n",
       "      <td>27.760000</td>\n",
       "      <td>1.543399e+09</td>\n",
       "      <td>36.570000</td>\n",
       "      <td>1.543439e+09</td>\n",
       "    </tr>\n",
       "    <tr>\n",
       "      <th>50%</th>\n",
       "      <td>1.543737e+09</td>\n",
       "      <td>12.000000</td>\n",
       "      <td>17.000000</td>\n",
       "      <td>12.000000</td>\n",
       "      <td>13.500000</td>\n",
       "      <td>2.160000</td>\n",
       "      <td>1.000000</td>\n",
       "      <td>42.351900</td>\n",
       "      <td>-71.063100</td>\n",
       "      <td>40.490000</td>\n",
       "      <td>...</td>\n",
       "      <td>0.000400</td>\n",
       "      <td>1.543770e+09</td>\n",
       "      <td>34.240000</td>\n",
       "      <td>1.543727e+09</td>\n",
       "      <td>44.680000</td>\n",
       "      <td>1.543788e+09</td>\n",
       "      <td>30.130000</td>\n",
       "      <td>1.543745e+09</td>\n",
       "      <td>40.950000</td>\n",
       "      <td>1.543788e+09</td>\n",
       "    </tr>\n",
       "    <tr>\n",
       "      <th>75%</th>\n",
       "      <td>1.544828e+09</td>\n",
       "      <td>18.000000</td>\n",
       "      <td>28.000000</td>\n",
       "      <td>12.000000</td>\n",
       "      <td>22.500000</td>\n",
       "      <td>2.920000</td>\n",
       "      <td>1.000000</td>\n",
       "      <td>42.364700</td>\n",
       "      <td>-71.054200</td>\n",
       "      <td>43.580000</td>\n",
       "      <td>...</td>\n",
       "      <td>0.091600</td>\n",
       "      <td>1.544807e+09</td>\n",
       "      <td>38.880000</td>\n",
       "      <td>1.544789e+09</td>\n",
       "      <td>46.910000</td>\n",
       "      <td>1.544814e+09</td>\n",
       "      <td>35.710000</td>\n",
       "      <td>1.544789e+09</td>\n",
       "      <td>44.120000</td>\n",
       "      <td>1.544818e+09</td>\n",
       "    </tr>\n",
       "    <tr>\n",
       "      <th>max</th>\n",
       "      <td>1.545161e+09</td>\n",
       "      <td>23.000000</td>\n",
       "      <td>30.000000</td>\n",
       "      <td>12.000000</td>\n",
       "      <td>97.500000</td>\n",
       "      <td>7.860000</td>\n",
       "      <td>3.000000</td>\n",
       "      <td>42.366100</td>\n",
       "      <td>-71.033000</td>\n",
       "      <td>57.220000</td>\n",
       "      <td>...</td>\n",
       "      <td>0.145900</td>\n",
       "      <td>1.545152e+09</td>\n",
       "      <td>43.100000</td>\n",
       "      <td>1.545192e+09</td>\n",
       "      <td>57.870000</td>\n",
       "      <td>1.545109e+09</td>\n",
       "      <td>40.050000</td>\n",
       "      <td>1.545134e+09</td>\n",
       "      <td>57.200000</td>\n",
       "      <td>1.545109e+09</td>\n",
       "    </tr>\n",
       "  </tbody>\n",
       "</table>\n",
       "<p>8 rows × 46 columns</p>\n",
       "</div>"
      ],
      "text/plain": [
       "          timestamp           hour            day          month  \\\n",
       "count  6.930710e+05  693071.000000  693071.000000  693071.000000   \n",
       "mean   1.544046e+09      11.619137      17.794365      11.586684   \n",
       "std    6.891925e+05       6.948114       9.982286       0.492429   \n",
       "min    1.543204e+09       0.000000       1.000000      11.000000   \n",
       "25%    1.543444e+09       6.000000      13.000000      11.000000   \n",
       "50%    1.543737e+09      12.000000      17.000000      12.000000   \n",
       "75%    1.544828e+09      18.000000      28.000000      12.000000   \n",
       "max    1.545161e+09      23.000000      30.000000      12.000000   \n",
       "\n",
       "               price       distance  surge_multiplier       latitude  \\\n",
       "count  637976.000000  693071.000000     693071.000000  693071.000000   \n",
       "mean       16.545125       2.189430          1.013870      42.338172   \n",
       "std         9.324359       1.138937          0.091641       0.047840   \n",
       "min         2.500000       0.020000          1.000000      42.214800   \n",
       "25%         9.000000       1.280000          1.000000      42.350300   \n",
       "50%        13.500000       2.160000          1.000000      42.351900   \n",
       "75%        22.500000       2.920000          1.000000      42.364700   \n",
       "max        97.500000       7.860000          3.000000      42.366100   \n",
       "\n",
       "           longitude    temperature  ...  precipIntensityMax   uvIndexTime  \\\n",
       "count  693071.000000  693071.000000  ...       693071.000000  6.930710e+05   \n",
       "mean      -71.066151      39.584388  ...            0.037374  1.544044e+09   \n",
       "std         0.020302       6.726084  ...            0.055214  6.912028e+05   \n",
       "min       -71.105400      18.910000  ...            0.000000  1.543162e+09   \n",
       "25%       -71.081000      36.450000  ...            0.000000  1.543421e+09   \n",
       "50%       -71.063100      40.490000  ...            0.000400  1.543770e+09   \n",
       "75%       -71.054200      43.580000  ...            0.091600  1.544807e+09   \n",
       "max       -71.033000      57.220000  ...            0.145900  1.545152e+09   \n",
       "\n",
       "       temperatureMin  temperatureMinTime  temperatureMax  temperatureMaxTime  \\\n",
       "count   693071.000000        6.930710e+05   693071.000000        6.930710e+05   \n",
       "mean        33.457774        1.544042e+09       45.261313        1.544047e+09   \n",
       "std          6.467224        6.901954e+05        5.645046        6.901353e+05   \n",
       "min         15.630000        1.543122e+09       33.510000        1.543154e+09   \n",
       "25%         30.170000        1.543399e+09       42.570000        1.543439e+09   \n",
       "50%         34.240000        1.543727e+09       44.680000        1.543788e+09   \n",
       "75%         38.880000        1.544789e+09       46.910000        1.544814e+09   \n",
       "max         43.100000        1.545192e+09       57.870000        1.545109e+09   \n",
       "\n",
       "       apparentTemperatureMin  apparentTemperatureMinTime  \\\n",
       "count           693071.000000                6.930710e+05   \n",
       "mean                29.731002                1.544048e+09   \n",
       "std                  7.110494                6.871862e+05   \n",
       "min                 11.810000                1.543136e+09   \n",
       "25%                 27.760000                1.543399e+09   \n",
       "50%                 30.130000                1.543745e+09   \n",
       "75%                 35.710000                1.544789e+09   \n",
       "max                 40.050000                1.545134e+09   \n",
       "\n",
       "       apparentTemperatureMax  apparentTemperatureMaxTime  \n",
       "count           693071.000000                6.930710e+05  \n",
       "mean                41.997343                1.544048e+09  \n",
       "std                  6.936841                6.910777e+05  \n",
       "min                 28.950000                1.543187e+09  \n",
       "25%                 36.570000                1.543439e+09  \n",
       "50%                 40.950000                1.543788e+09  \n",
       "75%                 44.120000                1.544818e+09  \n",
       "max                 57.200000                1.545109e+09  \n",
       "\n",
       "[8 rows x 46 columns]"
      ]
     },
     "execution_count": 4,
     "metadata": {},
     "output_type": "execute_result"
    }
   ],
   "source": [
    "# Check descriptive statistictis\n",
    "df.describe()"
   ]
  },
  {
   "cell_type": "markdown",
   "metadata": {},
   "source": [
    "The dataset shows that the mean values are generally close to the median values across several columns, indicating a relatively symmetric distribution for most variables. However, there is a notable difference in some columns like `price` where the mean is higher than the median, suggesting a right-skewed distribution with some higher-priced outliers.\n",
    "\n",
    "Looking at the range values (minimum and maximum), there is significant variability in certain columns like `price`, `distance`, and `temperature`. This indicates diverse conditions and situations captured in the dataset, from short, inexpensive rides to longer, costlier ones, and from cooler temperatures to warmer conditions."
   ]
  },
  {
   "cell_type": "code",
   "execution_count": 5,
   "metadata": {},
   "outputs": [
    {
     "data": {
      "text/plain": [
       "id                             693071\n",
       "timestamp                       36179\n",
       "hour                               24\n",
       "day                                17\n",
       "month                               2\n",
       "datetime                        31350\n",
       "timezone                            1\n",
       "source                             12\n",
       "destination                        12\n",
       "cab_type                            2\n",
       "product_id                         13\n",
       "name                               13\n",
       "price                             147\n",
       "distance                          549\n",
       "surge_multiplier                    7\n",
       "latitude                           11\n",
       "longitude                          12\n",
       "temperature                       308\n",
       "apparentTemperature               319\n",
       "short_summary                       9\n",
       "long_summary                       11\n",
       "precipIntensity                    63\n",
       "precipProbability                  29\n",
       "humidity                           51\n",
       "windSpeed                         291\n",
       "windGust                          286\n",
       "windGustTime                       25\n",
       "visibility                        227\n",
       "temperatureHigh                   129\n",
       "temperatureHighTime                23\n",
       "temperatureLow                    133\n",
       "temperatureLowTime                 31\n",
       "apparentTemperatureHigh           124\n",
       "apparentTemperatureHighTime        27\n",
       "apparentTemperatureLow            136\n",
       "apparentTemperatureLowTime         32\n",
       "icon                                7\n",
       "dewPoint                          313\n",
       "pressure                          316\n",
       "windBearing                       195\n",
       "cloudCover                         83\n",
       "uvIndex                             3\n",
       "visibility.1                      227\n",
       "ozone                             274\n",
       "sunriseTime                       110\n",
       "sunsetTime                        114\n",
       "moonPhase                          18\n",
       "precipIntensityMax                 65\n",
       "uvIndexTime                        20\n",
       "temperatureMin                    131\n",
       "temperatureMinTime                 25\n",
       "temperatureMax                    128\n",
       "temperatureMaxTime                 23\n",
       "apparentTemperatureMin            137\n",
       "apparentTemperatureMinTime         29\n",
       "apparentTemperatureMax            125\n",
       "apparentTemperatureMaxTime         27\n",
       "dtype: int64"
      ]
     },
     "execution_count": 5,
     "metadata": {},
     "output_type": "execute_result"
    }
   ],
   "source": [
    "# Check total unique values\n",
    "df.nunique()"
   ]
  },
  {
   "cell_type": "markdown",
   "metadata": {},
   "source": [
    "To determine the number of unique values in each column of a dataset, the `nunique` method is used. The data shows a variety of unique values in different columns. Some columns have many unique values, showing a lot of variation, while others have fewer, indicating more uniform data. Columns like `id` and `timestamp` are unique for each entry, meaning they are used to individually identify each record."
   ]
  },
  {
   "cell_type": "code",
   "execution_count": 6,
   "metadata": {},
   "outputs": [
    {
     "data": {
      "text/plain": [
       "0"
      ]
     },
     "execution_count": 6,
     "metadata": {},
     "output_type": "execute_result"
    }
   ],
   "source": [
    "# Check total of duplicated rows\n",
    "df.duplicated().sum()"
   ]
  },
  {
   "cell_type": "markdown",
   "metadata": {},
   "source": [
    "The method `duplicated().sum()` checks for the total number of duplicated rows in the dataset. It indicates that there are no duplicates, confirming that all rows are unique. Therefore, there's no need to remove any duplicated rows."
   ]
  },
  {
   "cell_type": "code",
   "execution_count": 7,
   "metadata": {},
   "outputs": [
    {
     "data": {
      "text/plain": [
       "id                                 0\n",
       "timestamp                          0\n",
       "hour                               0\n",
       "day                                0\n",
       "month                              0\n",
       "datetime                           0\n",
       "timezone                           0\n",
       "source                             0\n",
       "destination                        0\n",
       "cab_type                           0\n",
       "product_id                         0\n",
       "name                               0\n",
       "price                          55095\n",
       "distance                           0\n",
       "surge_multiplier                   0\n",
       "latitude                           0\n",
       "longitude                          0\n",
       "temperature                        0\n",
       "apparentTemperature                0\n",
       "short_summary                      0\n",
       "long_summary                       0\n",
       "precipIntensity                    0\n",
       "precipProbability                  0\n",
       "humidity                           0\n",
       "windSpeed                          0\n",
       "windGust                           0\n",
       "windGustTime                       0\n",
       "visibility                         0\n",
       "temperatureHigh                    0\n",
       "temperatureHighTime                0\n",
       "temperatureLow                     0\n",
       "temperatureLowTime                 0\n",
       "apparentTemperatureHigh            0\n",
       "apparentTemperatureHighTime        0\n",
       "apparentTemperatureLow             0\n",
       "apparentTemperatureLowTime         0\n",
       "icon                               0\n",
       "dewPoint                           0\n",
       "pressure                           0\n",
       "windBearing                        0\n",
       "cloudCover                         0\n",
       "uvIndex                            0\n",
       "visibility.1                       0\n",
       "ozone                              0\n",
       "sunriseTime                        0\n",
       "sunsetTime                         0\n",
       "moonPhase                          0\n",
       "precipIntensityMax                 0\n",
       "uvIndexTime                        0\n",
       "temperatureMin                     0\n",
       "temperatureMinTime                 0\n",
       "temperatureMax                     0\n",
       "temperatureMaxTime                 0\n",
       "apparentTemperatureMin             0\n",
       "apparentTemperatureMinTime         0\n",
       "apparentTemperatureMax             0\n",
       "apparentTemperatureMaxTime         0\n",
       "dtype: int64"
      ]
     },
     "execution_count": 7,
     "metadata": {},
     "output_type": "execute_result"
    }
   ],
   "source": [
    "# Check missing values\n",
    "df.isnull().sum()"
   ]
  },
  {
   "cell_type": "markdown",
   "metadata": {},
   "source": [
    "The method `isnull().sum()` is used to identify and count missing values in each column of the dataset. For instance, it was previously mentioned that the `price` column has some missing values. This method helps quantify those missing entries, which is essential for deciding how to handle them, whether by filling in the gaps or removing the affected rows. Since `price` is the target variable, these missing values need to be dropped. "
   ]
  },
  {
   "cell_type": "code",
   "execution_count": 8,
   "metadata": {},
   "outputs": [
    {
     "data": {
      "text/plain": [
       "Index(['id', 'timestamp', 'hour', 'day', 'month', 'datetime', 'timezone',\n",
       "       'source', 'destination', 'cab_type', 'product_id', 'name', 'price',\n",
       "       'distance', 'surge_multiplier', 'latitude', 'longitude', 'temperature',\n",
       "       'apparentTemperature', 'short_summary', 'long_summary',\n",
       "       'precipIntensity', 'precipProbability', 'humidity', 'windSpeed',\n",
       "       'windGust', 'windGustTime', 'visibility', 'temperatureHigh',\n",
       "       'temperatureHighTime', 'temperatureLow', 'temperatureLowTime',\n",
       "       'apparentTemperatureHigh', 'apparentTemperatureHighTime',\n",
       "       'apparentTemperatureLow', 'apparentTemperatureLowTime', 'icon',\n",
       "       'dewPoint', 'pressure', 'windBearing', 'cloudCover', 'uvIndex',\n",
       "       'visibility.1', 'ozone', 'sunriseTime', 'sunsetTime', 'moonPhase',\n",
       "       'precipIntensityMax', 'uvIndexTime', 'temperatureMin',\n",
       "       'temperatureMinTime', 'temperatureMax', 'temperatureMaxTime',\n",
       "       'apparentTemperatureMin', 'apparentTemperatureMinTime',\n",
       "       'apparentTemperatureMax', 'apparentTemperatureMaxTime'],\n",
       "      dtype='object')"
      ]
     },
     "execution_count": 8,
     "metadata": {},
     "output_type": "execute_result"
    }
   ],
   "source": [
    "# Check column names\n",
    "df.columns"
   ]
  },
  {
   "cell_type": "markdown",
   "metadata": {},
   "source": [
    "To display all column names in the dataset, method `columns` is used. The dataset includes a variety of details such as time, ride information (`source`, `destination`, etc.), and weather conditions (`temperature`, `humidity`, etc.). It also contains data on location (`latitude`, `longitude`) and other environmental factors (`wind speed`, `precipIntensity`, etc.). This range of information is useful for understanding how different factors might influence the price."
   ]
  },
  {
   "cell_type": "code",
   "execution_count": 9,
   "metadata": {},
   "outputs": [
    {
     "name": "stdout",
     "output_type": "stream",
     "text": [
      "Columns 'visibility' and 'visibility.1' have the same values.\n",
      "Columns 'visibility.1' and 'visibility' have the same values.\n"
     ]
    }
   ],
   "source": [
    "# # Iterate through each pair of columns to check duplicated column\n",
    "for col1 in df.columns:\n",
    "    for col2 in df.columns:\n",
    "        if col1 != col2 and all(df[col1] == df[col2]):\n",
    "            print(f\"Columns '{col1}' and '{col2}' have the same values.\")"
   ]
  },
  {
   "cell_type": "markdown",
   "metadata": {},
   "source": [
    "To determine if any columns in the dataset have identical values, a loop is used for comparison. This process revealed that the columns `visibility` and `visibility.1` contain the same values across all entries. Removing one of these columns will eliminate redundancy."
   ]
  },
  {
   "cell_type": "markdown",
   "metadata": {},
   "source": [
    "#### **ii. Data Cleaning**"
   ]
  },
  {
   "cell_type": "markdown",
   "metadata": {},
   "source": [
    "This section will focus on cleaning the founded mistakes from the previous section. However, missing values will be handled in the further sections.\n",
    "\n",
    "Since the previous analysis confirmed that there are no duplicated rows and no need to change data types or column names, the only issue remaining is to remove the redundant column `visibility.1` using `drop` method."
   ]
  },
  {
   "cell_type": "code",
   "execution_count": 10,
   "metadata": {},
   "outputs": [],
   "source": [
    "# Drop duplicated columns\n",
    "df = df.drop(columns=['visibility.1'])"
   ]
  },
  {
   "cell_type": "markdown",
   "metadata": {},
   "source": [
    "#### **iii. Data Checking**"
   ]
  },
  {
   "cell_type": "markdown",
   "metadata": {},
   "source": [
    "This section aims to verify whether the data cleaning process has been completed correctly. To confirm the removal of specific columns, such as `visibility.1`, the `columns` method can be used to display the current list of columns in the dataset. "
   ]
  },
  {
   "cell_type": "code",
   "execution_count": 11,
   "metadata": {},
   "outputs": [
    {
     "data": {
      "text/plain": [
       "Index(['id', 'timestamp', 'hour', 'day', 'month', 'datetime', 'timezone',\n",
       "       'source', 'destination', 'cab_type', 'product_id', 'name', 'price',\n",
       "       'distance', 'surge_multiplier', 'latitude', 'longitude', 'temperature',\n",
       "       'apparentTemperature', 'short_summary', 'long_summary',\n",
       "       'precipIntensity', 'precipProbability', 'humidity', 'windSpeed',\n",
       "       'windGust', 'windGustTime', 'visibility', 'temperatureHigh',\n",
       "       'temperatureHighTime', 'temperatureLow', 'temperatureLowTime',\n",
       "       'apparentTemperatureHigh', 'apparentTemperatureHighTime',\n",
       "       'apparentTemperatureLow', 'apparentTemperatureLowTime', 'icon',\n",
       "       'dewPoint', 'pressure', 'windBearing', 'cloudCover', 'uvIndex', 'ozone',\n",
       "       'sunriseTime', 'sunsetTime', 'moonPhase', 'precipIntensityMax',\n",
       "       'uvIndexTime', 'temperatureMin', 'temperatureMinTime', 'temperatureMax',\n",
       "       'temperatureMaxTime', 'apparentTemperatureMin',\n",
       "       'apparentTemperatureMinTime', 'apparentTemperatureMax',\n",
       "       'apparentTemperatureMaxTime'],\n",
       "      dtype='object')"
      ]
     },
     "execution_count": 11,
     "metadata": {},
     "output_type": "execute_result"
    }
   ],
   "source": [
    "df.columns"
   ]
  },
  {
   "cell_type": "markdown",
   "metadata": {},
   "source": [
    "The absence of the column `visibility.1` confirms that it has been successfully removed from the dataset."
   ]
  },
  {
   "cell_type": "code",
   "execution_count": 12,
   "metadata": {},
   "outputs": [
    {
     "name": "stdout",
     "output_type": "stream",
     "text": [
      "<class 'pandas.core.frame.DataFrame'>\n",
      "RangeIndex: 693071 entries, 0 to 693070\n",
      "Data columns (total 56 columns):\n",
      " #   Column                       Non-Null Count   Dtype  \n",
      "---  ------                       --------------   -----  \n",
      " 0   id                           693071 non-null  object \n",
      " 1   timestamp                    693071 non-null  float64\n",
      " 2   hour                         693071 non-null  int64  \n",
      " 3   day                          693071 non-null  int64  \n",
      " 4   month                        693071 non-null  int64  \n",
      " 5   datetime                     693071 non-null  object \n",
      " 6   timezone                     693071 non-null  object \n",
      " 7   source                       693071 non-null  object \n",
      " 8   destination                  693071 non-null  object \n",
      " 9   cab_type                     693071 non-null  object \n",
      " 10  product_id                   693071 non-null  object \n",
      " 11  name                         693071 non-null  object \n",
      " 12  price                        637976 non-null  float64\n",
      " 13  distance                     693071 non-null  float64\n",
      " 14  surge_multiplier             693071 non-null  float64\n",
      " 15  latitude                     693071 non-null  float64\n",
      " 16  longitude                    693071 non-null  float64\n",
      " 17  temperature                  693071 non-null  float64\n",
      " 18  apparentTemperature          693071 non-null  float64\n",
      " 19  short_summary                693071 non-null  object \n",
      " 20  long_summary                 693071 non-null  object \n",
      " 21  precipIntensity              693071 non-null  float64\n",
      " 22  precipProbability            693071 non-null  float64\n",
      " 23  humidity                     693071 non-null  float64\n",
      " 24  windSpeed                    693071 non-null  float64\n",
      " 25  windGust                     693071 non-null  float64\n",
      " 26  windGustTime                 693071 non-null  int64  \n",
      " 27  visibility                   693071 non-null  float64\n",
      " 28  temperatureHigh              693071 non-null  float64\n",
      " 29  temperatureHighTime          693071 non-null  int64  \n",
      " 30  temperatureLow               693071 non-null  float64\n",
      " 31  temperatureLowTime           693071 non-null  int64  \n",
      " 32  apparentTemperatureHigh      693071 non-null  float64\n",
      " 33  apparentTemperatureHighTime  693071 non-null  int64  \n",
      " 34  apparentTemperatureLow       693071 non-null  float64\n",
      " 35  apparentTemperatureLowTime   693071 non-null  int64  \n",
      " 36  icon                         693071 non-null  object \n",
      " 37  dewPoint                     693071 non-null  float64\n",
      " 38  pressure                     693071 non-null  float64\n",
      " 39  windBearing                  693071 non-null  int64  \n",
      " 40  cloudCover                   693071 non-null  float64\n",
      " 41  uvIndex                      693071 non-null  int64  \n",
      " 42  ozone                        693071 non-null  float64\n",
      " 43  sunriseTime                  693071 non-null  int64  \n",
      " 44  sunsetTime                   693071 non-null  int64  \n",
      " 45  moonPhase                    693071 non-null  float64\n",
      " 46  precipIntensityMax           693071 non-null  float64\n",
      " 47  uvIndexTime                  693071 non-null  int64  \n",
      " 48  temperatureMin               693071 non-null  float64\n",
      " 49  temperatureMinTime           693071 non-null  int64  \n",
      " 50  temperatureMax               693071 non-null  float64\n",
      " 51  temperatureMaxTime           693071 non-null  int64  \n",
      " 52  apparentTemperatureMin       693071 non-null  float64\n",
      " 53  apparentTemperatureMinTime   693071 non-null  int64  \n",
      " 54  apparentTemperatureMax       693071 non-null  float64\n",
      " 55  apparentTemperatureMaxTime   693071 non-null  int64  \n",
      "dtypes: float64(28), int64(17), object(11)\n",
      "memory usage: 296.1+ MB\n"
     ]
    }
   ],
   "source": [
    "df.info()"
   ]
  },
  {
   "cell_type": "markdown",
   "metadata": {},
   "source": [
    "For a final verification, the `info()` method is used again to check everything. The result shows that the number of columns are now 56, compared to the previous count of 57. This step ensures that the dataset has been accurately updated and that all necessary changes."
   ]
  },
  {
   "cell_type": "markdown",
   "metadata": {},
   "source": [
    "### **D. Exploratory Data Analysis (EDA)**"
   ]
  },
  {
   "cell_type": "markdown",
   "metadata": {},
   "source": [
    "In this section, the data will be visually explored using plots like bar charts and heatmap. These visualizations help reveal patterns and trends, offering valuable insights into the dataset's structure and characteristics."
   ]
  },
  {
   "cell_type": "markdown",
   "metadata": {},
   "source": [
    "#### **i. Number of Trips each Cab**"
   ]
  },
  {
   "cell_type": "markdown",
   "metadata": {},
   "source": [
    "The first section is to check the total number of trips for each type of cab."
   ]
  },
  {
   "cell_type": "code",
   "execution_count": 13,
   "metadata": {},
   "outputs": [
    {
     "data": {
      "image/png": "[encoded data removed]",
      "text/plain": [
       "<Figure size 800x600 with 1 Axes>"
      ]
     },
     "metadata": {},
     "output_type": "display_data"
    }
   ],
   "source": [
    "# Define cab_type\n",
    "cab = df.groupby('cab_type').size()\n",
    "\n",
    "# Choose a color from the RdYlBu colormap\n",
    "color1 = plt.cm.RdYlBu(1.5)\n",
    "color2 = plt.cm.RdYlBu(0.2)\n",
    "\n",
    "# Plot the graph\n",
    "plt.figure(figsize=(8, 6))\n",
    "plt.bar(cab.index, cab.values, color=(color1,color2))\n",
    "plt.xlabel('Cab Type')\n",
    "plt.ylabel('Rides')\n",
    "plt.title('Number of Trips each Cab')\n",
    "plt.show()"
   ]
  },
  {
   "cell_type": "markdown",
   "metadata": {},
   "source": [
    "The bar chart indicates the total number of rides based on cab type. Lyft shows approximately 300,000 rides, while Uber has around 390,000 rides. This suggests a higher preference for Uber over Lyft among users."
   ]
  },
  {
   "cell_type": "markdown",
   "metadata": {},
   "source": [
    "#### **ii. Number of Trips per Hour**"
   ]
  },
  {
   "cell_type": "markdown",
   "metadata": {},
   "source": [
    "This section aims to display the total number of trips for each hour of the day to observe the distribution."
   ]
  },
  {
   "cell_type": "code",
   "execution_count": 14,
   "metadata": {},
   "outputs": [
    {
     "data": {
      "image/png": "[encoded data removed]",
      "text/plain": [
       "<Figure size 1000x600 with 1 Axes>"
      ]
     },
     "metadata": {},
     "output_type": "display_data"
    }
   ],
   "source": [
    "# Define hour\n",
    "hour = df.groupby('hour').size()\n",
    "\n",
    "# Choose a color from the RdYlBu colormap\n",
    "color = plt.cm.RdYlBu(1.5)\n",
    "\n",
    "# Plot the graph\n",
    "plt.figure(figsize=(10, 6))\n",
    "plt.bar(hour.index, hour.values, color=color)\n",
    "plt.xlabel('Hour')\n",
    "plt.ylabel('Number of Trips')\n",
    "plt.title('Number of Trips per Hour')\n",
    "\n",
    "# Set the ticks of the y-axis to show all numbers of hour\n",
    "plt.xticks(hour.index, [str(h) for h in hour.index])\n",
    "\n",
    "plt.show()"
   ]
  },
  {
   "cell_type": "markdown",
   "metadata": {},
   "source": [
    "The bar chart illustrates the distribution of rides throughout the day, highlighting fluctuations in demand. The demand for cabs is at its lowest around 9 AM, indicating a minimum activity during early morning hours. However, demand steadily rises as the day progresses, peaking significantly between 11 PM and 12 AM. This significant increase in demand during late hours is followed by a consistent level of activity during business hours, from 10 AM to 6 PM."
   ]
  },
  {
   "cell_type": "markdown",
   "metadata": {},
   "source": [
    "#### **iii. Price Correlation**"
   ]
  },
  {
   "cell_type": "markdown",
   "metadata": {},
   "source": [
    "These visualization focuses on exploring how price correlates with other columns to determine if there are any significant correlations. A heatmap will be used to visualize these correlations efficiently."
   ]
  },
  {
   "cell_type": "markdown",
   "metadata": {},
   "source": [
    "##### **Ride Category**"
   ]
  },
  {
   "cell_type": "markdown",
   "metadata": {},
   "source": [
    "The first step is to check how price correlates with columns representing ride details, such as `hour`, `day`, `distance`, etc."
   ]
  },
  {
   "cell_type": "code",
   "execution_count": 15,
   "metadata": {},
   "outputs": [
    {
     "data": {
      "text/plain": [
       "<Axes: >"
      ]
     },
     "execution_count": 15,
     "metadata": {},
     "output_type": "execute_result"
    },
    {
     "data": {
      "image/png": "[encoded data removed]",
      "text/plain": [
       "<Figure size 1200x800 with 2 Axes>"
      ]
     },
     "metadata": {},
     "output_type": "display_data"
    }
   ],
   "source": [
    "f_corr = ['hour', 'day', 'month', 'distance', 'latitude', 'longitude', 'surge_multiplier', 'price']\n",
    "\n",
    "cor1 = df[f_corr].corr()\n",
    "plt.figure(figsize=(12,8))\n",
    "sns.heatmap(cor1,annot=True,cmap='RdYlBu')"
   ]
  },
  {
   "cell_type": "markdown",
   "metadata": {},
   "source": [
    "There is a quite strong correlation between `price` and `distance`, as well as between `price` and `surge_multiplier`. This suggests that these factors may have an impact on the price of the ride. Other columns show minimal correlations with price."
   ]
  },
  {
   "cell_type": "markdown",
   "metadata": {},
   "source": [
    "##### **Temperature Category**"
   ]
  },
  {
   "cell_type": "markdown",
   "metadata": {},
   "source": [
    "The next step is to examine whether temperature affects pricing."
   ]
  },
  {
   "cell_type": "code",
   "execution_count": 16,
   "metadata": {},
   "outputs": [
    {
     "data": {
      "text/plain": [
       "<Axes: >"
      ]
     },
     "execution_count": 16,
     "metadata": {},
     "output_type": "execute_result"
    },
    {
     "data": {
      "image/png": "[encoded data removed]",
      "text/plain": [
       "<Figure size 1200x800 with 2 Axes>"
      ]
     },
     "metadata": {},
     "output_type": "display_data"
    }
   ],
   "source": [
    "f_corr = ['temperature', 'temperatureHigh', 'temperatureLow', 'apparentTemperatureHigh', 'apparentTemperatureLow','apparentTemperature', \n",
    "          'temperatureMin','temperatureMax','apparentTemperatureMin', 'apparentTemperatureMax', 'price']\n",
    "\n",
    "cor2 = df[f_corr].corr()\n",
    "plt.figure(figsize=(12,8))\n",
    "sns.heatmap(cor2,annot=True,cmap='RdYlBu')"
   ]
  },
  {
   "cell_type": "markdown",
   "metadata": {},
   "source": [
    "The heatmap reveals that temperature-related columns has minimal impact on pricing, as the correlation is very weak and close to zero."
   ]
  },
  {
   "cell_type": "markdown",
   "metadata": {},
   "source": [
    "##### **Weather Category**"
   ]
  },
  {
   "cell_type": "markdown",
   "metadata": {},
   "source": [
    "The final analysis involves examining whether weather conditions affect pricing. From a logical standpoint, bad weather typically leads to higher demand, resulting in price increases due to surge multipliers."
   ]
  },
  {
   "cell_type": "code",
   "execution_count": 17,
   "metadata": {},
   "outputs": [
    {
     "data": {
      "text/plain": [
       "<Axes: >"
      ]
     },
     "execution_count": 17,
     "metadata": {},
     "output_type": "execute_result"
    },
    {
     "data": {
      "image/png": "[encoded data removed]",
      "text/plain": [
       "<Figure size 1200x800 with 2 Axes>"
      ]
     },
     "metadata": {},
     "output_type": "display_data"
    }
   ],
   "source": [
    "f_corr = ['precipIntensity', 'precipProbability', 'windGust', 'windGustTime', 'visibility', 'cloudCover', 'uvIndex',\n",
    "          'precipIntensityMax', 'uvIndexTime', 'price']\n",
    "\n",
    "cor4 = df[f_corr].corr()\n",
    "plt.figure(figsize=(12,8))\n",
    "sns.heatmap(cor4,annot=True,cmap='RdYlBu')"
   ]
  },
  {
   "cell_type": "markdown",
   "metadata": {},
   "source": [
    "However, the analysis indicates that weather conditions have almost no effect on pricing, as the correlation is also very low and close to zero."
   ]
  },
  {
   "cell_type": "markdown",
   "metadata": {},
   "source": [
    "#### **iv. Average Prices by Source and Destination**"
   ]
  },
  {
   "cell_type": "markdown",
   "metadata": {},
   "source": [
    "This section focuses on examining the average price from pick-up locations to drop-off locations to determine if there are differences in prices among locations."
   ]
  },
  {
   "cell_type": "code",
   "execution_count": 18,
   "metadata": {},
   "outputs": [
    {
     "data": {
      "image/png": "[encoded data removed]",
      "text/plain": [
       "<Figure size 1000x600 with 1 Axes>"
      ]
     },
     "metadata": {},
     "output_type": "display_data"
    }
   ],
   "source": [
    "# Group by 'source', then calculate average price\n",
    "avg_source_prices = df.groupby('source')['price'].mean().reset_index()\n",
    "\n",
    "# Group by 'destination', then calculate average price\n",
    "avg_destination_prices = df.groupby('destination')['price'].mean().reset_index()\n",
    "\n",
    "# Merge the average source and destination prices into a single dataframe\n",
    "avg_prices = pd.merge(avg_source_prices, avg_destination_prices, left_on='source', right_on='destination', how='outer')\n",
    "avg_prices['Average Source Price'] = avg_prices['price_x']\n",
    "avg_prices['Average Destination Price'] = avg_prices['price_y']\n",
    "avg_prices['Location'] = avg_prices['source'].combine_first(avg_prices['destination'])\n",
    "\n",
    "# Plotting the bar chart\n",
    "fig, ax = plt.subplots(figsize=(10, 6))\n",
    "\n",
    "# Define the x locations for the groups\n",
    "ind = range(len(avg_prices))\n",
    "\n",
    "# The width of the bars\n",
    "width = 0.35\n",
    "\n",
    "# Plotting the bars\n",
    "ax.bar(ind, avg_prices['Average Source Price'], width, label='Source')\n",
    "ax.bar([i + width for i in ind], avg_prices['Average Destination Price'], width, label='Destination')\n",
    "\n",
    "# Set labels and title\n",
    "ax.set_xlabel('Location')\n",
    "ax.set_ylabel('Average Price')\n",
    "ax.set_title('Average Prices by Location - Source vs Destination')\n",
    "\n",
    "# Set x ticks\n",
    "ax.set_xticks([i + width / 2 for i in ind])\n",
    "ax.set_xticklabels(avg_prices['Location'], rotation=45, ha='right')\n",
    "\n",
    "# Adding the legend\n",
    "ax.legend()\n",
    "\n",
    "plt.tight_layout()\n",
    "plt.show()"
   ]
  },
  {
   "cell_type": "markdown",
   "metadata": {},
   "source": [
    "The bar chart indicates that prices vary among different locations. The highest prices occur from and to Boston University, while the lowest prices occur from and to Haymarket Square. This suggests that there is higher demand in the Boston University area compared to Haymarket Square."
   ]
  },
  {
   "cell_type": "markdown",
   "metadata": {},
   "source": [
    "#### **v. Cab Category Percentages**"
   ]
  },
  {
   "cell_type": "markdown",
   "metadata": {},
   "source": [
    "Finally, the distribution of cab categories will be explored."
   ]
  },
  {
   "cell_type": "code",
   "execution_count": 19,
   "metadata": {},
   "outputs": [
    {
     "data": {
      "image/png": "[encoded data removed]",
      "text/plain": [
       "<Figure size 600x600 with 1 Axes>"
      ]
     },
     "metadata": {},
     "output_type": "display_data"
    }
   ],
   "source": [
    "# Count the occurrences of each name\n",
    "name_counts = df['name'].value_counts()\n",
    "\n",
    "# Calculate the percentage for each name\n",
    "name_percentages = (name_counts / name_counts.sum()) * 100\n",
    "\n",
    "# Plotting the pie chart\n",
    "plt.figure(figsize=(6, 6))\n",
    "plt.pie(name_percentages, labels=name_percentages.index, autopct='%1.1f%%', startangle=140, colors=sns.color_palette('Spectral'))\n",
    "plt.title('Cab Category Percentages')\n",
    "\n",
    "plt.show()"
   ]
  },
  {
   "cell_type": "markdown",
   "metadata": {},
   "source": [
    "The distribution of used cab categories is nearly uniform, with each category ranging from 7.4% to 7.9%. This suggests that people are using each cab category almost equally."
   ]
  },
  {
   "cell_type": "markdown",
   "metadata": {},
   "source": [
    "### **E. Feature Engineering**"
   ]
  },
  {
   "cell_type": "markdown",
   "metadata": {},
   "source": [
    "This section will cover creating the model, including splitting the data, handling missing values, dealing with outliers, selecting features, checking cardinality, encoding features, and also scaling."
   ]
  },
  {
   "cell_type": "markdown",
   "metadata": {},
   "source": [
    "#### **i. Split Inference Set**"
   ]
  },
  {
   "cell_type": "markdown",
   "metadata": {},
   "source": [
    "For model testing or inference purposes, 1 row is extracted from the dataset and saved separately as a CSV file."
   ]
  },
  {
   "cell_type": "code",
   "execution_count": 20,
   "metadata": {},
   "outputs": [
    {
     "data": {
      "text/plain": [
       "541064    16.5\n",
       "Name: price, dtype: float64"
      ]
     },
     "execution_count": 20,
     "metadata": {},
     "output_type": "execute_result"
    }
   ],
   "source": [
    "# Select 1 row to test as inference set and save it to a variable\n",
    "data_inf = df.sample(1, random_state=1)\n",
    "\n",
    "# Show price to check later on\n",
    "data_inf['price']"
   ]
  },
  {
   "cell_type": "code",
   "execution_count": 21,
   "metadata": {},
   "outputs": [],
   "source": [
    "# Delete selected row from dataframe\n",
    "df.drop(data_inf.index, inplace=True)\n",
    "\n",
    "# Reset index for both dataframe\n",
    "df.reset_index(drop=True, inplace=True)\n",
    "data_inf.reset_index(drop=True, inplace=True)\n",
    "\n",
    "# Remove target in data_inf\n",
    "data_inf.drop(['price'], axis=1, inplace=True)\n",
    "\n",
    "# Save data_inf to csv\n",
    "data_inf.to_csv('data_inf.csv')"
   ]
  },
  {
   "cell_type": "markdown",
   "metadata": {},
   "source": [
    "In the dataset used for model creation, the extracted row is removed to ensure that the model does not see that specific data during training.\n",
    "\n",
    "For the inference dataset, the `price` column, being the target variable, will be excluded or dropped to facilitate model predictions."
   ]
  },
  {
   "cell_type": "markdown",
   "metadata": {},
   "source": [
    "#### **ii. Split X (Features) and y (Target)**"
   ]
  },
  {
   "cell_type": "markdown",
   "metadata": {},
   "source": [
    "During model training, the algorithm learns patterns and relationships between the input features and the target variable. Separating them allows the model to understand how changes in the input features affect the target variable."
   ]
  },
  {
   "cell_type": "code",
   "execution_count": 22,
   "metadata": {},
   "outputs": [],
   "source": [
    "# Split between X and y\n",
    "X = df.drop(['price'], axis=1)\n",
    "y = df.price"
   ]
  },
  {
   "cell_type": "markdown",
   "metadata": {},
   "source": [
    "Therefore, the features and target variable will be split into two sets: **X for the features** and **y for the target variable**. In this case, since the target variable is `price`, the separated column will be `price`. The `price` column is removed from X, which contains the features, while y only contains the `price` column."
   ]
  },
  {
   "cell_type": "markdown",
   "metadata": {},
   "source": [
    "#### **iii. Split Train-Set and Test-Set**"
   ]
  },
  {
   "cell_type": "markdown",
   "metadata": {},
   "source": [
    "After separating X and y, both datasets are further split into two sets: **training** and **testing** datasets. This split is essential because it allows us to evaluate the model's performance on unseen data.\n",
    "- The training dataset is used to train the machine learning model. During training, the model learns the patterns and relationships between the features and the target variable using linear regressions algorithms.\n",
    "- The testing dataset evaluates how well the trained model generalizes to new data. It helps assess predictive accuracy and key performance metrics like MAE, R2 Score, etc.\n",
    "\n",
    "Splitting the data into training and testing sets helps prevent overfitting, where the model performs well on the training data but poorly on new data. It also allows us to validate the model's performance and make adjustments if needed to improve its predictive capabilities."
   ]
  },
  {
   "cell_type": "code",
   "execution_count": 23,
   "metadata": {},
   "outputs": [
    {
     "name": "stdout",
     "output_type": "stream",
     "text": [
      "Train Size : (485149, 55)\n",
      "Test Size : (207921, 55)\n"
     ]
    },
    {
     "data": {
      "text/html": [
       "<div>\n",
       "<style scoped>\n",
       "    .dataframe tbody tr th:only-of-type {\n",
       "        vertical-align: middle;\n",
       "    }\n",
       "\n",
       "    .dataframe tbody tr th {\n",
       "        vertical-align: top;\n",
       "    }\n",
       "\n",
       "    .dataframe thead th {\n",
       "        text-align: right;\n",
       "    }\n",
       "</style>\n",
       "<table border=\"1\" class=\"dataframe\">\n",
       "  <thead>\n",
       "    <tr style=\"text-align: right;\">\n",
       "      <th></th>\n",
       "      <th>id</th>\n",
       "      <th>timestamp</th>\n",
       "      <th>hour</th>\n",
       "      <th>day</th>\n",
       "      <th>month</th>\n",
       "      <th>datetime</th>\n",
       "      <th>timezone</th>\n",
       "      <th>source</th>\n",
       "      <th>destination</th>\n",
       "      <th>cab_type</th>\n",
       "      <th>...</th>\n",
       "      <th>precipIntensityMax</th>\n",
       "      <th>uvIndexTime</th>\n",
       "      <th>temperatureMin</th>\n",
       "      <th>temperatureMinTime</th>\n",
       "      <th>temperatureMax</th>\n",
       "      <th>temperatureMaxTime</th>\n",
       "      <th>apparentTemperatureMin</th>\n",
       "      <th>apparentTemperatureMinTime</th>\n",
       "      <th>apparentTemperatureMax</th>\n",
       "      <th>apparentTemperatureMaxTime</th>\n",
       "    </tr>\n",
       "  </thead>\n",
       "  <tbody>\n",
       "    <tr>\n",
       "      <th>417371</th>\n",
       "      <td>97a49dc2-5f93-4c93-ab50-a1dde1247d14</td>\n",
       "      <td>1.543465e+09</td>\n",
       "      <td>4</td>\n",
       "      <td>29</td>\n",
       "      <td>11</td>\n",
       "      <td>2018-11-29 04:20:08</td>\n",
       "      <td>America/New_York</td>\n",
       "      <td>West End</td>\n",
       "      <td>North End</td>\n",
       "      <td>Uber</td>\n",
       "      <td>...</td>\n",
       "      <td>0.0000</td>\n",
       "      <td>1543420800</td>\n",
       "      <td>33.70</td>\n",
       "      <td>1543399200</td>\n",
       "      <td>42.60</td>\n",
       "      <td>1543438800</td>\n",
       "      <td>29.88</td>\n",
       "      <td>1543399200</td>\n",
       "      <td>36.56</td>\n",
       "      <td>1543435200</td>\n",
       "    </tr>\n",
       "    <tr>\n",
       "      <th>688031</th>\n",
       "      <td>351ad48f-6d3e-449d-95b0-6cf410c9e032</td>\n",
       "      <td>1.543782e+09</td>\n",
       "      <td>20</td>\n",
       "      <td>2</td>\n",
       "      <td>12</td>\n",
       "      <td>2018-12-02 20:23:06</td>\n",
       "      <td>America/New_York</td>\n",
       "      <td>Boston University</td>\n",
       "      <td>Theatre District</td>\n",
       "      <td>Uber</td>\n",
       "      <td>...</td>\n",
       "      <td>0.0956</td>\n",
       "      <td>1543770000</td>\n",
       "      <td>36.10</td>\n",
       "      <td>1543726800</td>\n",
       "      <td>50.37</td>\n",
       "      <td>1543784400</td>\n",
       "      <td>35.88</td>\n",
       "      <td>1543748400</td>\n",
       "      <td>49.70</td>\n",
       "      <td>1543784400</td>\n",
       "    </tr>\n",
       "    <tr>\n",
       "      <th>241033</th>\n",
       "      <td>a7aa0b68-7d76-460d-bf4d-822946abf87d</td>\n",
       "      <td>1.543314e+09</td>\n",
       "      <td>10</td>\n",
       "      <td>27</td>\n",
       "      <td>11</td>\n",
       "      <td>2018-11-27 10:27:22</td>\n",
       "      <td>America/New_York</td>\n",
       "      <td>Fenway</td>\n",
       "      <td>Back Bay</td>\n",
       "      <td>Lyft</td>\n",
       "      <td>...</td>\n",
       "      <td>0.1425</td>\n",
       "      <td>1543338000</td>\n",
       "      <td>36.34</td>\n",
       "      <td>1543377600</td>\n",
       "      <td>46.91</td>\n",
       "      <td>1543320000</td>\n",
       "      <td>32.43</td>\n",
       "      <td>1543377600</td>\n",
       "      <td>44.01</td>\n",
       "      <td>1543320000</td>\n",
       "    </tr>\n",
       "    <tr>\n",
       "      <th>80878</th>\n",
       "      <td>891aa257-f380-46e7-a5af-b4970860176b</td>\n",
       "      <td>1.543763e+09</td>\n",
       "      <td>14</td>\n",
       "      <td>2</td>\n",
       "      <td>12</td>\n",
       "      <td>2018-12-02 14:57:56</td>\n",
       "      <td>America/New_York</td>\n",
       "      <td>Beacon Hill</td>\n",
       "      <td>Haymarket Square</td>\n",
       "      <td>Uber</td>\n",
       "      <td>...</td>\n",
       "      <td>0.0904</td>\n",
       "      <td>1543770000</td>\n",
       "      <td>36.45</td>\n",
       "      <td>1543726800</td>\n",
       "      <td>50.73</td>\n",
       "      <td>1543788000</td>\n",
       "      <td>35.85</td>\n",
       "      <td>1543748400</td>\n",
       "      <td>50.06</td>\n",
       "      <td>1543788000</td>\n",
       "    </tr>\n",
       "    <tr>\n",
       "      <th>79052</th>\n",
       "      <td>50cf1b2a-c87d-429b-a543-f1fd6bfc2910</td>\n",
       "      <td>1.544692e+09</td>\n",
       "      <td>9</td>\n",
       "      <td>13</td>\n",
       "      <td>12</td>\n",
       "      <td>2018-12-13 09:05:11</td>\n",
       "      <td>America/New_York</td>\n",
       "      <td>Beacon Hill</td>\n",
       "      <td>North End</td>\n",
       "      <td>Lyft</td>\n",
       "      <td>...</td>\n",
       "      <td>0.0001</td>\n",
       "      <td>1544716800</td>\n",
       "      <td>18.19</td>\n",
       "      <td>1544688000</td>\n",
       "      <td>34.02</td>\n",
       "      <td>1544731200</td>\n",
       "      <td>13.67</td>\n",
       "      <td>1544688000</td>\n",
       "      <td>33.04</td>\n",
       "      <td>1544734800</td>\n",
       "    </tr>\n",
       "  </tbody>\n",
       "</table>\n",
       "<p>5 rows × 55 columns</p>\n",
       "</div>"
      ],
      "text/plain": [
       "                                          id     timestamp  hour  day  month  \\\n",
       "417371  97a49dc2-5f93-4c93-ab50-a1dde1247d14  1.543465e+09     4   29     11   \n",
       "688031  351ad48f-6d3e-449d-95b0-6cf410c9e032  1.543782e+09    20    2     12   \n",
       "241033  a7aa0b68-7d76-460d-bf4d-822946abf87d  1.543314e+09    10   27     11   \n",
       "80878   891aa257-f380-46e7-a5af-b4970860176b  1.543763e+09    14    2     12   \n",
       "79052   50cf1b2a-c87d-429b-a543-f1fd6bfc2910  1.544692e+09     9   13     12   \n",
       "\n",
       "                   datetime          timezone             source  \\\n",
       "417371  2018-11-29 04:20:08  America/New_York           West End   \n",
       "688031  2018-12-02 20:23:06  America/New_York  Boston University   \n",
       "241033  2018-11-27 10:27:22  America/New_York             Fenway   \n",
       "80878   2018-12-02 14:57:56  America/New_York        Beacon Hill   \n",
       "79052   2018-12-13 09:05:11  America/New_York        Beacon Hill   \n",
       "\n",
       "             destination cab_type  ... precipIntensityMax uvIndexTime  \\\n",
       "417371         North End     Uber  ...             0.0000  1543420800   \n",
       "688031  Theatre District     Uber  ...             0.0956  1543770000   \n",
       "241033          Back Bay     Lyft  ...             0.1425  1543338000   \n",
       "80878   Haymarket Square     Uber  ...             0.0904  1543770000   \n",
       "79052          North End     Lyft  ...             0.0001  1544716800   \n",
       "\n",
       "        temperatureMin  temperatureMinTime  temperatureMax  \\\n",
       "417371           33.70          1543399200           42.60   \n",
       "688031           36.10          1543726800           50.37   \n",
       "241033           36.34          1543377600           46.91   \n",
       "80878            36.45          1543726800           50.73   \n",
       "79052            18.19          1544688000           34.02   \n",
       "\n",
       "        temperatureMaxTime  apparentTemperatureMin  \\\n",
       "417371          1543438800                   29.88   \n",
       "688031          1543784400                   35.88   \n",
       "241033          1543320000                   32.43   \n",
       "80878           1543788000                   35.85   \n",
       "79052           1544731200                   13.67   \n",
       "\n",
       "        apparentTemperatureMinTime apparentTemperatureMax  \\\n",
       "417371                  1543399200                  36.56   \n",
       "688031                  1543748400                  49.70   \n",
       "241033                  1543377600                  44.01   \n",
       "80878                   1543748400                  50.06   \n",
       "79052                   1544688000                  33.04   \n",
       "\n",
       "       apparentTemperatureMaxTime  \n",
       "417371                 1543435200  \n",
       "688031                 1543784400  \n",
       "241033                 1543320000  \n",
       "80878                  1543788000  \n",
       "79052                  1544734800  \n",
       "\n",
       "[5 rows x 55 columns]"
      ]
     },
     "execution_count": 23,
     "metadata": {},
     "output_type": "execute_result"
    }
   ],
   "source": [
    "# Splitting train-set and test-set using 'Train_test_split'\n",
    "X_train, X_test, y_train, y_test = train_test_split(X, y, test_size=0.3, random_state=1)\n",
    "\n",
    "# Print train and test shape\n",
    "print('Train Size :', X_train.shape)\n",
    "print('Test Size :', X_test.shape)\n",
    "\n",
    "# Show one of the variable \n",
    "X_train.head()"
   ]
  },
  {
   "cell_type": "markdown",
   "metadata": {},
   "source": [
    "The training and testing sets are divided into 70% for training and 30% for testing, using a random state of 1. As a result, the training set contains 485,149 rows, while the testing set contains 207,921 rows."
   ]
  },
  {
   "cell_type": "markdown",
   "metadata": {},
   "source": [
    "#### **iv. Missing Value Handling**"
   ]
  },
  {
   "cell_type": "markdown",
   "metadata": {},
   "source": [
    "After splitting the data into training and testing sets, the previously identified missing values need to be handled. It's worth noting that the `price` column still contains missing values that require attention.\n",
    "\n",
    "The missing values in `price` column is assumed to be **MAR (Missing at Random)**. The assumption that the missing values in the `price` column are Missing at Random (MAR) is supported by several factors. Firstly, the missingness is related to the observed data (the `price` column), but not to the unobserved data. Additionally, there are noticeable patterns in the missingness, hinting at a correlation with the data itself rather than external factors. For example, missing prices might occur more frequently for specific types of trips or during particular time periods, indicating a link with the data characteristics. This supports the MAR assumption, where the likelihood of missingness is influenced by observed data rather than unobserved factors.\n",
    "\n",
    "[Reference](https://www.sciencedirect.com/science/article/pii/S0895435622002189#:~:text=The%20three%20missing%20data%20mechanisms,distributed%20over%20the%20data%20sample)"
   ]
  },
  {
   "cell_type": "markdown",
   "metadata": {},
   "source": [
    "**Training Set**"
   ]
  },
  {
   "cell_type": "code",
   "execution_count": 24,
   "metadata": {},
   "outputs": [],
   "source": [
    "# Combine X_train and y_train for easier handling\n",
    "train_data = pd.concat([X_train, y_train], axis=1)\n",
    "\n",
    "# Remove rows with missing values in the 'price' column from the training data\n",
    "train_data.dropna(subset=['price'], inplace=True)\n",
    "\n",
    "# Update X_train and y_train after removing missing values\n",
    "X_train = train_data.drop(columns='price')\n",
    "y_train = train_data['price']"
   ]
  },
  {
   "cell_type": "markdown",
   "metadata": {},
   "source": [
    "**Testing Set**"
   ]
  },
  {
   "cell_type": "code",
   "execution_count": 25,
   "metadata": {},
   "outputs": [],
   "source": [
    "# Combine X_test and y_test for easier handling\n",
    "test_data = pd.concat([X_test, y_test], axis=1)\n",
    "\n",
    "# Remove rows with missing values in the 'price' column from the testing data\n",
    "test_data.dropna(subset=['price'], inplace=True)\n",
    "\n",
    "# Update X_test and y_test after removing missing values\n",
    "X_test = test_data.drop(columns='price')\n",
    "y_test = test_data['price']"
   ]
  },
  {
   "cell_type": "markdown",
   "metadata": {},
   "source": [
    "From both the training and testing sets, the `price` column with missing values is dropped and the datasets are updated to the four variables: `X_train`, `y_train`, `X_test`, and `y_test`."
   ]
  },
  {
   "cell_type": "code",
   "execution_count": 26,
   "metadata": {},
   "outputs": [
    {
     "data": {
      "text/plain": [
       "id                             0\n",
       "timestamp                      0\n",
       "hour                           0\n",
       "day                            0\n",
       "month                          0\n",
       "datetime                       0\n",
       "timezone                       0\n",
       "source                         0\n",
       "destination                    0\n",
       "cab_type                       0\n",
       "product_id                     0\n",
       "name                           0\n",
       "distance                       0\n",
       "surge_multiplier               0\n",
       "latitude                       0\n",
       "longitude                      0\n",
       "temperature                    0\n",
       "apparentTemperature            0\n",
       "short_summary                  0\n",
       "long_summary                   0\n",
       "precipIntensity                0\n",
       "precipProbability              0\n",
       "humidity                       0\n",
       "windSpeed                      0\n",
       "windGust                       0\n",
       "windGustTime                   0\n",
       "visibility                     0\n",
       "temperatureHigh                0\n",
       "temperatureHighTime            0\n",
       "temperatureLow                 0\n",
       "temperatureLowTime             0\n",
       "apparentTemperatureHigh        0\n",
       "apparentTemperatureHighTime    0\n",
       "apparentTemperatureLow         0\n",
       "apparentTemperatureLowTime     0\n",
       "icon                           0\n",
       "dewPoint                       0\n",
       "pressure                       0\n",
       "windBearing                    0\n",
       "cloudCover                     0\n",
       "uvIndex                        0\n",
       "ozone                          0\n",
       "sunriseTime                    0\n",
       "sunsetTime                     0\n",
       "moonPhase                      0\n",
       "precipIntensityMax             0\n",
       "uvIndexTime                    0\n",
       "temperatureMin                 0\n",
       "temperatureMinTime             0\n",
       "temperatureMax                 0\n",
       "temperatureMaxTime             0\n",
       "apparentTemperatureMin         0\n",
       "apparentTemperatureMinTime     0\n",
       "apparentTemperatureMax         0\n",
       "apparentTemperatureMaxTime     0\n",
       "dtype: int64"
      ]
     },
     "execution_count": 26,
     "metadata": {},
     "output_type": "execute_result"
    }
   ],
   "source": [
    "# Check missing value in X_train\n",
    "X_train.isnull().sum()"
   ]
  },
  {
   "cell_type": "markdown",
   "metadata": {},
   "source": [
    "There are no missing values in `X_train`, and they have been successfully removed."
   ]
  },
  {
   "cell_type": "code",
   "execution_count": 27,
   "metadata": {},
   "outputs": [
    {
     "data": {
      "text/plain": [
       "id                             0\n",
       "timestamp                      0\n",
       "hour                           0\n",
       "day                            0\n",
       "month                          0\n",
       "datetime                       0\n",
       "timezone                       0\n",
       "source                         0\n",
       "destination                    0\n",
       "cab_type                       0\n",
       "product_id                     0\n",
       "name                           0\n",
       "distance                       0\n",
       "surge_multiplier               0\n",
       "latitude                       0\n",
       "longitude                      0\n",
       "temperature                    0\n",
       "apparentTemperature            0\n",
       "short_summary                  0\n",
       "long_summary                   0\n",
       "precipIntensity                0\n",
       "precipProbability              0\n",
       "humidity                       0\n",
       "windSpeed                      0\n",
       "windGust                       0\n",
       "windGustTime                   0\n",
       "visibility                     0\n",
       "temperatureHigh                0\n",
       "temperatureHighTime            0\n",
       "temperatureLow                 0\n",
       "temperatureLowTime             0\n",
       "apparentTemperatureHigh        0\n",
       "apparentTemperatureHighTime    0\n",
       "apparentTemperatureLow         0\n",
       "apparentTemperatureLowTime     0\n",
       "icon                           0\n",
       "dewPoint                       0\n",
       "pressure                       0\n",
       "windBearing                    0\n",
       "cloudCover                     0\n",
       "uvIndex                        0\n",
       "ozone                          0\n",
       "sunriseTime                    0\n",
       "sunsetTime                     0\n",
       "moonPhase                      0\n",
       "precipIntensityMax             0\n",
       "uvIndexTime                    0\n",
       "temperatureMin                 0\n",
       "temperatureMinTime             0\n",
       "temperatureMax                 0\n",
       "temperatureMaxTime             0\n",
       "apparentTemperatureMin         0\n",
       "apparentTemperatureMinTime     0\n",
       "apparentTemperatureMax         0\n",
       "apparentTemperatureMaxTime     0\n",
       "dtype: int64"
      ]
     },
     "execution_count": 27,
     "metadata": {},
     "output_type": "execute_result"
    }
   ],
   "source": [
    "# Check missing value in X_test\n",
    "X_test.isnull().sum()"
   ]
  },
  {
   "cell_type": "markdown",
   "metadata": {},
   "source": [
    "There are no missing values in `X_test`, and they have been successfully removed."
   ]
  },
  {
   "cell_type": "code",
   "execution_count": 28,
   "metadata": {},
   "outputs": [
    {
     "data": {
      "text/plain": [
       "0"
      ]
     },
     "execution_count": 28,
     "metadata": {},
     "output_type": "execute_result"
    }
   ],
   "source": [
    "# Check missing value in y_train\n",
    "y_train.isnull().sum()"
   ]
  },
  {
   "cell_type": "markdown",
   "metadata": {},
   "source": [
    "There are no missing values in `y_train`, and they have been successfully removed."
   ]
  },
  {
   "cell_type": "code",
   "execution_count": 29,
   "metadata": {},
   "outputs": [
    {
     "data": {
      "text/plain": [
       "0"
      ]
     },
     "execution_count": 29,
     "metadata": {},
     "output_type": "execute_result"
    }
   ],
   "source": [
    "# Check missing value in y_test\n",
    "y_test.isnull().sum()"
   ]
  },
  {
   "cell_type": "markdown",
   "metadata": {},
   "source": [
    "There are no missing values in `y_test`, and they have been successfully removed."
   ]
  },
  {
   "cell_type": "markdown",
   "metadata": {},
   "source": [
    "#### **v. Outlier Handling**"
   ]
  },
  {
   "cell_type": "markdown",
   "metadata": {},
   "source": [
    "Not only do missing values need to be addressed, but outliers also require handling. Outliers are values that differ significantly from the rest of the data points in a dataset. They can skew statistical analyses and machine learning models, leading to inaccurate predictions or conclusions. Handling outliers involves identifying them through statistical methods such as z-scores or interquartile range (IQR), and then either removing them from the dataset or applying transformations to mitigate their impact on the analysis."
   ]
  },
  {
   "cell_type": "code",
   "execution_count": 30,
   "metadata": {},
   "outputs": [],
   "source": [
    "# Create function to check skewness\n",
    "def check_skewness(df, *column_names):\n",
    "    return {col: df[col].skew() for col in column_names if col in df.columns}\n",
    "\n",
    "# Create function to drop outliers from normal distributed columns \n",
    "def drop_outliers_normal(df, *column_names):\n",
    "    for col in column_names:\n",
    "        avg = df[col].mean()\n",
    "        std = df[col].std()\n",
    "        upper_limit = avg + 3 * std\n",
    "        lower_limit = avg - 3 * std\n",
    "        df.drop(df[(df[col] > upper_limit) | (df[col] < lower_limit)].index, inplace=True)\n",
    "\n",
    "# Create function to drop outliers from skewed distributed columns \n",
    "def drop_outliers_skewed(df, *column_names):\n",
    "    for col in column_names:\n",
    "        iqr = 1.5 * (np.percentile(df[col], 75) - np.percentile(df[col], 25))\n",
    "        upper_limit = np.percentile(df[col], 75) + iqr\n",
    "        lower_limit = np.percentile(df[col], 25) - iqr\n",
    "        df.drop(df[(df[col] > upper_limit) | (df[col] < lower_limit)].index, inplace=True)\n",
    "\n",
    "# Create function to drop outliers from extreme skewed distributed columns \n",
    "def drop_outliers_skewed_extreme(df, *column_names):\n",
    "    for col in column_names:\n",
    "        iqr = 3 * (np.percentile(df[col], 75) - np.percentile(df[col], 25))\n",
    "        upper_limit = np.percentile(df[col], 75) + iqr\n",
    "        lower_limit = np.percentile(df[col], 25) - iqr\n",
    "        df.drop(df[(df[col] > upper_limit) | (df[col] < lower_limit)].index, inplace=True)"
   ]
  },
  {
   "cell_type": "code",
   "execution_count": 31,
   "metadata": {},
   "outputs": [
    {
     "data": {
      "text/plain": [
       "array([1.  , 1.25, 1.75, 1.5 , 2.  , 3.  , 2.5 ])"
      ]
     },
     "execution_count": 31,
     "metadata": {},
     "output_type": "execute_result"
    }
   ],
   "source": [
    "X_train['surge_multiplier'].unique()"
   ]
  },
  {
   "cell_type": "markdown",
   "metadata": {},
   "source": [
    "The existing code implements four functions to streamline the detection and removal of outliers, especially for datasets with numerous columns (in this case, 56 columns). However, columns with a small number of unique values are not currently addressed by these functions due to their limited variability.\n",
    "\n",
    "For instance, the `surge_multiplier` column, which contains only seven unique values, is not handled by the functions. Removing outliers from such columns can significantly impact the results.\n",
    "\n",
    "The columns that are currently excluded from the outlier handling process are:\n",
    "- `hour`\n",
    "- `day`\n",
    "- `month`\n",
    "- `surge_multiplier`\n",
    "- `cab_type`\n",
    "- `name`\n",
    "- `short_summary`\n",
    "- `icon`\n",
    "- `uvIndex`\n",
    "\n",
    "These columns are excluded to avoid unintended effects on the data due to their limited variability or categorical nature."
   ]
  },
  {
   "cell_type": "code",
   "execution_count": 32,
   "metadata": {},
   "outputs": [
    {
     "name": "stdout",
     "output_type": "stream",
     "text": [
      "distance: 0.815549425153006\n",
      "latitude: -2.114257011969783\n",
      "longitude: -0.3538718129603103\n",
      "temperature: -0.6098778066323062\n",
      "apparentTemperature: -0.3966020555704245\n",
      "precipIntensity: 3.332057768625899\n",
      "precipProbability: 2.031032952394707\n",
      "humidity: -0.07285500797179816\n",
      "windSpeed: 0.452240983233187\n",
      "windGust: 1.118859871930692\n",
      "windGustTime: 0.43871211843390717\n",
      "visibility: -1.509097608234835\n",
      "temperatureHigh: 0.07579163941501306\n",
      "temperatureHighTime: 0.429664260608672\n",
      "temperatureLow: -0.3339719190174421\n",
      "temperatureLowTime: 0.4413443864139735\n",
      "apparentTemperatureHigh: 0.06774312509719536\n",
      "apparentTemperatureHighTime: 0.42652997456704683\n",
      "apparentTemperatureLow: -0.49937735679267337\n",
      "apparentTemperatureLowTime: 0.4371876740127228\n",
      "dewPoint: -0.4978124350626098\n",
      "pressure: 0.15392738422959662\n",
      "windBearing: -0.6284822299343273\n",
      "cloudCover: -0.730763461604399\n",
      "ozone: 0.4149584084995321\n",
      "sunriseTime: 0.43414247529911837\n",
      "sunsetTime: 0.43427395483591\n",
      "moonPhase: -0.37947774565773057\n",
      "precipIntensityMax: 0.9945910119944072\n",
      "uvIndexTime: 0.43527108040597834\n",
      "temperatureMin: -0.8669418821021547\n",
      "temperatureMinTime: 0.4425140470537859\n",
      "temperatureMax: 0.30029485119763843\n",
      "temperatureMaxTime: 0.4228103376813774\n",
      "apparentTemperatureMin: -1.1066565011614877\n",
      "apparentTemperatureMinTime: 0.44826864074146994\n",
      "apparentTemperatureMax: 0.6113758620642706\n",
      "apparentTemperatureMaxTime: 0.42066320034709576\n"
     ]
    }
   ],
   "source": [
    "# Calculate skewness of all numeric columns\n",
    "skewness_results = check_skewness(X_train, 'distance', 'latitude', 'longitude', 'temperature', 'apparentTemperature', 'precipIntensity',\n",
    "                                  'precipProbability', 'humidity', 'windSpeed', 'windGust', 'windGustTime', 'visibility', 'temperatureHigh',\n",
    "                                  'temperatureHighTime', 'temperatureLow', 'temperatureLowTime', 'apparentTemperatureHigh', 'apparentTemperatureHighTime',\n",
    "                                  'apparentTemperatureLow', 'apparentTemperatureLowTime', 'dewPoint', 'pressure', 'windBearing', 'cloudCover', 'ozone',\n",
    "                                  'sunriseTime', 'sunsetTime', 'moonPhase', 'precipIntensityMax', 'uvIndexTime', 'temperatureMin', 'temperatureMinTime',\n",
    "                                  'temperatureMax', 'temperatureMaxTime', 'apparentTemperatureMin', 'apparentTemperatureMinTime', 'apparentTemperatureMax',\n",
    "                                  'apparentTemperatureMaxTime')\n",
    "\n",
    "# Print skewness\n",
    "for col, skewness in skewness_results.items():\n",
    "    print(f\"{col}: {skewness}\")"
   ]
  },
  {
   "cell_type": "markdown",
   "metadata": {},
   "source": [
    "The values indicate the skewness of each column. A looping simplifies the categorization of skewness."
   ]
  },
  {
   "cell_type": "code",
   "execution_count": 33,
   "metadata": {},
   "outputs": [
    {
     "name": "stdout",
     "output_type": "stream",
     "text": [
      "Normal: ['longitude', 'apparentTemperature', 'humidity', 'windSpeed', 'windGustTime', 'temperatureHigh', 'temperatureHighTime', 'temperatureLow', 'temperatureLowTime', 'apparentTemperatureHigh', 'apparentTemperatureHighTime', 'apparentTemperatureLow', 'apparentTemperatureLowTime', 'dewPoint', 'pressure', 'ozone', 'sunriseTime', 'sunsetTime', 'moonPhase', 'uvIndexTime', 'temperatureMinTime', 'temperatureMax', 'temperatureMaxTime', 'apparentTemperatureMinTime', 'apparentTemperatureMaxTime']\n",
      "Skewed: ['distance', 'temperature', 'windBearing', 'cloudCover', 'precipIntensityMax', 'temperatureMin', 'apparentTemperatureMax']\n",
      "Extreme Skewed: ['latitude', 'precipIntensity', 'precipProbability', 'windGust', 'visibility', 'apparentTemperatureMin']\n"
     ]
    }
   ],
   "source": [
    "# Initialize empty lists for each skewness category\n",
    "normal_columns = []\n",
    "skewed_columns = []\n",
    "extreme_skewed_columns = []\n",
    "\n",
    "# Loop through the skewness values and categorize the columns\n",
    "for col, skewness in skewness_results.items():\n",
    "    if skewness < -1.0 or skewness > 1.0:\n",
    "        extreme_skewed_columns.append(col)\n",
    "    elif abs(skewness) <= 0.5:\n",
    "        normal_columns.append(col)\n",
    "    else:\n",
    "        skewed_columns.append(col)\n",
    "\n",
    "# Print the columns in each category\n",
    "print(f\"Normal: {normal_columns}\\nSkewed: {skewed_columns}\\nExtreme Skewed: {extreme_skewed_columns}\")\n"
   ]
  },
  {
   "cell_type": "markdown",
   "metadata": {},
   "source": [
    "Once the columns have been categorized based on their distribution type, the next step involves dropping outliers using the previously created function."
   ]
  },
  {
   "cell_type": "code",
   "execution_count": 34,
   "metadata": {},
   "outputs": [],
   "source": [
    "# Removing outliers with normal distribution in X_train\n",
    "for col in normal_columns:\n",
    "    drop_outliers_normal(X_train, col)\n",
    "\n",
    "# Removing outliers with skewed distribution in X_train\n",
    "for col in skewed_columns:\n",
    "    drop_outliers_skewed(X_train, col)\n",
    "\n",
    "# Removing outliers with extreme skewed distribution in X_train\n",
    "for col in extreme_skewed_columns:\n",
    "    drop_outliers_skewed_extreme(X_train, col)"
   ]
  },
  {
   "cell_type": "markdown",
   "metadata": {},
   "source": [
    "To maintain balanced rows based on their index, both `X_train` and `y_train` should be dropped in the code, not just `X_train`. Therefore, the `y_train` data is also dropped based on `X_train`'s index."
   ]
  },
  {
   "cell_type": "code",
   "execution_count": 35,
   "metadata": {},
   "outputs": [],
   "source": [
    "# Removing outliers in y_train with the same index\n",
    "y_train = y_train.loc[X_train.index]"
   ]
  },
  {
   "cell_type": "markdown",
   "metadata": {},
   "source": [
    "After removing outliers from both the training set, it's essential to check the shape of the variables to ensure they have the same number of rows."
   ]
  },
  {
   "cell_type": "code",
   "execution_count": 36,
   "metadata": {},
   "outputs": [
    {
     "name": "stdout",
     "output_type": "stream",
     "text": [
      "(219841, 55)\n",
      "(219841,)\n"
     ]
    }
   ],
   "source": [
    "# Print shape\n",
    "print(X_train.shape)\n",
    "print(y_train.shape)"
   ]
  },
  {
   "cell_type": "markdown",
   "metadata": {},
   "source": [
    "Both variables having the same number of rows indicates that the dropped outliers from X and y are the same, resulting in a reduced number of rows."
   ]
  },
  {
   "cell_type": "markdown",
   "metadata": {},
   "source": [
    "#### **vi. Feature Selection**"
   ]
  },
  {
   "cell_type": "markdown",
   "metadata": {},
   "source": [
    "This section focuses on selecting the features that have a correlation with the `price` column. Feature selection is performed to identify the most relevant variables that impact the pricing."
   ]
  },
  {
   "cell_type": "markdown",
   "metadata": {},
   "source": [
    "Before feature selection, certain columns such as `id` and `timestamp`, serve as unique identifiers and can be dropped. Similarly, the `timezone` column with only one unique value has no impact on the pricing and can also be dropped. Column `product_id` is redundant as its value is the same as `name`, so it can be removed as well."
   ]
  },
  {
   "cell_type": "code",
   "execution_count": 37,
   "metadata": {},
   "outputs": [
    {
     "name": "stdout",
     "output_type": "stream",
     "text": [
      "Index(['hour', 'day', 'month', 'datetime', 'source', 'destination', 'cab_type',\n",
      "       'name', 'distance', 'surge_multiplier', 'latitude', 'longitude',\n",
      "       'temperature', 'apparentTemperature', 'short_summary', 'long_summary',\n",
      "       'precipIntensity', 'precipProbability', 'humidity', 'windSpeed',\n",
      "       'windGust', 'windGustTime', 'visibility', 'temperatureHigh',\n",
      "       'temperatureHighTime', 'temperatureLow', 'temperatureLowTime',\n",
      "       'apparentTemperatureHigh', 'apparentTemperatureHighTime',\n",
      "       'apparentTemperatureLow', 'apparentTemperatureLowTime', 'icon',\n",
      "       'dewPoint', 'pressure', 'windBearing', 'cloudCover', 'uvIndex', 'ozone',\n",
      "       'sunriseTime', 'sunsetTime', 'moonPhase', 'precipIntensityMax',\n",
      "       'uvIndexTime', 'temperatureMin', 'temperatureMinTime', 'temperatureMax',\n",
      "       'temperatureMaxTime', 'apparentTemperatureMin',\n",
      "       'apparentTemperatureMinTime', 'apparentTemperatureMax',\n",
      "       'apparentTemperatureMaxTime'],\n",
      "      dtype='object')\n"
     ]
    }
   ],
   "source": [
    "# Drop unnecessary columns from X_train and X_test\n",
    "X_train.drop(columns=['id', 'timestamp', 'product_id', 'timezone'], axis=1, inplace=True)\n",
    "X_test.drop(columns=['id', 'timestamp', 'product_id', 'timezone'], axis=1, inplace=True)\n",
    "\n",
    "# Print result\n",
    "print(X_train.columns)"
   ]
  },
  {
   "cell_type": "markdown",
   "metadata": {},
   "source": [
    "The result confirms that the unnecessary columns have been successfully dropped from both `X_train` and `X_test` datasets."
   ]
  },
  {
   "cell_type": "markdown",
   "metadata": {},
   "source": [
    "Next, the `X_train` and `y_train` need to be concatenated to combine the features and target variable into a single dataframe."
   ]
  },
  {
   "cell_type": "code",
   "execution_count": 38,
   "metadata": {},
   "outputs": [
    {
     "data": {
      "text/html": [
       "<div>\n",
       "<style scoped>\n",
       "    .dataframe tbody tr th:only-of-type {\n",
       "        vertical-align: middle;\n",
       "    }\n",
       "\n",
       "    .dataframe tbody tr th {\n",
       "        vertical-align: top;\n",
       "    }\n",
       "\n",
       "    .dataframe thead th {\n",
       "        text-align: right;\n",
       "    }\n",
       "</style>\n",
       "<table border=\"1\" class=\"dataframe\">\n",
       "  <thead>\n",
       "    <tr style=\"text-align: right;\">\n",
       "      <th></th>\n",
       "      <th>hour</th>\n",
       "      <th>day</th>\n",
       "      <th>month</th>\n",
       "      <th>datetime</th>\n",
       "      <th>source</th>\n",
       "      <th>destination</th>\n",
       "      <th>cab_type</th>\n",
       "      <th>name</th>\n",
       "      <th>distance</th>\n",
       "      <th>surge_multiplier</th>\n",
       "      <th>...</th>\n",
       "      <th>uvIndexTime</th>\n",
       "      <th>temperatureMin</th>\n",
       "      <th>temperatureMinTime</th>\n",
       "      <th>temperatureMax</th>\n",
       "      <th>temperatureMaxTime</th>\n",
       "      <th>apparentTemperatureMin</th>\n",
       "      <th>apparentTemperatureMinTime</th>\n",
       "      <th>apparentTemperatureMax</th>\n",
       "      <th>apparentTemperatureMaxTime</th>\n",
       "      <th>price</th>\n",
       "    </tr>\n",
       "  </thead>\n",
       "  <tbody>\n",
       "    <tr>\n",
       "      <th>417371</th>\n",
       "      <td>4</td>\n",
       "      <td>29</td>\n",
       "      <td>11</td>\n",
       "      <td>2018-11-29 04:20:08</td>\n",
       "      <td>West End</td>\n",
       "      <td>North End</td>\n",
       "      <td>Uber</td>\n",
       "      <td>WAV</td>\n",
       "      <td>1.03</td>\n",
       "      <td>1.0</td>\n",
       "      <td>...</td>\n",
       "      <td>1543420800</td>\n",
       "      <td>33.70</td>\n",
       "      <td>1543399200</td>\n",
       "      <td>42.60</td>\n",
       "      <td>1543438800</td>\n",
       "      <td>29.88</td>\n",
       "      <td>1543399200</td>\n",
       "      <td>36.56</td>\n",
       "      <td>1543435200</td>\n",
       "      <td>8.5</td>\n",
       "    </tr>\n",
       "    <tr>\n",
       "      <th>56263</th>\n",
       "      <td>18</td>\n",
       "      <td>15</td>\n",
       "      <td>12</td>\n",
       "      <td>2018-12-15 18:50:08</td>\n",
       "      <td>Back Bay</td>\n",
       "      <td>Fenway</td>\n",
       "      <td>Lyft</td>\n",
       "      <td>Lux</td>\n",
       "      <td>1.44</td>\n",
       "      <td>1.0</td>\n",
       "      <td>...</td>\n",
       "      <td>1544893200</td>\n",
       "      <td>39.80</td>\n",
       "      <td>1544929200</td>\n",
       "      <td>54.29</td>\n",
       "      <td>1544896800</td>\n",
       "      <td>36.78</td>\n",
       "      <td>1544929200</td>\n",
       "      <td>53.62</td>\n",
       "      <td>1544896800</td>\n",
       "      <td>13.5</td>\n",
       "    </tr>\n",
       "    <tr>\n",
       "      <th>392132</th>\n",
       "      <td>19</td>\n",
       "      <td>28</td>\n",
       "      <td>11</td>\n",
       "      <td>2018-11-28 19:06:26</td>\n",
       "      <td>Back Bay</td>\n",
       "      <td>Haymarket Square</td>\n",
       "      <td>Lyft</td>\n",
       "      <td>Lux</td>\n",
       "      <td>2.25</td>\n",
       "      <td>1.0</td>\n",
       "      <td>...</td>\n",
       "      <td>1543420800</td>\n",
       "      <td>33.82</td>\n",
       "      <td>1543399200</td>\n",
       "      <td>42.72</td>\n",
       "      <td>1543438800</td>\n",
       "      <td>30.19</td>\n",
       "      <td>1543399200</td>\n",
       "      <td>36.75</td>\n",
       "      <td>1543438800</td>\n",
       "      <td>19.5</td>\n",
       "    </tr>\n",
       "    <tr>\n",
       "      <th>37294</th>\n",
       "      <td>6</td>\n",
       "      <td>30</td>\n",
       "      <td>11</td>\n",
       "      <td>2018-11-30 06:57:55</td>\n",
       "      <td>North Station</td>\n",
       "      <td>Fenway</td>\n",
       "      <td>Lyft</td>\n",
       "      <td>Lux Black</td>\n",
       "      <td>3.20</td>\n",
       "      <td>1.0</td>\n",
       "      <td>...</td>\n",
       "      <td>1543593600</td>\n",
       "      <td>28.64</td>\n",
       "      <td>1543575600</td>\n",
       "      <td>42.57</td>\n",
       "      <td>1543600800</td>\n",
       "      <td>27.20</td>\n",
       "      <td>1543568400</td>\n",
       "      <td>40.51</td>\n",
       "      <td>1543611600</td>\n",
       "      <td>27.5</td>\n",
       "    </tr>\n",
       "    <tr>\n",
       "      <th>385243</th>\n",
       "      <td>19</td>\n",
       "      <td>27</td>\n",
       "      <td>11</td>\n",
       "      <td>2018-11-27 19:15:22</td>\n",
       "      <td>Boston University</td>\n",
       "      <td>Financial District</td>\n",
       "      <td>Uber</td>\n",
       "      <td>WAV</td>\n",
       "      <td>4.72</td>\n",
       "      <td>1.0</td>\n",
       "      <td>...</td>\n",
       "      <td>1543338000</td>\n",
       "      <td>36.13</td>\n",
       "      <td>1543377600</td>\n",
       "      <td>46.83</td>\n",
       "      <td>1543320000</td>\n",
       "      <td>32.05</td>\n",
       "      <td>1543377600</td>\n",
       "      <td>43.85</td>\n",
       "      <td>1543320000</td>\n",
       "      <td>14.0</td>\n",
       "    </tr>\n",
       "  </tbody>\n",
       "</table>\n",
       "<p>5 rows × 52 columns</p>\n",
       "</div>"
      ],
      "text/plain": [
       "        hour  day  month             datetime             source  \\\n",
       "417371     4   29     11  2018-11-29 04:20:08           West End   \n",
       "56263     18   15     12  2018-12-15 18:50:08           Back Bay   \n",
       "392132    19   28     11  2018-11-28 19:06:26           Back Bay   \n",
       "37294      6   30     11  2018-11-30 06:57:55      North Station   \n",
       "385243    19   27     11  2018-11-27 19:15:22  Boston University   \n",
       "\n",
       "               destination cab_type       name  distance  surge_multiplier  \\\n",
       "417371           North End     Uber        WAV      1.03               1.0   \n",
       "56263               Fenway     Lyft        Lux      1.44               1.0   \n",
       "392132    Haymarket Square     Lyft        Lux      2.25               1.0   \n",
       "37294               Fenway     Lyft  Lux Black      3.20               1.0   \n",
       "385243  Financial District     Uber        WAV      4.72               1.0   \n",
       "\n",
       "        ...  uvIndexTime  temperatureMin  temperatureMinTime  temperatureMax  \\\n",
       "417371  ...   1543420800           33.70          1543399200           42.60   \n",
       "56263   ...   1544893200           39.80          1544929200           54.29   \n",
       "392132  ...   1543420800           33.82          1543399200           42.72   \n",
       "37294   ...   1543593600           28.64          1543575600           42.57   \n",
       "385243  ...   1543338000           36.13          1543377600           46.83   \n",
       "\n",
       "       temperatureMaxTime apparentTemperatureMin  apparentTemperatureMinTime  \\\n",
       "417371         1543438800                  29.88                  1543399200   \n",
       "56263          1544896800                  36.78                  1544929200   \n",
       "392132         1543438800                  30.19                  1543399200   \n",
       "37294          1543600800                  27.20                  1543568400   \n",
       "385243         1543320000                  32.05                  1543377600   \n",
       "\n",
       "        apparentTemperatureMax  apparentTemperatureMaxTime  price  \n",
       "417371                   36.56                  1543435200    8.5  \n",
       "56263                    53.62                  1544896800   13.5  \n",
       "392132                   36.75                  1543438800   19.5  \n",
       "37294                    40.51                  1543611600   27.5  \n",
       "385243                   43.85                  1543320000   14.0  \n",
       "\n",
       "[5 rows x 52 columns]"
      ]
     },
     "execution_count": 38,
     "metadata": {},
     "output_type": "execute_result"
    }
   ],
   "source": [
    "# Concatenate X_train and y_train\n",
    "concat_train = pd.concat([X_train, y_train], axis=1)\n",
    "\n",
    "# show X_train\n",
    "concat_train.head()"
   ]
  },
  {
   "cell_type": "markdown",
   "metadata": {},
   "source": [
    "The code displays the `concat_train` dataframe."
   ]
  },
  {
   "cell_type": "markdown",
   "metadata": {},
   "source": [
    "To perform a correlation check of price and features, the method used is **Phik Matrix**. In this analysis, Phik Matrix is employed to capture the correlation between variables, which is essential for understanding relationships between price and features.\n",
    "\n",
    "The Phik matrix is a measure of correlation used for **both categorical and numerical variables**. It can find correlations between different types of variables, making it useful for analyzing datasets with mixed data types. However, it's especially known for its effectiveness in handling categorical data, where traditional correlation measures may not provide meaningful insights."
   ]
  },
  {
   "cell_type": "code",
   "execution_count": 39,
   "metadata": {},
   "outputs": [
    {
     "name": "stdout",
     "output_type": "stream",
     "text": [
      "interval columns not set, guessing: ['price', 'surge_multiplier', 'hour', 'day', 'month', 'distance', 'latitude', 'longitude']\n"
     ]
    },
    {
     "name": "stderr",
     "output_type": "stream",
     "text": [
      "c:\\Users\\septi\\anaconda3\\envs\\hacktive\\lib\\site-packages\\phik\\data_quality.py:59: UserWarning: The number of unique values of variable datetime is large: 15655. Are you sure this is not an interval variable? Analysis for pairs of variables including datetime can be slow.\n",
      "  warnings.warn(\n"
     ]
    },
    {
     "name": "stdout",
     "output_type": "stream",
     "text": [
      "interval columns not set, guessing: ['price', 'temperature', 'apparentTemperature', 'precipIntensity', 'precipProbability', 'humidity', 'windSpeed', 'windGust', 'windGustTime', 'visibility', 'temperatureHigh', 'temperatureHighTime']\n"
     ]
    },
    {
     "name": "stderr",
     "output_type": "stream",
     "text": [
      "c:\\Users\\septi\\anaconda3\\envs\\hacktive\\lib\\site-packages\\phik\\data_quality.py:72: UserWarning: Not enough unique value for variable precipIntensity for analysis 1. Dropping this column\n",
      "  warnings.warn(\n",
      "c:\\Users\\septi\\anaconda3\\envs\\hacktive\\lib\\site-packages\\phik\\data_quality.py:72: UserWarning: Not enough unique value for variable precipProbability for analysis 1. Dropping this column\n",
      "  warnings.warn(\n"
     ]
    },
    {
     "name": "stdout",
     "output_type": "stream",
     "text": [
      "interval columns not set, guessing: ['price', 'temperatureLow', 'temperatureLowTime', 'apparentTemperatureHigh', 'apparentTemperatureHighTime', 'apparentTemperatureLow', 'apparentTemperatureLowTime', 'dewPoint', 'pressure', 'windBearing', 'cloudCover', 'uvIndex', 'ozone']\n",
      "interval columns not set, guessing: ['price', 'sunriseTime', 'sunsetTime', 'moonPhase', 'precipIntensityMax', 'uvIndexTime', 'temperatureMin', 'temperatureMinTime', 'temperatureMax', 'temperatureMaxTime', 'apparentTemperatureMin', 'apparentTemperatureMinTime', 'apparentTemperatureMax', 'apparentTemperatureMaxTime']\n",
      "price               1.000000\n",
      "surge_multiplier    0.372002\n",
      "hour                0.000000\n",
      "day                 0.000000\n",
      "month               0.002786\n",
      "datetime            0.120576\n",
      "source              0.156608\n",
      "destination         0.154577\n",
      "cab_type            0.162972\n",
      "name                0.682981\n",
      "distance            0.424525\n",
      "latitude            0.000000\n",
      "longitude           0.000000\n",
      "Name: price, dtype: float64\n",
      "price                  1.000000\n",
      "temperature            0.000000\n",
      "apparentTemperature    0.000000\n",
      "short_summary          0.004649\n",
      "long_summary           0.003964\n",
      "humidity               0.000000\n",
      "windSpeed              0.000000\n",
      "windGust               0.000000\n",
      "windGustTime           0.000733\n",
      "visibility             0.000000\n",
      "temperatureHigh        0.004860\n",
      "temperatureHighTime    0.000000\n",
      "Name: price, dtype: float64\n",
      "price                          1.000000\n",
      "temperatureLow                 0.005788\n",
      "temperatureLowTime             0.000000\n",
      "apparentTemperatureHigh        0.005528\n",
      "apparentTemperatureHighTime    0.000000\n",
      "apparentTemperatureLow         0.006608\n",
      "apparentTemperatureLowTime     0.000000\n",
      "icon                           0.010093\n",
      "dewPoint                       0.000000\n",
      "pressure                       0.006229\n",
      "windBearing                    0.006168\n",
      "cloudCover                     0.008519\n",
      "uvIndex                        0.000000\n",
      "ozone                          0.000000\n",
      "Name: price, dtype: float64\n",
      "price                         1.000000\n",
      "sunriseTime                   0.000733\n",
      "sunsetTime                    0.000733\n",
      "moonPhase                     0.000000\n",
      "precipIntensityMax            0.007332\n",
      "uvIndexTime                   0.000733\n",
      "temperatureMin                0.006943\n",
      "temperatureMinTime            0.000733\n",
      "temperatureMax                0.006958\n",
      "temperatureMaxTime            0.000000\n",
      "apparentTemperatureMin        0.000000\n",
      "apparentTemperatureMinTime    0.000733\n",
      "apparentTemperatureMax        0.002894\n",
      "apparentTemperatureMaxTime    0.000000\n",
      "Name: price, dtype: float64\n"
     ]
    }
   ],
   "source": [
    "# Create function to correlaete variables with price\n",
    "def compute_phik_correlation(dataframe, columns):\n",
    "    subset = dataframe[columns]\n",
    "    correlation_matrix = subset.phik_matrix()\n",
    "    return correlation_matrix['price']\n",
    "\n",
    "# Define the list of columns for each subset\n",
    "columns_set1 = ['price', 'surge_multiplier', 'hour', 'day', 'month', 'datetime', 'source', 'destination', 'cab_type', 'name', 'distance', 'latitude', 'longitude']\n",
    "columns_set2 = ['price', 'temperature', 'apparentTemperature', 'short_summary', 'long_summary', 'precipIntensity', 'precipProbability', 'humidity', 'windSpeed', 'windGust', 'windGustTime', 'visibility', 'temperatureHigh', 'temperatureHighTime']\n",
    "columns_set3 = ['price', 'temperatureLow', 'temperatureLowTime', 'apparentTemperatureHigh', 'apparentTemperatureHighTime', 'apparentTemperatureLow', 'apparentTemperatureLowTime', 'icon', 'dewPoint', 'pressure', 'windBearing', 'cloudCover', 'uvIndex', 'ozone']\n",
    "columns_set4 = ['price', 'sunriseTime', 'sunsetTime', 'moonPhase', 'precipIntensityMax', 'uvIndexTime', 'temperatureMin', 'temperatureMinTime', 'temperatureMax', 'temperatureMaxTime', 'apparentTemperatureMin', 'apparentTemperatureMinTime', 'apparentTemperatureMax', 'apparentTemperatureMaxTime']\n",
    "\n",
    "# Compute Phi-K correlation for each set of columns and print\n",
    "price_correlation_set1 = compute_phik_correlation(concat_train, columns_set1)\n",
    "price_correlation_set2 = compute_phik_correlation(concat_train, columns_set2)\n",
    "price_correlation_set3 = compute_phik_correlation(concat_train, columns_set3)\n",
    "price_correlation_set4 = compute_phik_correlation(concat_train, columns_set4)\n",
    "\n",
    "# Print result\n",
    "print(price_correlation_set1)\n",
    "print(price_correlation_set2)\n",
    "print(price_correlation_set3)\n",
    "print(price_correlation_set4)"
   ]
  },
  {
   "cell_type": "markdown",
   "metadata": {},
   "source": [
    "The columns are divided into 4 groups to ensure faster processing and reduce loading time. All columns will be predicted against the target variable, `price`. The Phik coefficient ranges from 0 to 1, where 0 indicates no correaltion and 1 indicates a perfect correlation with price.\n",
    "\n",
    "For this analysis, a threshold of 0.3 is chosen. Features with a Phik coefficient greater than 0.3 are considered to have a significant correlation with `price`. This threshold is based on the fact that `distance` has a Phik coefficient of 0.4 and is known to strongly influence price logically.\n",
    "\n",
    "The features that show correlation with price above the threshold of 0.3 are:\n",
    "- name\n",
    "- distance\n",
    "- surge_multiplier\n",
    "\n",
    "However, there is evidence suggesting that `hour` can impact price as well. For instance, prices often rise during peak hours due to surge multipliers. The `cab_type` can also influence the pricing as different types of cabs typically have varying price points. Therefore, the `hour` and `cab_type` column will also be included in this analysis. \n",
    "\n",
    "[Reference 1](https://www.researchgate.net/publication/359997934_The_effects_of_peak_hour_and_congested_area_taxi_surcharges_on_customers%27_travel_decisions_Empirical_evidence_and_policy_implications)  \n",
    "[Reference 2](https://allmarintaxis.com/how-taxi-fare-is-calculated/)"
   ]
  },
  {
   "cell_type": "code",
   "execution_count": 40,
   "metadata": {},
   "outputs": [],
   "source": [
    "# Drop unnecessary columns in X_train\n",
    "X_train.drop(['day', 'month', 'datetime', 'latitude', 'longitude', 'temperature', 'apparentTemperature', 'long_summary', 'short_summary',\n",
    "              'precipIntensity', 'precipProbability', 'humidity', 'windSpeed', 'windGust', 'windGustTime', 'visibility', 'temperatureHigh',\n",
    "              'temperatureHighTime', 'temperatureLow', 'temperatureLowTime', 'apparentTemperatureHigh', 'apparentTemperatureHighTime',\n",
    "              'apparentTemperatureLow', 'apparentTemperatureLowTime', 'icon', 'dewPoint', 'pressure', 'windBearing', 'cloudCover', 'uvIndex',\n",
    "              'ozone', 'sunriseTime', 'sunsetTime', 'moonPhase', 'precipIntensityMax', 'uvIndexTime', 'temperatureMin', 'temperatureMinTime',\n",
    "              'temperatureMax', 'temperatureMaxTime', 'apparentTemperatureMin', 'apparentTemperatureMinTime', 'apparentTemperatureMax',\n",
    "              'apparentTemperatureMaxTime', 'source', 'destination'], axis=1,  inplace=True)\n",
    "\n",
    "# Drop unnecessary columns in X_test\n",
    "X_test.drop(['day', 'month', 'datetime', 'latitude', 'longitude', 'temperature', 'apparentTemperature', 'long_summary', 'short_summary',\n",
    "             'precipIntensity', 'precipProbability', 'humidity', 'windSpeed', 'windGust', 'windGustTime', 'visibility', 'temperatureHigh',\n",
    "             'temperatureHighTime', 'temperatureLow', 'temperatureLowTime', 'apparentTemperatureHigh', 'apparentTemperatureHighTime',\n",
    "             'apparentTemperatureLow', 'apparentTemperatureLowTime', 'icon', 'dewPoint', 'pressure', 'windBearing', 'cloudCover', 'uvIndex',\n",
    "             'ozone', 'sunriseTime', 'sunsetTime', 'moonPhase', 'precipIntensityMax', 'uvIndexTime', 'temperatureMin', 'temperatureMinTime',\n",
    "             'temperatureMax', 'temperatureMaxTime', 'apparentTemperatureMin', 'apparentTemperatureMinTime', 'apparentTemperatureMax',\n",
    "             'apparentTemperatureMaxTime', 'source', 'destination'], axis=1,  inplace=True)"
   ]
  },
  {
   "cell_type": "markdown",
   "metadata": {},
   "source": [
    "The code above provided drops the unnecessary columns that do not have a correlation with the `price` column."
   ]
  },
  {
   "cell_type": "code",
   "execution_count": 41,
   "metadata": {},
   "outputs": [
    {
     "name": "stdout",
     "output_type": "stream",
     "text": [
      "Index(['hour', 'cab_type', 'name', 'distance', 'surge_multiplier'], dtype='object')\n",
      "Index(['hour', 'cab_type', 'name', 'distance', 'surge_multiplier'], dtype='object')\n"
     ]
    }
   ],
   "source": [
    "# Show columns\n",
    "print(X_train.columns)\n",
    "print(X_test.columns)"
   ]
  },
  {
   "cell_type": "markdown",
   "metadata": {},
   "source": [
    "`X_train` and `X_test` have been refined to exclusively contain the columns that have correlation with `price`."
   ]
  },
  {
   "cell_type": "markdown",
   "metadata": {},
   "source": [
    "#### **vi. Split Numerical and Categorical Columns**"
   ]
  },
  {
   "cell_type": "markdown",
   "metadata": {},
   "source": [
    "Once the necessary columns are identified, they will be categorized based on their data types. A table is already available at the beginning, which categorizes these columns according to their data types."
   ]
  },
  {
   "cell_type": "code",
   "execution_count": 42,
   "metadata": {},
   "outputs": [
    {
     "name": "stdout",
     "output_type": "stream",
     "text": [
      "Numerical normal distribution columns:\n",
      "['hour']\n",
      "\n",
      "Numerical skewed distribution columns:\n",
      "['distance', 'surge_multiplier']\n",
      "\n",
      "Nominal categorical columns:\n",
      "['cab_type', 'name']\n"
     ]
    }
   ],
   "source": [
    "# Split numerical and categorical columns\n",
    "\n",
    "num_std = ['hour']\n",
    "num_minmax = ['distance', 'surge_multiplier']\n",
    "cat_nominal = ['cab_type', 'name']\n",
    "\n",
    "print(f'Numerical normal distribution columns:\\n{num_std}')\n",
    "print('')\n",
    "print(f'Numerical skewed distribution columns:\\n{num_minmax}')\n",
    "print('')\n",
    "print(f'Nominal categorical columns:\\n{cat_nominal}')"
   ]
  },
  {
   "cell_type": "markdown",
   "metadata": {},
   "source": [
    "The normally distributed columns are saved in the variable `num_std` as they will be processed using Standard Scaler, while the skewed distributed columns are saved in the variable `num_minmax` as they will be processed using MinMax Scaler. The nominal categorical columns are saved in the variable `cat_nominal` as they will be processed using One Hot Encoder."
   ]
  },
  {
   "cell_type": "markdown",
   "metadata": {},
   "source": [
    "After that, they are split again based on column types in the `X_train` and `X_test` datasets to segregate numerical and categorical features for further processing."
   ]
  },
  {
   "cell_type": "code",
   "execution_count": 43,
   "metadata": {},
   "outputs": [
    {
     "data": {
      "text/html": [
       "<div>\n",
       "<style scoped>\n",
       "    .dataframe tbody tr th:only-of-type {\n",
       "        vertical-align: middle;\n",
       "    }\n",
       "\n",
       "    .dataframe tbody tr th {\n",
       "        vertical-align: top;\n",
       "    }\n",
       "\n",
       "    .dataframe thead th {\n",
       "        text-align: right;\n",
       "    }\n",
       "</style>\n",
       "<table border=\"1\" class=\"dataframe\">\n",
       "  <thead>\n",
       "    <tr style=\"text-align: right;\">\n",
       "      <th></th>\n",
       "      <th>cab_type</th>\n",
       "      <th>name</th>\n",
       "    </tr>\n",
       "  </thead>\n",
       "  <tbody>\n",
       "    <tr>\n",
       "      <th>417371</th>\n",
       "      <td>Uber</td>\n",
       "      <td>WAV</td>\n",
       "    </tr>\n",
       "    <tr>\n",
       "      <th>56263</th>\n",
       "      <td>Lyft</td>\n",
       "      <td>Lux</td>\n",
       "    </tr>\n",
       "    <tr>\n",
       "      <th>392132</th>\n",
       "      <td>Lyft</td>\n",
       "      <td>Lux</td>\n",
       "    </tr>\n",
       "    <tr>\n",
       "      <th>37294</th>\n",
       "      <td>Lyft</td>\n",
       "      <td>Lux Black</td>\n",
       "    </tr>\n",
       "    <tr>\n",
       "      <th>385243</th>\n",
       "      <td>Uber</td>\n",
       "      <td>WAV</td>\n",
       "    </tr>\n",
       "  </tbody>\n",
       "</table>\n",
       "</div>"
      ],
      "text/plain": [
       "       cab_type       name\n",
       "417371     Uber        WAV\n",
       "56263      Lyft        Lux\n",
       "392132     Lyft        Lux\n",
       "37294      Lyft  Lux Black\n",
       "385243     Uber        WAV"
      ]
     },
     "execution_count": 43,
     "metadata": {},
     "output_type": "execute_result"
    }
   ],
   "source": [
    "# Split train-test based on column types\n",
    "\n",
    "X_train_num_std = X_train[num_std]\n",
    "X_test_num_std = X_test[num_std]\n",
    "\n",
    "X_train_num_minmax = X_train[num_minmax]\n",
    "X_test_num_minmax = X_test[num_minmax]\n",
    "\n",
    "X_train_cat_nominal = X_train[cat_nominal]\n",
    "X_test_cat_nominal = X_test[cat_nominal]\n",
    "\n",
    "X_train_cat_nominal.head()"
   ]
  },
  {
   "cell_type": "markdown",
   "metadata": {},
   "source": [
    " The code above achieves this by assigning specific subsets of columns to respective variables:\n",
    "\n",
    "- `X_train_num_std` and `X_test_num_std` contain numerical columns with standard scaling applied.\n",
    "- `X_train_num_minmax` and `X_test_num_minmax` contain numerical columns with min-max scaling applied.\n",
    "- `X_train_cat_nominal` and `X_test_cat_nominal` contain nominal categorical columns."
   ]
  },
  {
   "cell_type": "markdown",
   "metadata": {},
   "source": [
    "#### **vii. Cardinality Check**"
   ]
  },
  {
   "cell_type": "markdown",
   "metadata": {},
   "source": [
    "In Machine Learning, there's a distinction in treating columns based on the number of unique values they contain. Columns with a high number of unique values (high cardinality) are prioritized over those with fewer unique values (low cardinality), which introduces a bias. To address this, a cardinality check is performed to evaluate whether categorical columns exhibit a high number of unique values."
   ]
  },
  {
   "cell_type": "code",
   "execution_count": 44,
   "metadata": {},
   "outputs": [
    {
     "name": "stdout",
     "output_type": "stream",
     "text": [
      "Number of categories in the variable Cab Type          : 2\n",
      "Number of categories in the variable name              : 12\n"
     ]
    }
   ],
   "source": [
    "# Check number of unique values in categorical columns\n",
    "\n",
    "print('Number of categories in the variable Cab Type          : {}'.format((X_train_cat_nominal.cab_type.nunique())))\n",
    "print('Number of categories in the variable name              : {}'.format((X_train_cat_nominal.name.nunique())))"
   ]
  },
  {
   "cell_type": "markdown",
   "metadata": {},
   "source": [
    "The `name` feature contains 12 unique values, which exceeds the typical threshold of 10 for categorical features. Although grouping these ride types into broader categories can simplify the model's input, it risks losing important distinctions that significantly impact pricing. For example, the price variation between 'UberX' and 'Lyft XL' could be substantial, yet if both are categorized as 'Standard Rides', these details are overlooked. Reducing the level of detail can make the model's predictions less accurate. Therefore, it may be better **not to simplify the name category**, allowing the model to take full advantage of the specific differences between each type."
   ]
  },
  {
   "cell_type": "markdown",
   "metadata": {},
   "source": [
    "#### **viii. Feature Encoding**"
   ]
  },
  {
   "cell_type": "markdown",
   "metadata": {},
   "source": [
    "After checking the cardinality, the categorical column can proceed to the next step, which is Encoding. Linear Regression cannot interpret words; however, categorical columns contain words instead of numbers. To facilitate this, these categorical columns need to be converted into numerical representations. This process is called Encoding."
   ]
  },
  {
   "cell_type": "code",
   "execution_count": 45,
   "metadata": {},
   "outputs": [
    {
     "data": {
      "text/html": [
       "<div>\n",
       "<style scoped>\n",
       "    .dataframe tbody tr th:only-of-type {\n",
       "        vertical-align: middle;\n",
       "    }\n",
       "\n",
       "    .dataframe tbody tr th {\n",
       "        vertical-align: top;\n",
       "    }\n",
       "\n",
       "    .dataframe thead th {\n",
       "        text-align: right;\n",
       "    }\n",
       "</style>\n",
       "<table border=\"1\" class=\"dataframe\">\n",
       "  <thead>\n",
       "    <tr style=\"text-align: right;\">\n",
       "      <th></th>\n",
       "      <th>cab_type</th>\n",
       "      <th>name</th>\n",
       "    </tr>\n",
       "  </thead>\n",
       "  <tbody>\n",
       "    <tr>\n",
       "      <th>417371</th>\n",
       "      <td>Uber</td>\n",
       "      <td>WAV</td>\n",
       "    </tr>\n",
       "    <tr>\n",
       "      <th>56263</th>\n",
       "      <td>Lyft</td>\n",
       "      <td>Lux</td>\n",
       "    </tr>\n",
       "    <tr>\n",
       "      <th>392132</th>\n",
       "      <td>Lyft</td>\n",
       "      <td>Lux</td>\n",
       "    </tr>\n",
       "    <tr>\n",
       "      <th>37294</th>\n",
       "      <td>Lyft</td>\n",
       "      <td>Lux Black</td>\n",
       "    </tr>\n",
       "    <tr>\n",
       "      <th>385243</th>\n",
       "      <td>Uber</td>\n",
       "      <td>WAV</td>\n",
       "    </tr>\n",
       "  </tbody>\n",
       "</table>\n",
       "</div>"
      ],
      "text/plain": [
       "       cab_type       name\n",
       "417371     Uber        WAV\n",
       "56263      Lyft        Lux\n",
       "392132     Lyft        Lux\n",
       "37294      Lyft  Lux Black\n",
       "385243     Uber        WAV"
      ]
     },
     "execution_count": 45,
     "metadata": {},
     "output_type": "execute_result"
    }
   ],
   "source": [
    "# Check nominal variable\n",
    "X_train_cat_nominal.head()"
   ]
  },
  {
   "cell_type": "code",
   "execution_count": 46,
   "metadata": {},
   "outputs": [
    {
     "data": {
      "text/plain": [
       "array(['Uber', 'Lyft'], dtype=object)"
      ]
     },
     "execution_count": 46,
     "metadata": {},
     "output_type": "execute_result"
    }
   ],
   "source": [
    "# Check cab_type unique values\n",
    "X_train_cat_nominal['cab_type'].unique()"
   ]
  },
  {
   "cell_type": "code",
   "execution_count": 47,
   "metadata": {},
   "outputs": [
    {
     "data": {
      "text/plain": [
       "array(['WAV', 'Lux', 'Lux Black', 'Shared', 'UberXL', 'Lux Black XL',\n",
       "       'UberPool', 'Black', 'Black SUV', 'UberX', 'Lyft XL', 'Lyft'],\n",
       "      dtype=object)"
      ]
     },
     "execution_count": 47,
     "metadata": {},
     "output_type": "execute_result"
    }
   ],
   "source": [
    "# Check name unique values\n",
    "X_train_cat_nominal['name'].unique()"
   ]
  },
  {
   "cell_type": "markdown",
   "metadata": {},
   "source": [
    "This is how the `cab_type` and `name` column consist of before encoding. It still contains textual data (words) within its entries."
   ]
  },
  {
   "cell_type": "markdown",
   "metadata": {},
   "source": [
    "For encoding, there are two methods available:\n",
    "- **OrdinalEncoder** : Used for ordinal columns where the order matters. Ordinal Encoding assigns integer values to categories based on their order.\n",
    "- **OneHotEncoder** : Used for nominal columns without levels, where the features have no intrinsic ordering."
   ]
  },
  {
   "cell_type": "markdown",
   "metadata": {},
   "source": [
    "Since the `cab_type` and `name` column are both nominal, it will be processed using OneHotEncoding."
   ]
  },
  {
   "cell_type": "code",
   "execution_count": 48,
   "metadata": {},
   "outputs": [
    {
     "data": {
      "text/plain": [
       "array([[0., 1., 0., ..., 0., 0., 1.],\n",
       "       [1., 0., 0., ..., 0., 0., 0.],\n",
       "       [1., 0., 0., ..., 0., 0., 0.],\n",
       "       ...,\n",
       "       [1., 0., 0., ..., 0., 0., 0.],\n",
       "       [0., 1., 0., ..., 0., 0., 1.],\n",
       "       [0., 1., 0., ..., 1., 0., 0.]])"
      ]
     },
     "execution_count": 48,
     "metadata": {},
     "output_type": "execute_result"
    }
   ],
   "source": [
    "# Define encoder\n",
    "ohe = OneHotEncoder(handle_unknown='ignore', sparse_output=False)\n",
    "\n",
    "# Transform the nominal column\n",
    "X_train_cat_nominal_encoded = ohe.fit_transform(X_train_cat_nominal)\n",
    "X_test_cat_nominal_encoded = ohe.transform(X_test_cat_nominal)\n",
    "\n",
    "# Show result\n",
    "X_train_cat_nominal_encoded"
   ]
  },
  {
   "cell_type": "markdown",
   "metadata": {},
   "source": [
    "The `cab_type` and `name` column has been successfully encoded and saved to a new value for both training and testing datasets."
   ]
  },
  {
   "cell_type": "markdown",
   "metadata": {},
   "source": [
    "#### **ix. Feature Scaling**"
   ]
  },
  {
   "cell_type": "markdown",
   "metadata": {},
   "source": [
    "The previous steps focused on transforming the categorical columns. Now, the next step involves handling the numerical columns. There are 3 numerical columns, each with a wide range of values. This wide range indicates that the columns have different scales, making direct comparisons challenging. Therefore, they need to be standardized using a method called Feature Scaling."
   ]
  },
  {
   "cell_type": "markdown",
   "metadata": {},
   "source": [
    "For scaling, there are three methods available:\n",
    "\n",
    "- **Standard Scaling** : Used for columns with a normal distribution. StandardScaler scales the data to have a mean of 0 and a standard deviation of 1.\n",
    "- **Min-Max Scaling** : Used for columns with skewed distributions. MinMaxScaler scales the data to a fixed range, typically between 0 and 1.\n",
    "- **Robust Scaling** : Used for columns with too many outliers.\n",
    "\n",
    "Here's how the scaling methods will be applied to the columns:\n",
    "\n",
    "- `hour` (normal distribution) => StandardScaler\n",
    "- `distance` (skewed distribution) => MinMaxScaler\n",
    "- `surge_multiplier` (extreme skewed distribution) => MinMaxScaler"
   ]
  },
  {
   "cell_type": "markdown",
   "metadata": {},
   "source": [
    "**Standard Scaling**"
   ]
  },
  {
   "cell_type": "code",
   "execution_count": 49,
   "metadata": {},
   "outputs": [
    {
     "data": {
      "text/plain": [
       "array([[-1.10769503],\n",
       "       [ 0.83867972],\n",
       "       [ 0.97770648],\n",
       "       ...,\n",
       "       [ 0.97770648],\n",
       "       [-1.38574857],\n",
       "       [ 0.97770648]])"
      ]
     },
     "execution_count": 49,
     "metadata": {},
     "output_type": "execute_result"
    }
   ],
   "source": [
    "# Define scaler\n",
    "standard_scaler = StandardScaler()\n",
    "\n",
    "# Transform the 'hour' column\n",
    "X_train_num_std_scaled = standard_scaler.fit_transform(X_train_num_std)\n",
    "X_test_num_std_scaled = standard_scaler.transform(X_test_num_std)\n",
    "\n",
    "# Show result\n",
    "X_train_num_std_scaled"
   ]
  },
  {
   "cell_type": "markdown",
   "metadata": {},
   "source": [
    "**Min Max Scaling**"
   ]
  },
  {
   "cell_type": "code",
   "execution_count": 50,
   "metadata": {},
   "outputs": [
    {
     "data": {
      "text/plain": [
       "array([[0.18703704, 0.        ],\n",
       "       [0.26296296, 0.        ],\n",
       "       [0.41296296, 0.        ],\n",
       "       ...,\n",
       "       [0.1       , 0.        ],\n",
       "       [0.47777778, 0.        ],\n",
       "       [0.26296296, 0.        ]])"
      ]
     },
     "execution_count": 50,
     "metadata": {},
     "output_type": "execute_result"
    }
   ],
   "source": [
    "# Define scaler\n",
    "minmax_scaler = MinMaxScaler()\n",
    "\n",
    "# Transform the 'distance' and 'surge_multiplier' column\n",
    "X_train_num_minmax_scaled = minmax_scaler.fit_transform(X_train_num_minmax)\n",
    "X_test_num_minmax_scaled = minmax_scaler.transform(X_test_num_minmax)\n",
    "\n",
    "# Show result\n",
    "X_train_num_minmax_scaled"
   ]
  },
  {
   "cell_type": "markdown",
   "metadata": {},
   "source": [
    "Both outcomes indicate successful scaling operations for both training and testing datasets."
   ]
  },
  {
   "cell_type": "markdown",
   "metadata": {},
   "source": [
    "#### **x. Concatenate Numerical and Categorical Columns**"
   ]
  },
  {
   "cell_type": "markdown",
   "metadata": {},
   "source": [
    "After separating numerical and categorical columns due to their distinct processing requirements, these columns need to be concatenated again to unify the dataset. This step ensures that the data is combined appropriately for further analysis or modeling."
   ]
  },
  {
   "cell_type": "code",
   "execution_count": 51,
   "metadata": {},
   "outputs": [
    {
     "data": {
      "text/plain": [
       "array([[-1.10769503,  0.18703704,  0.        , ...,  0.        ,\n",
       "         0.        ,  1.        ],\n",
       "       [ 0.83867972,  0.26296296,  0.        , ...,  0.        ,\n",
       "         0.        ,  0.        ],\n",
       "       [ 0.97770648,  0.41296296,  0.        , ...,  0.        ,\n",
       "         0.        ,  0.        ],\n",
       "       ...,\n",
       "       [ 0.97770648,  0.1       ,  0.        , ...,  0.        ,\n",
       "         0.        ,  0.        ],\n",
       "       [-1.38574857,  0.47777778,  0.        , ...,  0.        ,\n",
       "         0.        ,  1.        ],\n",
       "       [ 0.97770648,  0.26296296,  0.        , ...,  1.        ,\n",
       "         0.        ,  0.        ]])"
      ]
     },
     "execution_count": 51,
     "metadata": {},
     "output_type": "execute_result"
    }
   ],
   "source": [
    "# Concat columns\n",
    "X_train_final = np.concatenate([X_train_num_std_scaled, X_train_num_minmax_scaled, X_train_cat_nominal_encoded], axis=1)\n",
    "X_test_final = np.concatenate([X_test_num_std_scaled, X_test_num_minmax_scaled, X_test_cat_nominal_encoded],axis=1)\n",
    "\n",
    "# Show result\n",
    "X_train_final"
   ]
  },
  {
   "cell_type": "markdown",
   "metadata": {},
   "source": [
    "Both `X_train_final` and `X_test_final` now contain the merged columns."
   ]
  },
  {
   "cell_type": "markdown",
   "metadata": {},
   "source": [
    "### **F. Model Definition**"
   ]
  },
  {
   "cell_type": "markdown",
   "metadata": {},
   "source": [
    "After completing Feature Engineering, the next process is defining the model. The chosen model is **Linear Regression**, and the evaluation metrics include **MAE (Mean Absolute Error), RMSE (Root Mean Squared Error), MSE (Mean Squared Error), and R-squared score (r2 score)**.\n",
    "\n",
    "- **Linear Regression** is used because it's a simple yet effective model for predicting numerical values based on linear relationships within the data. It's particularly suitable when the relationship between features and target variables is approximately linear. This decision is based on noticing a direct correlation in the data between the features and the target variable, which makes Linear Regression an appropriate selection.\n",
    "\n",
    "- **MAE** is used because it provides a measure of the average of errors in predictions, giving equal weight to all errors regardless of their direction. This metric is valuable for understanding the typical error in the model's predictions and is straightforward to interpret.\n",
    "\n",
    "- **MSE** is used because it punishes larger errors more than MAE, making it more sensitive to outliers. This metric is beneficial when emphasizing the impact of larger errors on the overall model performance.\n",
    "\n",
    "- **RMSE**  is used because it gives a measure of the average magnitude of error in predictions, with larger errors having a greater impact due to the square term. This metric is valuable for understanding the spread of errors in the model's predictions. Its easier to understand rather than MSE.\n",
    "\n",
    "- **R2 score** is used because it provides an indication of how well the model fits the data by comparing the variance explained by the model to the total variance in the data. A higher r2 score indicates a better fit of the model to the data, making it a crucial metric for evaluating model performance and goodness of fit."
   ]
  },
  {
   "cell_type": "code",
   "execution_count": 52,
   "metadata": {},
   "outputs": [],
   "source": [
    "# Define model\n",
    "model = LinearRegression()"
   ]
  },
  {
   "cell_type": "markdown",
   "metadata": {},
   "source": [
    "### **G. Model Training**"
   ]
  },
  {
   "cell_type": "markdown",
   "metadata": {},
   "source": [
    "Following the model definition, the model is trained using the `X_train_final` and `y_train` variables."
   ]
  },
  {
   "cell_type": "code",
   "execution_count": 53,
   "metadata": {},
   "outputs": [
    {
     "data": {
      "text/html": [
       "<style>#sk-container-id-1 {\n",
       "  /* Definition of color scheme common for light and dark mode */\n",
       "  --sklearn-color-text: black;\n",
       "  --sklearn-color-line: gray;\n",
       "  /* Definition of color scheme for unfitted estimators */\n",
       "  --sklearn-color-unfitted-level-0: #fff5e6;\n",
       "  --sklearn-color-unfitted-level-1: #f6e4d2;\n",
       "  --sklearn-color-unfitted-level-2: #ffe0b3;\n",
       "  --sklearn-color-unfitted-level-3: chocolate;\n",
       "  /* Definition of color scheme for fitted estimators */\n",
       "  --sklearn-color-fitted-level-0: #f0f8ff;\n",
       "  --sklearn-color-fitted-level-1: #d4ebff;\n",
       "  --sklearn-color-fitted-level-2: #b3dbfd;\n",
       "  --sklearn-color-fitted-level-3: cornflowerblue;\n",
       "\n",
       "  /* Specific color for light theme */\n",
       "  --sklearn-color-text-on-default-background: var(--sg-text-color, var(--theme-code-foreground, var(--jp-content-font-color1, black)));\n",
       "  --sklearn-color-background: var(--sg-background-color, var(--theme-background, var(--jp-layout-color0, white)));\n",
       "  --sklearn-color-border-box: var(--sg-text-color, var(--theme-code-foreground, var(--jp-content-font-color1, black)));\n",
       "  --sklearn-color-icon: #696969;\n",
       "\n",
       "  @media (prefers-color-scheme: dark) {\n",
       "    /* Redefinition of color scheme for dark theme */\n",
       "    --sklearn-color-text-on-default-background: var(--sg-text-color, var(--theme-code-foreground, var(--jp-content-font-color1, white)));\n",
       "    --sklearn-color-background: var(--sg-background-color, var(--theme-background, var(--jp-layout-color0, #111)));\n",
       "    --sklearn-color-border-box: var(--sg-text-color, var(--theme-code-foreground, var(--jp-content-font-color1, white)));\n",
       "    --sklearn-color-icon: #878787;\n",
       "  }\n",
       "}\n",
       "\n",
       "#sk-container-id-1 {\n",
       "  color: var(--sklearn-color-text);\n",
       "}\n",
       "\n",
       "#sk-container-id-1 pre {\n",
       "  padding: 0;\n",
       "}\n",
       "\n",
       "#sk-container-id-1 input.sk-hidden--visually {\n",
       "  border: 0;\n",
       "  clip: rect(1px 1px 1px 1px);\n",
       "  clip: rect(1px, 1px, 1px, 1px);\n",
       "  height: 1px;\n",
       "  margin: -1px;\n",
       "  overflow: hidden;\n",
       "  padding: 0;\n",
       "  position: absolute;\n",
       "  width: 1px;\n",
       "}\n",
       "\n",
       "#sk-container-id-1 div.sk-dashed-wrapped {\n",
       "  border: 1px dashed var(--sklearn-color-line);\n",
       "  margin: 0 0.4em 0.5em 0.4em;\n",
       "  box-sizing: border-box;\n",
       "  padding-bottom: 0.4em;\n",
       "  background-color: var(--sklearn-color-background);\n",
       "}\n",
       "\n",
       "#sk-container-id-1 div.sk-container {\n",
       "  /* jupyter's `normalize.less` sets `[hidden] { display: none; }`\n",
       "     but bootstrap.min.css set `[hidden] { display: none !important; }`\n",
       "     so we also need the `!important` here to be able to override the\n",
       "     default hidden behavior on the sphinx rendered scikit-learn.org.\n",
       "     See: https://github.com/scikit-learn/scikit-learn/issues/21755 */\n",
       "  display: inline-block !important;\n",
       "  position: relative;\n",
       "}\n",
       "\n",
       "#sk-container-id-1 div.sk-text-repr-fallback {\n",
       "  display: none;\n",
       "}\n",
       "\n",
       "div.sk-parallel-item,\n",
       "div.sk-serial,\n",
       "div.sk-item {\n",
       "  /* draw centered vertical line to link estimators */\n",
       "  background-image: linear-gradient(var(--sklearn-color-text-on-default-background), var(--sklearn-color-text-on-default-background));\n",
       "  background-size: 2px 100%;\n",
       "  background-repeat: no-repeat;\n",
       "  background-position: center center;\n",
       "}\n",
       "\n",
       "/* Parallel-specific style estimator block */\n",
       "\n",
       "#sk-container-id-1 div.sk-parallel-item::after {\n",
       "  content: \"\";\n",
       "  width: 100%;\n",
       "  border-bottom: 2px solid var(--sklearn-color-text-on-default-background);\n",
       "  flex-grow: 1;\n",
       "}\n",
       "\n",
       "#sk-container-id-1 div.sk-parallel {\n",
       "  display: flex;\n",
       "  align-items: stretch;\n",
       "  justify-content: center;\n",
       "  background-color: var(--sklearn-color-background);\n",
       "  position: relative;\n",
       "}\n",
       "\n",
       "#sk-container-id-1 div.sk-parallel-item {\n",
       "  display: flex;\n",
       "  flex-direction: column;\n",
       "}\n",
       "\n",
       "#sk-container-id-1 div.sk-parallel-item:first-child::after {\n",
       "  align-self: flex-end;\n",
       "  width: 50%;\n",
       "}\n",
       "\n",
       "#sk-container-id-1 div.sk-parallel-item:last-child::after {\n",
       "  align-self: flex-start;\n",
       "  width: 50%;\n",
       "}\n",
       "\n",
       "#sk-container-id-1 div.sk-parallel-item:only-child::after {\n",
       "  width: 0;\n",
       "}\n",
       "\n",
       "/* Serial-specific style estimator block */\n",
       "\n",
       "#sk-container-id-1 div.sk-serial {\n",
       "  display: flex;\n",
       "  flex-direction: column;\n",
       "  align-items: center;\n",
       "  background-color: var(--sklearn-color-background);\n",
       "  padding-right: 1em;\n",
       "  padding-left: 1em;\n",
       "}\n",
       "\n",
       "\n",
       "/* Toggleable style: style used for estimator/Pipeline/ColumnTransformer box that is\n",
       "clickable and can be expanded/collapsed.\n",
       "- Pipeline and ColumnTransformer use this feature and define the default style\n",
       "- Estimators will overwrite some part of the style using the `sk-estimator` class\n",
       "*/\n",
       "\n",
       "/* Pipeline and ColumnTransformer style (default) */\n",
       "\n",
       "#sk-container-id-1 div.sk-toggleable {\n",
       "  /* Default theme specific background. It is overwritten whether we have a\n",
       "  specific estimator or a Pipeline/ColumnTransformer */\n",
       "  background-color: var(--sklearn-color-background);\n",
       "}\n",
       "\n",
       "/* Toggleable label */\n",
       "#sk-container-id-1 label.sk-toggleable__label {\n",
       "  cursor: pointer;\n",
       "  display: block;\n",
       "  width: 100%;\n",
       "  margin-bottom: 0;\n",
       "  padding: 0.5em;\n",
       "  box-sizing: border-box;\n",
       "  text-align: center;\n",
       "}\n",
       "\n",
       "#sk-container-id-1 label.sk-toggleable__label-arrow:before {\n",
       "  /* Arrow on the left of the label */\n",
       "  content: \"▸\";\n",
       "  float: left;\n",
       "  margin-right: 0.25em;\n",
       "  color: var(--sklearn-color-icon);\n",
       "}\n",
       "\n",
       "#sk-container-id-1 label.sk-toggleable__label-arrow:hover:before {\n",
       "  color: var(--sklearn-color-text);\n",
       "}\n",
       "\n",
       "/* Toggleable content - dropdown */\n",
       "\n",
       "#sk-container-id-1 div.sk-toggleable__content {\n",
       "  max-height: 0;\n",
       "  max-width: 0;\n",
       "  overflow: hidden;\n",
       "  text-align: left;\n",
       "  /* unfitted */\n",
       "  background-color: var(--sklearn-color-unfitted-level-0);\n",
       "}\n",
       "\n",
       "#sk-container-id-1 div.sk-toggleable__content.fitted {\n",
       "  /* fitted */\n",
       "  background-color: var(--sklearn-color-fitted-level-0);\n",
       "}\n",
       "\n",
       "#sk-container-id-1 div.sk-toggleable__content pre {\n",
       "  margin: 0.2em;\n",
       "  border-radius: 0.25em;\n",
       "  color: var(--sklearn-color-text);\n",
       "  /* unfitted */\n",
       "  background-color: var(--sklearn-color-unfitted-level-0);\n",
       "}\n",
       "\n",
       "#sk-container-id-1 div.sk-toggleable__content.fitted pre {\n",
       "  /* unfitted */\n",
       "  background-color: var(--sklearn-color-fitted-level-0);\n",
       "}\n",
       "\n",
       "#sk-container-id-1 input.sk-toggleable__control:checked~div.sk-toggleable__content {\n",
       "  /* Expand drop-down */\n",
       "  max-height: 200px;\n",
       "  max-width: 100%;\n",
       "  overflow: auto;\n",
       "}\n",
       "\n",
       "#sk-container-id-1 input.sk-toggleable__control:checked~label.sk-toggleable__label-arrow:before {\n",
       "  content: \"▾\";\n",
       "}\n",
       "\n",
       "/* Pipeline/ColumnTransformer-specific style */\n",
       "\n",
       "#sk-container-id-1 div.sk-label input.sk-toggleable__control:checked~label.sk-toggleable__label {\n",
       "  color: var(--sklearn-color-text);\n",
       "  background-color: var(--sklearn-color-unfitted-level-2);\n",
       "}\n",
       "\n",
       "#sk-container-id-1 div.sk-label.fitted input.sk-toggleable__control:checked~label.sk-toggleable__label {\n",
       "  background-color: var(--sklearn-color-fitted-level-2);\n",
       "}\n",
       "\n",
       "/* Estimator-specific style */\n",
       "\n",
       "/* Colorize estimator box */\n",
       "#sk-container-id-1 div.sk-estimator input.sk-toggleable__control:checked~label.sk-toggleable__label {\n",
       "  /* unfitted */\n",
       "  background-color: var(--sklearn-color-unfitted-level-2);\n",
       "}\n",
       "\n",
       "#sk-container-id-1 div.sk-estimator.fitted input.sk-toggleable__control:checked~label.sk-toggleable__label {\n",
       "  /* fitted */\n",
       "  background-color: var(--sklearn-color-fitted-level-2);\n",
       "}\n",
       "\n",
       "#sk-container-id-1 div.sk-label label.sk-toggleable__label,\n",
       "#sk-container-id-1 div.sk-label label {\n",
       "  /* The background is the default theme color */\n",
       "  color: var(--sklearn-color-text-on-default-background);\n",
       "}\n",
       "\n",
       "/* On hover, darken the color of the background */\n",
       "#sk-container-id-1 div.sk-label:hover label.sk-toggleable__label {\n",
       "  color: var(--sklearn-color-text);\n",
       "  background-color: var(--sklearn-color-unfitted-level-2);\n",
       "}\n",
       "\n",
       "/* Label box, darken color on hover, fitted */\n",
       "#sk-container-id-1 div.sk-label.fitted:hover label.sk-toggleable__label.fitted {\n",
       "  color: var(--sklearn-color-text);\n",
       "  background-color: var(--sklearn-color-fitted-level-2);\n",
       "}\n",
       "\n",
       "/* Estimator label */\n",
       "\n",
       "#sk-container-id-1 div.sk-label label {\n",
       "  font-family: monospace;\n",
       "  font-weight: bold;\n",
       "  display: inline-block;\n",
       "  line-height: 1.2em;\n",
       "}\n",
       "\n",
       "#sk-container-id-1 div.sk-label-container {\n",
       "  text-align: center;\n",
       "}\n",
       "\n",
       "/* Estimator-specific */\n",
       "#sk-container-id-1 div.sk-estimator {\n",
       "  font-family: monospace;\n",
       "  border: 1px dotted var(--sklearn-color-border-box);\n",
       "  border-radius: 0.25em;\n",
       "  box-sizing: border-box;\n",
       "  margin-bottom: 0.5em;\n",
       "  /* unfitted */\n",
       "  background-color: var(--sklearn-color-unfitted-level-0);\n",
       "}\n",
       "\n",
       "#sk-container-id-1 div.sk-estimator.fitted {\n",
       "  /* fitted */\n",
       "  background-color: var(--sklearn-color-fitted-level-0);\n",
       "}\n",
       "\n",
       "/* on hover */\n",
       "#sk-container-id-1 div.sk-estimator:hover {\n",
       "  /* unfitted */\n",
       "  background-color: var(--sklearn-color-unfitted-level-2);\n",
       "}\n",
       "\n",
       "#sk-container-id-1 div.sk-estimator.fitted:hover {\n",
       "  /* fitted */\n",
       "  background-color: var(--sklearn-color-fitted-level-2);\n",
       "}\n",
       "\n",
       "/* Specification for estimator info (e.g. \"i\" and \"?\") */\n",
       "\n",
       "/* Common style for \"i\" and \"?\" */\n",
       "\n",
       ".sk-estimator-doc-link,\n",
       "a:link.sk-estimator-doc-link,\n",
       "a:visited.sk-estimator-doc-link {\n",
       "  float: right;\n",
       "  font-size: smaller;\n",
       "  line-height: 1em;\n",
       "  font-family: monospace;\n",
       "  background-color: var(--sklearn-color-background);\n",
       "  border-radius: 1em;\n",
       "  height: 1em;\n",
       "  width: 1em;\n",
       "  text-decoration: none !important;\n",
       "  margin-left: 1ex;\n",
       "  /* unfitted */\n",
       "  border: var(--sklearn-color-unfitted-level-1) 1pt solid;\n",
       "  color: var(--sklearn-color-unfitted-level-1);\n",
       "}\n",
       "\n",
       ".sk-estimator-doc-link.fitted,\n",
       "a:link.sk-estimator-doc-link.fitted,\n",
       "a:visited.sk-estimator-doc-link.fitted {\n",
       "  /* fitted */\n",
       "  border: var(--sklearn-color-fitted-level-1) 1pt solid;\n",
       "  color: var(--sklearn-color-fitted-level-1);\n",
       "}\n",
       "\n",
       "/* On hover */\n",
       "div.sk-estimator:hover .sk-estimator-doc-link:hover,\n",
       ".sk-estimator-doc-link:hover,\n",
       "div.sk-label-container:hover .sk-estimator-doc-link:hover,\n",
       ".sk-estimator-doc-link:hover {\n",
       "  /* unfitted */\n",
       "  background-color: var(--sklearn-color-unfitted-level-3);\n",
       "  color: var(--sklearn-color-background);\n",
       "  text-decoration: none;\n",
       "}\n",
       "\n",
       "div.sk-estimator.fitted:hover .sk-estimator-doc-link.fitted:hover,\n",
       ".sk-estimator-doc-link.fitted:hover,\n",
       "div.sk-label-container:hover .sk-estimator-doc-link.fitted:hover,\n",
       ".sk-estimator-doc-link.fitted:hover {\n",
       "  /* fitted */\n",
       "  background-color: var(--sklearn-color-fitted-level-3);\n",
       "  color: var(--sklearn-color-background);\n",
       "  text-decoration: none;\n",
       "}\n",
       "\n",
       "/* Span, style for the box shown on hovering the info icon */\n",
       ".sk-estimator-doc-link span {\n",
       "  display: none;\n",
       "  z-index: 9999;\n",
       "  position: relative;\n",
       "  font-weight: normal;\n",
       "  right: .2ex;\n",
       "  padding: .5ex;\n",
       "  margin: .5ex;\n",
       "  width: min-content;\n",
       "  min-width: 20ex;\n",
       "  max-width: 50ex;\n",
       "  color: var(--sklearn-color-text);\n",
       "  box-shadow: 2pt 2pt 4pt #999;\n",
       "  /* unfitted */\n",
       "  background: var(--sklearn-color-unfitted-level-0);\n",
       "  border: .5pt solid var(--sklearn-color-unfitted-level-3);\n",
       "}\n",
       "\n",
       ".sk-estimator-doc-link.fitted span {\n",
       "  /* fitted */\n",
       "  background: var(--sklearn-color-fitted-level-0);\n",
       "  border: var(--sklearn-color-fitted-level-3);\n",
       "}\n",
       "\n",
       ".sk-estimator-doc-link:hover span {\n",
       "  display: block;\n",
       "}\n",
       "\n",
       "/* \"?\"-specific style due to the `<a>` HTML tag */\n",
       "\n",
       "#sk-container-id-1 a.estimator_doc_link {\n",
       "  float: right;\n",
       "  font-size: 1rem;\n",
       "  line-height: 1em;\n",
       "  font-family: monospace;\n",
       "  background-color: var(--sklearn-color-background);\n",
       "  border-radius: 1rem;\n",
       "  height: 1rem;\n",
       "  width: 1rem;\n",
       "  text-decoration: none;\n",
       "  /* unfitted */\n",
       "  color: var(--sklearn-color-unfitted-level-1);\n",
       "  border: var(--sklearn-color-unfitted-level-1) 1pt solid;\n",
       "}\n",
       "\n",
       "#sk-container-id-1 a.estimator_doc_link.fitted {\n",
       "  /* fitted */\n",
       "  border: var(--sklearn-color-fitted-level-1) 1pt solid;\n",
       "  color: var(--sklearn-color-fitted-level-1);\n",
       "}\n",
       "\n",
       "/* On hover */\n",
       "#sk-container-id-1 a.estimator_doc_link:hover {\n",
       "  /* unfitted */\n",
       "  background-color: var(--sklearn-color-unfitted-level-3);\n",
       "  color: var(--sklearn-color-background);\n",
       "  text-decoration: none;\n",
       "}\n",
       "\n",
       "#sk-container-id-1 a.estimator_doc_link.fitted:hover {\n",
       "  /* fitted */\n",
       "  background-color: var(--sklearn-color-fitted-level-3);\n",
       "}\n",
       "</style><div id=\"sk-container-id-1\" class=\"sk-top-container\"><div class=\"sk-text-repr-fallback\"><pre>LinearRegression()</pre><b>In a Jupyter environment, please rerun this cell to show the HTML representation or trust the notebook. <br />On GitHub, the HTML representation is unable to render, please try loading this page with nbviewer.org.</b></div><div class=\"sk-container\" hidden><div class=\"sk-item\"><div class=\"sk-estimator fitted sk-toggleable\"><input class=\"sk-toggleable__control sk-hidden--visually\" id=\"sk-estimator-id-1\" type=\"checkbox\" checked><label for=\"sk-estimator-id-1\" class=\"sk-toggleable__label fitted sk-toggleable__label-arrow fitted\">&nbsp;&nbsp;LinearRegression<a class=\"sk-estimator-doc-link fitted\" rel=\"noreferrer\" target=\"_blank\" href=\"https://scikit-learn.org/1.4/modules/generated/sklearn.linear_model.LinearRegression.html\">?<span>Documentation for LinearRegression</span></a><span class=\"sk-estimator-doc-link fitted\">i<span>Fitted</span></span></label><div class=\"sk-toggleable__content fitted\"><pre>LinearRegression()</pre></div> </div></div></div></div>"
      ],
      "text/plain": [
       "LinearRegression()"
      ]
     },
     "execution_count": 53,
     "metadata": {},
     "output_type": "execute_result"
    }
   ],
   "source": [
    "# Train the model linear\n",
    "model.fit(X_train_final, y_train)"
   ]
  },
  {
   "cell_type": "markdown",
   "metadata": {},
   "source": [
    "### **H. Model Evaluation**"
   ]
  },
  {
   "cell_type": "markdown",
   "metadata": {},
   "source": [
    "#### **i. Linear Regression**"
   ]
  },
  {
   "cell_type": "markdown",
   "metadata": {},
   "source": [
    "Once the model has been trained, the next step involves comparing the predictions generated using the training data (`X_train_final`) with those from the testing data (`X_test_final`). This comparison helps evaluate how well the model generalizes to unseen data."
   ]
  },
  {
   "cell_type": "code",
   "execution_count": 54,
   "metadata": {},
   "outputs": [],
   "source": [
    "# Predict Train-set dan Test-set\n",
    "y_pred_train = model.predict(X_train_final)\n",
    "y_pred_test = model.predict(X_test_final)"
   ]
  },
  {
   "cell_type": "code",
   "execution_count": 55,
   "metadata": {},
   "outputs": [
    {
     "data": {
      "text/html": [
       "<div>\n",
       "<style scoped>\n",
       "    .dataframe tbody tr th:only-of-type {\n",
       "        vertical-align: middle;\n",
       "    }\n",
       "\n",
       "    .dataframe tbody tr th {\n",
       "        vertical-align: top;\n",
       "    }\n",
       "\n",
       "    .dataframe thead th {\n",
       "        text-align: right;\n",
       "    }\n",
       "</style>\n",
       "<table border=\"1\" class=\"dataframe\">\n",
       "  <thead>\n",
       "    <tr style=\"text-align: right;\">\n",
       "      <th></th>\n",
       "      <th>Actual Price</th>\n",
       "      <th>Predicted Price</th>\n",
       "    </tr>\n",
       "  </thead>\n",
       "  <tbody>\n",
       "    <tr>\n",
       "      <th>541064</th>\n",
       "      <td>10.5</td>\n",
       "      <td>6.928711</td>\n",
       "    </tr>\n",
       "    <tr>\n",
       "      <th>215250</th>\n",
       "      <td>13.5</td>\n",
       "      <td>15.257812</td>\n",
       "    </tr>\n",
       "    <tr>\n",
       "      <th>454530</th>\n",
       "      <td>7.0</td>\n",
       "      <td>5.699219</td>\n",
       "    </tr>\n",
       "    <tr>\n",
       "      <th>150598</th>\n",
       "      <td>10.0</td>\n",
       "      <td>12.708008</td>\n",
       "    </tr>\n",
       "    <tr>\n",
       "      <th>569129</th>\n",
       "      <td>20.5</td>\n",
       "      <td>22.134766</td>\n",
       "    </tr>\n",
       "    <tr>\n",
       "      <th>...</th>\n",
       "      <td>...</td>\n",
       "      <td>...</td>\n",
       "    </tr>\n",
       "    <tr>\n",
       "      <th>678265</th>\n",
       "      <td>11.0</td>\n",
       "      <td>11.453125</td>\n",
       "    </tr>\n",
       "    <tr>\n",
       "      <th>438674</th>\n",
       "      <td>8.0</td>\n",
       "      <td>5.927734</td>\n",
       "    </tr>\n",
       "    <tr>\n",
       "      <th>253846</th>\n",
       "      <td>13.5</td>\n",
       "      <td>13.305664</td>\n",
       "    </tr>\n",
       "    <tr>\n",
       "      <th>675309</th>\n",
       "      <td>34.0</td>\n",
       "      <td>33.457031</td>\n",
       "    </tr>\n",
       "    <tr>\n",
       "      <th>676702</th>\n",
       "      <td>3.5</td>\n",
       "      <td>4.126953</td>\n",
       "    </tr>\n",
       "  </tbody>\n",
       "</table>\n",
       "<p>191231 rows × 2 columns</p>\n",
       "</div>"
      ],
      "text/plain": [
       "        Actual Price  Predicted Price\n",
       "541064          10.5         6.928711\n",
       "215250          13.5        15.257812\n",
       "454530           7.0         5.699219\n",
       "150598          10.0        12.708008\n",
       "569129          20.5        22.134766\n",
       "...              ...              ...\n",
       "678265          11.0        11.453125\n",
       "438674           8.0         5.927734\n",
       "253846          13.5        13.305664\n",
       "675309          34.0        33.457031\n",
       "676702           3.5         4.126953\n",
       "\n",
       "[191231 rows x 2 columns]"
      ]
     },
     "execution_count": 55,
     "metadata": {},
     "output_type": "execute_result"
    }
   ],
   "source": [
    "# Show comparison\n",
    "comparison = {'Actual Price': y_test,\n",
    "              'Predicted Price': y_pred_test}\n",
    "\n",
    "pd.DataFrame(comparison)"
   ]
  },
  {
   "cell_type": "markdown",
   "metadata": {},
   "source": [
    "These comparisons often reveal variances, with some predictions being close to the actual values while others differs significantly.\n",
    "\n",
    "To provide a clearer evaluation, loss or cost functions measure this difference, offering a numerical measure of model accuracy. Evaluating metrics for both training and testing datasets provides insights into the model's generalization and prediction capabilities."
   ]
  },
  {
   "cell_type": "code",
   "execution_count": 56,
   "metadata": {},
   "outputs": [
    {
     "data": {
      "text/html": [
       "<div>\n",
       "<style scoped>\n",
       "    .dataframe tbody tr th:only-of-type {\n",
       "        vertical-align: middle;\n",
       "    }\n",
       "\n",
       "    .dataframe tbody tr th {\n",
       "        vertical-align: top;\n",
       "    }\n",
       "\n",
       "    .dataframe thead th {\n",
       "        text-align: right;\n",
       "    }\n",
       "</style>\n",
       "<table border=\"1\" class=\"dataframe\">\n",
       "  <thead>\n",
       "    <tr style=\"text-align: right;\">\n",
       "      <th></th>\n",
       "      <th>MAE</th>\n",
       "      <th>MSE</th>\n",
       "      <th>RMSE</th>\n",
       "      <th>R2 Score</th>\n",
       "    </tr>\n",
       "  </thead>\n",
       "  <tbody>\n",
       "    <tr>\n",
       "      <th>Train Set</th>\n",
       "      <td>1.75</td>\n",
       "      <td>6.05</td>\n",
       "      <td>2.46</td>\n",
       "      <td>0.93</td>\n",
       "    </tr>\n",
       "    <tr>\n",
       "      <th>Test Set</th>\n",
       "      <td>1.78</td>\n",
       "      <td>6.34</td>\n",
       "      <td>2.52</td>\n",
       "      <td>0.93</td>\n",
       "    </tr>\n",
       "  </tbody>\n",
       "</table>\n",
       "</div>"
      ],
      "text/plain": [
       "            MAE   MSE  RMSE  R2 Score\n",
       "Train Set  1.75  6.05  2.46      0.93\n",
       "Test Set   1.78  6.34  2.52      0.93"
      ]
     },
     "execution_count": 56,
     "metadata": {},
     "output_type": "execute_result"
    }
   ],
   "source": [
    "# Ignore the specific FutureWarning raised by the 'squared' parameter in mean_squared_error\n",
    "warnings.simplefilter(action='ignore', category=FutureWarning)\n",
    "\n",
    "# Calculate metrics\n",
    "metrics = {\n",
    "    \"MAE\": {\n",
    "        \"Train Set\": round(mean_absolute_error(y_train, y_pred_train),2),\n",
    "        \"Test Set\": round(mean_absolute_error(y_test, y_pred_test),2)\n",
    "    },\n",
    "    \"MSE\": {\n",
    "        \"Train Set\": round(mean_squared_error(y_train, y_pred_train),2),\n",
    "        \"Test Set\": round(mean_squared_error(y_test, y_pred_test),2)\n",
    "    },\n",
    "    \"RMSE\": {\n",
    "        \"Train Set\": round(mean_squared_error(y_train, y_pred_train, squared=False),2),\n",
    "        \"Test Set\": round(mean_squared_error(y_test, y_pred_test, squared=False),2)\n",
    "    },\n",
    "    \"R2 Score\": {\n",
    "        \"Train Set\": round(r2_score(y_train, y_pred_train),2),\n",
    "        \"Test Set\": round(r2_score(y_test, y_pred_test),2)\n",
    "    }\n",
    "}\n",
    "\n",
    "# Convert dictionary to DataFrame\n",
    "metrics_df = pd.DataFrame(metrics)\n",
    "\n",
    "# Print the table\n",
    "metrics_df"
   ]
  },
  {
   "cell_type": "markdown",
   "metadata": {},
   "source": [
    "**MAE (Mean Absolute Error)**:\n",
    "- Train Set: On average, the model's predictions are off by approximately $1.75 from the actual prices in the training data.    \n",
    "- Test Set: Similarly, in the testing data, the model's predictions have an average error of around $1.78.\n",
    "\n",
    "**MSE (Mean Squared Error) and RMSE (Root Mean Squared Error)**:\n",
    "- Train Set: The MSE is approximately 6.05, resulting in an RMSE of about $2.46. This suggests that some of the model's predictions are off by a relatively large margin when squared.\n",
    "- Test Set: The MSE for the testing set is 6.34, resulting in an RMSE of about $2.52, indicating similarly significant errors squared in the test data as well.\n",
    "\n",
    "**R2 Score (Coefficient of Determination)**:\n",
    "- Train Set:  An R2 Score of 0.93 means the model can explain 93% of the variance in the training data's prices. This high score indicates a strong fit between the model's predictions and the actual prices.\n",
    "- Test Set: The same R2 Score of 0.93 for the test set indicates that the model effectively captures and explains 93% of the variance in the test data's prices, mirroring its performance in the training set. This consistency underscores the model’s ability to generalize well from training to real-world scenarios.\n",
    "\n",
    "Overall, the model demonstrates a **good fit**, as evidenced by its consistent R2 score of 0.93 across both training and testing sets, indicating robustness and reliable performance in fare price prediction. The MAE and RMSE values confirm its accuracy and stability, making it a dependable tool for estimating cab fares."
   ]
  },
  {
   "cell_type": "code",
   "execution_count": 57,
   "metadata": {},
   "outputs": [
    {
     "data": {
      "image/png": "[encoded data removed]",
      "text/plain": [
       "<Figure size 1000x600 with 1 Axes>"
      ]
     },
     "metadata": {},
     "output_type": "display_data"
    }
   ],
   "source": [
    "# Calculate R2 score for annotation\n",
    "r2 = round(r2_score(y_test, y_pred_test), 2)\n",
    "\n",
    "# Create the plot\n",
    "plt.figure(figsize=(10, 6))\n",
    "sns.scatterplot(x=y_test, y=y_pred_test, alpha=0.6, edgecolor=None)\n",
    "plt.plot([min(y_test), max(y_test)], [min(y_test), max(y_test)], 'r--')\n",
    "\n",
    "# Add titles and labels\n",
    "plt.title(f'Predicted vs. Actual Prices (R2 Score: {r2})')\n",
    "plt.xlabel('Actual Prices')\n",
    "plt.ylabel('Predicted Prices')\n",
    "\n",
    "# Add R2 score text within the plot for clarity\n",
    "plt.text(x=min(y_test), y=max(y_pred_test), s=f'R2 Score: {r2}', fontsize=12, color='red')\n",
    "\n",
    "# Show the plot\n",
    "plt.show()\n"
   ]
  },
  {
   "cell_type": "markdown",
   "metadata": {},
   "source": [
    "Looking at the scatter plot:\n",
    "\n",
    "- Most predictions cluster close to the actual prices, indicating a generally accurate model.\n",
    "- There's a noticeable deviation at higher price ranges, where the model tends to predict lower than the actual cost.\n",
    "- The R2 score, at 0.93, is quite high, suggesting the model does a good job explaining the variations in price.\n",
    "- The spread of points becomes wider as the price increases, hinting that the model may have limitations or missing factors that affect pricing at these higher levels."
   ]
  },
  {
   "cell_type": "markdown",
   "metadata": {},
   "source": [
    "#### **ii. Comparison with other Regression**"
   ]
  },
  {
   "cell_type": "markdown",
   "metadata": {},
   "source": [
    "To understand how different models perform and how their parameters impact predictions, let's compare linear regression, ridge regression, and lasso regression. Evaluating their respective scores and metrics like MAE, RMSE, MSE, and R2 provides insights into the differences in predictive accuracy and model performance."
   ]
  },
  {
   "cell_type": "code",
   "execution_count": 58,
   "metadata": {},
   "outputs": [
    {
     "data": {
      "text/html": [
       "<div>\n",
       "<style scoped>\n",
       "    .dataframe tbody tr th:only-of-type {\n",
       "        vertical-align: middle;\n",
       "    }\n",
       "\n",
       "    .dataframe tbody tr th {\n",
       "        vertical-align: top;\n",
       "    }\n",
       "\n",
       "    .dataframe thead th {\n",
       "        text-align: right;\n",
       "    }\n",
       "</style>\n",
       "<table border=\"1\" class=\"dataframe\">\n",
       "  <thead>\n",
       "    <tr style=\"text-align: right;\">\n",
       "      <th></th>\n",
       "      <th>model</th>\n",
       "      <th>best_score</th>\n",
       "      <th>best_params</th>\n",
       "      <th>MAE_train</th>\n",
       "      <th>MAE_test</th>\n",
       "      <th>RMSE_train</th>\n",
       "      <th>RMSE_test</th>\n",
       "      <th>MSE_train</th>\n",
       "      <th>MSE_test</th>\n",
       "      <th>R2_train</th>\n",
       "      <th>R2_test</th>\n",
       "    </tr>\n",
       "  </thead>\n",
       "  <tbody>\n",
       "    <tr>\n",
       "      <th>0</th>\n",
       "      <td>Linear Regression</td>\n",
       "      <td>0.929269</td>\n",
       "      <td>{}</td>\n",
       "      <td>1.747894</td>\n",
       "      <td>1.783612</td>\n",
       "      <td>2.460159</td>\n",
       "      <td>2.518557</td>\n",
       "      <td>6.052383</td>\n",
       "      <td>6.343130</td>\n",
       "      <td>0.929335</td>\n",
       "      <td>0.927013</td>\n",
       "    </tr>\n",
       "    <tr>\n",
       "      <th>1</th>\n",
       "      <td>Ridge Regression</td>\n",
       "      <td>0.929274</td>\n",
       "      <td>{'alpha': 0.1, 'solver': 'saga'}</td>\n",
       "      <td>1.747845</td>\n",
       "      <td>1.783534</td>\n",
       "      <td>2.460154</td>\n",
       "      <td>2.518499</td>\n",
       "      <td>6.052355</td>\n",
       "      <td>6.342838</td>\n",
       "      <td>0.929335</td>\n",
       "      <td>0.927017</td>\n",
       "    </tr>\n",
       "    <tr>\n",
       "      <th>2</th>\n",
       "      <td>Lasso Regression</td>\n",
       "      <td>0.170794</td>\n",
       "      <td>{'alpha': 1, 'selection': 'cyclic'}</td>\n",
       "      <td>6.906535</td>\n",
       "      <td>6.934766</td>\n",
       "      <td>8.428190</td>\n",
       "      <td>8.507602</td>\n",
       "      <td>71.034392</td>\n",
       "      <td>72.379290</td>\n",
       "      <td>0.170628</td>\n",
       "      <td>0.167172</td>\n",
       "    </tr>\n",
       "  </tbody>\n",
       "</table>\n",
       "</div>"
      ],
      "text/plain": [
       "               model  best_score                          best_params  \\\n",
       "0  Linear Regression    0.929269                                   {}   \n",
       "1   Ridge Regression    0.929274     {'alpha': 0.1, 'solver': 'saga'}   \n",
       "2   Lasso Regression    0.170794  {'alpha': 1, 'selection': 'cyclic'}   \n",
       "\n",
       "   MAE_train  MAE_test  RMSE_train  RMSE_test  MSE_train   MSE_test  R2_train  \\\n",
       "0   1.747894  1.783612    2.460159   2.518557   6.052383   6.343130  0.929335   \n",
       "1   1.747845  1.783534    2.460154   2.518499   6.052355   6.342838  0.929335   \n",
       "2   6.906535  6.934766    8.428190   8.507602  71.034392  72.379290  0.170628   \n",
       "\n",
       "    R2_test  \n",
       "0  0.927013  \n",
       "1  0.927017  \n",
       "2  0.167172  "
      ]
     },
     "execution_count": 58,
     "metadata": {},
     "output_type": "execute_result"
    }
   ],
   "source": [
    "# Create function to evaluate model\n",
    "def evaluate_model(model, X_train, y_train, X_test, y_test):\n",
    "    y_train_pred = model.predict(X_train)\n",
    "    y_test_pred = model.predict(X_test)\n",
    "    mae_train = mean_absolute_error(y_train, y_train_pred)\n",
    "    mae_test = mean_absolute_error(y_test, y_test_pred)\n",
    "    rmse_train = np.sqrt(mean_squared_error(y_train, y_train_pred))\n",
    "    rmse_test = np.sqrt(mean_squared_error(y_test, y_test_pred))\n",
    "    mse_train = mean_squared_error(y_train, y_train_pred)\n",
    "    mse_test = mean_squared_error(y_test, y_test_pred)\n",
    "    r2_train = r2_score(y_train, y_train_pred)\n",
    "    r2_test = r2_score(y_test, y_test_pred)\n",
    "    return mae_train, mae_test, rmse_train, rmse_test, mse_train, mse_test, r2_train, r2_test\n",
    "\n",
    "# Create function to find the best model and parameters\n",
    "def grid_search(X_train, y_train, X_test, y_test):\n",
    "    model = {\n",
    "        'Linear Regression': {\n",
    "            'model': LinearRegression(),\n",
    "            'params': {}\n",
    "        },\n",
    "        'Ridge Regression': {\n",
    "            'model': Ridge(),\n",
    "            'params': {\n",
    "                'alpha': [0.1, 1.0, 10.0],\n",
    "                'solver': ['auto', 'svd', 'cholesky', 'lsqr', 'sparse_cg', 'sag', 'saga']\n",
    "            }\n",
    "        },\n",
    "        'Lasso Regression': {\n",
    "            'model': Lasso(),\n",
    "            'params': {\n",
    "                'alpha': [1, 2],\n",
    "                'selection': ['random', 'cyclic']\n",
    "            }\n",
    "        }\n",
    "    }\n",
    "\n",
    "    results = []\n",
    "    cv = ShuffleSplit(n_splits=5, test_size=0.3, random_state=1)\n",
    "    for algorithm, config in model.items():\n",
    "        gs = GridSearchCV(config['model'], config['params'], cv=cv, return_train_score=False)\n",
    "        gs.fit(X_train, y_train)\n",
    "\n",
    "        mae_train, mae_test, rmse_train, rmse_test, mse_train, mse_test, r2_train, r2_test = evaluate_model(gs.best_estimator_, X_train, y_train, X_test, y_test)\n",
    "        \n",
    "        results.append({\n",
    "            'model': algorithm,\n",
    "            'best_score': gs.best_score_,\n",
    "            'best_params': gs.best_params_,\n",
    "            'MAE_train': mae_train,\n",
    "            'MAE_test': mae_test,\n",
    "            'RMSE_train': rmse_train,\n",
    "            'RMSE_test': rmse_test,\n",
    "            'MSE_train': mse_train,\n",
    "            'MSE_test': mse_test,\n",
    "            'R2_train': r2_train,\n",
    "            'R2_test': r2_test\n",
    "        })\n",
    "\n",
    "    return pd.DataFrame(results, columns=['model', 'best_score', 'best_params', 'MAE_train', 'MAE_test', 'RMSE_train', 'RMSE_test', 'MSE_train', 'MSE_test', 'R2_train', 'R2_test'])\n",
    "\n",
    "# Find the best model and parameters\n",
    "grid_search(X_train_final, y_train, X_test_final, y_test)"
   ]
  },
  {
   "cell_type": "markdown",
   "metadata": {},
   "source": [
    "Linear and ridge regression models perform similarly well with low errors and high R2 scores, indicating good predictive accuracy and generalization. However, lasso regression, despite its lower best score, shows higher errors and lower R2 scores, suggesting it might not capture the data complexity as effectively.\n",
    "\n",
    "The model used will be **Linear Regression** because it demonstrates better performance to ridge regression in terms of low errors and high R2 scores, indicating strong predictive accuracy and generalization. "
   ]
  },
  {
   "cell_type": "markdown",
   "metadata": {},
   "source": [
    "### **I. Model Saving**"
   ]
  },
  {
   "cell_type": "markdown",
   "metadata": {},
   "source": [
    "The next step is to save the model using the `pickle` library. This library can save the trained model, scalers, encoders, and other necessary components, allowing them to be loaded later during model inference."
   ]
  },
  {
   "cell_type": "code",
   "execution_count": 59,
   "metadata": {},
   "outputs": [],
   "source": [
    "# Save trained model\n",
    "with open('model.pkl', 'wb') as model_file:\n",
    "    pickle.dump(model, model_file)\n",
    "\n",
    "# Save StandardScaler\n",
    "with open('standard_scaler.pkl', 'wb') as scaler_file:\n",
    "    pickle.dump(standard_scaler, scaler_file)\n",
    "\n",
    "# Save MinMaxScaler\n",
    "with open('minmax_scaler.pkl', 'wb') as minmax_file:\n",
    "    pickle.dump(minmax_scaler, minmax_file)\n",
    "\n",
    "# Save nominal encoder\n",
    "with open('ohe.pkl', 'wb') as ohe_file:\n",
    "    pickle.dump(ohe, ohe_file)\n",
    "\n",
    "# Save numerical standardization info\n",
    "with open('num_std.json', 'w') as num_std_file:\n",
    "    json.dump(num_std, num_std_file)\n",
    "    \n",
    "# Save numerical min-max scaling info\n",
    "with open('num_minmax.json', 'w') as num_minmax_file:\n",
    "    json.dump(num_minmax, num_minmax_file)\n",
    "\n",
    "# Save categorical nominal encoding info\n",
    "with open('cat_nominal.json', 'w') as cat_nominal_file:\n",
    "    json.dump(cat_nominal, cat_nominal_file)"
   ]
  },
  {
   "cell_type": "markdown",
   "metadata": {},
   "source": [
    "### **J. Model Inference**"
   ]
  },
  {
   "cell_type": "markdown",
   "metadata": {},
   "source": [
    "This section will be performed in a separate file named **'P1G4_livia_amanda_inference.ipynb'**."
   ]
  },
  {
   "cell_type": "markdown",
   "metadata": {},
   "source": [
    "### **K. Conceptual Problems**"
   ]
  },
  {
   "cell_type": "markdown",
   "metadata": {},
   "source": [
    "#### **i. Linear Regression**"
   ]
  },
  {
   "cell_type": "markdown",
   "metadata": {},
   "source": [
    "Linear Regression assumptions:\n",
    "\n",
    "1. **Linear Relationship**: This assumption states that there must be a linear relationship between the features (independent variables) and the target (dependent variable). This means that changes in the predictors will lead to proportional changes in the target variable.\n",
    "\n",
    "2. **No Multicollinearity**: This assumption requires that there should be little or no exact linear relationship among the independent variables. High multicollinearity can make it difficult to ascertain the effect of each independent variable on the dependent variable because they tend to change together.\n",
    "\n",
    "3. **Normal Distribution of Errors**: This assumption involves the residuals (not just the univariate distribution of each independent variable, but the entire set) being normally distributed.\n",
    "\n",
    "4. **Independence of Errors**: This assumption states that the residuals from the model are not correlated with each other. In other words, the current value of the residual should not be influenced by the previous value(s) of the residual. Autocorrelation often occurs in time series data where the next value may be influenced by the previous values, violating this assumption and potentially leading to inefficient estimates.\n",
    "\n",
    "5. **Homoscedasticity**: This assumption implies that the variance of the residuals should be constant across all levels of the independent variables. If the variance of the residuals varies, it’s known as heteroscedasticity, which can lead to biases in the estimate of the coefficients."
   ]
  },
  {
   "cell_type": "markdown",
   "metadata": {},
   "source": [
    "#### **ii. Coefficient and Intercept**"
   ]
  },
  {
   "cell_type": "code",
   "execution_count": 60,
   "metadata": {},
   "outputs": [],
   "source": [
    "# Convert X_train_final to dataframe\n",
    "X_train_final_pd = pd.DataFrame(X_train_final)"
   ]
  },
  {
   "cell_type": "code",
   "execution_count": 61,
   "metadata": {},
   "outputs": [],
   "source": [
    "# Extract feature names\n",
    "column = ohe.get_feature_names_out().tolist()\n",
    "features = num_std + num_minmax + column"
   ]
  },
  {
   "cell_type": "code",
   "execution_count": 62,
   "metadata": {},
   "outputs": [
    {
     "name": "stdout",
     "output_type": "stream",
     "text": [
      "Intercept :  -7340651650176.155\n"
     ]
    },
    {
     "data": {
      "text/html": [
       "<div>\n",
       "<style scoped>\n",
       "    .dataframe tbody tr th:only-of-type {\n",
       "        vertical-align: middle;\n",
       "    }\n",
       "\n",
       "    .dataframe tbody tr th {\n",
       "        vertical-align: top;\n",
       "    }\n",
       "\n",
       "    .dataframe thead th {\n",
       "        text-align: right;\n",
       "    }\n",
       "</style>\n",
       "<table border=\"1\" class=\"dataframe\">\n",
       "  <thead>\n",
       "    <tr style=\"text-align: right;\">\n",
       "      <th></th>\n",
       "      <th>Feature</th>\n",
       "      <th>Coefficient</th>\n",
       "    </tr>\n",
       "  </thead>\n",
       "  <tbody>\n",
       "    <tr>\n",
       "      <th>0</th>\n",
       "      <td>hour</td>\n",
       "      <td>4.075347e-03</td>\n",
       "    </tr>\n",
       "    <tr>\n",
       "      <th>1</th>\n",
       "      <td>distance</td>\n",
       "      <td>1.546645e+01</td>\n",
       "    </tr>\n",
       "    <tr>\n",
       "      <th>2</th>\n",
       "      <td>surge_multiplier</td>\n",
       "      <td>3.662611e+01</td>\n",
       "    </tr>\n",
       "    <tr>\n",
       "      <th>3</th>\n",
       "      <td>cab_type_Lyft</td>\n",
       "      <td>7.120219e+12</td>\n",
       "    </tr>\n",
       "    <tr>\n",
       "      <th>4</th>\n",
       "      <td>cab_type_Uber</td>\n",
       "      <td>7.383305e+12</td>\n",
       "    </tr>\n",
       "    <tr>\n",
       "      <th>5</th>\n",
       "      <td>name_Black</td>\n",
       "      <td>-4.265342e+10</td>\n",
       "    </tr>\n",
       "    <tr>\n",
       "      <th>6</th>\n",
       "      <td>name_Black SUV</td>\n",
       "      <td>-4.265342e+10</td>\n",
       "    </tr>\n",
       "    <tr>\n",
       "      <th>7</th>\n",
       "      <td>name_Lux</td>\n",
       "      <td>2.204324e+11</td>\n",
       "    </tr>\n",
       "    <tr>\n",
       "      <th>8</th>\n",
       "      <td>name_Lux Black</td>\n",
       "      <td>2.204324e+11</td>\n",
       "    </tr>\n",
       "    <tr>\n",
       "      <th>9</th>\n",
       "      <td>name_Lux Black XL</td>\n",
       "      <td>2.204324e+11</td>\n",
       "    </tr>\n",
       "    <tr>\n",
       "      <th>10</th>\n",
       "      <td>name_Lyft</td>\n",
       "      <td>2.204324e+11</td>\n",
       "    </tr>\n",
       "    <tr>\n",
       "      <th>11</th>\n",
       "      <td>name_Lyft XL</td>\n",
       "      <td>2.204324e+11</td>\n",
       "    </tr>\n",
       "    <tr>\n",
       "      <th>12</th>\n",
       "      <td>name_Shared</td>\n",
       "      <td>2.204324e+11</td>\n",
       "    </tr>\n",
       "    <tr>\n",
       "      <th>13</th>\n",
       "      <td>name_UberPool</td>\n",
       "      <td>-4.265342e+10</td>\n",
       "    </tr>\n",
       "    <tr>\n",
       "      <th>14</th>\n",
       "      <td>name_UberX</td>\n",
       "      <td>-4.265342e+10</td>\n",
       "    </tr>\n",
       "    <tr>\n",
       "      <th>15</th>\n",
       "      <td>name_UberXL</td>\n",
       "      <td>-4.265342e+10</td>\n",
       "    </tr>\n",
       "    <tr>\n",
       "      <th>16</th>\n",
       "      <td>name_WAV</td>\n",
       "      <td>-4.265342e+10</td>\n",
       "    </tr>\n",
       "  </tbody>\n",
       "</table>\n",
       "</div>"
      ],
      "text/plain": [
       "              Feature   Coefficient\n",
       "0                hour  4.075347e-03\n",
       "1            distance  1.546645e+01\n",
       "2    surge_multiplier  3.662611e+01\n",
       "3       cab_type_Lyft  7.120219e+12\n",
       "4       cab_type_Uber  7.383305e+12\n",
       "5          name_Black -4.265342e+10\n",
       "6      name_Black SUV -4.265342e+10\n",
       "7            name_Lux  2.204324e+11\n",
       "8      name_Lux Black  2.204324e+11\n",
       "9   name_Lux Black XL  2.204324e+11\n",
       "10          name_Lyft  2.204324e+11\n",
       "11       name_Lyft XL  2.204324e+11\n",
       "12        name_Shared  2.204324e+11\n",
       "13      name_UberPool -4.265342e+10\n",
       "14         name_UberX -4.265342e+10\n",
       "15        name_UberXL -4.265342e+10\n",
       "16           name_WAV -4.265342e+10"
      ]
     },
     "execution_count": 62,
     "metadata": {},
     "output_type": "execute_result"
    }
   ],
   "source": [
    "# Check coefficients and intercept\n",
    "coefficients = model.coef_\n",
    "intercept = model.intercept_\n",
    "\n",
    "params = {\n",
    "    'Feature': features,\n",
    "    'Coefficient': model.coef_.tolist()\n",
    "}\n",
    "\n",
    "print('Intercept : ', intercept)\n",
    "pd.DataFrame(params)"
   ]
  },
  {
   "cell_type": "markdown",
   "metadata": {},
   "source": [
    "**1. Intercept**\n",
    "- Value: -7,340,651,650,176.155\n",
    "- Interpretation: This value represents the baseline price when all other features are zero. However, the extremely large negative value suggests that there might be issues with the data scaling, feature encoding, or the model itself.\n",
    "\n",
    "**2. Numerical Features**\n",
    "- **Hour** (0.004): Minimal increase in price with each hour, indicating a minor impact on pricing.\n",
    "- **Distance** (15.4664): Each additional unit of distance increases the price by approximately $15.46, highlighting its significant influence on ride costs.\n",
    "- **Surge Multiplier** (36.6261): Each point increase during peak times adds about $36.62 to the fare, showing a strong effect on pricing during high demand.\n",
    "\n",
    "**3. Categorical Features**\n",
    "- **Cab Type** (Lyft vs. Uber): According to the model's coefficients, Uber rides are priced higher than Lyft rides. Specifically, the model's output shows a coefficient of 7.120219e+12 for Lyft, whereas Uber has a much larger coefficient of 7.383305e+12. This large difference suggests that choosing Uber over Lyft could significantly increase the cost of a ride, indicating a distinct pricing strategy between these two ride-sharing companies.\n",
    "\n",
    "- **Ride Categories**:\n",
    "    - More Expensive: Lux rides such as 'Lux', 'Lux Black', and similar types are priced higher, reflecting their premium nature.\n",
    "    - Less Expensive: Rides like 'Black', 'UberPool', and others are comparatively cheaper, aligning with their basic or shared service features."
   ]
  },
  {
   "cell_type": "markdown",
   "metadata": {},
   "source": [
    "### **L. Analysis**"
   ]
  },
  {
   "cell_type": "markdown",
   "metadata": {},
   "source": [
    "#### **i. EDA**"
   ]
  },
  {
   "cell_type": "markdown",
   "metadata": {},
   "source": [
    "- **User Preferences:** The analysis reveals a clear preference among users for Uber over Lyft, indicating a higher adoption rate or perceived preference for Uber's services.\n",
    "\n",
    "- **Usage Patterns:** Most people choose to use cabs between 11 PM and 12 AM, showing that this time is when more people want cabs.\n",
    "\n",
    "- **Pricing Correlation:** The EDA uncovers a significant correlation between price and factors like distance and surge multiplier, underlining the impact of these variables on fare calculation.\n",
    "\n",
    "- **Location-Based Price Variations:** There are noticeable differences in prices depending on the location of the trip. Fares for rides associated with Boston University are higher, while those connected to Haymarket Square are lower.\n",
    "\n",
    "- **Cab Category:** The distribution of cab categories reveals a consistent pattern, with each category accounting for a similar percentage of rides ranging from 7.4% to 7.9%. This consistency indicates a balanced distribution of cab types across the dataset."
   ]
  },
  {
   "cell_type": "markdown",
   "metadata": {},
   "source": [
    "#### **ii. Business Insight**"
   ]
  },
  {
   "cell_type": "markdown",
   "metadata": {},
   "source": [
    "- **Pricing Verification**: The model’s accuracy in estimating fares suggests it could be a reliable tool for reviewing and potentially refining the pricing structure of the services offered. Providing an accurate pricing estimate to the customer will greatly reduce their concerns.\n",
    "\n",
    "- **Demand Prediction**: The ability of the model to predict fares consistently can aid in forecasting demand for rides, ensuring adequate availability of vehicles to meet customer needs.\n",
    "\n",
    "- **Targeted Marketing**: The company can use insights gained from the model to tailor marketing efforts. For instance, during peak hours identified by the model, promotions or discounts could be offered to increase ride bookings. In cities like Boston, where the demand is higher, company can use targeted ads to emphasize their reliable service all day.\n",
    "\n",
    "- **Operational Improvements**: Less accurate predictions for certain fare ranges may indicate opportunities to improve service offerings or to explore untapped market segments.\n",
    "\n",
    "- **Cost Management and Route Efficiency**: By finding the factors influencing ride costs, notably trip distance, the company can enhance cost management. This could include optimizing routes for fuel efficiency and time savings, resulting both financial benefits and customer satisfaction."
   ]
  },
  {
   "cell_type": "markdown",
   "metadata": {},
   "source": [
    "#### **iii. Model Evaluation**"
   ]
  },
  {
   "cell_type": "markdown",
   "metadata": {},
   "source": [
    "- **Metris Evaluation:**\n",
    "  - **Mean Absolute Error (MAE)**: The model's MAE is approximately $1.75 on the training set and $1.78 on the testing set, indicating a small average error in fare price predictions.\n",
    "  - **Mean Squared Error (MSE)**: The model's MSE is about 6.05 on the training set and 6.34 on the testing set, reflecting the squared average magnitude of errors in fare price predictions.\n",
    "  - **Root Mean Squared Error (RMSE)**: The model's RMSE is about $2.46 on the training set and $2.52 on the testing set, showing reasonable accuracy in predicting fare prices.\n",
    "  - **R2 Score (Coefficient of Determination)**: The R2 score of 0.93 for both training and testing sets indicates that the model can explain 93% of the variance in cab fare prices, showcasing its robust predictive capability.\n",
    "  \n",
    "- **Model Fit**: The model demonstrates a good fit between the training and testing sets, indicating that it is neither overfitting nor underfitting the data. Compared to Ridge and Lasso Regression, Linear Regression performs best.\n",
    "\n",
    "- **Prediction Capability**: Despite the presence of errors that need further adjustment, the model can still be effectively used to predict cab fare prices.\n",
    "\n",
    "- **Model Advantages**:\n",
    "  - Accurately predicts cab fare prices with relatively small errors.\n",
    "  - Shows consistent performance across training and testing datasets.\n",
    "  - Captures 93% of the variance in fare prices, indicating a strong predictive capability.\n",
    "  - Demonstrates a good balance between complexity and generalization, avoiding overfitting or underfitting.\n",
    "  \n",
    "- **Model Limitations**:\n",
    "  - Requires further adjustment to reduce errors and improve accuracy.\n",
    "  - Potential limitations in capturing complex patterns in fare pricing.\n",
    "  - Sensitive to outliers and noise."
   ]
  },
  {
   "cell_type": "markdown",
   "metadata": {},
   "source": [
    "#### **iv. Model Improvement**"
   ]
  },
  {
   "cell_type": "markdown",
   "metadata": {},
   "source": [
    "- **Cross-validation**:  \n",
    "Implement cross-validation techniques to evaluate model performance more reliably. This helps ensure that the model performs well across different subsets of your data and is not just tuned to perform well on a specific train-test split.\n",
    "\n",
    "- **Feature Engineering**:\n",
    "  - Clustering: Grouping similar unique values into clusters using KMeans.\n",
    "  - New Features: Consider incorporating additional relevant data that could affect fare prices, such as weather conditions or special events (holidays, major public events).\n",
    "  - Transform Existing Features: Transformations like converting continuous data into categorical bins or creating interaction terms between features might expose new relationships and improve model performance."
   ]
  },
  {
   "cell_type": "markdown",
   "metadata": {},
   "source": [
    "### **M. Conclusion**"
   ]
  },
  {
   "cell_type": "markdown",
   "metadata": {},
   "source": [
    "The conclusion is that the `Linear Regression` model demonstrates acceptable accuracy in predicting prices. It achieved a balanced fit, avoiding both overfitting and underfitting, which signifies a respectable level of accuracy. This model proves valuable in predicting prices for customers, leading to improved customer satisfaction. Nonetheless, there is room for improvement to further enhance accuracy and minimize errors."
   ]
  }
 ],
 "metadata": {
  "kernelspec": {
   "display_name": "Python 3",
   "language": "python",
   "name": "python3"
  },
  "language_info": {
   "codemirror_mode": {
    "name": "ipython",
    "version": 3
   },
   "file_extension": ".py",
   "mimetype": "text/x-python",
   "name": "python",
   "nbconvert_exporter": "python",
   "pygments_lexer": "ipython3",
   "version": "3.9.18"
  }
 },
 "nbformat": 4,
 "nbformat_minor": 2
}
