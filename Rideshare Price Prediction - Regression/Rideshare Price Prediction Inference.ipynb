{
 "cells": [
  {
   "cell_type": "markdown",
   "metadata": {},
   "source": [
    "## **Rideshare Price Prediction**"
   ]
  },
  {
   "cell_type": "markdown",
   "metadata": {},
   "source": [
    "### **A. Introduction**"
   ]
  },
  {
   "cell_type": "markdown",
   "metadata": {},
   "source": [
    "- **Name**  : Livia Amanda Annafiah\n",
    "- **Dataset** : [Uber and Lyft Dataset Boston, MA](https://www.kaggle.com/datasets/brllrb/uber-and-lyft-dataset-boston-ma?resource=download)"
   ]
  },
  {
   "cell_type": "markdown",
   "metadata": {},
   "source": [
    "---------------------\n",
    "\n",
    "**Problem Statement**\n",
    "\n",
    "A ride-hailing company is currently facing a significant challenge as the cost of rides tends to fluctuate unexpectedly. This unpredictability arises from a range of dynamic factors that influence pricing. Such unpredictability makes it hard for users to know how much they'll need to pay in advance, often leading to frustration and a loss of trust when the final price is higher than expected.\n",
    "\n",
    "To address this, the company aims to improve the accuracy of their price prediction algorithms. By offering more reliable price forecasts, they seek to enhance user trust and satisfaction, strengthening their position in a competitive market."
   ]
  },
  {
   "cell_type": "markdown",
   "metadata": {},
   "source": [
    "**Objective**  \n",
    "\n",
    "This project aims to develop a `Linear Regression` model designed for predicting ride-hailing prices accurately based on selected features. The evaluation metrics will include `MAE (Mean Absolute Error)`, `MSE (Mean Squared Error)`, `RMSE (Root Mean Squared Error)`, and `R2 score` to assess the model's performance and predictive accuracy.\n",
    "\n",
    "This notebook is to test the model's inference capabilities using the model that has been developed."
   ]
  },
  {
   "cell_type": "markdown",
   "metadata": {},
   "source": [
    "### **B. Libraries**"
   ]
  },
  {
   "cell_type": "markdown",
   "metadata": {},
   "source": [
    "The libraries used to test the model are as follows:"
   ]
  },
  {
   "cell_type": "code",
   "execution_count": 1,
   "metadata": {},
   "outputs": [],
   "source": [
    "# Import Library\n",
    "import pandas as pd\n",
    "import numpy as np\n",
    "import pickle\n",
    "import json"
   ]
  },
  {
   "cell_type": "markdown",
   "metadata": {},
   "source": [
    "**Libraries Function**\n",
    "- pandas: data manipulation\n",
    "- numpy: numerical computations and operations on arrays\n",
    "- pickle: loading model\n",
    "- json: reading json files"
   ]
  },
  {
   "cell_type": "markdown",
   "metadata": {},
   "source": [
    "### **C. Data Loading**"
   ]
  },
  {
   "cell_type": "markdown",
   "metadata": {},
   "source": [
    "The initial step involves loading the model and the inference data, which have been previously separated from the model training file."
   ]
  },
  {
   "cell_type": "code",
   "execution_count": 2,
   "metadata": {},
   "outputs": [],
   "source": [
    "# Load model and related files\n",
    "with open('model.pkl', 'rb') as model_file:\n",
    "    model = pickle.load(model_file)\n",
    "\n",
    "with open('standard_scaler.pkl', 'rb') as scaler_file:\n",
    "    standard_scaler = pickle.load(scaler_file)\n",
    "\n",
    "with open('minmax_scaler.pkl', 'rb') as minmax_file:\n",
    "    minmax_scaler = pickle.load(minmax_file)\n",
    "\n",
    "with open('ohe.pkl', 'rb') as ohe_file:\n",
    "    ohe = pickle.load(ohe_file)\n",
    "    \n",
    "with open('num_std.json', 'r') as num_std_file:\n",
    "    num_std = json.load(num_std_file)\n",
    "\n",
    "with open('num_minmax.json', 'r') as num_minmax_file:\n",
    "    num_minmax = json.load(num_minmax_file)\n",
    "\n",
    "with open('cat_nominal.json', 'r') as cat_nominal_file:\n",
    "    cat_nominal = json.load(cat_nominal_file)\n"
   ]
  },
  {
   "cell_type": "code",
   "execution_count": 3,
   "metadata": {},
   "outputs": [
    {
     "data": {
      "text/html": [
       "<div>\n",
       "<style scoped>\n",
       "    .dataframe tbody tr th:only-of-type {\n",
       "        vertical-align: middle;\n",
       "    }\n",
       "\n",
       "    .dataframe tbody tr th {\n",
       "        vertical-align: top;\n",
       "    }\n",
       "\n",
       "    .dataframe thead th {\n",
       "        text-align: right;\n",
       "    }\n",
       "</style>\n",
       "<table border=\"1\" class=\"dataframe\">\n",
       "  <thead>\n",
       "    <tr style=\"text-align: right;\">\n",
       "      <th></th>\n",
       "      <th>Unnamed: 0</th>\n",
       "      <th>id</th>\n",
       "      <th>timestamp</th>\n",
       "      <th>hour</th>\n",
       "      <th>day</th>\n",
       "      <th>month</th>\n",
       "      <th>datetime</th>\n",
       "      <th>timezone</th>\n",
       "      <th>source</th>\n",
       "      <th>destination</th>\n",
       "      <th>...</th>\n",
       "      <th>precipIntensityMax</th>\n",
       "      <th>uvIndexTime</th>\n",
       "      <th>temperatureMin</th>\n",
       "      <th>temperatureMinTime</th>\n",
       "      <th>temperatureMax</th>\n",
       "      <th>temperatureMaxTime</th>\n",
       "      <th>apparentTemperatureMin</th>\n",
       "      <th>apparentTemperatureMinTime</th>\n",
       "      <th>apparentTemperatureMax</th>\n",
       "      <th>apparentTemperatureMaxTime</th>\n",
       "    </tr>\n",
       "  </thead>\n",
       "  <tbody>\n",
       "    <tr>\n",
       "      <th>0</th>\n",
       "      <td>0</td>\n",
       "      <td>0fc86eb7-1c81-40ed-af4b-24f344a2d55c</td>\n",
       "      <td>1.543744e+09</td>\n",
       "      <td>9</td>\n",
       "      <td>2</td>\n",
       "      <td>12</td>\n",
       "      <td>2018-12-02 09:42:57</td>\n",
       "      <td>America/New_York</td>\n",
       "      <td>North End</td>\n",
       "      <td>Theatre District</td>\n",
       "      <td>...</td>\n",
       "      <td>0.0894</td>\n",
       "      <td>1543770000</td>\n",
       "      <td>36.4</td>\n",
       "      <td>1543726800</td>\n",
       "      <td>50.94</td>\n",
       "      <td>1543788000</td>\n",
       "      <td>35.78</td>\n",
       "      <td>1543748400</td>\n",
       "      <td>50.27</td>\n",
       "      <td>1543788000</td>\n",
       "    </tr>\n",
       "  </tbody>\n",
       "</table>\n",
       "<p>1 rows × 56 columns</p>\n",
       "</div>"
      ],
      "text/plain": [
       "   Unnamed: 0                                    id     timestamp  hour  day  \\\n",
       "0           0  0fc86eb7-1c81-40ed-af4b-24f344a2d55c  1.543744e+09     9    2   \n",
       "\n",
       "   month             datetime          timezone     source       destination  \\\n",
       "0     12  2018-12-02 09:42:57  America/New_York  North End  Theatre District   \n",
       "\n",
       "   ... precipIntensityMax uvIndexTime temperatureMin  temperatureMinTime  \\\n",
       "0  ...             0.0894  1543770000           36.4          1543726800   \n",
       "\n",
       "   temperatureMax  temperatureMaxTime  apparentTemperatureMin  \\\n",
       "0           50.94          1543788000                   35.78   \n",
       "\n",
       "   apparentTemperatureMinTime  apparentTemperatureMax  \\\n",
       "0                  1543748400                   50.27   \n",
       "\n",
       "  apparentTemperatureMaxTime  \n",
       "0                 1543788000  \n",
       "\n",
       "[1 rows x 56 columns]"
      ]
     },
     "execution_count": 3,
     "metadata": {},
     "output_type": "execute_result"
    }
   ],
   "source": [
    "# Load data inference\n",
    "df_inf = pd.read_csv('data_inf.csv')\n",
    "\n",
    "df_inf"
   ]
  },
  {
   "cell_type": "markdown",
   "metadata": {},
   "source": [
    "### **D. Data Splitting**"
   ]
  },
  {
   "cell_type": "markdown",
   "metadata": {},
   "source": [
    "After loading the data, it must be separated according to data types, similar to the procedure followed during the modeling section."
   ]
  },
  {
   "cell_type": "code",
   "execution_count": 4,
   "metadata": {},
   "outputs": [
    {
     "data": {
      "text/html": [
       "<div>\n",
       "<style scoped>\n",
       "    .dataframe tbody tr th:only-of-type {\n",
       "        vertical-align: middle;\n",
       "    }\n",
       "\n",
       "    .dataframe tbody tr th {\n",
       "        vertical-align: top;\n",
       "    }\n",
       "\n",
       "    .dataframe thead th {\n",
       "        text-align: right;\n",
       "    }\n",
       "</style>\n",
       "<table border=\"1\" class=\"dataframe\">\n",
       "  <thead>\n",
       "    <tr style=\"text-align: right;\">\n",
       "      <th></th>\n",
       "      <th>cab_type</th>\n",
       "      <th>name</th>\n",
       "    </tr>\n",
       "  </thead>\n",
       "  <tbody>\n",
       "    <tr>\n",
       "      <th>0</th>\n",
       "      <td>Lyft</td>\n",
       "      <td>Lux</td>\n",
       "    </tr>\n",
       "  </tbody>\n",
       "</table>\n",
       "</div>"
      ],
      "text/plain": [
       "  cab_type name\n",
       "0     Lyft  Lux"
      ]
     },
     "execution_count": 4,
     "metadata": {},
     "output_type": "execute_result"
    }
   ],
   "source": [
    "# Split between numerical and categorical column\n",
    "df_inf_num_std = df_inf[num_std]\n",
    "df_inf_num_minmax = df_inf[num_minmax]\n",
    "df_inf_cat_nominal = df_inf[cat_nominal]\n",
    "\n",
    "df_inf_cat_nominal"
   ]
  },
  {
   "cell_type": "markdown",
   "metadata": {},
   "source": [
    "### **E. Feature Engineering**"
   ]
  },
  {
   "cell_type": "markdown",
   "metadata": {},
   "source": [
    "The next step involves transforming the data, which includes encoding categorical variables and scaling numerical values, to ensure consistency with the preprocessing steps used during model training."
   ]
  },
  {
   "cell_type": "markdown",
   "metadata": {},
   "source": [
    "Before proceeding with the transformation, it is necessary to modify any columns that have changed, to ensure alignment with the preprocessing requirements established during the model training phase."
   ]
  },
  {
   "cell_type": "markdown",
   "metadata": {},
   "source": [
    "After making necessary modifications to the columns, the variables can now be scaled and encoded. Then, save the final transformed variables that will be used for making predictions."
   ]
  },
  {
   "cell_type": "code",
   "execution_count": 5,
   "metadata": {},
   "outputs": [],
   "source": [
    "# Scaling and Encoding\n",
    "df_inf_num_standard_scaled = standard_scaler.transform(df_inf_num_std)\n",
    "df_inf_num_minmax_scaled = minmax_scaler.transform(df_inf_num_minmax)\n",
    "df_inf_cat_nominal_encoded = ohe.transform(df_inf_cat_nominal)\n",
    "\n",
    "# Concatenate\n",
    "df_inf_final = np.concatenate([df_inf_num_standard_scaled, df_inf_num_minmax_scaled, df_inf_cat_nominal_encoded], axis=1)"
   ]
  },
  {
   "cell_type": "markdown",
   "metadata": {},
   "source": [
    "### **F. Model Prediction**"
   ]
  },
  {
   "cell_type": "markdown",
   "metadata": {},
   "source": [
    "Finally, the prepared model can be applied to the processed inference data to generate predictions."
   ]
  },
  {
   "cell_type": "code",
   "execution_count": 6,
   "metadata": {},
   "outputs": [
    {
     "name": "stdout",
     "output_type": "stream",
     "text": [
      "Price Prediction: 15.11\n"
     ]
    }
   ],
   "source": [
    "# Predict using Linear Regression\n",
    "y_pred_inf = model.predict(df_inf_final)\n",
    "\n",
    "# Show result\n",
    "print('Price Prediction:',round(y_pred_inf[0],2))"
   ]
  },
  {
   "cell_type": "markdown",
   "metadata": {},
   "source": [
    "### **G. Conclusion**"
   ]
  },
  {
   "cell_type": "markdown",
   "metadata": {},
   "source": [
    "It can be concluded that the predicted price is **$15.11**, whereas the actual price is **$16.5**. This indicates that there is still a little gap and error in the model but the model succesfully predict the price."
   ]
  }
 ],
 "metadata": {
  "kernelspec": {
   "display_name": "hacktive",
   "language": "python",
   "name": "python3"
  },
  "language_info": {
   "codemirror_mode": {
    "name": "ipython",
    "version": 3
   },
   "file_extension": ".py",
   "mimetype": "text/x-python",
   "name": "python",
   "nbconvert_exporter": "python",
   "pygments_lexer": "ipython3",
   "version": "3.9.18"
  }
 },
 "nbformat": 4,
 "nbformat_minor": 2
}
